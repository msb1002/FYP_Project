{
  "nbformat": 4,
  "nbformat_minor": 0,
  "metadata": {
    "colab": {
      "name": "FYP_ALL.ipynb",
      "provenance": [],
      "collapsed_sections": [
        "7vZrHIjczsj2",
        "3nVzI-p10S3m",
        "RrzXvhuo1iTm",
        "Hh611dee270E",
        "n6yNnRVM4MvN",
        "beDPN1Zr4tkV",
        "fluTFOZY8zvP",
        "2uYrL_MP9M7E",
        "L56ip1K86on0",
        "-NQMsMfIVSKm"
      ],
      "include_colab_link": true
    },
    "kernelspec": {
      "name": "python3",
      "display_name": "Python 3"
    },
    "language_info": {
      "name": "python"
    },
    "widgets": {
      "application/vnd.jupyter.widget-state+json": {
        "1e42e9686c944705bee034d64598ef05": {
          "model_module": "catboost-widget",
          "model_name": "CatboostWidgetModel",
          "model_module_version": "^1.0.0",
          "state": {
            "_dom_classes": [],
            "_model_module": "catboost-widget",
            "_model_module_version": "^1.0.0",
            "_model_name": "CatboostWidgetModel",
            "_view_count": null,
            "_view_module": "catboost-widget",
            "_view_module_version": "^1.0.0",
            "_view_name": "CatboostWidgetView",
            "data": {
              "catboost_info": {
                "path": "catboost_info",
                "name": "catboost_info",
                "content": {
                  "passed_iterations": 999,
                  "total_iterations": 1000,
                  "data": {
                    "iterations": [
                      {
                        "learn": [
                          0.2899232165
                        ],
                        "iteration": 0,
                        "passed_time": 0.04806837441,
                        "remaining_time": 48.02030603
                      },
                      {
                        "learn": [
                          0.2787136077
                        ],
                        "iteration": 1,
                        "passed_time": 0.04931737541,
                        "remaining_time": 24.60937033
                      },
                      {
                        "learn": [
                          0.2683257187
                        ],
                        "iteration": 2,
                        "passed_time": 0.05050177183,
                        "remaining_time": 16.78342217
                      },
                      {
                        "learn": [
                          0.2581094787
                        ],
                        "iteration": 3,
                        "passed_time": 0.05167200421,
                        "remaining_time": 12.86632905
                      },
                      {
                        "learn": [
                          0.2482056731
                        ],
                        "iteration": 4,
                        "passed_time": 0.05280884471,
                        "remaining_time": 10.5089601
                      },
                      {
                        "learn": [
                          0.2392724636
                        ],
                        "iteration": 5,
                        "passed_time": 0.05393050977,
                        "remaining_time": 8.934487785
                      },
                      {
                        "learn": [
                          0.2300031954
                        ],
                        "iteration": 6,
                        "passed_time": 0.05505730635,
                        "remaining_time": 7.810272172
                      },
                      {
                        "learn": [
                          0.2211538708
                        ],
                        "iteration": 7,
                        "passed_time": 0.05618862169,
                        "remaining_time": 6.967389089
                      },
                      {
                        "learn": [
                          0.2129517179
                        ],
                        "iteration": 8,
                        "passed_time": 0.05737771279,
                        "remaining_time": 6.317923708
                      },
                      {
                        "learn": [
                          0.2050317035
                        ],
                        "iteration": 9,
                        "passed_time": 0.05860991013,
                        "remaining_time": 5.802381103
                      },
                      {
                        "learn": [
                          0.1972097464
                        ],
                        "iteration": 10,
                        "passed_time": 0.05983750188,
                        "remaining_time": 5.379935397
                      },
                      {
                        "learn": [
                          0.1896318365
                        ],
                        "iteration": 11,
                        "passed_time": 0.0609969194,
                        "remaining_time": 5.022079697
                      },
                      {
                        "learn": [
                          0.1825678103
                        ],
                        "iteration": 12,
                        "passed_time": 0.06213327079,
                        "remaining_time": 4.717349098
                      },
                      {
                        "learn": [
                          0.1758037973
                        ],
                        "iteration": 13,
                        "passed_time": 0.06328234256,
                        "remaining_time": 4.456884983
                      },
                      {
                        "learn": [
                          0.1692717663
                        ],
                        "iteration": 14,
                        "passed_time": 0.06448768049,
                        "remaining_time": 4.234691019
                      },
                      {
                        "learn": [
                          0.1627192119
                        ],
                        "iteration": 15,
                        "passed_time": 0.06573422961,
                        "remaining_time": 4.042655121
                      },
                      {
                        "learn": [
                          0.1565871576
                        ],
                        "iteration": 16,
                        "passed_time": 0.06708076161,
                        "remaining_time": 3.878846392
                      },
                      {
                        "learn": [
                          0.150761526
                        ],
                        "iteration": 17,
                        "passed_time": 0.06820605541,
                        "remaining_time": 3.721019245
                      },
                      {
                        "learn": [
                          0.1451427134
                        ],
                        "iteration": 18,
                        "passed_time": 0.0693257286,
                        "remaining_time": 3.579396829
                      },
                      {
                        "learn": [
                          0.1396514139
                        ],
                        "iteration": 19,
                        "passed_time": 0.07049937607,
                        "remaining_time": 3.454469428
                      },
                      {
                        "learn": [
                          0.1343565348
                        ],
                        "iteration": 20,
                        "passed_time": 0.07162963684,
                        "remaining_time": 3.339305451
                      },
                      {
                        "learn": [
                          0.1294068869
                        ],
                        "iteration": 21,
                        "passed_time": 0.07280429252,
                        "remaining_time": 3.236481731
                      },
                      {
                        "learn": [
                          0.1246985633
                        ],
                        "iteration": 22,
                        "passed_time": 0.07402962012,
                        "remaining_time": 3.144649516
                      },
                      {
                        "learn": [
                          0.1201514479
                        ],
                        "iteration": 23,
                        "passed_time": 0.07515050016,
                        "remaining_time": 3.05612034
                      },
                      {
                        "learn": [
                          0.1157409282
                        ],
                        "iteration": 24,
                        "passed_time": 0.07631854838,
                        "remaining_time": 2.976423387
                      },
                      {
                        "learn": [
                          0.1113729918
                        ],
                        "iteration": 25,
                        "passed_time": 0.07748708343,
                        "remaining_time": 2.902785356
                      },
                      {
                        "learn": [
                          0.1071392663
                        ],
                        "iteration": 26,
                        "passed_time": 0.07865429935,
                        "remaining_time": 2.834467899
                      },
                      {
                        "learn": [
                          0.1030443701
                        ],
                        "iteration": 27,
                        "passed_time": 0.08094922779,
                        "remaining_time": 2.810094622
                      },
                      {
                        "learn": [
                          0.09935490773
                        ],
                        "iteration": 28,
                        "passed_time": 0.08219095813,
                        "remaining_time": 2.751980012
                      },
                      {
                        "learn": [
                          0.09569433834
                        ],
                        "iteration": 29,
                        "passed_time": 0.08331500645,
                        "remaining_time": 2.693851875
                      },
                      {
                        "learn": [
                          0.09218085429
                        ],
                        "iteration": 30,
                        "passed_time": 0.0844470509,
                        "remaining_time": 2.639651365
                      },
                      {
                        "learn": [
                          0.08873031836
                        ],
                        "iteration": 31,
                        "passed_time": 0.08574586925,
                        "remaining_time": 2.593812545
                      },
                      {
                        "learn": [
                          0.0855630439
                        ],
                        "iteration": 32,
                        "passed_time": 0.08700779745,
                        "remaining_time": 2.549592125
                      },
                      {
                        "learn": [
                          0.08246255377
                        ],
                        "iteration": 33,
                        "passed_time": 0.08819999409,
                        "remaining_time": 2.505917479
                      },
                      {
                        "learn": [
                          0.07949179408
                        ],
                        "iteration": 34,
                        "passed_time": 0.08953606261,
                        "remaining_time": 2.468637155
                      },
                      {
                        "learn": [
                          0.07651596908
                        ],
                        "iteration": 35,
                        "passed_time": 0.09075557777,
                        "remaining_time": 2.430232694
                      },
                      {
                        "learn": [
                          0.07371521648
                        ],
                        "iteration": 36,
                        "passed_time": 0.09192511785,
                        "remaining_time": 2.392537527
                      },
                      {
                        "learn": [
                          0.07093501808
                        ],
                        "iteration": 37,
                        "passed_time": 0.09308247758,
                        "remaining_time": 2.356456406
                      },
                      {
                        "learn": [
                          0.06827060264
                        ],
                        "iteration": 38,
                        "passed_time": 0.09423803362,
                        "remaining_time": 2.322121803
                      },
                      {
                        "learn": [
                          0.06585512847
                        ],
                        "iteration": 39,
                        "passed_time": 0.09540290902,
                        "remaining_time": 2.289669817
                      },
                      {
                        "learn": [
                          0.06351866973
                        ],
                        "iteration": 40,
                        "passed_time": 0.09660848787,
                        "remaining_time": 2.259696094
                      },
                      {
                        "learn": [
                          0.06127649877
                        ],
                        "iteration": 41,
                        "passed_time": 0.09777705837,
                        "remaining_time": 2.230248141
                      },
                      {
                        "learn": [
                          0.05898764597
                        ],
                        "iteration": 42,
                        "passed_time": 0.09892161592,
                        "remaining_time": 2.20158108
                      },
                      {
                        "learn": [
                          0.05697163472
                        ],
                        "iteration": 43,
                        "passed_time": 0.1001201759,
                        "remaining_time": 2.175338368
                      },
                      {
                        "learn": [
                          0.05488730393
                        ],
                        "iteration": 44,
                        "passed_time": 0.1012812099,
                        "remaining_time": 2.149412342
                      },
                      {
                        "learn": [
                          0.05297294596
                        ],
                        "iteration": 45,
                        "passed_time": 0.1024220318,
                        "remaining_time": 2.124143878
                      },
                      {
                        "learn": [
                          0.05107892582
                        ],
                        "iteration": 46,
                        "passed_time": 0.1036181363,
                        "remaining_time": 2.101023062
                      },
                      {
                        "learn": [
                          0.04919296989
                        ],
                        "iteration": 47,
                        "passed_time": 0.1048254811,
                        "remaining_time": 2.079038709
                      },
                      {
                        "learn": [
                          0.04756744803
                        ],
                        "iteration": 48,
                        "passed_time": 0.1060002573,
                        "remaining_time": 2.057270299
                      },
                      {
                        "learn": [
                          0.04591430135
                        ],
                        "iteration": 49,
                        "passed_time": 0.1071362255,
                        "remaining_time": 2.035588284
                      },
                      {
                        "learn": [
                          0.04425418544
                        ],
                        "iteration": 50,
                        "passed_time": 0.1082599301,
                        "remaining_time": 2.014483798
                      },
                      {
                        "learn": [
                          0.04271724926
                        ],
                        "iteration": 51,
                        "passed_time": 0.1094315794,
                        "remaining_time": 1.99502187
                      },
                      {
                        "learn": [
                          0.04121565291
                        ],
                        "iteration": 52,
                        "passed_time": 0.110561821,
                        "remaining_time": 1.975510274
                      },
                      {
                        "learn": [
                          0.0397867437
                        ],
                        "iteration": 53,
                        "passed_time": 0.1117113746,
                        "remaining_time": 1.957017785
                      },
                      {
                        "learn": [
                          0.03837503509
                        ],
                        "iteration": 54,
                        "passed_time": 0.1128832916,
                        "remaining_time": 1.939540192
                      },
                      {
                        "learn": [
                          0.03701572722
                        ],
                        "iteration": 55,
                        "passed_time": 0.1141301098,
                        "remaining_time": 1.923907566
                      },
                      {
                        "learn": [
                          0.03578061507
                        ],
                        "iteration": 56,
                        "passed_time": 0.1152897328,
                        "remaining_time": 1.907337158
                      },
                      {
                        "learn": [
                          0.03462206005
                        ],
                        "iteration": 57,
                        "passed_time": 0.1164496194,
                        "remaining_time": 1.891302439
                      },
                      {
                        "learn": [
                          0.03347194419
                        ],
                        "iteration": 58,
                        "passed_time": 0.1176410674,
                        "remaining_time": 1.876275329
                      },
                      {
                        "learn": [
                          0.03238563728
                        ],
                        "iteration": 59,
                        "passed_time": 0.118899406,
                        "remaining_time": 1.86275736
                      },
                      {
                        "learn": [
                          0.03134793646
                        ],
                        "iteration": 60,
                        "passed_time": 0.120056782,
                        "remaining_time": 1.848087186
                      },
                      {
                        "learn": [
                          0.03034468333
                        ],
                        "iteration": 61,
                        "passed_time": 0.1213058262,
                        "remaining_time": 1.835239758
                      },
                      {
                        "learn": [
                          0.02937504356
                        ],
                        "iteration": 62,
                        "passed_time": 0.1224414212,
                        "remaining_time": 1.821073202
                      },
                      {
                        "learn": [
                          0.02843020568
                        ],
                        "iteration": 63,
                        "passed_time": 0.123582241,
                        "remaining_time": 1.807390274
                      },
                      {
                        "learn": [
                          0.02751407562
                        ],
                        "iteration": 64,
                        "passed_time": 0.1247125985,
                        "remaining_time": 1.793942764
                      },
                      {
                        "learn": [
                          0.02669474783
                        ],
                        "iteration": 65,
                        "passed_time": 0.1259071739,
                        "remaining_time": 1.781777279
                      },
                      {
                        "learn": [
                          0.02586424883
                        ],
                        "iteration": 66,
                        "passed_time": 0.1270549733,
                        "remaining_time": 1.769287912
                      },
                      {
                        "learn": [
                          0.02506538567
                        ],
                        "iteration": 67,
                        "passed_time": 0.1282050406,
                        "remaining_time": 1.757163203
                      },
                      {
                        "learn": [
                          0.02432737701
                        ],
                        "iteration": 68,
                        "passed_time": 0.1293972554,
                        "remaining_time": 1.745925287
                      },
                      {
                        "learn": [
                          0.02362039316
                        ],
                        "iteration": 69,
                        "passed_time": 0.1305258152,
                        "remaining_time": 1.734128688
                      },
                      {
                        "learn": [
                          0.02293365868
                        ],
                        "iteration": 70,
                        "passed_time": 0.131700215,
                        "remaining_time": 1.72323239
                      },
                      {
                        "learn": [
                          0.02227441139
                        ],
                        "iteration": 71,
                        "passed_time": 0.1328337736,
                        "remaining_time": 1.712079748
                      },
                      {
                        "learn": [
                          0.02164460016
                        ],
                        "iteration": 72,
                        "passed_time": 0.1339935952,
                        "remaining_time": 1.701535106
                      },
                      {
                        "learn": [
                          0.02106592832
                        ],
                        "iteration": 73,
                        "passed_time": 0.1351869391,
                        "remaining_time": 1.69166359
                      },
                      {
                        "learn": [
                          0.02049426786
                        ],
                        "iteration": 74,
                        "passed_time": 0.1365124983,
                        "remaining_time": 1.683654145
                      },
                      {
                        "learn": [
                          0.01992841209
                        ],
                        "iteration": 75,
                        "passed_time": 0.1376970115,
                        "remaining_time": 1.674105771
                      },
                      {
                        "learn": [
                          0.01941371873
                        ],
                        "iteration": 76,
                        "passed_time": 0.1388885063,
                        "remaining_time": 1.664858329
                      },
                      {
                        "learn": [
                          0.01891179272
                        ],
                        "iteration": 77,
                        "passed_time": 0.1401121798,
                        "remaining_time": 1.656197817
                      },
                      {
                        "learn": [
                          0.01843091874
                        ],
                        "iteration": 78,
                        "passed_time": 0.1412511694,
                        "remaining_time": 1.646738317
                      },
                      {
                        "learn": [
                          0.01795660649
                        ],
                        "iteration": 79,
                        "passed_time": 0.1424514536,
                        "remaining_time": 1.638191716
                      },
                      {
                        "learn": [
                          0.01752090394
                        ],
                        "iteration": 80,
                        "passed_time": 0.1436008658,
                        "remaining_time": 1.629249329
                      },
                      {
                        "learn": [
                          0.01710531849
                        ],
                        "iteration": 81,
                        "passed_time": 0.1447751683,
                        "remaining_time": 1.620775665
                      },
                      {
                        "learn": [
                          0.01672737303
                        ],
                        "iteration": 82,
                        "passed_time": 0.1459573256,
                        "remaining_time": 1.612564669
                      },
                      {
                        "learn": [
                          0.01636351962
                        ],
                        "iteration": 83,
                        "passed_time": 0.1471473203,
                        "remaining_time": 1.604606493
                      },
                      {
                        "learn": [
                          0.0160226067
                        ],
                        "iteration": 84,
                        "passed_time": 0.1485545713,
                        "remaining_time": 1.599146268
                      },
                      {
                        "learn": [
                          0.01567945385
                        ],
                        "iteration": 85,
                        "passed_time": 0.149759287,
                        "remaining_time": 1.591627771
                      },
                      {
                        "learn": [
                          0.01535235138
                        ],
                        "iteration": 86,
                        "passed_time": 0.1509523855,
                        "remaining_time": 1.584132505
                      },
                      {
                        "learn": [
                          0.01504939951
                        ],
                        "iteration": 87,
                        "passed_time": 0.1521375146,
                        "remaining_time": 1.576697879
                      },
                      {
                        "learn": [
                          0.01478029093
                        ],
                        "iteration": 88,
                        "passed_time": 0.1533550547,
                        "remaining_time": 1.569735448
                      },
                      {
                        "learn": [
                          0.01450982805
                        ],
                        "iteration": 89,
                        "passed_time": 0.1545427853,
                        "remaining_time": 1.562599274
                      },
                      {
                        "learn": [
                          0.0142559293
                        ],
                        "iteration": 90,
                        "passed_time": 0.1556957563,
                        "remaining_time": 1.555246621
                      },
                      {
                        "learn": [
                          0.01399788006
                        ],
                        "iteration": 91,
                        "passed_time": 0.1568822241,
                        "remaining_time": 1.548359343
                      },
                      {
                        "learn": [
                          0.01376348069
                        ],
                        "iteration": 92,
                        "passed_time": 0.1580435899,
                        "remaining_time": 1.54134985
                      },
                      {
                        "learn": [
                          0.01353838969
                        ],
                        "iteration": 93,
                        "passed_time": 0.1592448086,
                        "remaining_time": 1.5348489
                      },
                      {
                        "learn": [
                          0.01332835699
                        ],
                        "iteration": 94,
                        "passed_time": 0.1603967968,
                        "remaining_time": 1.527990538
                      },
                      {
                        "learn": [
                          0.01314228364
                        ],
                        "iteration": 95,
                        "passed_time": 0.1615222434,
                        "remaining_time": 1.521001125
                      },
                      {
                        "learn": [
                          0.01295647037
                        ],
                        "iteration": 96,
                        "passed_time": 0.1626833668,
                        "remaining_time": 1.514464745
                      },
                      {
                        "learn": [
                          0.01278442796
                        ],
                        "iteration": 97,
                        "passed_time": 0.1638495841,
                        "remaining_time": 1.508084948
                      },
                      {
                        "learn": [
                          0.01261319603
                        ],
                        "iteration": 98,
                        "passed_time": 0.1650938086,
                        "remaining_time": 1.50252042
                      },
                      {
                        "learn": [
                          0.01245560357
                        ],
                        "iteration": 99,
                        "passed_time": 0.1663489975,
                        "remaining_time": 1.497140978
                      },
                      {
                        "learn": [
                          0.01230480607
                        ],
                        "iteration": 100,
                        "passed_time": 0.1674899354,
                        "remaining_time": 1.490826257
                      },
                      {
                        "learn": [
                          0.01217057757
                        ],
                        "iteration": 101,
                        "passed_time": 0.1686581736,
                        "remaining_time": 1.484853333
                      },
                      {
                        "learn": [
                          0.0120322358
                        ],
                        "iteration": 102,
                        "passed_time": 0.1698263509,
                        "remaining_time": 1.478973173
                      },
                      {
                        "learn": [
                          0.0119036995
                        ],
                        "iteration": 103,
                        "passed_time": 0.1709840739,
                        "remaining_time": 1.47309356
                      },
                      {
                        "learn": [
                          0.01177415674
                        ],
                        "iteration": 104,
                        "passed_time": 0.1722301312,
                        "remaining_time": 1.468056832
                      },
                      {
                        "learn": [
                          0.01165232858
                        ],
                        "iteration": 105,
                        "passed_time": 0.1735237975,
                        "remaining_time": 1.46349316
                      },
                      {
                        "learn": [
                          0.01154846211
                        ],
                        "iteration": 106,
                        "passed_time": 0.1747314383,
                        "remaining_time": 1.458272658
                      },
                      {
                        "learn": [
                          0.01144825117
                        ],
                        "iteration": 107,
                        "passed_time": 0.175987819,
                        "remaining_time": 1.453529024
                      },
                      {
                        "learn": [
                          0.01133640947
                        ],
                        "iteration": 108,
                        "passed_time": 0.1771049171,
                        "remaining_time": 1.447710836
                      },
                      {
                        "learn": [
                          0.01124748546
                        ],
                        "iteration": 109,
                        "passed_time": 0.1783570119,
                        "remaining_time": 1.443070369
                      },
                      {
                        "learn": [
                          0.01113973858
                        ],
                        "iteration": 110,
                        "passed_time": 0.1795435679,
                        "remaining_time": 1.437966053
                      },
                      {
                        "learn": [
                          0.01104037146
                        ],
                        "iteration": 111,
                        "passed_time": 0.1808041033,
                        "remaining_time": 1.433518248
                      },
                      {
                        "learn": [
                          0.01093761302
                        ],
                        "iteration": 112,
                        "passed_time": 0.1819656341,
                        "remaining_time": 1.428349712
                      },
                      {
                        "learn": [
                          0.01086417466
                        ],
                        "iteration": 113,
                        "passed_time": 0.1831728448,
                        "remaining_time": 1.423606496
                      },
                      {
                        "learn": [
                          0.01077461201
                        ],
                        "iteration": 114,
                        "passed_time": 0.1843057993,
                        "remaining_time": 1.418353325
                      },
                      {
                        "learn": [
                          0.01071471165
                        ],
                        "iteration": 115,
                        "passed_time": 0.1855071512,
                        "remaining_time": 1.413692428
                      },
                      {
                        "learn": [
                          0.0106555531
                        ],
                        "iteration": 116,
                        "passed_time": 0.1866399575,
                        "remaining_time": 1.408573354
                      },
                      {
                        "learn": [
                          0.01058248762
                        ],
                        "iteration": 117,
                        "passed_time": 0.1877664822,
                        "remaining_time": 1.403474893
                      },
                      {
                        "learn": [
                          0.01051548085
                        ],
                        "iteration": 118,
                        "passed_time": 0.1888781538,
                        "remaining_time": 1.398333223
                      },
                      {
                        "learn": [
                          0.01045226579
                        ],
                        "iteration": 119,
                        "passed_time": 0.190026046,
                        "remaining_time": 1.393524337
                      },
                      {
                        "learn": [
                          0.01039039063
                        ],
                        "iteration": 120,
                        "passed_time": 0.1912294389,
                        "remaining_time": 1.389179147
                      },
                      {
                        "learn": [
                          0.01032768889
                        ],
                        "iteration": 121,
                        "passed_time": 0.1924761894,
                        "remaining_time": 1.385197494
                      },
                      {
                        "learn": [
                          0.01027777218
                        ],
                        "iteration": 122,
                        "passed_time": 0.1936309204,
                        "remaining_time": 1.380604205
                      },
                      {
                        "learn": [
                          0.01021822443
                        ],
                        "iteration": 123,
                        "passed_time": 0.1947730092,
                        "remaining_time": 1.375977065
                      },
                      {
                        "learn": [
                          0.01017327178
                        ],
                        "iteration": 124,
                        "passed_time": 0.1960588568,
                        "remaining_time": 1.372411997
                      },
                      {
                        "learn": [
                          0.01013223196
                        ],
                        "iteration": 125,
                        "passed_time": 0.1972200284,
                        "remaining_time": 1.368018292
                      },
                      {
                        "learn": [
                          0.01009339034
                        ],
                        "iteration": 126,
                        "passed_time": 0.1984329057,
                        "remaining_time": 1.364030918
                      },
                      {
                        "learn": [
                          0.01005640108
                        ],
                        "iteration": 127,
                        "passed_time": 0.1996036026,
                        "remaining_time": 1.359799543
                      },
                      {
                        "learn": [
                          0.01000130746
                        ],
                        "iteration": 128,
                        "passed_time": 0.2008311266,
                        "remaining_time": 1.355999312
                      },
                      {
                        "learn": [
                          0.009966353085
                        ],
                        "iteration": 129,
                        "passed_time": 0.2019706858,
                        "remaining_time": 1.351649974
                      },
                      {
                        "learn": [
                          0.009902578779
                        ],
                        "iteration": 130,
                        "passed_time": 0.2032741234,
                        "remaining_time": 1.348436742
                      },
                      {
                        "learn": [
                          0.009869322523
                        ],
                        "iteration": 131,
                        "passed_time": 0.2044574107,
                        "remaining_time": 1.344462367
                      },
                      {
                        "learn": [
                          0.009823119593
                        ],
                        "iteration": 132,
                        "passed_time": 0.2057183702,
                        "remaining_time": 1.341036293
                      },
                      {
                        "learn": [
                          0.009783333982
                        ],
                        "iteration": 133,
                        "passed_time": 0.2069435878,
                        "remaining_time": 1.337411545
                      },
                      {
                        "learn": [
                          0.009745310737
                        ],
                        "iteration": 134,
                        "passed_time": 0.2080907173,
                        "remaining_time": 1.333322003
                      },
                      {
                        "learn": [
                          0.009702401776
                        ],
                        "iteration": 135,
                        "passed_time": 0.2092608642,
                        "remaining_time": 1.329421961
                      },
                      {
                        "learn": [
                          0.009676943691
                        ],
                        "iteration": 136,
                        "passed_time": 0.2104066327,
                        "remaining_time": 1.325408204
                      },
                      {
                        "learn": [
                          0.009637574447
                        ],
                        "iteration": 137,
                        "passed_time": 0.2116877364,
                        "remaining_time": 1.322281368
                      },
                      {
                        "learn": [
                          0.009599052264
                        ],
                        "iteration": 138,
                        "passed_time": 0.2128157039,
                        "remaining_time": 1.318232526
                      },
                      {
                        "learn": [
                          0.009559026559
                        ],
                        "iteration": 139,
                        "passed_time": 0.2140130721,
                        "remaining_time": 1.314651729
                      },
                      {
                        "learn": [
                          0.00953080603
                        ],
                        "iteration": 140,
                        "passed_time": 0.2151596197,
                        "remaining_time": 1.31079513
                      },
                      {
                        "learn": [
                          0.009489982938
                        ],
                        "iteration": 141,
                        "passed_time": 0.2162905896,
                        "remaining_time": 1.306882576
                      },
                      {
                        "learn": [
                          0.009445939513
                        ],
                        "iteration": 142,
                        "passed_time": 0.2174299865,
                        "remaining_time": 1.30305943
                      },
                      {
                        "learn": [
                          0.009416018237
                        ],
                        "iteration": 143,
                        "passed_time": 0.2186219631,
                        "remaining_time": 1.299586114
                      },
                      {
                        "learn": [
                          0.009385746527
                        ],
                        "iteration": 144,
                        "passed_time": 0.2197743741,
                        "remaining_time": 1.295910964
                      },
                      {
                        "learn": [
                          0.009354042215
                        ],
                        "iteration": 145,
                        "passed_time": 0.220885017,
                        "remaining_time": 1.292026058
                      },
                      {
                        "learn": [
                          0.009324882768
                        ],
                        "iteration": 146,
                        "passed_time": 0.2220370511,
                        "remaining_time": 1.288419079
                      },
                      {
                        "learn": [
                          0.009290166228
                        ],
                        "iteration": 147,
                        "passed_time": 0.2231812519,
                        "remaining_time": 1.28480018
                      },
                      {
                        "learn": [
                          0.009261611956
                        ],
                        "iteration": 148,
                        "passed_time": 0.2243641878,
                        "remaining_time": 1.28143573
                      },
                      {
                        "learn": [
                          0.009231920038
                        ],
                        "iteration": 149,
                        "passed_time": 0.2256063963,
                        "remaining_time": 1.278436246
                      },
                      {
                        "learn": [
                          0.009183764821
                        ],
                        "iteration": 150,
                        "passed_time": 0.2267784469,
                        "remaining_time": 1.275065572
                      },
                      {
                        "learn": [
                          0.00915673959
                        ],
                        "iteration": 151,
                        "passed_time": 0.2279103173,
                        "remaining_time": 1.271499665
                      },
                      {
                        "learn": [
                          0.009124443559
                        ],
                        "iteration": 152,
                        "passed_time": 0.2290661701,
                        "remaining_time": 1.268098341
                      },
                      {
                        "learn": [
                          0.00908595687
                        ],
                        "iteration": 153,
                        "passed_time": 0.2303193222,
                        "remaining_time": 1.265260692
                      },
                      {
                        "learn": [
                          0.009062649558
                        ],
                        "iteration": 154,
                        "passed_time": 0.2314879113,
                        "remaining_time": 1.261982484
                      },
                      {
                        "learn": [
                          0.009044699091
                        ],
                        "iteration": 155,
                        "passed_time": 0.2326699227,
                        "remaining_time": 1.258803941
                      },
                      {
                        "learn": [
                          0.009014232336
                        ],
                        "iteration": 156,
                        "passed_time": 0.2338228486,
                        "remaining_time": 1.255494659
                      },
                      {
                        "learn": [
                          0.008975040402
                        ],
                        "iteration": 157,
                        "passed_time": 0.2349454996,
                        "remaining_time": 1.252051334
                      },
                      {
                        "learn": [
                          0.008956049982
                        ],
                        "iteration": 158,
                        "passed_time": 0.2360772214,
                        "remaining_time": 1.248685177
                      },
                      {
                        "learn": [
                          0.008922194529
                        ],
                        "iteration": 159,
                        "passed_time": 0.2372302623,
                        "remaining_time": 1.245458877
                      },
                      {
                        "learn": [
                          0.008892918892
                        ],
                        "iteration": 160,
                        "passed_time": 0.2383788582,
                        "remaining_time": 1.242235168
                      },
                      {
                        "learn": [
                          0.0088760765
                        ],
                        "iteration": 161,
                        "passed_time": 0.2396405977,
                        "remaining_time": 1.239622351
                      },
                      {
                        "learn": [
                          0.008855787746
                        ],
                        "iteration": 162,
                        "passed_time": 0.2407958238,
                        "remaining_time": 1.236479169
                      },
                      {
                        "learn": [
                          0.008845592562
                        ],
                        "iteration": 163,
                        "passed_time": 0.2420446979,
                        "remaining_time": 1.233837607
                      },
                      {
                        "learn": [
                          0.008808229628
                        ],
                        "iteration": 164,
                        "passed_time": 0.2432953631,
                        "remaining_time": 1.231221989
                      },
                      {
                        "learn": [
                          0.008785840214
                        ],
                        "iteration": 165,
                        "passed_time": 0.2444381529,
                        "remaining_time": 1.22808084
                      },
                      {
                        "learn": [
                          0.008754264676
                        ],
                        "iteration": 166,
                        "passed_time": 0.2456528029,
                        "remaining_time": 1.225322065
                      },
                      {
                        "learn": [
                          0.00874418453
                        ],
                        "iteration": 167,
                        "passed_time": 0.2468395057,
                        "remaining_time": 1.222443266
                      },
                      {
                        "learn": [
                          0.008732621295
                        ],
                        "iteration": 168,
                        "passed_time": 0.2480494065,
                        "remaining_time": 1.219698561
                      },
                      {
                        "learn": [
                          0.008709782217
                        ],
                        "iteration": 169,
                        "passed_time": 0.2492032384,
                        "remaining_time": 1.216698164
                      },
                      {
                        "learn": [
                          0.008671578464
                        ],
                        "iteration": 170,
                        "passed_time": 0.2503221238,
                        "remaining_time": 1.213549945
                      },
                      {
                        "learn": [
                          0.008649371679
                        ],
                        "iteration": 171,
                        "passed_time": 0.251505022,
                        "remaining_time": 1.210733478
                      },
                      {
                        "learn": [
                          0.008622859608
                        ],
                        "iteration": 172,
                        "passed_time": 0.2537133748,
                        "remaining_time": 1.212837925
                      },
                      {
                        "learn": [
                          0.008614084705
                        ],
                        "iteration": 173,
                        "passed_time": 0.2559937814,
                        "remaining_time": 1.215234848
                      },
                      {
                        "learn": [
                          0.008600849536
                        ],
                        "iteration": 174,
                        "passed_time": 0.2613513132,
                        "remaining_time": 1.232084762
                      },
                      {
                        "learn": [
                          0.008579134071
                        ],
                        "iteration": 175,
                        "passed_time": 0.2637836533,
                        "remaining_time": 1.234987104
                      },
                      {
                        "learn": [
                          0.008545144243
                        ],
                        "iteration": 176,
                        "passed_time": 0.2705373666,
                        "remaining_time": 1.257922332
                      },
                      {
                        "learn": [
                          0.0085259502
                        ],
                        "iteration": 177,
                        "passed_time": 0.2721392974,
                        "remaining_time": 1.25673316
                      },
                      {
                        "learn": [
                          0.008507204391
                        ],
                        "iteration": 178,
                        "passed_time": 0.27335041,
                        "remaining_time": 1.253746853
                      },
                      {
                        "learn": [
                          0.008479315163
                        ],
                        "iteration": 179,
                        "passed_time": 0.2745969932,
                        "remaining_time": 1.250941858
                      },
                      {
                        "learn": [
                          0.008442106574
                        ],
                        "iteration": 180,
                        "passed_time": 0.2757831492,
                        "remaining_time": 1.247880659
                      },
                      {
                        "learn": [
                          0.008412951388
                        ],
                        "iteration": 181,
                        "passed_time": 0.2769116199,
                        "remaining_time": 1.244580797
                      },
                      {
                        "learn": [
                          0.008401832587
                        ],
                        "iteration": 182,
                        "passed_time": 0.2780411043,
                        "remaining_time": 1.241309193
                      },
                      {
                        "learn": [
                          0.008375269625
                        ],
                        "iteration": 183,
                        "passed_time": 0.2791804494,
                        "remaining_time": 1.238104602
                      },
                      {
                        "learn": [
                          0.008355555437
                        ],
                        "iteration": 184,
                        "passed_time": 0.2803215733,
                        "remaining_time": 1.234930174
                      },
                      {
                        "learn": [
                          0.008347241637
                        ],
                        "iteration": 185,
                        "passed_time": 0.2815006709,
                        "remaining_time": 1.231943796
                      },
                      {
                        "learn": [
                          0.008321047009
                        ],
                        "iteration": 186,
                        "passed_time": 0.2826245315,
                        "remaining_time": 1.228736599
                      },
                      {
                        "learn": [
                          0.008301087948
                        ],
                        "iteration": 187,
                        "passed_time": 0.2838680637,
                        "remaining_time": 1.226068445
                      },
                      {
                        "learn": [
                          0.008286935913
                        ],
                        "iteration": 188,
                        "passed_time": 0.2849991872,
                        "remaining_time": 1.22293302
                      },
                      {
                        "learn": [
                          0.008273654995
                        ],
                        "iteration": 189,
                        "passed_time": 0.2862079011,
                        "remaining_time": 1.220149473
                      },
                      {
                        "learn": [
                          0.008251968157
                        ],
                        "iteration": 190,
                        "passed_time": 0.2873721333,
                        "remaining_time": 1.21719401
                      },
                      {
                        "learn": [
                          0.00822749767
                        ],
                        "iteration": 191,
                        "passed_time": 0.2886241335,
                        "remaining_time": 1.214626562
                      },
                      {
                        "learn": [
                          0.008217794092
                        ],
                        "iteration": 192,
                        "passed_time": 0.2897470336,
                        "remaining_time": 1.211532933
                      },
                      {
                        "learn": [
                          0.008206132508
                        ],
                        "iteration": 193,
                        "passed_time": 0.290862568,
                        "remaining_time": 1.20842902
                      },
                      {
                        "learn": [
                          0.008181505772
                        ],
                        "iteration": 194,
                        "passed_time": 0.2920291962,
                        "remaining_time": 1.205556425
                      },
                      {
                        "learn": [
                          0.008158408437
                        ],
                        "iteration": 195,
                        "passed_time": 0.293156226,
                        "remaining_time": 1.202538805
                      },
                      {
                        "learn": [
                          0.008139458985
                        ],
                        "iteration": 196,
                        "passed_time": 0.294278867,
                        "remaining_time": 1.199522488
                      },
                      {
                        "learn": [
                          0.008128372516
                        ],
                        "iteration": 197,
                        "passed_time": 0.2954940134,
                        "remaining_time": 1.196899994
                      },
                      {
                        "learn": [
                          0.008119664917
                        ],
                        "iteration": 198,
                        "passed_time": 0.2966033326,
                        "remaining_time": 1.193865676
                      },
                      {
                        "learn": [
                          0.008098262906
                        ],
                        "iteration": 199,
                        "passed_time": 0.2977550618,
                        "remaining_time": 1.191020247
                      },
                      {
                        "learn": [
                          0.008089477297
                        ],
                        "iteration": 200,
                        "passed_time": 0.2988752868,
                        "remaining_time": 1.188066438
                      },
                      {
                        "learn": [
                          0.008063808135
                        ],
                        "iteration": 201,
                        "passed_time": 0.3001187976,
                        "remaining_time": 1.185617824
                      },
                      {
                        "learn": [
                          0.008054423947
                        ],
                        "iteration": 202,
                        "passed_time": 0.3012205312,
                        "remaining_time": 1.18262445
                      },
                      {
                        "learn": [
                          0.008047015594
                        ],
                        "iteration": 203,
                        "passed_time": 0.302555387,
                        "remaining_time": 1.180559255
                      },
                      {
                        "learn": [
                          0.008028973251
                        ],
                        "iteration": 204,
                        "passed_time": 0.3036858523,
                        "remaining_time": 1.177708549
                      },
                      {
                        "learn": [
                          0.008009720178
                        ],
                        "iteration": 205,
                        "passed_time": 0.3049563312,
                        "remaining_time": 1.175414209
                      },
                      {
                        "learn": [
                          0.007995252515
                        ],
                        "iteration": 206,
                        "passed_time": 0.3061099381,
                        "remaining_time": 1.172682033
                      },
                      {
                        "learn": [
                          0.007974158297
                        ],
                        "iteration": 207,
                        "passed_time": 0.3072586316,
                        "remaining_time": 1.169946328
                      },
                      {
                        "learn": [
                          0.007966020478
                        ],
                        "iteration": 208,
                        "passed_time": 0.3084782604,
                        "remaining_time": 1.167494278
                      },
                      {
                        "learn": [
                          0.007939745057
                        ],
                        "iteration": 209,
                        "passed_time": 0.3096067243,
                        "remaining_time": 1.164711011
                      },
                      {
                        "learn": [
                          0.007932955045
                        ],
                        "iteration": 210,
                        "passed_time": 0.3108128541,
                        "remaining_time": 1.162233848
                      },
                      {
                        "learn": [
                          0.00791010417
                        ],
                        "iteration": 211,
                        "passed_time": 0.311955293,
                        "remaining_time": 1.159531938
                      },
                      {
                        "learn": [
                          0.007886577408
                        ],
                        "iteration": 212,
                        "passed_time": 0.3133182736,
                        "remaining_time": 1.157659537
                      },
                      {
                        "learn": [
                          0.007878979959
                        ],
                        "iteration": 213,
                        "passed_time": 0.3144311171,
                        "remaining_time": 1.154873168
                      },
                      {
                        "learn": [
                          0.007870597169
                        ],
                        "iteration": 214,
                        "passed_time": 0.3155465765,
                        "remaining_time": 1.152111919
                      },
                      {
                        "learn": [
                          0.007849909406
                        ],
                        "iteration": 215,
                        "passed_time": 0.3166628068,
                        "remaining_time": 1.149368706
                      },
                      {
                        "learn": [
                          0.007839784832
                        ],
                        "iteration": 216,
                        "passed_time": 0.3178002037,
                        "remaining_time": 1.146716864
                      },
                      {
                        "learn": [
                          0.007831593387
                        ],
                        "iteration": 217,
                        "passed_time": 0.3189209519,
                        "remaining_time": 1.144019195
                      },
                      {
                        "learn": [
                          0.007825326451
                        ],
                        "iteration": 218,
                        "passed_time": 0.3200452698,
                        "remaining_time": 1.141348656
                      },
                      {
                        "learn": [
                          0.007797597717
                        ],
                        "iteration": 219,
                        "passed_time": 0.3212509837,
                        "remaining_time": 1.13898076
                      },
                      {
                        "learn": [
                          0.007790415948
                        ],
                        "iteration": 220,
                        "passed_time": 0.322501707,
                        "remaining_time": 1.136782035
                      },
                      {
                        "learn": [
                          0.007788475791
                        ],
                        "iteration": 221,
                        "passed_time": 0.323611504,
                        "remaining_time": 1.134097973
                      },
                      {
                        "learn": [
                          0.007774909132
                        ],
                        "iteration": 222,
                        "passed_time": 0.3247511691,
                        "remaining_time": 1.1315321
                      },
                      {
                        "learn": [
                          0.007758919877
                        ],
                        "iteration": 223,
                        "passed_time": 0.3259477013,
                        "remaining_time": 1.129175965
                      },
                      {
                        "learn": [
                          0.007755807247
                        ],
                        "iteration": 224,
                        "passed_time": 0.3270886592,
                        "remaining_time": 1.126638715
                      },
                      {
                        "learn": [
                          0.007745191669
                        ],
                        "iteration": 225,
                        "passed_time": 0.3282285862,
                        "remaining_time": 1.124110291
                      },
                      {
                        "learn": [
                          0.007722323294
                        ],
                        "iteration": 226,
                        "passed_time": 0.3293893587,
                        "remaining_time": 1.121665085
                      },
                      {
                        "learn": [
                          0.007700897749
                        ],
                        "iteration": 227,
                        "passed_time": 0.3305212741,
                        "remaining_time": 1.119133437
                      },
                      {
                        "learn": [
                          0.007698435774
                        ],
                        "iteration": 228,
                        "passed_time": 0.3316936638,
                        "remaining_time": 1.116750283
                      },
                      {
                        "learn": [
                          0.007682159199
                        ],
                        "iteration": 229,
                        "passed_time": 0.3328594051,
                        "remaining_time": 1.1143554
                      },
                      {
                        "learn": [
                          0.007668018103
                        ],
                        "iteration": 230,
                        "passed_time": 0.3339830821,
                        "remaining_time": 1.111831126
                      },
                      {
                        "learn": [
                          0.007660527948
                        ],
                        "iteration": 231,
                        "passed_time": 0.3351070663,
                        "remaining_time": 1.109319944
                      },
                      {
                        "learn": [
                          0.007658527914
                        ],
                        "iteration": 232,
                        "passed_time": 0.3362069016,
                        "remaining_time": 1.106741174
                      },
                      {
                        "learn": [
                          0.007638328425
                        ],
                        "iteration": 233,
                        "passed_time": 0.3374020811,
                        "remaining_time": 1.104487154
                      },
                      {
                        "learn": [
                          0.00761182424
                        ],
                        "iteration": 234,
                        "passed_time": 0.3385237334,
                        "remaining_time": 1.102002792
                      },
                      {
                        "learn": [
                          0.007592603559
                        ],
                        "iteration": 235,
                        "passed_time": 0.3396662555,
                        "remaining_time": 1.099597539
                      },
                      {
                        "learn": [
                          0.007576475852
                        ],
                        "iteration": 236,
                        "passed_time": 0.3407919934,
                        "remaining_time": 1.097148907
                      },
                      {
                        "learn": [
                          0.007557958665
                        ],
                        "iteration": 237,
                        "passed_time": 0.3419322213,
                        "remaining_time": 1.094757784
                      },
                      {
                        "learn": [
                          0.007538432647
                        ],
                        "iteration": 238,
                        "passed_time": 0.3431289767,
                        "remaining_time": 1.092557118
                      },
                      {
                        "learn": [
                          0.00753330675
                        ],
                        "iteration": 239,
                        "passed_time": 0.3442532904,
                        "remaining_time": 1.09013542
                      },
                      {
                        "learn": [
                          0.007512813749
                        ],
                        "iteration": 240,
                        "passed_time": 0.3453956611,
                        "remaining_time": 1.087781356
                      },
                      {
                        "learn": [
                          0.0075106638
                        ],
                        "iteration": 241,
                        "passed_time": 0.3465043372,
                        "remaining_time": 1.085331767
                      },
                      {
                        "learn": [
                          0.007505667838
                        ],
                        "iteration": 242,
                        "passed_time": 0.3476055566,
                        "remaining_time": 1.082869985
                      },
                      {
                        "learn": [
                          0.007489448732
                        ],
                        "iteration": 243,
                        "passed_time": 0.3487864139,
                        "remaining_time": 1.080666102
                      },
                      {
                        "learn": [
                          0.007485934903
                        ],
                        "iteration": 244,
                        "passed_time": 0.3535570687,
                        "remaining_time": 1.089533007
                      },
                      {
                        "learn": [
                          0.007483959493
                        ],
                        "iteration": 245,
                        "passed_time": 0.3548392706,
                        "remaining_time": 1.087596789
                      },
                      {
                        "learn": [
                          0.007479405069
                        ],
                        "iteration": 246,
                        "passed_time": 0.3564764883,
                        "remaining_time": 1.086748161
                      },
                      {
                        "learn": [
                          0.007456245788
                        ],
                        "iteration": 247,
                        "passed_time": 0.3593432841,
                        "remaining_time": 1.089621571
                      },
                      {
                        "learn": [
                          0.007437457523
                        ],
                        "iteration": 248,
                        "passed_time": 0.3605479138,
                        "remaining_time": 1.087435676
                      },
                      {
                        "learn": [
                          0.007433938097
                        ],
                        "iteration": 249,
                        "passed_time": 0.3616930696,
                        "remaining_time": 1.085079209
                      },
                      {
                        "learn": [
                          0.007429660401
                        ],
                        "iteration": 250,
                        "passed_time": 0.3628449987,
                        "remaining_time": 1.082752606
                      },
                      {
                        "learn": [
                          0.007417943685
                        ],
                        "iteration": 251,
                        "passed_time": 0.3640171716,
                        "remaining_time": 1.080495414
                      },
                      {
                        "learn": [
                          0.007400072723
                        ],
                        "iteration": 252,
                        "passed_time": 0.3652415455,
                        "remaining_time": 1.078400927
                      },
                      {
                        "learn": [
                          0.0073921796
                        ],
                        "iteration": 253,
                        "passed_time": 0.3666614878,
                        "remaining_time": 1.076887677
                      },
                      {
                        "learn": [
                          0.007389891043
                        ],
                        "iteration": 254,
                        "passed_time": 0.3678968221,
                        "remaining_time": 1.074835813
                      },
                      {
                        "learn": [
                          0.007386210732
                        ],
                        "iteration": 255,
                        "passed_time": 0.3690942743,
                        "remaining_time": 1.072680235
                      },
                      {
                        "learn": [
                          0.007369147298
                        ],
                        "iteration": 256,
                        "passed_time": 0.3702904124,
                        "remaining_time": 1.070528313
                      },
                      {
                        "learn": [
                          0.007357120555
                        ],
                        "iteration": 257,
                        "passed_time": 0.3714223892,
                        "remaining_time": 1.068199274
                      },
                      {
                        "learn": [
                          0.007342016223
                        ],
                        "iteration": 258,
                        "passed_time": 0.3725942079,
                        "remaining_time": 1.065993467
                      },
                      {
                        "learn": [
                          0.007327011139
                        ],
                        "iteration": 259,
                        "passed_time": 0.3738624827,
                        "remaining_time": 1.064070143
                      },
                      {
                        "learn": [
                          0.007304889724
                        ],
                        "iteration": 260,
                        "passed_time": 0.37500031,
                        "remaining_time": 1.061782487
                      },
                      {
                        "learn": [
                          0.007283572471
                        ],
                        "iteration": 261,
                        "passed_time": 0.3765653751,
                        "remaining_time": 1.060707049
                      },
                      {
                        "learn": [
                          0.007272220955
                        ],
                        "iteration": 262,
                        "passed_time": 0.3777396149,
                        "remaining_time": 1.058532685
                      },
                      {
                        "learn": [
                          0.00726400827
                        ],
                        "iteration": 263,
                        "passed_time": 0.3788708943,
                        "remaining_time": 1.05624613
                      },
                      {
                        "learn": [
                          0.007251405222
                        ],
                        "iteration": 264,
                        "passed_time": 0.3801171125,
                        "remaining_time": 1.054287086
                      },
                      {
                        "learn": [
                          0.007236847769
                        ],
                        "iteration": 265,
                        "passed_time": 0.3813200113,
                        "remaining_time": 1.052213866
                      },
                      {
                        "learn": [
                          0.007226763286
                        ],
                        "iteration": 266,
                        "passed_time": 0.3824711604,
                        "remaining_time": 1.050005096
                      },
                      {
                        "learn": [
                          0.007214170412
                        ],
                        "iteration": 267,
                        "passed_time": 0.3836499708,
                        "remaining_time": 1.047879771
                      },
                      {
                        "learn": [
                          0.007202411476
                        ],
                        "iteration": 268,
                        "passed_time": 0.3848392614,
                        "remaining_time": 1.045789963
                      },
                      {
                        "learn": [
                          0.007182244297
                        ],
                        "iteration": 269,
                        "passed_time": 0.3860005499,
                        "remaining_time": 1.043631116
                      },
                      {
                        "learn": [
                          0.00717395971
                        ],
                        "iteration": 270,
                        "passed_time": 0.3871402841,
                        "remaining_time": 1.04142165
                      },
                      {
                        "learn": [
                          0.007155196569
                        ],
                        "iteration": 271,
                        "passed_time": 0.3882770573,
                        "remaining_time": 1.039212124
                      },
                      {
                        "learn": [
                          0.007133016782
                        ],
                        "iteration": 272,
                        "passed_time": 0.3894366039,
                        "remaining_time": 1.037071103
                      },
                      {
                        "learn": [
                          0.007125945709
                        ],
                        "iteration": 273,
                        "passed_time": 0.3905637169,
                        "remaining_time": 1.034851308
                      },
                      {
                        "learn": [
                          0.00712105996
                        ],
                        "iteration": 274,
                        "passed_time": 0.3917276441,
                        "remaining_time": 1.032736516
                      },
                      {
                        "learn": [
                          0.007110777023
                        ],
                        "iteration": 275,
                        "passed_time": 0.3928769013,
                        "remaining_time": 1.030590132
                      },
                      {
                        "learn": [
                          0.007103000356
                        ],
                        "iteration": 276,
                        "passed_time": 0.3941256555,
                        "remaining_time": 1.028710646
                      },
                      {
                        "learn": [
                          0.007088049712
                        ],
                        "iteration": 277,
                        "passed_time": 0.3952539612,
                        "remaining_time": 1.026522878
                      },
                      {
                        "learn": [
                          0.007081742999
                        ],
                        "iteration": 278,
                        "passed_time": 0.3964645875,
                        "remaining_time": 1.024555439
                      },
                      {
                        "learn": [
                          0.007064454219
                        ],
                        "iteration": 279,
                        "passed_time": 0.3976792157,
                        "remaining_time": 1.022603697
                      },
                      {
                        "learn": [
                          0.007051678605
                        ],
                        "iteration": 280,
                        "passed_time": 0.3988054272,
                        "remaining_time": 1.020430969
                      },
                      {
                        "learn": [
                          0.00704167852
                        ],
                        "iteration": 281,
                        "passed_time": 0.400026076,
                        "remaining_time": 1.018506109
                      },
                      {
                        "learn": [
                          0.00702750763
                        ],
                        "iteration": 282,
                        "passed_time": 0.4012092665,
                        "remaining_time": 1.016491322
                      },
                      {
                        "learn": [
                          0.007008577932
                        ],
                        "iteration": 283,
                        "passed_time": 0.4024541301,
                        "remaining_time": 1.014637877
                      },
                      {
                        "learn": [
                          0.006996558451
                        ],
                        "iteration": 284,
                        "passed_time": 0.4036199492,
                        "remaining_time": 1.012590399
                      },
                      {
                        "learn": [
                          0.006983924364
                        ],
                        "iteration": 285,
                        "passed_time": 0.4048167787,
                        "remaining_time": 1.010626503
                      },
                      {
                        "learn": [
                          0.006972003689
                        ],
                        "iteration": 286,
                        "passed_time": 0.4059829041,
                        "remaining_time": 1.008591675
                      },
                      {
                        "learn": [
                          0.006961737298
                        ],
                        "iteration": 287,
                        "passed_time": 0.4072657689,
                        "remaining_time": 1.006851484
                      },
                      {
                        "learn": [
                          0.006954546804
                        ],
                        "iteration": 288,
                        "passed_time": 0.408433718,
                        "remaining_time": 1.004831742
                      },
                      {
                        "learn": [
                          0.00694344911
                        ],
                        "iteration": 289,
                        "passed_time": 0.409574259,
                        "remaining_time": 1.002750772
                      },
                      {
                        "learn": [
                          0.006934344441
                        ],
                        "iteration": 290,
                        "passed_time": 0.4106984924,
                        "remaining_time": 1.000636533
                      },
                      {
                        "learn": [
                          0.006930427036
                        ],
                        "iteration": 291,
                        "passed_time": 0.4118754308,
                        "remaining_time": 0.9986568665
                      },
                      {
                        "learn": [
                          0.006914030121
                        ],
                        "iteration": 292,
                        "passed_time": 0.4130715303,
                        "remaining_time": 0.9967289145
                      },
                      {
                        "learn": [
                          0.006905596583
                        ],
                        "iteration": 293,
                        "passed_time": 0.4142623928,
                        "remaining_time": 0.9947933651
                      },
                      {
                        "learn": [
                          0.006890566814
                        ],
                        "iteration": 294,
                        "passed_time": 0.415392349,
                        "remaining_time": 0.9927173087
                      },
                      {
                        "learn": [
                          0.006879213757
                        ],
                        "iteration": 295,
                        "passed_time": 0.4165555576,
                        "remaining_time": 0.9907267315
                      },
                      {
                        "learn": [
                          0.006864949109
                        ],
                        "iteration": 296,
                        "passed_time": 0.4176837615,
                        "remaining_time": 0.9886588697
                      },
                      {
                        "learn": [
                          0.006852318653
                        ],
                        "iteration": 297,
                        "passed_time": 0.418817216,
                        "remaining_time": 0.9866096832
                      },
                      {
                        "learn": [
                          0.006845150204
                        ],
                        "iteration": 298,
                        "passed_time": 0.4199542933,
                        "remaining_time": 0.9845751157
                      },
                      {
                        "learn": [
                          0.006830563532
                        ],
                        "iteration": 299,
                        "passed_time": 0.4210870628,
                        "remaining_time": 0.9825364798
                      },
                      {
                        "learn": [
                          0.006820305413
                        ],
                        "iteration": 300,
                        "passed_time": 0.4222221478,
                        "remaining_time": 0.9805092401
                      },
                      {
                        "learn": [
                          0.006805483454
                        ],
                        "iteration": 301,
                        "passed_time": 0.4234086929,
                        "remaining_time": 0.9786068464
                      },
                      {
                        "learn": [
                          0.006799677395
                        ],
                        "iteration": 302,
                        "passed_time": 0.4245191658,
                        "remaining_time": 0.9765341867
                      },
                      {
                        "learn": [
                          0.006791081787
                        ],
                        "iteration": 303,
                        "passed_time": 0.4257207991,
                        "remaining_time": 0.9746765663
                      },
                      {
                        "learn": [
                          0.006775624454
                        ],
                        "iteration": 304,
                        "passed_time": 0.4269553642,
                        "remaining_time": 0.9728982889
                      },
                      {
                        "learn": [
                          0.006764011647
                        ],
                        "iteration": 305,
                        "passed_time": 0.4296942759,
                        "remaining_time": 0.9745353839
                      },
                      {
                        "learn": [
                          0.006758451936
                        ],
                        "iteration": 306,
                        "passed_time": 0.4538112016,
                        "remaining_time": 1.024401182
                      },
                      {
                        "learn": [
                          0.00674613581
                        ],
                        "iteration": 307,
                        "passed_time": 0.4596499618,
                        "remaining_time": 1.032720044
                      },
                      {
                        "learn": [
                          0.006732114494
                        ],
                        "iteration": 308,
                        "passed_time": 0.4608647827,
                        "remaining_time": 1.030607006
                      },
                      {
                        "learn": [
                          0.006720406824
                        ],
                        "iteration": 309,
                        "passed_time": 0.4620331359,
                        "remaining_time": 1.028396335
                      },
                      {
                        "learn": [
                          0.006711706554
                        ],
                        "iteration": 310,
                        "passed_time": 0.4640772917,
                        "remaining_time": 1.028132649
                      },
                      {
                        "learn": [
                          0.006706673842
                        ],
                        "iteration": 311,
                        "passed_time": 0.4662652484,
                        "remaining_time": 1.02817465
                      },
                      {
                        "learn": [
                          0.006697225119
                        ],
                        "iteration": 312,
                        "passed_time": 0.4748048659,
                        "remaining_time": 1.042143588
                      },
                      {
                        "learn": [
                          0.00668719749
                        ],
                        "iteration": 313,
                        "passed_time": 0.475987981,
                        "remaining_time": 1.039897309
                      },
                      {
                        "learn": [
                          0.00667111529
                        ],
                        "iteration": 314,
                        "passed_time": 0.482174437,
                        "remaining_time": 1.048538062
                      },
                      {
                        "learn": [
                          0.006659678689
                        ],
                        "iteration": 315,
                        "passed_time": 0.4834009997,
                        "remaining_time": 1.046348999
                      },
                      {
                        "learn": [
                          0.006648607067
                        ],
                        "iteration": 316,
                        "passed_time": 0.4846443551,
                        "remaining_time": 1.044202191
                      },
                      {
                        "learn": [
                          0.006638734159
                        ],
                        "iteration": 317,
                        "passed_time": 0.4866689353,
                        "remaining_time": 1.043736522
                      },
                      {
                        "learn": [
                          0.006629239245
                        ],
                        "iteration": 318,
                        "passed_time": 0.488782113,
                        "remaining_time": 1.043450216
                      },
                      {
                        "learn": [
                          0.006621318567
                        ],
                        "iteration": 319,
                        "passed_time": 0.4972846158,
                        "remaining_time": 1.056729809
                      },
                      {
                        "learn": [
                          0.006612718352
                        ],
                        "iteration": 320,
                        "passed_time": 0.498590888,
                        "remaining_time": 1.054651754
                      },
                      {
                        "learn": [
                          0.006604010661
                        ],
                        "iteration": 321,
                        "passed_time": 0.5056079176,
                        "remaining_time": 1.064603007
                      },
                      {
                        "learn": [
                          0.006591632958
                        ],
                        "iteration": 322,
                        "passed_time": 0.5068445114,
                        "remaining_time": 1.062333543
                      },
                      {
                        "learn": [
                          0.006584712138
                        ],
                        "iteration": 323,
                        "passed_time": 0.5080467747,
                        "remaining_time": 1.059998826
                      },
                      {
                        "learn": [
                          0.006572340184
                        ],
                        "iteration": 324,
                        "passed_time": 0.5091807702,
                        "remaining_time": 1.057529292
                      },
                      {
                        "learn": [
                          0.006562965449
                        ],
                        "iteration": 325,
                        "passed_time": 0.5112153165,
                        "remaining_time": 1.056929826
                      },
                      {
                        "learn": [
                          0.006552738413
                        ],
                        "iteration": 326,
                        "passed_time": 0.5199243417,
                        "remaining_time": 1.070058355
                      },
                      {
                        "learn": [
                          0.006543878788
                        ],
                        "iteration": 327,
                        "passed_time": 0.5211426577,
                        "remaining_time": 1.067706909
                      },
                      {
                        "learn": [
                          0.006534563835
                        ],
                        "iteration": 328,
                        "passed_time": 0.5223021025,
                        "remaining_time": 1.065242282
                      },
                      {
                        "learn": [
                          0.006523372797
                        ],
                        "iteration": 329,
                        "passed_time": 0.5240874417,
                        "remaining_time": 1.064056321
                      },
                      {
                        "learn": [
                          0.006515482952
                        ],
                        "iteration": 330,
                        "passed_time": 0.5263708694,
                        "remaining_time": 1.063873449
                      },
                      {
                        "learn": [
                          0.006504525382
                        ],
                        "iteration": 331,
                        "passed_time": 0.5372665589,
                        "remaining_time": 1.081006209
                      },
                      {
                        "learn": [
                          0.006494738008
                        ],
                        "iteration": 332,
                        "passed_time": 0.5385655227,
                        "remaining_time": 1.078748359
                      },
                      {
                        "learn": [
                          0.00648749211
                        ],
                        "iteration": 333,
                        "passed_time": 0.5398004283,
                        "remaining_time": 1.076368519
                      },
                      {
                        "learn": [
                          0.006475453465
                        ],
                        "iteration": 334,
                        "passed_time": 0.5412810679,
                        "remaining_time": 1.074483314
                      },
                      {
                        "learn": [
                          0.006466449685
                        ],
                        "iteration": 335,
                        "passed_time": 0.5489754029,
                        "remaining_time": 1.084879963
                      },
                      {
                        "learn": [
                          0.006461502505
                        ],
                        "iteration": 336,
                        "passed_time": 0.5504664804,
                        "remaining_time": 1.082965212
                      },
                      {
                        "learn": [
                          0.006455110658
                        ],
                        "iteration": 337,
                        "passed_time": 0.5562209231,
                        "remaining_time": 1.08940311
                      },
                      {
                        "learn": [
                          0.006449036566
                        ],
                        "iteration": 338,
                        "passed_time": 0.5574518163,
                        "remaining_time": 1.086948822
                      },
                      {
                        "learn": [
                          0.006440259999
                        ],
                        "iteration": 339,
                        "passed_time": 0.5586630767,
                        "remaining_time": 1.084463619
                      },
                      {
                        "learn": [
                          0.006433007441
                        ],
                        "iteration": 340,
                        "passed_time": 0.5609700709,
                        "remaining_time": 1.084103451
                      },
                      {
                        "learn": [
                          0.006419770295
                        ],
                        "iteration": 341,
                        "passed_time": 0.5625056379,
                        "remaining_time": 1.082247689
                      },
                      {
                        "learn": [
                          0.006409345304
                        ],
                        "iteration": 342,
                        "passed_time": 0.5637468555,
                        "remaining_time": 1.079829983
                      },
                      {
                        "learn": [
                          0.006403588229
                        ],
                        "iteration": 343,
                        "passed_time": 0.5655624538,
                        "remaining_time": 1.078514447
                      },
                      {
                        "learn": [
                          0.006398116695
                        ],
                        "iteration": 344,
                        "passed_time": 0.5672139246,
                        "remaining_time": 1.076884408
                      },
                      {
                        "learn": [
                          0.006391599902
                        ],
                        "iteration": 345,
                        "passed_time": 0.5694350972,
                        "remaining_time": 1.07633108
                      },
                      {
                        "learn": [
                          0.006384915056
                        ],
                        "iteration": 346,
                        "passed_time": 0.5706483659,
                        "remaining_time": 1.07387142
                      },
                      {
                        "learn": [
                          0.006381079201
                        ],
                        "iteration": 347,
                        "passed_time": 0.5723584588,
                        "remaining_time": 1.072349756
                      },
                      {
                        "learn": [
                          0.006372502969
                        ],
                        "iteration": 348,
                        "passed_time": 0.5738926948,
                        "remaining_time": 1.070498981
                      },
                      {
                        "learn": [
                          0.006360509775
                        ],
                        "iteration": 349,
                        "passed_time": 0.5759659901,
                        "remaining_time": 1.069651124
                      },
                      {
                        "learn": [
                          0.006344532812
                        ],
                        "iteration": 350,
                        "passed_time": 0.577250268,
                        "remaining_time": 1.06733739
                      },
                      {
                        "learn": [
                          0.006340216324
                        ],
                        "iteration": 351,
                        "passed_time": 0.5792202307,
                        "remaining_time": 1.066291788
                      },
                      {
                        "learn": [
                          0.006336695691
                        ],
                        "iteration": 352,
                        "passed_time": 0.58075638,
                        "remaining_time": 1.06444583
                      },
                      {
                        "learn": [
                          0.006328905
                        ],
                        "iteration": 353,
                        "passed_time": 0.5825753101,
                        "remaining_time": 1.063117656
                      },
                      {
                        "learn": [
                          0.006321268557
                        ],
                        "iteration": 354,
                        "passed_time": 0.5837998509,
                        "remaining_time": 1.060706771
                      },
                      {
                        "learn": [
                          0.006310024929
                        ],
                        "iteration": 355,
                        "passed_time": 0.5859299232,
                        "remaining_time": 1.059940648
                      },
                      {
                        "learn": [
                          0.00629989506
                        ],
                        "iteration": 356,
                        "passed_time": 0.588056345,
                        "remaining_time": 1.059160308
                      },
                      {
                        "learn": [
                          0.006291583394
                        ],
                        "iteration": 357,
                        "passed_time": 0.5901435533,
                        "remaining_time": 1.058302126
                      },
                      {
                        "learn": [
                          0.006278919581
                        ],
                        "iteration": 358,
                        "passed_time": 0.5990799141,
                        "remaining_time": 1.069666365
                      },
                      {
                        "learn": [
                          0.006275885993
                        ],
                        "iteration": 359,
                        "passed_time": 0.6003800294,
                        "remaining_time": 1.067342274
                      },
                      {
                        "learn": [
                          0.006270881804
                        ],
                        "iteration": 360,
                        "passed_time": 0.6015292184,
                        "remaining_time": 1.064756705
                      },
                      {
                        "learn": [
                          0.006259812745
                        ],
                        "iteration": 361,
                        "passed_time": 0.6026723673,
                        "remaining_time": 1.062168426
                      },
                      {
                        "learn": [
                          0.006249218371
                        ],
                        "iteration": 362,
                        "passed_time": 0.6046998312,
                        "remaining_time": 1.061139924
                      },
                      {
                        "learn": [
                          0.006242520464
                        ],
                        "iteration": 363,
                        "passed_time": 0.6112778217,
                        "remaining_time": 1.068056853
                      },
                      {
                        "learn": [
                          0.006239244456
                        ],
                        "iteration": 364,
                        "passed_time": 0.6125345061,
                        "remaining_time": 1.065642223
                      },
                      {
                        "learn": [
                          0.006230579482
                        ],
                        "iteration": 365,
                        "passed_time": 0.6187221991,
                        "remaining_time": 1.071775613
                      },
                      {
                        "learn": [
                          0.006222327896
                        ],
                        "iteration": 366,
                        "passed_time": 0.619931503,
                        "remaining_time": 1.069255154
                      },
                      {
                        "learn": [
                          0.006215596401
                        ],
                        "iteration": 367,
                        "passed_time": 0.621145813,
                        "remaining_time": 1.066750418
                      },
                      {
                        "learn": [
                          0.006209289278
                        ],
                        "iteration": 368,
                        "passed_time": 0.6226316068,
                        "remaining_time": 1.064716921
                      },
                      {
                        "learn": [
                          0.006199335023
                        ],
                        "iteration": 369,
                        "passed_time": 0.6247834488,
                        "remaining_time": 1.063820467
                      },
                      {
                        "learn": [
                          0.006197263158
                        ],
                        "iteration": 370,
                        "passed_time": 0.6259902745,
                        "remaining_time": 1.061315048
                      },
                      {
                        "learn": [
                          0.006192534994
                        ],
                        "iteration": 371,
                        "passed_time": 0.6271389472,
                        "remaining_time": 1.058718438
                      },
                      {
                        "learn": [
                          0.006186717458
                        ],
                        "iteration": 372,
                        "passed_time": 0.6292054517,
                        "remaining_time": 1.057672435
                      },
                      {
                        "learn": [
                          0.006182991863
                        ],
                        "iteration": 373,
                        "passed_time": 0.6303732749,
                        "remaining_time": 1.055116765
                      },
                      {
                        "learn": [
                          0.006175747224
                        ],
                        "iteration": 374,
                        "passed_time": 0.6325501822,
                        "remaining_time": 1.054250304
                      },
                      {
                        "learn": [
                          0.006161422829
                        ],
                        "iteration": 375,
                        "passed_time": 0.6340811587,
                        "remaining_time": 1.052304902
                      },
                      {
                        "learn": [
                          0.006153992542
                        ],
                        "iteration": 376,
                        "passed_time": 0.6359585401,
                        "remaining_time": 1.050934139
                      },
                      {
                        "learn": [
                          0.006144138841
                        ],
                        "iteration": 377,
                        "passed_time": 0.6375439189,
                        "remaining_time": 1.049080205
                      },
                      {
                        "learn": [
                          0.006132300389
                        ],
                        "iteration": 378,
                        "passed_time": 0.6386842141,
                        "remaining_time": 1.046498409
                      },
                      {
                        "learn": [
                          0.006125311501
                        ],
                        "iteration": 379,
                        "passed_time": 0.6408927864,
                        "remaining_time": 1.045667178
                      },
                      {
                        "learn": [
                          0.006116760559
                        ],
                        "iteration": 380,
                        "passed_time": 0.6424662531,
                        "remaining_time": 1.043796878
                      },
                      {
                        "learn": [
                          0.006113182447
                        ],
                        "iteration": 381,
                        "passed_time": 0.6444296734,
                        "remaining_time": 1.042559
                      },
                      {
                        "learn": [
                          0.006106830098
                        ],
                        "iteration": 382,
                        "passed_time": 0.6458146569,
                        "remaining_time": 1.040385492
                      },
                      {
                        "learn": [
                          0.006098761268
                        ],
                        "iteration": 383,
                        "passed_time": 0.6469534888,
                        "remaining_time": 1.037821222
                      },
                      {
                        "learn": [
                          0.006095114756
                        ],
                        "iteration": 384,
                        "passed_time": 0.6489809027,
                        "remaining_time": 1.03668378
                      },
                      {
                        "learn": [
                          0.006088525667
                        ],
                        "iteration": 385,
                        "passed_time": 0.6510321523,
                        "remaining_time": 1.035579641
                      },
                      {
                        "learn": [
                          0.006086957981
                        ],
                        "iteration": 386,
                        "passed_time": 0.6532763907,
                        "remaining_time": 1.034776298
                      },
                      {
                        "learn": [
                          0.006081192968
                        ],
                        "iteration": 387,
                        "passed_time": 0.655486628,
                        "remaining_time": 1.033911898
                      },
                      {
                        "learn": [
                          0.006074187434
                        ],
                        "iteration": 388,
                        "passed_time": 0.6638521897,
                        "remaining_time": 1.042708709
                      },
                      {
                        "learn": [
                          0.006066745993
                        ],
                        "iteration": 389,
                        "passed_time": 0.6660716441,
                        "remaining_time": 1.041804366
                      },
                      {
                        "learn": [
                          0.006060191225
                        ],
                        "iteration": 390,
                        "passed_time": 0.668243564,
                        "remaining_time": 1.04081926
                      },
                      {
                        "learn": [
                          0.006057299354
                        ],
                        "iteration": 391,
                        "passed_time": 0.6750685667,
                        "remaining_time": 1.047045124
                      },
                      {
                        "learn": [
                          0.006053301924
                        ],
                        "iteration": 392,
                        "passed_time": 0.6773458568,
                        "remaining_time": 1.046180496
                      },
                      {
                        "learn": [
                          0.006043302633
                        ],
                        "iteration": 393,
                        "passed_time": 0.6877010258,
                        "remaining_time": 1.05773305
                      },
                      {
                        "learn": [
                          0.006038863955
                        ],
                        "iteration": 394,
                        "passed_time": 0.6899375035,
                        "remaining_time": 1.056739721
                      },
                      {
                        "learn": [
                          0.006032373071
                        ],
                        "iteration": 395,
                        "passed_time": 0.6964426515,
                        "remaining_time": 1.062250913
                      },
                      {
                        "learn": [
                          0.006024338831
                        ],
                        "iteration": 396,
                        "passed_time": 0.699740142,
                        "remaining_time": 1.062829485
                      },
                      {
                        "learn": [
                          0.006015636949
                        ],
                        "iteration": 397,
                        "passed_time": 0.7018908504,
                        "remaining_time": 1.061654
                      },
                      {
                        "learn": [
                          0.006012381564
                        ],
                        "iteration": 398,
                        "passed_time": 0.7087334772,
                        "remaining_time": 1.067540902
                      },
                      {
                        "learn": [
                          0.006008276153
                        ],
                        "iteration": 399,
                        "passed_time": 0.7135071316,
                        "remaining_time": 1.070260697
                      },
                      {
                        "learn": [
                          0.006000189135
                        ],
                        "iteration": 400,
                        "passed_time": 0.7159882818,
                        "remaining_time": 1.069518655
                      },
                      {
                        "learn": [
                          0.005997375376
                        ],
                        "iteration": 401,
                        "passed_time": 0.7223426513,
                        "remaining_time": 1.074529616
                      },
                      {
                        "learn": [
                          0.005994019216
                        ],
                        "iteration": 402,
                        "passed_time": 0.725896112,
                        "remaining_time": 1.075334935
                      },
                      {
                        "learn": [
                          0.005989977205
                        ],
                        "iteration": 403,
                        "passed_time": 0.7281440713,
                        "remaining_time": 1.074192739
                      },
                      {
                        "learn": [
                          0.005982445635
                        ],
                        "iteration": 404,
                        "passed_time": 0.7336690147,
                        "remaining_time": 1.077859417
                      },
                      {
                        "learn": [
                          0.005975639627
                        ],
                        "iteration": 405,
                        "passed_time": 0.7385661231,
                        "remaining_time": 1.080562259
                      },
                      {
                        "learn": [
                          0.00597242937
                        ],
                        "iteration": 406,
                        "passed_time": 0.7420909716,
                        "remaining_time": 1.081228369
                      },
                      {
                        "learn": [
                          0.005970438109
                        ],
                        "iteration": 407,
                        "passed_time": 0.7458224682,
                        "remaining_time": 1.082173777
                      },
                      {
                        "learn": [
                          0.005968880298
                        ],
                        "iteration": 408,
                        "passed_time": 0.7511639827,
                        "remaining_time": 1.085422772
                      },
                      {
                        "learn": [
                          0.005963154093
                        ],
                        "iteration": 409,
                        "passed_time": 0.7533252455,
                        "remaining_time": 1.084053402
                      },
                      {
                        "learn": [
                          0.005961568812
                        ],
                        "iteration": 410,
                        "passed_time": 0.7606303861,
                        "remaining_time": 1.090051818
                      },
                      {
                        "learn": [
                          0.00595536565
                        ],
                        "iteration": 411,
                        "passed_time": 0.7629210853,
                        "remaining_time": 1.088829122
                      },
                      {
                        "learn": [
                          0.005952552045
                        ],
                        "iteration": 412,
                        "passed_time": 0.7695713365,
                        "remaining_time": 1.093797517
                      },
                      {
                        "learn": [
                          0.005948649635
                        ],
                        "iteration": 413,
                        "passed_time": 0.7717193607,
                        "remaining_time": 1.092337066
                      },
                      {
                        "learn": [
                          0.005943309645
                        ],
                        "iteration": 414,
                        "passed_time": 0.7788039713,
                        "remaining_time": 1.097832104
                      },
                      {
                        "learn": [
                          0.00594056546
                        ],
                        "iteration": 415,
                        "passed_time": 0.7854125873,
                        "remaining_time": 1.10259844
                      },
                      {
                        "learn": [
                          0.005935506488
                        ],
                        "iteration": 416,
                        "passed_time": 0.7877346288,
                        "remaining_time": 1.101317239
                      },
                      {
                        "learn": [
                          0.005926917664
                        ],
                        "iteration": 417,
                        "passed_time": 0.7951848463,
                        "remaining_time": 1.107171245
                      },
                      {
                        "learn": [
                          0.005923109756
                        ],
                        "iteration": 418,
                        "passed_time": 0.7973157518,
                        "remaining_time": 1.105585804
                      },
                      {
                        "learn": [
                          0.005914825028
                        ],
                        "iteration": 419,
                        "passed_time": 0.8036667677,
                        "remaining_time": 1.109825536
                      },
                      {
                        "learn": [
                          0.005912346075
                        ],
                        "iteration": 420,
                        "passed_time": 0.8059197994,
                        "remaining_time": 1.108379012
                      },
                      {
                        "learn": [
                          0.005910270625
                        ],
                        "iteration": 421,
                        "passed_time": 0.8080724651,
                        "remaining_time": 1.106791196
                      },
                      {
                        "learn": [
                          0.00590289814
                        ],
                        "iteration": 422,
                        "passed_time": 0.8147196195,
                        "remaining_time": 1.11133149
                      },
                      {
                        "learn": [
                          0.005901590798
                        ],
                        "iteration": 423,
                        "passed_time": 0.8211840222,
                        "remaining_time": 1.115570747
                      },
                      {
                        "learn": [
                          0.005896834459
                        ],
                        "iteration": 424,
                        "passed_time": 0.8234112005,
                        "remaining_time": 1.114026918
                      },
                      {
                        "learn": [
                          0.005886489905
                        ],
                        "iteration": 425,
                        "passed_time": 0.8298111505,
                        "remaining_time": 1.118102348
                      },
                      {
                        "learn": [
                          0.005884739977
                        ],
                        "iteration": 426,
                        "passed_time": 0.8320075756,
                        "remaining_time": 1.116487918
                      },
                      {
                        "learn": [
                          0.005873529122
                        ],
                        "iteration": 427,
                        "passed_time": 0.8386328234,
                        "remaining_time": 1.120789661
                      },
                      {
                        "learn": [
                          0.005866788922
                        ],
                        "iteration": 428,
                        "passed_time": 0.841569019,
                        "remaining_time": 1.120130326
                      },
                      {
                        "learn": [
                          0.00585912139
                        ],
                        "iteration": 429,
                        "passed_time": 0.8438040907,
                        "remaining_time": 1.118531004
                      },
                      {
                        "learn": [
                          0.005852236865
                        ],
                        "iteration": 430,
                        "passed_time": 0.8503327676,
                        "remaining_time": 1.122597088
                      },
                      {
                        "learn": [
                          0.005845441765
                        ],
                        "iteration": 431,
                        "passed_time": 0.8525375311,
                        "remaining_time": 1.120928976
                      },
                      {
                        "learn": [
                          0.00584191082
                        ],
                        "iteration": 432,
                        "passed_time": 0.8607707848,
                        "remaining_time": 1.127152506
                      },
                      {
                        "learn": [
                          0.005835376252
                        ],
                        "iteration": 433,
                        "passed_time": 0.8660787379,
                        "remaining_time": 1.129494391
                      },
                      {
                        "learn": [
                          0.005830435889
                        ],
                        "iteration": 434,
                        "passed_time": 0.8683017397,
                        "remaining_time": 1.127794214
                      },
                      {
                        "learn": [
                          0.005828406784
                        ],
                        "iteration": 435,
                        "passed_time": 0.8740770739,
                        "remaining_time": 1.130686857
                      },
                      {
                        "learn": [
                          0.005824702007
                        ],
                        "iteration": 436,
                        "passed_time": 0.8797493438,
                        "remaining_time": 1.133407049
                      },
                      {
                        "learn": [
                          0.005821723609
                        ],
                        "iteration": 437,
                        "passed_time": 0.8819105329,
                        "remaining_time": 1.131583834
                      },
                      {
                        "learn": [
                          0.005815670484
                        ],
                        "iteration": 438,
                        "passed_time": 0.8884408653,
                        "remaining_time": 1.135342427
                      },
                      {
                        "learn": [
                          0.005808360966
                        ],
                        "iteration": 439,
                        "passed_time": 0.8907188723,
                        "remaining_time": 1.133642201
                      },
                      {
                        "learn": [
                          0.005803269365
                        ],
                        "iteration": 440,
                        "passed_time": 0.8972165351,
                        "remaining_time": 1.13728808
                      },
                      {
                        "learn": [
                          0.005798363041
                        ],
                        "iteration": 441,
                        "passed_time": 0.8995125763,
                        "remaining_time": 1.13558375
                      },
                      {
                        "learn": [
                          0.005796404863
                        ],
                        "iteration": 442,
                        "passed_time": 0.9065059133,
                        "remaining_time": 1.13978283
                      },
                      {
                        "learn": [
                          0.00578910689
                        ],
                        "iteration": 443,
                        "passed_time": 0.9088005336,
                        "remaining_time": 1.138047515
                      },
                      {
                        "learn": [
                          0.00577695984
                        ],
                        "iteration": 444,
                        "passed_time": 0.9153214888,
                        "remaining_time": 1.141580733
                      },
                      {
                        "learn": [
                          0.005770679358
                        ],
                        "iteration": 445,
                        "passed_time": 0.9185850666,
                        "remaining_time": 1.141022706
                      },
                      {
                        "learn": [
                          0.005765954265
                        ],
                        "iteration": 446,
                        "passed_time": 0.9325685324,
                        "remaining_time": 1.153714538
                      },
                      {
                        "learn": [
                          0.005763471149
                        ],
                        "iteration": 447,
                        "passed_time": 0.9348283985,
                        "remaining_time": 1.151842134
                      },
                      {
                        "learn": [
                          0.005755907142
                        ],
                        "iteration": 448,
                        "passed_time": 0.9424934204,
                        "remaining_time": 1.156601057
                      },
                      {
                        "learn": [
                          0.005751199916
                        ],
                        "iteration": 449,
                        "passed_time": 0.9461871582,
                        "remaining_time": 1.156450971
                      },
                      {
                        "learn": [
                          0.005743059862
                        ],
                        "iteration": 450,
                        "passed_time": 0.9640264802,
                        "remaining_time": 1.173504518
                      },
                      {
                        "learn": [
                          0.005740801917
                        ],
                        "iteration": 451,
                        "passed_time": 0.9661913154,
                        "remaining_time": 1.17140009
                      },
                      {
                        "learn": [
                          0.005736730159
                        ],
                        "iteration": 452,
                        "passed_time": 0.9707496336,
                        "remaining_time": 1.17218554
                      },
                      {
                        "learn": [
                          0.005734241983
                        ],
                        "iteration": 453,
                        "passed_time": 0.9748196396,
                        "remaining_time": 1.172360183
                      },
                      {
                        "learn": [
                          0.005726112691
                        ],
                        "iteration": 454,
                        "passed_time": 0.9793455087,
                        "remaining_time": 1.173062203
                      },
                      {
                        "learn": [
                          0.005722378572
                        ],
                        "iteration": 455,
                        "passed_time": 0.9817148061,
                        "remaining_time": 1.171168541
                      },
                      {
                        "learn": [
                          0.005718199033
                        ],
                        "iteration": 456,
                        "passed_time": 1.006743729,
                        "remaining_time": 1.196196597
                      },
                      {
                        "learn": [
                          0.00571581272
                        ],
                        "iteration": 457,
                        "passed_time": 1.009181641,
                        "remaining_time": 1.194271724
                      },
                      {
                        "learn": [
                          0.005712841789
                        ],
                        "iteration": 458,
                        "passed_time": 1.034355277,
                        "remaining_time": 1.219142058
                      },
                      {
                        "learn": [
                          0.005710283249
                        ],
                        "iteration": 459,
                        "passed_time": 1.037738507,
                        "remaining_time": 1.218214769
                      },
                      {
                        "learn": [
                          0.005705794955
                        ],
                        "iteration": 460,
                        "passed_time": 1.043571113,
                        "remaining_time": 1.220140629
                      },
                      {
                        "learn": [
                          0.005699744622
                        ],
                        "iteration": 461,
                        "passed_time": 1.052089294,
                        "remaining_time": 1.22516026
                      },
                      {
                        "learn": [
                          0.005692002686
                        ],
                        "iteration": 462,
                        "passed_time": 1.054384283,
                        "remaining_time": 1.222903586
                      },
                      {
                        "learn": [
                          0.005682046978
                        ],
                        "iteration": 463,
                        "passed_time": 1.067050431,
                        "remaining_time": 1.232627222
                      },
                      {
                        "learn": [
                          0.005678518631
                        ],
                        "iteration": 464,
                        "passed_time": 1.069253487,
                        "remaining_time": 1.230216378
                      },
                      {
                        "learn": [
                          0.005676604077
                        ],
                        "iteration": 465,
                        "passed_time": 1.08117561,
                        "remaining_time": 1.238943725
                      },
                      {
                        "learn": [
                          0.005672338235
                        ],
                        "iteration": 466,
                        "passed_time": 1.085767711,
                        "remaining_time": 1.239216681
                      },
                      {
                        "learn": [
                          0.005667158156
                        ],
                        "iteration": 467,
                        "passed_time": 1.090631807,
                        "remaining_time": 1.239778036
                      },
                      {
                        "learn": [
                          0.005660287282
                        ],
                        "iteration": 468,
                        "passed_time": 1.102219199,
                        "remaining_time": 1.247928347
                      },
                      {
                        "learn": [
                          0.005652478583
                        ],
                        "iteration": 469,
                        "passed_time": 1.104564308,
                        "remaining_time": 1.245572518
                      },
                      {
                        "learn": [
                          0.005644123768
                        ],
                        "iteration": 470,
                        "passed_time": 1.105861341,
                        "remaining_time": 1.242039595
                      },
                      {
                        "learn": [
                          0.005637907661
                        ],
                        "iteration": 471,
                        "passed_time": 1.110882796,
                        "remaining_time": 1.24268245
                      },
                      {
                        "learn": [
                          0.005629680393
                        ],
                        "iteration": 472,
                        "passed_time": 1.113207053,
                        "remaining_time": 1.24029623
                      },
                      {
                        "learn": [
                          0.005621775808
                        ],
                        "iteration": 473,
                        "passed_time": 1.125123528,
                        "remaining_time": 1.248554801
                      },
                      {
                        "learn": [
                          0.005618748628
                        ],
                        "iteration": 474,
                        "passed_time": 1.127502691,
                        "remaining_time": 1.246187185
                      },
                      {
                        "learn": [
                          0.005608749705
                        ],
                        "iteration": 475,
                        "passed_time": 1.129733441,
                        "remaining_time": 1.243656141
                      },
                      {
                        "learn": [
                          0.005599216097
                        ],
                        "iteration": 476,
                        "passed_time": 1.136066968,
                        "remaining_time": 1.245624789
                      },
                      {
                        "learn": [
                          0.005596306815
                        ],
                        "iteration": 477,
                        "passed_time": 1.141284557,
                        "remaining_time": 1.24634004
                      },
                      {
                        "learn": [
                          0.005595405532
                        ],
                        "iteration": 478,
                        "passed_time": 1.143779637,
                        "remaining_time": 1.244069292
                      },
                      {
                        "learn": [
                          0.005588684691
                        ],
                        "iteration": 479,
                        "passed_time": 1.147583996,
                        "remaining_time": 1.243215995
                      },
                      {
                        "learn": [
                          0.005587650099
                        ],
                        "iteration": 480,
                        "passed_time": 1.151953144,
                        "remaining_time": 1.242959837
                      },
                      {
                        "learn": [
                          0.005582801485
                        ],
                        "iteration": 481,
                        "passed_time": 1.155035623,
                        "remaining_time": 1.241303844
                      },
                      {
                        "learn": [
                          0.005581799205
                        ],
                        "iteration": 482,
                        "passed_time": 1.157215348,
                        "remaining_time": 1.238675642
                      },
                      {
                        "learn": [
                          0.005580828443
                        ],
                        "iteration": 483,
                        "passed_time": 1.163677137,
                        "remaining_time": 1.240614469
                      },
                      {
                        "learn": [
                          0.005574357374
                        ],
                        "iteration": 484,
                        "passed_time": 1.166034195,
                        "remaining_time": 1.238160021
                      },
                      {
                        "learn": [
                          0.005569393172
                        ],
                        "iteration": 485,
                        "passed_time": 1.172736434,
                        "remaining_time": 1.240301496
                      },
                      {
                        "learn": [
                          0.005568453459
                        ],
                        "iteration": 486,
                        "passed_time": 1.179485385,
                        "remaining_time": 1.242455857
                      },
                      {
                        "learn": [
                          0.005564563236
                        ],
                        "iteration": 487,
                        "passed_time": 1.181822927,
                        "remaining_time": 1.239945366
                      },
                      {
                        "learn": [
                          0.005560739103
                        ],
                        "iteration": 488,
                        "passed_time": 1.18831253,
                        "remaining_time": 1.241774444
                      },
                      {
                        "learn": [
                          0.005557380704
                        ],
                        "iteration": 489,
                        "passed_time": 1.190697516,
                        "remaining_time": 1.239297414
                      },
                      {
                        "learn": [
                          0.005555380193
                        ],
                        "iteration": 490,
                        "passed_time": 1.19729898,
                        "remaining_time": 1.241191814
                      },
                      {
                        "learn": [
                          0.005541535446
                        ],
                        "iteration": 491,
                        "passed_time": 1.199759689,
                        "remaining_time": 1.238776264
                      },
                      {
                        "learn": [
                          0.005532669944
                        ],
                        "iteration": 492,
                        "passed_time": 1.206457374,
                        "remaining_time": 1.240717827
                      },
                      {
                        "learn": [
                          0.005526600055
                        ],
                        "iteration": 493,
                        "passed_time": 1.208798,
                        "remaining_time": 1.238161514
                      },
                      {
                        "learn": [
                          0.005525832385
                        ],
                        "iteration": 494,
                        "passed_time": 1.215352711,
                        "remaining_time": 1.239905291
                      },
                      {
                        "learn": [
                          0.005524937229
                        ],
                        "iteration": 495,
                        "passed_time": 1.217650874,
                        "remaining_time": 1.237290404
                      },
                      {
                        "learn": [
                          0.005524069523
                        ],
                        "iteration": 496,
                        "passed_time": 1.224304128,
                        "remaining_time": 1.23908446
                      },
                      {
                        "learn": [
                          0.005515846614
                        ],
                        "iteration": 497,
                        "passed_time": 1.226680257,
                        "remaining_time": 1.236533111
                      },
                      {
                        "learn": [
                          0.005513860928
                        ],
                        "iteration": 498,
                        "passed_time": 1.233491768,
                        "remaining_time": 1.238435623
                      },
                      {
                        "learn": [
                          0.005509436003
                        ],
                        "iteration": 499,
                        "passed_time": 1.235954422,
                        "remaining_time": 1.235954422
                      },
                      {
                        "learn": [
                          0.005508607842
                        ],
                        "iteration": 500,
                        "passed_time": 1.248068441,
                        "remaining_time": 1.243086132
                      },
                      {
                        "learn": [
                          0.005507951918
                        ],
                        "iteration": 501,
                        "passed_time": 1.250491332,
                        "remaining_time": 1.240527258
                      },
                      {
                        "learn": [
                          0.005504987528
                        ],
                        "iteration": 502,
                        "passed_time": 1.258263988,
                        "remaining_time": 1.243254875
                      },
                      {
                        "learn": [
                          0.005503924214
                        ],
                        "iteration": 503,
                        "passed_time": 1.260497796,
                        "remaining_time": 1.240489894
                      },
                      {
                        "learn": [
                          0.005496932836
                        ],
                        "iteration": 504,
                        "passed_time": 1.262371848,
                        "remaining_time": 1.237374385
                      },
                      {
                        "learn": [
                          0.005490274143
                        ],
                        "iteration": 505,
                        "passed_time": 1.263545585,
                        "remaining_time": 1.233580077
                      },
                      {
                        "learn": [
                          0.005485562385
                        ],
                        "iteration": 506,
                        "passed_time": 1.266115111,
                        "remaining_time": 1.231153353
                      },
                      {
                        "learn": [
                          0.005485244205
                        ],
                        "iteration": 507,
                        "passed_time": 1.268670608,
                        "remaining_time": 1.228712478
                      },
                      {
                        "learn": [
                          0.005480666453
                        ],
                        "iteration": 508,
                        "passed_time": 1.27101641,
                        "remaining_time": 1.226068874
                      },
                      {
                        "learn": [
                          0.00547398361
                        ],
                        "iteration": 509,
                        "passed_time": 1.274282158,
                        "remaining_time": 1.224310309
                      },
                      {
                        "learn": [
                          0.005473227189
                        ],
                        "iteration": 510,
                        "passed_time": 1.27561163,
                        "remaining_time": 1.22069293
                      },
                      {
                        "learn": [
                          0.005465602662
                        ],
                        "iteration": 511,
                        "passed_time": 1.27691861,
                        "remaining_time": 1.21706305
                      },
                      {
                        "learn": [
                          0.005460090092
                        ],
                        "iteration": 512,
                        "passed_time": 1.278331878,
                        "remaining_time": 1.213543128
                      },
                      {
                        "learn": [
                          0.005459673997
                        ],
                        "iteration": 513,
                        "passed_time": 1.280150154,
                        "remaining_time": 1.210414348
                      },
                      {
                        "learn": [
                          0.005456132874
                        ],
                        "iteration": 514,
                        "passed_time": 1.281758502,
                        "remaining_time": 1.207092958
                      },
                      {
                        "learn": [
                          0.005454090491
                        ],
                        "iteration": 515,
                        "passed_time": 1.282966741,
                        "remaining_time": 1.203402912
                      },
                      {
                        "learn": [
                          0.005453781264
                        ],
                        "iteration": 516,
                        "passed_time": 1.284785949,
                        "remaining_time": 1.200293256
                      },
                      {
                        "learn": [
                          0.00545347894
                        ],
                        "iteration": 517,
                        "passed_time": 1.288838807,
                        "remaining_time": 1.199266998
                      },
                      {
                        "learn": [
                          0.005453183352
                        ],
                        "iteration": 518,
                        "passed_time": 1.290596965,
                        "remaining_time": 1.19610239
                      },
                      {
                        "learn": [
                          0.005450666552
                        ],
                        "iteration": 519,
                        "passed_time": 1.293468233,
                        "remaining_time": 1.193970676
                      },
                      {
                        "learn": [
                          0.005436603551
                        ],
                        "iteration": 520,
                        "passed_time": 1.294717604,
                        "remaining_time": 1.190344976
                      },
                      {
                        "learn": [
                          0.005436273725
                        ],
                        "iteration": 521,
                        "passed_time": 1.295868352,
                        "remaining_time": 1.18663807
                      },
                      {
                        "learn": [
                          0.005435596413
                        ],
                        "iteration": 522,
                        "passed_time": 1.297007649,
                        "remaining_time": 1.182930494
                      },
                      {
                        "learn": [
                          0.005432162248
                        ],
                        "iteration": 523,
                        "passed_time": 1.298229666,
                        "remaining_time": 1.179307865
                      },
                      {
                        "learn": [
                          0.00542544383
                        ],
                        "iteration": 524,
                        "passed_time": 1.299539556,
                        "remaining_time": 1.175773884
                      },
                      {
                        "learn": [
                          0.005416272611
                        ],
                        "iteration": 525,
                        "passed_time": 1.300685205,
                        "remaining_time": 1.172100356
                      },
                      {
                        "learn": [
                          0.005415613581
                        ],
                        "iteration": 526,
                        "passed_time": 1.301797574,
                        "remaining_time": 1.168406551
                      },
                      {
                        "learn": [
                          0.005411996797
                        ],
                        "iteration": 527,
                        "passed_time": 1.302947258,
                        "remaining_time": 1.164755882
                      },
                      {
                        "learn": [
                          0.005409261365
                        ],
                        "iteration": 528,
                        "passed_time": 1.304158374,
                        "remaining_time": 1.161169365
                      },
                      {
                        "learn": [
                          0.005404121297
                        ],
                        "iteration": 529,
                        "passed_time": 1.30530514,
                        "remaining_time": 1.157534747
                      },
                      {
                        "learn": [
                          0.00540206576
                        ],
                        "iteration": 530,
                        "passed_time": 1.306489635,
                        "remaining_time": 1.153942822
                      },
                      {
                        "learn": [
                          0.005398139044
                        ],
                        "iteration": 531,
                        "passed_time": 1.307651068,
                        "remaining_time": 1.150339661
                      },
                      {
                        "learn": [
                          0.005396462329
                        ],
                        "iteration": 532,
                        "passed_time": 1.308788016,
                        "remaining_time": 1.146724209
                      },
                      {
                        "learn": [
                          0.005395818856
                        ],
                        "iteration": 533,
                        "passed_time": 1.309905808,
                        "remaining_time": 1.143101323
                      },
                      {
                        "learn": [
                          0.005392268992
                        ],
                        "iteration": 534,
                        "passed_time": 1.311065289,
                        "remaining_time": 1.139524036
                      },
                      {
                        "learn": [
                          0.005387377096
                        ],
                        "iteration": 535,
                        "passed_time": 1.312219025,
                        "remaining_time": 1.135950798
                      },
                      {
                        "learn": [
                          0.005387108294
                        ],
                        "iteration": 536,
                        "passed_time": 1.313357009,
                        "remaining_time": 1.132372989
                      },
                      {
                        "learn": [
                          0.00537831662
                        ],
                        "iteration": 537,
                        "passed_time": 1.31449131,
                        "remaining_time": 1.128801088
                      },
                      {
                        "learn": [
                          0.005375688403
                        ],
                        "iteration": 538,
                        "passed_time": 1.315695554,
                        "remaining_time": 1.125298053
                      },
                      {
                        "learn": [
                          0.005371064018
                        ],
                        "iteration": 539,
                        "passed_time": 1.316874174,
                        "remaining_time": 1.121781704
                      },
                      {
                        "learn": [
                          0.005363623994
                        ],
                        "iteration": 540,
                        "passed_time": 1.317988091,
                        "remaining_time": 1.118219101
                      },
                      {
                        "learn": [
                          0.005363362856
                        ],
                        "iteration": 541,
                        "passed_time": 1.319147629,
                        "remaining_time": 1.114704085
                      },
                      {
                        "learn": [
                          0.005349423238
                        ],
                        "iteration": 542,
                        "passed_time": 1.320268086,
                        "remaining_time": 1.111164853
                      },
                      {
                        "learn": [
                          0.00533900902
                        ],
                        "iteration": 543,
                        "passed_time": 1.321495304,
                        "remaining_time": 1.107724005
                      },
                      {
                        "learn": [
                          0.005333384322
                        ],
                        "iteration": 544,
                        "passed_time": 1.322636139,
                        "remaining_time": 1.104219162
                      },
                      {
                        "learn": [
                          0.005332764677
                        ],
                        "iteration": 545,
                        "passed_time": 1.323742615,
                        "remaining_time": 1.100694409
                      },
                      {
                        "learn": [
                          0.005327312334
                        ],
                        "iteration": 546,
                        "passed_time": 1.324875855,
                        "remaining_time": 1.097200663
                      },
                      {
                        "learn": [
                          0.005324210211
                        ],
                        "iteration": 547,
                        "passed_time": 1.326335353,
                        "remaining_time": 1.093984634
                      },
                      {
                        "learn": [
                          0.005320906977
                        ],
                        "iteration": 548,
                        "passed_time": 1.327544432,
                        "remaining_time": 1.090569288
                      },
                      {
                        "learn": [
                          0.005320303578
                        ],
                        "iteration": 549,
                        "passed_time": 1.328752858,
                        "remaining_time": 1.087161429
                      },
                      {
                        "learn": [
                          0.005310505134
                        ],
                        "iteration": 550,
                        "passed_time": 1.329910761,
                        "remaining_time": 1.083720384
                      },
                      {
                        "learn": [
                          0.005304199516
                        ],
                        "iteration": 551,
                        "passed_time": 1.331241262,
                        "remaining_time": 1.080427691
                      },
                      {
                        "learn": [
                          0.005299419706
                        ],
                        "iteration": 552,
                        "passed_time": 1.332374107,
                        "remaining_time": 1.076982325
                      },
                      {
                        "learn": [
                          0.005298832958
                        ],
                        "iteration": 553,
                        "passed_time": 1.333503777,
                        "remaining_time": 1.073542752
                      },
                      {
                        "learn": [
                          0.005297982306
                        ],
                        "iteration": 554,
                        "passed_time": 1.334641861,
                        "remaining_time": 1.070118249
                      },
                      {
                        "learn": [
                          0.005292458687
                        ],
                        "iteration": 555,
                        "passed_time": 1.335790933,
                        "remaining_time": 1.066710745
                      },
                      {
                        "learn": [
                          0.005279992468
                        ],
                        "iteration": 556,
                        "passed_time": 1.336921574,
                        "remaining_time": 1.063296691
                      },
                      {
                        "learn": [
                          0.005275214021
                        ],
                        "iteration": 557,
                        "passed_time": 1.33808404,
                        "remaining_time": 1.059916032
                      },
                      {
                        "learn": [
                          0.005270059127
                        ],
                        "iteration": 558,
                        "passed_time": 1.3392212,
                        "remaining_time": 1.056523343
                      },
                      {
                        "learn": [
                          0.005266067667
                        ],
                        "iteration": 559,
                        "passed_time": 1.340365717,
                        "remaining_time": 1.053144492
                      },
                      {
                        "learn": [
                          0.005258183673
                        ],
                        "iteration": 560,
                        "passed_time": 1.341507982,
                        "remaining_time": 1.049771843
                      },
                      {
                        "learn": [
                          0.005246208415
                        ],
                        "iteration": 561,
                        "passed_time": 1.342627141,
                        "remaining_time": 1.046389124
                      },
                      {
                        "learn": [
                          0.005245956155
                        ],
                        "iteration": 562,
                        "passed_time": 1.343824241,
                        "remaining_time": 1.043074944
                      },
                      {
                        "learn": [
                          0.005237004895
                        ],
                        "iteration": 563,
                        "passed_time": 1.344981987,
                        "remaining_time": 1.039737848
                      },
                      {
                        "learn": [
                          0.005231700477
                        ],
                        "iteration": 564,
                        "passed_time": 1.346199394,
                        "remaining_time": 1.036454401
                      },
                      {
                        "learn": [
                          0.005227256307
                        ],
                        "iteration": 565,
                        "passed_time": 1.347490626,
                        "remaining_time": 1.033234862
                      },
                      {
                        "learn": [
                          0.005221095859
                        ],
                        "iteration": 566,
                        "passed_time": 1.348627134,
                        "remaining_time": 1.029903967
                      },
                      {
                        "learn": [
                          0.005217732496
                        ],
                        "iteration": 567,
                        "passed_time": 1.349862643,
                        "remaining_time": 1.026656095
                      },
                      {
                        "learn": [
                          0.005212496707
                        ],
                        "iteration": 568,
                        "passed_time": 1.351027339,
                        "remaining_time": 1.023361657
                      },
                      {
                        "learn": [
                          0.005207500361
                        ],
                        "iteration": 569,
                        "passed_time": 1.352259379,
                        "remaining_time": 1.020125496
                      },
                      {
                        "learn": [
                          0.005203207482
                        ],
                        "iteration": 570,
                        "passed_time": 1.353400533,
                        "remaining_time": 1.016828071
                      },
                      {
                        "learn": [
                          0.005199028941
                        ],
                        "iteration": 571,
                        "passed_time": 1.354653756,
                        "remaining_time": 1.013622041
                      },
                      {
                        "learn": [
                          0.005196684873
                        ],
                        "iteration": 572,
                        "passed_time": 1.355804141,
                        "remaining_time": 1.010346192
                      },
                      {
                        "learn": [
                          0.005196134681
                        ],
                        "iteration": 573,
                        "passed_time": 1.356915065,
                        "remaining_time": 1.007048463
                      },
                      {
                        "learn": [
                          0.005190198398
                        ],
                        "iteration": 574,
                        "passed_time": 1.358151045,
                        "remaining_time": 1.003850772
                      },
                      {
                        "learn": [
                          0.005178757319
                        ],
                        "iteration": 575,
                        "passed_time": 1.35930668,
                        "remaining_time": 1.000600751
                      },
                      {
                        "learn": [
                          0.005173683322
                        ],
                        "iteration": 576,
                        "passed_time": 1.360462358,
                        "remaining_time": 0.99735802
                      },
                      {
                        "learn": [
                          0.005170877119
                        ],
                        "iteration": 577,
                        "passed_time": 1.361669208,
                        "remaining_time": 0.9941598716
                      },
                      {
                        "learn": [
                          0.005169030135
                        ],
                        "iteration": 578,
                        "passed_time": 1.362881992,
                        "remaining_time": 0.9909729165
                      },
                      {
                        "learn": [
                          0.005165010399
                        ],
                        "iteration": 579,
                        "passed_time": 1.364315177,
                        "remaining_time": 0.9879523699
                      },
                      {
                        "learn": [
                          0.0051593197
                        ],
                        "iteration": 580,
                        "passed_time": 1.365564396,
                        "remaining_time": 0.9848046159
                      },
                      {
                        "learn": [
                          0.005157452574
                        ],
                        "iteration": 581,
                        "passed_time": 1.366765798,
                        "remaining_time": 0.981629044
                      },
                      {
                        "learn": [
                          0.005156914095
                        ],
                        "iteration": 582,
                        "passed_time": 1.367899993,
                        "remaining_time": 0.9784121731
                      },
                      {
                        "learn": [
                          0.00514792962
                        ],
                        "iteration": 583,
                        "passed_time": 1.369195619,
                        "remaining_time": 0.975317427
                      },
                      {
                        "learn": [
                          0.005144660778
                        ],
                        "iteration": 584,
                        "passed_time": 1.370349504,
                        "remaining_time": 0.9721282804
                      },
                      {
                        "learn": [
                          0.005144136913
                        ],
                        "iteration": 585,
                        "passed_time": 1.371587524,
                        "remaining_time": 0.9690055207
                      },
                      {
                        "learn": [
                          0.005136364994
                        ],
                        "iteration": 586,
                        "passed_time": 1.372850474,
                        "remaining_time": 0.9659067222
                      },
                      {
                        "learn": [
                          0.005136146336
                        ],
                        "iteration": 587,
                        "passed_time": 1.374016727,
                        "remaining_time": 0.9627464143
                      },
                      {
                        "learn": [
                          0.005134595319
                        ],
                        "iteration": 588,
                        "passed_time": 1.375469761,
                        "remaining_time": 0.9597929914
                      },
                      {
                        "learn": [
                          0.005126091932
                        ],
                        "iteration": 589,
                        "passed_time": 1.376708596,
                        "remaining_time": 0.9566958038
                      },
                      {
                        "learn": [
                          0.005117971728
                        ],
                        "iteration": 590,
                        "passed_time": 1.377864231,
                        "remaining_time": 0.9535473273
                      },
                      {
                        "learn": [
                          0.00511502916
                        ],
                        "iteration": 591,
                        "passed_time": 1.379115788,
                        "remaining_time": 0.9504716916
                      },
                      {
                        "learn": [
                          0.005112996098
                        ],
                        "iteration": 592,
                        "passed_time": 1.380329381,
                        "remaining_time": 0.9473761519
                      },
                      {
                        "learn": [
                          0.005110697689
                        ],
                        "iteration": 593,
                        "passed_time": 1.381470794,
                        "remaining_time": 0.9442376133
                      },
                      {
                        "learn": [
                          0.005104710775
                        ],
                        "iteration": 594,
                        "passed_time": 1.382687403,
                        "remaining_time": 0.9411569718
                      },
                      {
                        "learn": [
                          0.005102354295
                        ],
                        "iteration": 595,
                        "passed_time": 1.383922675,
                        "remaining_time": 0.9380952361
                      },
                      {
                        "learn": [
                          0.005101861806
                        ],
                        "iteration": 596,
                        "passed_time": 1.385104907,
                        "remaining_time": 0.9350038151
                      },
                      {
                        "learn": [
                          0.00509488361
                        ],
                        "iteration": 597,
                        "passed_time": 1.386320391,
                        "remaining_time": 0.9319411321
                      },
                      {
                        "learn": [
                          0.005091701162
                        ],
                        "iteration": 598,
                        "passed_time": 1.387551816,
                        "remaining_time": 0.9288952892
                      },
                      {
                        "learn": [
                          0.005087812855
                        ],
                        "iteration": 599,
                        "passed_time": 1.388807541,
                        "remaining_time": 0.9258716939
                      },
                      {
                        "learn": [
                          0.005079987062
                        ],
                        "iteration": 600,
                        "passed_time": 1.390020742,
                        "remaining_time": 0.9228257506
                      },
                      {
                        "learn": [
                          0.005075781262
                        ],
                        "iteration": 601,
                        "passed_time": 1.391166588,
                        "remaining_time": 0.9197413655
                      },
                      {
                        "learn": [
                          0.005065672054
                        ],
                        "iteration": 602,
                        "passed_time": 1.392441837,
                        "remaining_time": 0.9167486055
                      },
                      {
                        "learn": [
                          0.005057541114
                        ],
                        "iteration": 603,
                        "passed_time": 1.393594062,
                        "remaining_time": 0.9136808754
                      },
                      {
                        "learn": [
                          0.005055551804
                        ],
                        "iteration": 604,
                        "passed_time": 1.39473683,
                        "remaining_time": 0.9106133025
                      },
                      {
                        "learn": [
                          0.005049669396
                        ],
                        "iteration": 605,
                        "passed_time": 1.395948011,
                        "remaining_time": 0.9075965618
                      },
                      {
                        "learn": [
                          0.00504918611
                        ],
                        "iteration": 606,
                        "passed_time": 1.39713862,
                        "remaining_time": 0.9045724509
                      },
                      {
                        "learn": [
                          0.005045167441
                        ],
                        "iteration": 607,
                        "passed_time": 1.398253255,
                        "remaining_time": 0.9015053881
                      },
                      {
                        "learn": [
                          0.005044697553
                        ],
                        "iteration": 608,
                        "passed_time": 1.39935358,
                        "remaining_time": 0.8984355499
                      },
                      {
                        "learn": [
                          0.005036248156
                        ],
                        "iteration": 609,
                        "passed_time": 1.40047845,
                        "remaining_time": 0.8953878615
                      },
                      {
                        "learn": [
                          0.005028802783
                        ],
                        "iteration": 610,
                        "passed_time": 1.401598261,
                        "remaining_time": 0.8923432461
                      },
                      {
                        "learn": [
                          0.005027111425
                        ],
                        "iteration": 611,
                        "passed_time": 1.402723853,
                        "remaining_time": 0.8893085868
                      },
                      {
                        "learn": [
                          0.005026658498
                        ],
                        "iteration": 612,
                        "passed_time": 1.403852707,
                        "remaining_time": 0.8862822149
                      },
                      {
                        "learn": [
                          0.00501964865
                        ],
                        "iteration": 613,
                        "passed_time": 1.404976967,
                        "remaining_time": 0.8832591353
                      },
                      {
                        "learn": [
                          0.005013171657
                        ],
                        "iteration": 614,
                        "passed_time": 1.406197276,
                        "remaining_time": 0.88030236
                      },
                      {
                        "learn": [
                          0.005009783174
                        ],
                        "iteration": 615,
                        "passed_time": 1.407359693,
                        "remaining_time": 0.8773151333
                      },
                      {
                        "learn": [
                          0.005008492207
                        ],
                        "iteration": 616,
                        "passed_time": 1.408491897,
                        "remaining_time": 0.8743150676
                      },
                      {
                        "learn": [
                          0.005005041234
                        ],
                        "iteration": 617,
                        "passed_time": 1.409649059,
                        "remaining_time": 0.8713364731
                      },
                      {
                        "learn": [
                          0.005004600804
                        ],
                        "iteration": 618,
                        "passed_time": 1.410808157,
                        "remaining_time": 0.8683649563
                      },
                      {
                        "learn": [
                          0.004997559028
                        ],
                        "iteration": 619,
                        "passed_time": 1.412047556,
                        "remaining_time": 0.8654485023
                      },
                      {
                        "learn": [
                          0.004996209998
                        ],
                        "iteration": 620,
                        "passed_time": 1.413229748,
                        "remaining_time": 0.8625025352
                      },
                      {
                        "learn": [
                          0.004992611268
                        ],
                        "iteration": 621,
                        "passed_time": 1.414418661,
                        "remaining_time": 0.8595663243
                      },
                      {
                        "learn": [
                          0.004986672113
                        ],
                        "iteration": 622,
                        "passed_time": 1.415537474,
                        "remaining_time": 0.8565933027
                      },
                      {
                        "learn": [
                          0.00497756207
                        ],
                        "iteration": 623,
                        "passed_time": 1.416779406,
                        "remaining_time": 0.8537004115
                      },
                      {
                        "learn": [
                          0.004973589487
                        ],
                        "iteration": 624,
                        "passed_time": 1.417920751,
                        "remaining_time": 0.8507524506
                      },
                      {
                        "learn": [
                          0.00497060432
                        ],
                        "iteration": 625,
                        "passed_time": 1.419048029,
                        "remaining_time": 0.8478018576
                      },
                      {
                        "learn": [
                          0.004964533464
                        ],
                        "iteration": 626,
                        "passed_time": 1.420260353,
                        "remaining_time": 0.8449076742
                      },
                      {
                        "learn": [
                          0.004960765522
                        ],
                        "iteration": 627,
                        "passed_time": 1.421389738,
                        "remaining_time": 0.8419697174
                      },
                      {
                        "learn": [
                          0.00495131876
                        ],
                        "iteration": 628,
                        "passed_time": 1.422514787,
                        "remaining_time": 0.839034954
                      },
                      {
                        "learn": [
                          0.004947025805
                        ],
                        "iteration": 629,
                        "passed_time": 1.423733457,
                        "remaining_time": 0.8361609194
                      },
                      {
                        "learn": [
                          0.00493982687
                        ],
                        "iteration": 630,
                        "passed_time": 1.424871346,
                        "remaining_time": 0.833244892
                      },
                      {
                        "learn": [
                          0.004931495591
                        ],
                        "iteration": 631,
                        "passed_time": 1.42600249,
                        "remaining_time": 0.8303305638
                      },
                      {
                        "learn": [
                          0.004925955791
                        ],
                        "iteration": 632,
                        "passed_time": 1.427126922,
                        "remaining_time": 0.8274179784
                      },
                      {
                        "learn": [
                          0.004923160042
                        ],
                        "iteration": 633,
                        "passed_time": 1.428378381,
                        "remaining_time": 0.8245843649
                      },
                      {
                        "learn": [
                          0.004921441729
                        ],
                        "iteration": 634,
                        "passed_time": 1.429538071,
                        "remaining_time": 0.821702986
                      },
                      {
                        "learn": [
                          0.004921009692
                        ],
                        "iteration": 635,
                        "passed_time": 1.430683108,
                        "remaining_time": 0.8188186342
                      },
                      {
                        "learn": [
                          0.004918835142
                        ],
                        "iteration": 636,
                        "passed_time": 1.431910388,
                        "remaining_time": 0.8159866102
                      },
                      {
                        "learn": [
                          0.004913456616
                        ],
                        "iteration": 637,
                        "passed_time": 1.433039201,
                        "remaining_time": 0.8131037475
                      },
                      {
                        "learn": [
                          0.004908244436
                        ],
                        "iteration": 638,
                        "passed_time": 1.434277044,
                        "remaining_time": 0.8102879703
                      },
                      {
                        "learn": [
                          0.004907459332
                        ],
                        "iteration": 639,
                        "passed_time": 1.435485909,
                        "remaining_time": 0.807460824
                      },
                      {
                        "learn": [
                          0.004907044904
                        ],
                        "iteration": 640,
                        "passed_time": 1.436592238,
                        "remaining_time": 0.8045813005
                      },
                      {
                        "learn": [
                          0.00490291804
                        ],
                        "iteration": 641,
                        "passed_time": 1.437789901,
                        "remaining_time": 0.8017582312
                      },
                      {
                        "learn": [
                          0.004897843941
                        ],
                        "iteration": 642,
                        "passed_time": 1.439020538,
                        "remaining_time": 0.7989585258
                      },
                      {
                        "learn": [
                          0.004894573839
                        ],
                        "iteration": 643,
                        "passed_time": 1.440138225,
                        "remaining_time": 0.7961012549
                      },
                      {
                        "learn": [
                          0.004891008101
                        ],
                        "iteration": 644,
                        "passed_time": 1.44127729,
                        "remaining_time": 0.7932611443
                      },
                      {
                        "learn": [
                          0.004884373156
                        ],
                        "iteration": 645,
                        "passed_time": 1.442405331,
                        "remaining_time": 0.7904202588
                      },
                      {
                        "learn": [
                          0.004880443098
                        ],
                        "iteration": 646,
                        "passed_time": 1.443550605,
                        "remaining_time": 0.7875940702
                      },
                      {
                        "learn": [
                          0.004878969749
                        ],
                        "iteration": 647,
                        "passed_time": 1.44473874,
                        "remaining_time": 0.7847963527
                      },
                      {
                        "learn": [
                          0.004876497276
                        ],
                        "iteration": 648,
                        "passed_time": 1.445859941,
                        "remaining_time": 0.781967395
                      },
                      {
                        "learn": [
                          0.004873000403
                        ],
                        "iteration": 649,
                        "passed_time": 1.446995371,
                        "remaining_time": 0.7791513534
                      },
                      {
                        "learn": [
                          0.004867076072
                        ],
                        "iteration": 650,
                        "passed_time": 1.448131653,
                        "remaining_time": 0.7763409322
                      },
                      {
                        "learn": [
                          0.004862478888
                        ],
                        "iteration": 651,
                        "passed_time": 1.449544044,
                        "remaining_time": 0.7736830172
                      },
                      {
                        "learn": [
                          0.004859250485
                        ],
                        "iteration": 652,
                        "passed_time": 1.450675247,
                        "remaining_time": 0.7708794958
                      },
                      {
                        "learn": [
                          0.00485775147
                        ],
                        "iteration": 653,
                        "passed_time": 1.451914969,
                        "remaining_time": 0.7681385003
                      },
                      {
                        "learn": [
                          0.004853008196
                        ],
                        "iteration": 654,
                        "passed_time": 1.453047311,
                        "remaining_time": 0.7653455302
                      },
                      {
                        "learn": [
                          0.004852350906
                        ],
                        "iteration": 655,
                        "passed_time": 1.454217302,
                        "remaining_time": 0.7625773657
                      },
                      {
                        "learn": [
                          0.004849989227
                        ],
                        "iteration": 656,
                        "passed_time": 1.45536234,
                        "remaining_time": 0.7598010388
                      },
                      {
                        "learn": [
                          0.0048472575
                        ],
                        "iteration": 657,
                        "passed_time": 1.456497189,
                        "remaining_time": 0.7570243749
                      },
                      {
                        "learn": [
                          0.004839552235
                        ],
                        "iteration": 658,
                        "passed_time": 1.457644328,
                        "remaining_time": 0.7542590529
                      },
                      {
                        "learn": [
                          0.004835010947
                        ],
                        "iteration": 659,
                        "passed_time": 1.458822168,
                        "remaining_time": 0.7515144499
                      },
                      {
                        "learn": [
                          0.00483103892
                        ],
                        "iteration": 660,
                        "passed_time": 1.459982062,
                        "remaining_time": 0.7487653845
                      },
                      {
                        "learn": [
                          0.004829493847
                        ],
                        "iteration": 661,
                        "passed_time": 1.461121556,
                        "remaining_time": 0.7460107039
                      },
                      {
                        "learn": [
                          0.004827977868
                        ],
                        "iteration": 662,
                        "passed_time": 1.462333185,
                        "remaining_time": 0.7432975614
                      },
                      {
                        "learn": [
                          0.00482654361
                        ],
                        "iteration": 663,
                        "passed_time": 1.463538894,
                        "remaining_time": 0.7405859466
                      },
                      {
                        "learn": [
                          0.004824464836
                        ],
                        "iteration": 664,
                        "passed_time": 1.464812529,
                        "remaining_time": 0.7379130787
                      },
                      {
                        "learn": [
                          0.004822487807
                        ],
                        "iteration": 665,
                        "passed_time": 1.466146024,
                        "remaining_time": 0.7352744325
                      },
                      {
                        "learn": [
                          0.004819385152
                        ],
                        "iteration": 666,
                        "passed_time": 1.467352122,
                        "remaining_time": 0.7325760969
                      },
                      {
                        "learn": [
                          0.004812106949
                        ],
                        "iteration": 667,
                        "passed_time": 1.468527115,
                        "remaining_time": 0.72986677
                      },
                      {
                        "learn": [
                          0.004810740521
                        ],
                        "iteration": 668,
                        "passed_time": 1.469661275,
                        "remaining_time": 0.7271418266
                      },
                      {
                        "learn": [
                          0.004809292343
                        ],
                        "iteration": 669,
                        "passed_time": 1.470778145,
                        "remaining_time": 0.7244131164
                      },
                      {
                        "learn": [
                          0.004807891649
                        ],
                        "iteration": 670,
                        "passed_time": 1.471893881,
                        "remaining_time": 0.7216886539
                      },
                      {
                        "learn": [
                          0.004805604464
                        ],
                        "iteration": 671,
                        "passed_time": 1.473086443,
                        "remaining_time": 0.719006478
                      },
                      {
                        "learn": [
                          0.004801698543
                        ],
                        "iteration": 672,
                        "passed_time": 1.474240728,
                        "remaining_time": 0.7163101308
                      },
                      {
                        "learn": [
                          0.004796786244
                        ],
                        "iteration": 673,
                        "passed_time": 1.475407377,
                        "remaining_time": 0.7136243398
                      },
                      {
                        "learn": [
                          0.004790062621
                        ],
                        "iteration": 674,
                        "passed_time": 1.476546057,
                        "remaining_time": 0.7109295828
                      },
                      {
                        "learn": [
                          0.004787074723
                        ],
                        "iteration": 675,
                        "passed_time": 1.477753612,
                        "remaining_time": 0.7082724414
                      },
                      {
                        "learn": [
                          0.004783391169
                        ],
                        "iteration": 676,
                        "passed_time": 1.478880235,
                        "remaining_time": 0.705580969
                      },
                      {
                        "learn": [
                          0.00478071292
                        ],
                        "iteration": 677,
                        "passed_time": 1.480025544,
                        "remaining_time": 0.7029029869
                      },
                      {
                        "learn": [
                          0.004773872787
                        ],
                        "iteration": 678,
                        "passed_time": 1.481189215,
                        "remaining_time": 0.7002382001
                      },
                      {
                        "learn": [
                          0.004766593041
                        ],
                        "iteration": 679,
                        "passed_time": 1.482342933,
                        "remaining_time": 0.6975731449
                      },
                      {
                        "learn": [
                          0.004763539321
                        ],
                        "iteration": 680,
                        "passed_time": 1.48348338,
                        "remaining_time": 0.6949063116
                      },
                      {
                        "learn": [
                          0.004758527091
                        ],
                        "iteration": 681,
                        "passed_time": 1.484636764,
                        "remaining_time": 0.6922499867
                      },
                      {
                        "learn": [
                          0.004755735316
                        ],
                        "iteration": 682,
                        "passed_time": 1.485781433,
                        "remaining_time": 0.6895940181
                      },
                      {
                        "learn": [
                          0.004754796345
                        ],
                        "iteration": 683,
                        "passed_time": 1.487029989,
                        "remaining_time": 0.6869904629
                      },
                      {
                        "learn": [
                          0.004748711534
                        ],
                        "iteration": 684,
                        "passed_time": 1.488160905,
                        "remaining_time": 0.6843367664
                      },
                      {
                        "learn": [
                          0.004746264226
                        ],
                        "iteration": 685,
                        "passed_time": 1.489358966,
                        "remaining_time": 0.6817182439
                      },
                      {
                        "learn": [
                          0.004741775484
                        ],
                        "iteration": 686,
                        "passed_time": 1.490762537,
                        "remaining_time": 0.6791974879
                      },
                      {
                        "learn": [
                          0.004740302675
                        ],
                        "iteration": 687,
                        "passed_time": 1.49206791,
                        "remaining_time": 0.6766354476
                      },
                      {
                        "learn": [
                          0.004738308648
                        ],
                        "iteration": 688,
                        "passed_time": 1.493286499,
                        "remaining_time": 0.6740378828
                      },
                      {
                        "learn": [
                          0.004733799794
                        ],
                        "iteration": 689,
                        "passed_time": 1.494453072,
                        "remaining_time": 0.6714209452
                      },
                      {
                        "learn": [
                          0.00473257799
                        ],
                        "iteration": 690,
                        "passed_time": 1.495678862,
                        "remaining_time": 0.6688346864
                      },
                      {
                        "learn": [
                          0.004723440143
                        ],
                        "iteration": 691,
                        "passed_time": 1.496864288,
                        "remaining_time": 0.6662343942
                      },
                      {
                        "learn": [
                          0.004719074355
                        ],
                        "iteration": 692,
                        "passed_time": 1.497991657,
                        "remaining_time": 0.6636124657
                      },
                      {
                        "learn": [
                          0.004716882515
                        ],
                        "iteration": 693,
                        "passed_time": 1.499131961,
                        "remaining_time": 0.6610005476
                      },
                      {
                        "learn": [
                          0.004707786269
                        ],
                        "iteration": 694,
                        "passed_time": 1.500273478,
                        "remaining_time": 0.6583933968
                      },
                      {
                        "learn": [
                          0.004703898922
                        ],
                        "iteration": 695,
                        "passed_time": 1.501412111,
                        "remaining_time": 0.655789198
                      },
                      {
                        "learn": [
                          0.004699478021
                        ],
                        "iteration": 696,
                        "passed_time": 1.502549636,
                        "remaining_time": 0.6531887228
                      },
                      {
                        "learn": [
                          0.004697189073
                        ],
                        "iteration": 697,
                        "passed_time": 1.503694516,
                        "remaining_time": 0.6505956216
                      },
                      {
                        "learn": [
                          0.00469432485
                        ],
                        "iteration": 698,
                        "passed_time": 1.50488222,
                        "remaining_time": 0.6480251049
                      },
                      {
                        "learn": [
                          0.004691093283
                        ],
                        "iteration": 699,
                        "passed_time": 1.506107996,
                        "remaining_time": 0.6454748555
                      },
                      {
                        "learn": [
                          0.004688068721
                        ],
                        "iteration": 700,
                        "passed_time": 1.507240427,
                        "remaining_time": 0.6428885703
                      },
                      {
                        "learn": [
                          0.004679494297
                        ],
                        "iteration": 701,
                        "passed_time": 1.508363552,
                        "remaining_time": 0.6403024763
                      },
                      {
                        "learn": [
                          0.004676742132
                        ],
                        "iteration": 702,
                        "passed_time": 1.509529948,
                        "remaining_time": 0.6377388258
                      },
                      {
                        "learn": [
                          0.004674840372
                        ],
                        "iteration": 703,
                        "passed_time": 1.510655089,
                        "remaining_time": 0.6351617986
                      },
                      {
                        "learn": [
                          0.004667797769
                        ],
                        "iteration": 704,
                        "passed_time": 1.511783198,
                        "remaining_time": 0.6325901323
                      },
                      {
                        "learn": [
                          0.004666579701
                        ],
                        "iteration": 705,
                        "passed_time": 1.512945252,
                        "remaining_time": 0.6300366913
                      },
                      {
                        "learn": [
                          0.004664172246
                        ],
                        "iteration": 706,
                        "passed_time": 1.514061335,
                        "remaining_time": 0.6274681344
                      },
                      {
                        "learn": [
                          0.0046637927
                        ],
                        "iteration": 707,
                        "passed_time": 1.515166701,
                        "remaining_time": 0.6248992608
                      },
                      {
                        "learn": [
                          0.004655798594
                        ],
                        "iteration": 708,
                        "passed_time": 1.5163435,
                        "remaining_time": 0.6223638344
                      },
                      {
                        "learn": [
                          0.004651260127
                        ],
                        "iteration": 709,
                        "passed_time": 1.517585567,
                        "remaining_time": 0.6198588936
                      },
                      {
                        "learn": [
                          0.004643880943
                        ],
                        "iteration": 710,
                        "passed_time": 1.518740342,
                        "remaining_time": 0.6173220238
                      },
                      {
                        "learn": [
                          0.004642688529
                        ],
                        "iteration": 711,
                        "passed_time": 1.519855627,
                        "remaining_time": 0.6147730626
                      },
                      {
                        "learn": [
                          0.004640932732
                        ],
                        "iteration": 712,
                        "passed_time": 1.521036237,
                        "remaining_time": 0.6122544182
                      },
                      {
                        "learn": [
                          0.004638654985
                        ],
                        "iteration": 713,
                        "passed_time": 1.522156572,
                        "remaining_time": 0.6097153778
                      },
                      {
                        "learn": [
                          0.004635917435
                        ],
                        "iteration": 714,
                        "passed_time": 1.523287137,
                        "remaining_time": 0.6071843832
                      },
                      {
                        "learn": [
                          0.004629779001
                        ],
                        "iteration": 715,
                        "passed_time": 1.524409369,
                        "remaining_time": 0.6046539956
                      },
                      {
                        "learn": [
                          0.004626719264
                        ],
                        "iteration": 716,
                        "passed_time": 1.52554147,
                        "remaining_time": 0.602131431
                      },
                      {
                        "learn": [
                          0.004620034729
                        ],
                        "iteration": 717,
                        "passed_time": 1.526707021,
                        "remaining_time": 0.5996258775
                      },
                      {
                        "learn": [
                          0.004618200966
                        ],
                        "iteration": 718,
                        "passed_time": 1.527871756,
                        "remaining_time": 0.5971237321
                      },
                      {
                        "learn": [
                          0.004615648347
                        ],
                        "iteration": 719,
                        "passed_time": 1.529013852,
                        "remaining_time": 0.5946164982
                      },
                      {
                        "learn": [
                          0.004611440261
                        ],
                        "iteration": 720,
                        "passed_time": 1.530202072,
                        "remaining_time": 0.5921308988
                      },
                      {
                        "learn": [
                          0.004610282856
                        ],
                        "iteration": 721,
                        "passed_time": 1.531319529,
                        "remaining_time": 0.5896216469
                      },
                      {
                        "learn": [
                          0.004607731268
                        ],
                        "iteration": 722,
                        "passed_time": 1.534286194,
                        "remaining_time": 0.5878247242
                      },
                      {
                        "learn": [
                          0.004604607756
                        ],
                        "iteration": 723,
                        "passed_time": 1.53704136,
                        "remaining_time": 0.5859439438
                      },
                      {
                        "learn": [
                          0.004599481418
                        ],
                        "iteration": 724,
                        "passed_time": 1.538576121,
                        "remaining_time": 0.5835978389
                      },
                      {
                        "learn": [
                          0.004593162205
                        ],
                        "iteration": 725,
                        "passed_time": 1.539913083,
                        "remaining_time": 0.581179318
                      },
                      {
                        "learn": [
                          0.004592791727
                        ],
                        "iteration": 726,
                        "passed_time": 1.541187165,
                        "remaining_time": 0.5787401597
                      },
                      {
                        "learn": [
                          0.004588973414
                        ],
                        "iteration": 727,
                        "passed_time": 1.542487919,
                        "remaining_time": 0.5763141676
                      },
                      {
                        "learn": [
                          0.004588214367
                        ],
                        "iteration": 728,
                        "passed_time": 1.543619019,
                        "remaining_time": 0.5738281951
                      },
                      {
                        "learn": [
                          0.004584103234
                        ],
                        "iteration": 729,
                        "passed_time": 1.544889042,
                        "remaining_time": 0.5713973169
                      },
                      {
                        "learn": [
                          0.004579270901
                        ],
                        "iteration": 730,
                        "passed_time": 1.546064248,
                        "remaining_time": 0.5689347233
                      },
                      {
                        "learn": [
                          0.004576413871
                        ],
                        "iteration": 731,
                        "passed_time": 1.547336778,
                        "remaining_time": 0.5665112794
                      },
                      {
                        "learn": [
                          0.004576102645
                        ],
                        "iteration": 732,
                        "passed_time": 1.548467656,
                        "remaining_time": 0.5640393779
                      },
                      {
                        "learn": [
                          0.004573363254
                        ],
                        "iteration": 733,
                        "passed_time": 1.54967002,
                        "remaining_time": 0.5615970371
                      },
                      {
                        "learn": [
                          0.004571680786
                        ],
                        "iteration": 734,
                        "passed_time": 1.550859425,
                        "remaining_time": 0.5591533979
                      },
                      {
                        "learn": [
                          0.004568868324
                        ],
                        "iteration": 735,
                        "passed_time": 1.551991983,
                        "remaining_time": 0.5566927765
                      },
                      {
                        "learn": [
                          0.004565574631
                        ],
                        "iteration": 736,
                        "passed_time": 1.553177036,
                        "remaining_time": 0.5542544919
                      },
                      {
                        "learn": [
                          0.004561619289
                        ],
                        "iteration": 737,
                        "passed_time": 1.554695911,
                        "remaining_time": 0.5519381149
                      },
                      {
                        "learn": [
                          0.004554775394
                        ],
                        "iteration": 738,
                        "passed_time": 1.555889174,
                        "remaining_time": 0.5495088964
                      },
                      {
                        "learn": [
                          0.004553654397
                        ],
                        "iteration": 739,
                        "passed_time": 1.557021822,
                        "remaining_time": 0.5470617213
                      },
                      {
                        "learn": [
                          0.004552433065
                        ],
                        "iteration": 740,
                        "passed_time": 1.558221639,
                        "remaining_time": 0.5446415714
                      },
                      {
                        "learn": [
                          0.00454997915
                        ],
                        "iteration": 741,
                        "passed_time": 1.559369332,
                        "remaining_time": 0.5422065872
                      },
                      {
                        "learn": [
                          0.004545164797
                        ],
                        "iteration": 742,
                        "passed_time": 1.560500427,
                        "remaining_time": 0.5397693265
                      },
                      {
                        "learn": [
                          0.004543680294
                        ],
                        "iteration": 743,
                        "passed_time": 1.561736597,
                        "remaining_time": 0.5373717322
                      },
                      {
                        "learn": [
                          0.004542258953
                        ],
                        "iteration": 744,
                        "passed_time": 1.562945652,
                        "remaining_time": 0.5349679747
                      },
                      {
                        "learn": [
                          0.004535569497
                        ],
                        "iteration": 745,
                        "passed_time": 1.564082468,
                        "remaining_time": 0.5325428241
                      },
                      {
                        "learn": [
                          0.004533824883
                        ],
                        "iteration": 746,
                        "passed_time": 1.565213419,
                        "remaining_time": 0.5301191366
                      },
                      {
                        "learn": [
                          0.004533559093
                        ],
                        "iteration": 747,
                        "passed_time": 1.566373378,
                        "remaining_time": 0.5277086782
                      },
                      {
                        "learn": [
                          0.004531204866
                        ],
                        "iteration": 748,
                        "passed_time": 1.567502831,
                        "remaining_time": 0.5252913358
                      },
                      {
                        "learn": [
                          0.004524692715
                        ],
                        "iteration": 749,
                        "passed_time": 1.568664887,
                        "remaining_time": 0.5228882958
                      },
                      {
                        "learn": [
                          0.004523398854
                        ],
                        "iteration": 750,
                        "passed_time": 1.569790977,
                        "remaining_time": 0.5204766355
                      },
                      {
                        "learn": [
                          0.004517916882
                        ],
                        "iteration": 751,
                        "passed_time": 1.570919645,
                        "remaining_time": 0.5180692447
                      },
                      {
                        "learn": [
                          0.004516291177
                        ],
                        "iteration": 752,
                        "passed_time": 1.57208788,
                        "remaining_time": 0.5156782289
                      },
                      {
                        "learn": [
                          0.004511970727
                        ],
                        "iteration": 753,
                        "passed_time": 1.573252651,
                        "remaining_time": 0.5132893266
                      },
                      {
                        "learn": [
                          0.004506888817
                        ],
                        "iteration": 754,
                        "passed_time": 1.574413187,
                        "remaining_time": 0.5109022925
                      },
                      {
                        "learn": [
                          0.004504571753
                        ],
                        "iteration": 755,
                        "passed_time": 1.576837981,
                        "remaining_time": 0.5089265442
                      },
                      {
                        "learn": [
                          0.00450292069
                        ],
                        "iteration": 756,
                        "passed_time": 1.578245409,
                        "remaining_time": 0.506623031
                      },
                      {
                        "learn": [
                          0.00449917056
                        ],
                        "iteration": 757,
                        "passed_time": 1.579391551,
                        "remaining_time": 0.5042384636
                      },
                      {
                        "learn": [
                          0.004496664461
                        ],
                        "iteration": 758,
                        "passed_time": 1.580548972,
                        "remaining_time": 0.5018607409
                      },
                      {
                        "learn": [
                          0.004496302734
                        ],
                        "iteration": 759,
                        "passed_time": 1.581740734,
                        "remaining_time": 0.4994970739
                      },
                      {
                        "learn": [
                          0.004492832906
                        ],
                        "iteration": 760,
                        "passed_time": 1.582903613,
                        "remaining_time": 0.497127416
                      },
                      {
                        "learn": [
                          0.004486316811
                        ],
                        "iteration": 761,
                        "passed_time": 1.584042007,
                        "remaining_time": 0.4947532779
                      },
                      {
                        "learn": [
                          0.004480199669
                        ],
                        "iteration": 762,
                        "passed_time": 1.585189087,
                        "remaining_time": 0.4923850768
                      },
                      {
                        "learn": [
                          0.00447673773
                        ],
                        "iteration": 763,
                        "passed_time": 1.586332223,
                        "remaining_time": 0.4900188541
                      },
                      {
                        "learn": [
                          0.004475472294
                        ],
                        "iteration": 764,
                        "passed_time": 1.587479788,
                        "remaining_time": 0.4876571899
                      },
                      {
                        "learn": [
                          0.004474078056
                        ],
                        "iteration": 765,
                        "passed_time": 1.588658087,
                        "remaining_time": 0.485308084
                      },
                      {
                        "learn": [
                          0.004473786941
                        ],
                        "iteration": 766,
                        "passed_time": 1.589792443,
                        "remaining_time": 0.4829486822
                      },
                      {
                        "learn": [
                          0.004473505693
                        ],
                        "iteration": 767,
                        "passed_time": 1.590907279,
                        "remaining_time": 0.4805865739
                      },
                      {
                        "learn": [
                          0.004471022577
                        ],
                        "iteration": 768,
                        "passed_time": 1.592051392,
                        "remaining_time": 0.4782365041
                      },
                      {
                        "learn": [
                          0.004468544534
                        ],
                        "iteration": 769,
                        "passed_time": 1.593185237,
                        "remaining_time": 0.4758864994
                      },
                      {
                        "learn": [
                          0.004464811568
                        ],
                        "iteration": 770,
                        "passed_time": 1.59433889,
                        "remaining_time": 0.4735455329
                      },
                      {
                        "learn": [
                          0.004459515154
                        ],
                        "iteration": 771,
                        "passed_time": 1.595483178,
                        "remaining_time": 0.4712048763
                      },
                      {
                        "learn": [
                          0.00445664036
                        ],
                        "iteration": 772,
                        "passed_time": 1.596621186,
                        "remaining_time": 0.4688654712
                      },
                      {
                        "learn": [
                          0.004455419971
                        ],
                        "iteration": 773,
                        "passed_time": 1.597764262,
                        "remaining_time": 0.4665306501
                      },
                      {
                        "learn": [
                          0.004449423786
                        ],
                        "iteration": 774,
                        "passed_time": 1.598886613,
                        "remaining_time": 0.4641928877
                      },
                      {
                        "learn": [
                          0.00444635324
                        ],
                        "iteration": 775,
                        "passed_time": 1.600007432,
                        "remaining_time": 0.4618578155
                      },
                      {
                        "learn": [
                          0.004444231467
                        ],
                        "iteration": 776,
                        "passed_time": 1.601145901,
                        "remaining_time": 0.4595309344
                      },
                      {
                        "learn": [
                          0.004437343531
                        ],
                        "iteration": 777,
                        "passed_time": 1.602296584,
                        "remaining_time": 0.4572105933
                      },
                      {
                        "learn": [
                          0.004436306503
                        ],
                        "iteration": 778,
                        "passed_time": 1.603618362,
                        "remaining_time": 0.4549417947
                      },
                      {
                        "learn": [
                          0.004431026567
                        ],
                        "iteration": 779,
                        "passed_time": 1.604746434,
                        "remaining_time": 0.4526207891
                      },
                      {
                        "learn": [
                          0.00442568543
                        ],
                        "iteration": 780,
                        "passed_time": 1.605883183,
                        "remaining_time": 0.4503052716
                      },
                      {
                        "learn": [
                          0.004423172349
                        ],
                        "iteration": 781,
                        "passed_time": 1.607002556,
                        "remaining_time": 0.4479879249
                      },
                      {
                        "learn": [
                          0.004415458639
                        ],
                        "iteration": 782,
                        "passed_time": 1.608121103,
                        "remaining_time": 0.445673409
                      },
                      {
                        "learn": [
                          0.00441045945
                        ],
                        "iteration": 783,
                        "passed_time": 1.609275578,
                        "remaining_time": 0.4433718428
                      },
                      {
                        "learn": [
                          0.004407650911
                        ],
                        "iteration": 784,
                        "passed_time": 1.610402017,
                        "remaining_time": 0.4410655204
                      },
                      {
                        "learn": [
                          0.004406070084
                        ],
                        "iteration": 785,
                        "passed_time": 1.611590994,
                        "remaining_time": 0.4387792275
                      },
                      {
                        "learn": [
                          0.004403959054
                        ],
                        "iteration": 786,
                        "passed_time": 1.612694649,
                        "remaining_time": 0.4364726305
                      },
                      {
                        "learn": [
                          0.004401667299
                        ],
                        "iteration": 787,
                        "passed_time": 1.613940733,
                        "remaining_time": 0.4342074053
                      },
                      {
                        "learn": [
                          0.00440120367
                        ],
                        "iteration": 788,
                        "passed_time": 1.615069689,
                        "remaining_time": 0.4319134402
                      },
                      {
                        "learn": [
                          0.004395424954
                        ],
                        "iteration": 789,
                        "passed_time": 1.616197623,
                        "remaining_time": 0.4296221529
                      },
                      {
                        "learn": [
                          0.004393466831
                        ],
                        "iteration": 790,
                        "passed_time": 1.617347016,
                        "remaining_time": 0.427339477
                      },
                      {
                        "learn": [
                          0.004391650435
                        ],
                        "iteration": 791,
                        "passed_time": 1.618541484,
                        "remaining_time": 0.4250715009
                      },
                      {
                        "learn": [
                          0.004390495
                        ],
                        "iteration": 792,
                        "passed_time": 1.61976169,
                        "remaining_time": 0.4228129506
                      },
                      {
                        "learn": [
                          0.004383396155
                        ],
                        "iteration": 793,
                        "passed_time": 1.620899251,
                        "remaining_time": 0.4205355739
                      },
                      {
                        "learn": [
                          0.00437668343
                        ],
                        "iteration": 794,
                        "passed_time": 1.622172757,
                        "remaining_time": 0.4182961197
                      },
                      {
                        "learn": [
                          0.004372670129
                        ],
                        "iteration": 795,
                        "passed_time": 1.623365518,
                        "remaining_time": 0.416038399
                      },
                      {
                        "learn": [
                          0.004372397587
                        ],
                        "iteration": 796,
                        "passed_time": 1.624485277,
                        "remaining_time": 0.4137647569
                      },
                      {
                        "learn": [
                          0.004370669538
                        ],
                        "iteration": 797,
                        "passed_time": 1.625632138,
                        "remaining_time": 0.411500867
                      },
                      {
                        "learn": [
                          0.004368005791
                        ],
                        "iteration": 798,
                        "passed_time": 1.626802583,
                        "remaining_time": 0.4092457061
                      },
                      {
                        "learn": [
                          0.004365165855
                        ],
                        "iteration": 799,
                        "passed_time": 1.628005503,
                        "remaining_time": 0.4070013758
                      },
                      {
                        "learn": [
                          0.004363015156
                        ],
                        "iteration": 800,
                        "passed_time": 1.629121058,
                        "remaining_time": 0.4047379406
                      },
                      {
                        "learn": [
                          0.004360732381
                        ],
                        "iteration": 801,
                        "passed_time": 1.630269019,
                        "remaining_time": 0.4024853688
                      },
                      {
                        "learn": [
                          0.004355830479
                        ],
                        "iteration": 802,
                        "passed_time": 1.631393351,
                        "remaining_time": 0.4002297512
                      },
                      {
                        "learn": [
                          0.004348859826
                        ],
                        "iteration": 803,
                        "passed_time": 1.632672954,
                        "remaining_time": 0.3980147996
                      },
                      {
                        "learn": [
                          0.004347098573
                        ],
                        "iteration": 804,
                        "passed_time": 1.633819593,
                        "remaining_time": 0.3957699635
                      },
                      {
                        "learn": [
                          0.004345172079
                        ],
                        "iteration": 805,
                        "passed_time": 1.635040535,
                        "remaining_time": 0.3935457368
                      },
                      {
                        "learn": [
                          0.004342375215
                        ],
                        "iteration": 806,
                        "passed_time": 1.636221053,
                        "remaining_time": 0.3913143286
                      },
                      {
                        "learn": [
                          0.004340934203
                        ],
                        "iteration": 807,
                        "passed_time": 1.637436024,
                        "remaining_time": 0.3890937086
                      },
                      {
                        "learn": [
                          0.004339220678
                        ],
                        "iteration": 808,
                        "passed_time": 1.63858256,
                        "remaining_time": 0.3868594178
                      },
                      {
                        "learn": [
                          0.004336758384
                        ],
                        "iteration": 809,
                        "passed_time": 1.640793629,
                        "remaining_time": 0.3848775179
                      },
                      {
                        "learn": [
                          0.004336600657
                        ],
                        "iteration": 810,
                        "passed_time": 1.64275164,
                        "remaining_time": 0.3828360788
                      },
                      {
                        "learn": [
                          0.004334344027
                        ],
                        "iteration": 811,
                        "passed_time": 1.644424528,
                        "remaining_time": 0.3807288316
                      },
                      {
                        "learn": [
                          0.004333111263
                        ],
                        "iteration": 812,
                        "passed_time": 1.646158674,
                        "remaining_time": 0.378636743
                      },
                      {
                        "learn": [
                          0.004332936177
                        ],
                        "iteration": 813,
                        "passed_time": 1.649211214,
                        "remaining_time": 0.3768467884
                      },
                      {
                        "learn": [
                          0.004331745447
                        ],
                        "iteration": 814,
                        "passed_time": 1.65102471,
                        "remaining_time": 0.3747724802
                      },
                      {
                        "learn": [
                          0.004326345605
                        ],
                        "iteration": 815,
                        "passed_time": 1.652409986,
                        "remaining_time": 0.3726022517
                      },
                      {
                        "learn": [
                          0.004320508784
                        ],
                        "iteration": 816,
                        "passed_time": 1.653589357,
                        "remaining_time": 0.3703878241
                      },
                      {
                        "learn": [
                          0.004317562003
                        ],
                        "iteration": 817,
                        "passed_time": 1.65496504,
                        "remaining_time": 0.3682196055
                      },
                      {
                        "learn": [
                          0.004313115925
                        ],
                        "iteration": 818,
                        "passed_time": 1.656134269,
                        "remaining_time": 0.3660076957
                      },
                      {
                        "learn": [
                          0.004311904221
                        ],
                        "iteration": 819,
                        "passed_time": 1.657268099,
                        "remaining_time": 0.3637905584
                      },
                      {
                        "learn": [
                          0.004310968738
                        ],
                        "iteration": 820,
                        "passed_time": 1.658457483,
                        "remaining_time": 0.3615881724
                      },
                      {
                        "learn": [
                          0.004308835344
                        ],
                        "iteration": 821,
                        "passed_time": 1.659690656,
                        "remaining_time": 0.3593977332
                      },
                      {
                        "learn": [
                          0.004307340032
                        ],
                        "iteration": 822,
                        "passed_time": 1.660923223,
                        "remaining_time": 0.3572094902
                      },
                      {
                        "learn": [
                          0.004305630688
                        ],
                        "iteration": 823,
                        "passed_time": 1.662116176,
                        "remaining_time": 0.3550151055
                      },
                      {
                        "learn": [
                          0.00430478695
                        ],
                        "iteration": 824,
                        "passed_time": 1.663337884,
                        "remaining_time": 0.3528292482
                      },
                      {
                        "learn": [
                          0.00429905564
                        ],
                        "iteration": 825,
                        "passed_time": 1.664495347,
                        "remaining_time": 0.3506321918
                      },
                      {
                        "learn": [
                          0.004294648857
                        ],
                        "iteration": 826,
                        "passed_time": 1.665683405,
                        "remaining_time": 0.3484440497
                      },
                      {
                        "learn": [
                          0.004294393694
                        ],
                        "iteration": 827,
                        "passed_time": 1.666816331,
                        "remaining_time": 0.3462468706
                      },
                      {
                        "learn": [
                          0.004291992365
                        ],
                        "iteration": 828,
                        "passed_time": 1.667981131,
                        "remaining_time": 0.344058834
                      },
                      {
                        "learn": [
                          0.004288293153
                        ],
                        "iteration": 829,
                        "passed_time": 1.669100785,
                        "remaining_time": 0.3418640162
                      },
                      {
                        "learn": [
                          0.004283959566
                        ],
                        "iteration": 830,
                        "passed_time": 1.670245334,
                        "remaining_time": 0.3396768488
                      },
                      {
                        "learn": [
                          0.004278547645
                        ],
                        "iteration": 831,
                        "passed_time": 1.671453219,
                        "remaining_time": 0.337504977
                      },
                      {
                        "learn": [
                          0.004275711438
                        ],
                        "iteration": 832,
                        "passed_time": 1.67265947,
                        "remaining_time": 0.3353350918
                      },
                      {
                        "learn": [
                          0.004275450171
                        ],
                        "iteration": 833,
                        "passed_time": 1.673767174,
                        "remaining_time": 0.3331479027
                      },
                      {
                        "learn": [
                          0.004272274675
                        ],
                        "iteration": 834,
                        "passed_time": 1.67488461,
                        "remaining_time": 0.3309652223
                      },
                      {
                        "learn": [
                          0.004270300782
                        ],
                        "iteration": 835,
                        "passed_time": 1.676022309,
                        "remaining_time": 0.3287890654
                      },
                      {
                        "learn": [
                          0.004266075907
                        ],
                        "iteration": 836,
                        "passed_time": 1.677210566,
                        "remaining_time": 0.3266252357
                      },
                      {
                        "learn": [
                          0.004262638472
                        ],
                        "iteration": 837,
                        "passed_time": 1.678386914,
                        "remaining_time": 0.324461432
                      },
                      {
                        "learn": [
                          0.004259123587
                        ],
                        "iteration": 838,
                        "passed_time": 1.679596537,
                        "remaining_time": 0.3223063677
                      },
                      {
                        "learn": [
                          0.004257028287
                        ],
                        "iteration": 839,
                        "passed_time": 1.680764055,
                        "remaining_time": 0.3201455344
                      },
                      {
                        "learn": [
                          0.004256262897
                        ],
                        "iteration": 840,
                        "passed_time": 1.681958963,
                        "remaining_time": 0.3179922415
                      },
                      {
                        "learn": [
                          0.004252789541
                        ],
                        "iteration": 841,
                        "passed_time": 1.683069345,
                        "remaining_time": 0.315825364
                      },
                      {
                        "learn": [
                          0.004251833835
                        ],
                        "iteration": 842,
                        "passed_time": 1.684268645,
                        "remaining_time": 0.313677553
                      },
                      {
                        "learn": [
                          0.004251483906
                        ],
                        "iteration": 843,
                        "passed_time": 1.685375685,
                        "remaining_time": 0.311514937
                      },
                      {
                        "learn": [
                          0.004251220409
                        ],
                        "iteration": 844,
                        "passed_time": 1.686477007,
                        "remaining_time": 0.3093537706
                      },
                      {
                        "learn": [
                          0.004250535911
                        ],
                        "iteration": 845,
                        "passed_time": 1.687842301,
                        "remaining_time": 0.3072431612
                      },
                      {
                        "learn": [
                          0.004249368217
                        ],
                        "iteration": 846,
                        "passed_time": 1.689003451,
                        "remaining_time": 0.3050974357
                      },
                      {
                        "learn": [
                          0.004242692662
                        ],
                        "iteration": 847,
                        "passed_time": 1.690428745,
                        "remaining_time": 0.3030013788
                      },
                      {
                        "learn": [
                          0.00424042237
                        ],
                        "iteration": 848,
                        "passed_time": 1.691622342,
                        "remaining_time": 0.3008656933
                      },
                      {
                        "learn": [
                          0.00423850635
                        ],
                        "iteration": 849,
                        "passed_time": 1.692799491,
                        "remaining_time": 0.2987293219
                      },
                      {
                        "learn": [
                          0.004235576941
                        ],
                        "iteration": 850,
                        "passed_time": 1.694128603,
                        "remaining_time": 0.2966218117
                      },
                      {
                        "learn": [
                          0.004231698013
                        ],
                        "iteration": 851,
                        "passed_time": 1.695267367,
                        "remaining_time": 0.2944830637
                      },
                      {
                        "learn": [
                          0.004226927483
                        ],
                        "iteration": 852,
                        "passed_time": 1.696486251,
                        "remaining_time": 0.2923604676
                      },
                      {
                        "learn": [
                          0.004219936452
                        ],
                        "iteration": 853,
                        "passed_time": 1.697772808,
                        "remaining_time": 0.2902515574
                      },
                      {
                        "learn": [
                          0.004216747476
                        ],
                        "iteration": 854,
                        "passed_time": 1.699049835,
                        "remaining_time": 0.2881429545
                      },
                      {
                        "learn": [
                          0.00421218768
                        ],
                        "iteration": 855,
                        "passed_time": 1.700417595,
                        "remaining_time": 0.286051558
                      },
                      {
                        "learn": [
                          0.004208049968
                        ],
                        "iteration": 856,
                        "passed_time": 1.701592439,
                        "remaining_time": 0.2839296601
                      },
                      {
                        "learn": [
                          0.004207196069
                        ],
                        "iteration": 857,
                        "passed_time": 1.702794042,
                        "remaining_time": 0.2818143985
                      },
                      {
                        "learn": [
                          0.004204977148
                        ],
                        "iteration": 858,
                        "passed_time": 1.703958469,
                        "remaining_time": 0.2796951619
                      },
                      {
                        "learn": [
                          0.004201523929
                        ],
                        "iteration": 859,
                        "passed_time": 1.705123504,
                        "remaining_time": 0.2775782448
                      },
                      {
                        "learn": [
                          0.004199342987
                        ],
                        "iteration": 860,
                        "passed_time": 1.706245201,
                        "remaining_time": 0.2754565424
                      },
                      {
                        "learn": [
                          0.00419647837
                        ],
                        "iteration": 861,
                        "passed_time": 1.707474762,
                        "remaining_time": 0.2733544282
                      },
                      {
                        "learn": [
                          0.004190860984
                        ],
                        "iteration": 862,
                        "passed_time": 1.708864921,
                        "remaining_time": 0.271279831
                      },
                      {
                        "learn": [
                          0.00418821742
                        ],
                        "iteration": 863,
                        "passed_time": 1.710052586,
                        "remaining_time": 0.2691749441
                      },
                      {
                        "learn": [
                          0.004187964571
                        ],
                        "iteration": 864,
                        "passed_time": 1.71119576,
                        "remaining_time": 0.2670652342
                      },
                      {
                        "learn": [
                          0.004186601283
                        ],
                        "iteration": 865,
                        "passed_time": 1.712351328,
                        "remaining_time": 0.2649596743
                      },
                      {
                        "learn": [
                          0.00418246936
                        ],
                        "iteration": 866,
                        "passed_time": 1.71354954,
                        "remaining_time": 0.2628628476
                      },
                      {
                        "learn": [
                          0.004181792391
                        ],
                        "iteration": 867,
                        "passed_time": 1.714720767,
                        "remaining_time": 0.2607639876
                      },
                      {
                        "learn": [
                          0.004180600504
                        ],
                        "iteration": 868,
                        "passed_time": 1.715898654,
                        "remaining_time": 0.2586682666
                      },
                      {
                        "learn": [
                          0.004180397595
                        ],
                        "iteration": 869,
                        "passed_time": 1.71709385,
                        "remaining_time": 0.256577242
                      },
                      {
                        "learn": [
                          0.004176876102
                        ],
                        "iteration": 870,
                        "passed_time": 1.718319768,
                        "remaining_time": 0.2544928244
                      },
                      {
                        "learn": [
                          0.00417595593
                        ],
                        "iteration": 871,
                        "passed_time": 1.719745659,
                        "remaining_time": 0.2524397297
                      },
                      {
                        "learn": [
                          0.004169603474
                        ],
                        "iteration": 872,
                        "passed_time": 1.720913361,
                        "remaining_time": 0.2503505119
                      },
                      {
                        "learn": [
                          0.004169406795
                        ],
                        "iteration": 873,
                        "passed_time": 1.72211386,
                        "remaining_time": 0.2482681309
                      },
                      {
                        "learn": [
                          0.004166888533
                        ],
                        "iteration": 874,
                        "passed_time": 1.723376819,
                        "remaining_time": 0.2461966885
                      },
                      {
                        "learn": [
                          0.004164768952
                        ],
                        "iteration": 875,
                        "passed_time": 1.724566791,
                        "remaining_time": 0.2441167604
                      },
                      {
                        "learn": [
                          0.004164578432
                        ],
                        "iteration": 876,
                        "passed_time": 1.72569624,
                        "remaining_time": 0.2420303734
                      },
                      {
                        "learn": [
                          0.00416215149
                        ],
                        "iteration": 877,
                        "passed_time": 1.726832586,
                        "remaining_time": 0.2399471247
                      },
                      {
                        "learn": [
                          0.004159812963
                        ],
                        "iteration": 878,
                        "passed_time": 1.728051583,
                        "remaining_time": 0.2378774079
                      },
                      {
                        "learn": [
                          0.004157867758
                        ],
                        "iteration": 879,
                        "passed_time": 1.729299117,
                        "remaining_time": 0.2358135159
                      },
                      {
                        "learn": [
                          0.004156946554
                        ],
                        "iteration": 880,
                        "passed_time": 1.730488851,
                        "remaining_time": 0.23374367
                      },
                      {
                        "learn": [
                          0.004153935858
                        ],
                        "iteration": 881,
                        "passed_time": 1.73165935,
                        "remaining_time": 0.2316732464
                      },
                      {
                        "learn": [
                          0.004152758987
                        ],
                        "iteration": 882,
                        "passed_time": 1.732855554,
                        "remaining_time": 0.2296082671
                      },
                      {
                        "learn": [
                          0.004151875109
                        ],
                        "iteration": 883,
                        "passed_time": 1.734046779,
                        "remaining_time": 0.2275446
                      },
                      {
                        "learn": [
                          0.004147583136
                        ],
                        "iteration": 884,
                        "passed_time": 1.735227829,
                        "remaining_time": 0.2254815823
                      },
                      {
                        "learn": [
                          0.004145871367
                        ],
                        "iteration": 885,
                        "passed_time": 1.73644283,
                        "remaining_time": 0.223424924
                      },
                      {
                        "learn": [
                          0.004140865777
                        ],
                        "iteration": 886,
                        "passed_time": 1.73756468,
                        "remaining_time": 0.2213582964
                      },
                      {
                        "learn": [
                          0.004139452519
                        ],
                        "iteration": 887,
                        "passed_time": 1.738697949,
                        "remaining_time": 0.2192952368
                      },
                      {
                        "learn": [
                          0.004136178677
                        ],
                        "iteration": 888,
                        "passed_time": 1.739914847,
                        "remaining_time": 0.2172447109
                      },
                      {
                        "learn": [
                          0.004130334386
                        ],
                        "iteration": 889,
                        "passed_time": 1.741105769,
                        "remaining_time": 0.2151928479
                      },
                      {
                        "learn": [
                          0.004128743704
                        ],
                        "iteration": 890,
                        "passed_time": 1.74225426,
                        "remaining_time": 0.2131377265
                      },
                      {
                        "learn": [
                          0.004127899842
                        ],
                        "iteration": 891,
                        "passed_time": 1.743537139,
                        "remaining_time": 0.2111009092
                      },
                      {
                        "learn": [
                          0.004126299582
                        ],
                        "iteration": 892,
                        "passed_time": 1.744671493,
                        "remaining_time": 0.209047984
                      },
                      {
                        "learn": [
                          0.004122992212
                        ],
                        "iteration": 893,
                        "passed_time": 1.7458554,
                        "remaining_time": 0.2070029893
                      },
                      {
                        "learn": [
                          0.004117964874
                        ],
                        "iteration": 894,
                        "passed_time": 1.747002084,
                        "remaining_time": 0.2049555517
                      },
                      {
                        "learn": [
                          0.004113998084
                        ],
                        "iteration": 895,
                        "passed_time": 1.748230055,
                        "remaining_time": 0.20291956
                      },
                      {
                        "learn": [
                          0.004110220698
                        ],
                        "iteration": 896,
                        "passed_time": 1.749365808,
                        "remaining_time": 0.2008747806
                      },
                      {
                        "learn": [
                          0.00410647449
                        ],
                        "iteration": 897,
                        "passed_time": 1.750717778,
                        "remaining_time": 0.198856585
                      },
                      {
                        "learn": [
                          0.004101805547
                        ],
                        "iteration": 898,
                        "passed_time": 1.752002808,
                        "remaining_time": 0.196832351
                      },
                      {
                        "learn": [
                          0.004101097287
                        ],
                        "iteration": 899,
                        "passed_time": 1.753222725,
                        "remaining_time": 0.194802525
                      },
                      {
                        "learn": [
                          0.004098341109
                        ],
                        "iteration": 900,
                        "passed_time": 1.754372166,
                        "remaining_time": 0.192766753
                      },
                      {
                        "learn": [
                          0.0040970493
                        ],
                        "iteration": 901,
                        "passed_time": 1.75552805,
                        "remaining_time": 0.1907336462
                      },
                      {
                        "learn": [
                          0.00409590843
                        ],
                        "iteration": 902,
                        "passed_time": 1.756710221,
                        "remaining_time": 0.1887053062
                      },
                      {
                        "learn": [
                          0.004094726449
                        ],
                        "iteration": 903,
                        "passed_time": 1.757922597,
                        "remaining_time": 0.1866820457
                      },
                      {
                        "learn": [
                          0.004093582277
                        ],
                        "iteration": 904,
                        "passed_time": 1.759088534,
                        "remaining_time": 0.1846557025
                      },
                      {
                        "learn": [
                          0.004092418851
                        ],
                        "iteration": 905,
                        "passed_time": 1.760223244,
                        "remaining_time": 0.1826280187
                      },
                      {
                        "learn": [
                          0.004089838391
                        ],
                        "iteration": 906,
                        "passed_time": 1.761389636,
                        "remaining_time": 0.1806055525
                      },
                      {
                        "learn": [
                          0.004086607259
                        ],
                        "iteration": 907,
                        "passed_time": 1.762529664,
                        "remaining_time": 0.1785823007
                      },
                      {
                        "learn": [
                          0.004084930096
                        ],
                        "iteration": 908,
                        "passed_time": 1.763725739,
                        "remaining_time": 0.1765666031
                      },
                      {
                        "learn": [
                          0.004082093726
                        ],
                        "iteration": 909,
                        "passed_time": 1.764905405,
                        "remaining_time": 0.174551084
                      },
                      {
                        "learn": [
                          0.004081064724
                        ],
                        "iteration": 910,
                        "passed_time": 1.766207807,
                        "remaining_time": 0.1725493906
                      },
                      {
                        "learn": [
                          0.004078908725
                        ],
                        "iteration": 911,
                        "passed_time": 1.767490947,
                        "remaining_time": 0.170547372
                      },
                      {
                        "learn": [
                          0.004075758141
                        ],
                        "iteration": 912,
                        "passed_time": 1.768762964,
                        "remaining_time": 0.1685458684
                      },
                      {
                        "learn": [
                          0.004074651465
                        ],
                        "iteration": 913,
                        "passed_time": 1.770060658,
                        "remaining_time": 0.1665483771
                      },
                      {
                        "learn": [
                          0.004069655511
                        ],
                        "iteration": 914,
                        "passed_time": 1.771186534,
                        "remaining_time": 0.1645364539
                      },
                      {
                        "learn": [
                          0.004069062809
                        ],
                        "iteration": 915,
                        "passed_time": 1.772351956,
                        "remaining_time": 0.162530092
                      },
                      {
                        "learn": [
                          0.00406758465
                        ],
                        "iteration": 916,
                        "passed_time": 1.773530257,
                        "remaining_time": 0.1605267299
                      },
                      {
                        "learn": [
                          0.004064139731
                        ],
                        "iteration": 917,
                        "passed_time": 1.774657485,
                        "remaining_time": 0.1585206033
                      },
                      {
                        "learn": [
                          0.004062541222
                        ],
                        "iteration": 918,
                        "passed_time": 1.775833841,
                        "remaining_time": 0.1565207194
                      },
                      {
                        "learn": [
                          0.00405918423
                        ],
                        "iteration": 919,
                        "passed_time": 1.777005254,
                        "remaining_time": 0.154522196
                      },
                      {
                        "learn": [
                          0.004054720377
                        ],
                        "iteration": 920,
                        "passed_time": 1.778154224,
                        "remaining_time": 0.1525235437
                      },
                      {
                        "learn": [
                          0.004051476802
                        ],
                        "iteration": 921,
                        "passed_time": 1.779280204,
                        "remaining_time": 0.1505247895
                      },
                      {
                        "learn": [
                          0.004048997483
                        ],
                        "iteration": 922,
                        "passed_time": 1.780445497,
                        "remaining_time": 0.1485312061
                      },
                      {
                        "learn": [
                          0.004047022363
                        ],
                        "iteration": 923,
                        "passed_time": 1.781591163,
                        "remaining_time": 0.1465378013
                      },
                      {
                        "learn": [
                          0.004044726013
                        ],
                        "iteration": 924,
                        "passed_time": 1.782710485,
                        "remaining_time": 0.1445440934
                      },
                      {
                        "learn": [
                          0.004043127274
                        ],
                        "iteration": 925,
                        "passed_time": 1.783884577,
                        "remaining_time": 0.1425566509
                      },
                      {
                        "learn": [
                          0.004040760813
                        ],
                        "iteration": 926,
                        "passed_time": 1.785026834,
                        "remaining_time": 0.1405684562
                      },
                      {
                        "learn": [
                          0.004037978855
                        ],
                        "iteration": 927,
                        "passed_time": 1.786167941,
                        "remaining_time": 0.1385819954
                      },
                      {
                        "learn": [
                          0.004036553041
                        ],
                        "iteration": 928,
                        "passed_time": 1.787301099,
                        "remaining_time": 0.136596747
                      },
                      {
                        "learn": [
                          0.004034428998
                        ],
                        "iteration": 929,
                        "passed_time": 1.788420653,
                        "remaining_time": 0.1346123072
                      },
                      {
                        "learn": [
                          0.004034320643
                        ],
                        "iteration": 930,
                        "passed_time": 1.789587285,
                        "remaining_time": 0.1326332145
                      },
                      {
                        "learn": [
                          0.004031075791
                        ],
                        "iteration": 931,
                        "passed_time": 1.790807926,
                        "remaining_time": 0.1306598057
                      },
                      {
                        "learn": [
                          0.004030379366
                        ],
                        "iteration": 932,
                        "passed_time": 1.791967607,
                        "remaining_time": 0.1286836331
                      },
                      {
                        "learn": [
                          0.004029031821
                        ],
                        "iteration": 933,
                        "passed_time": 1.793079195,
                        "remaining_time": 0.1267058103
                      },
                      {
                        "learn": [
                          0.004027181606
                        ],
                        "iteration": 934,
                        "passed_time": 1.794228614,
                        "remaining_time": 0.1247324705
                      },
                      {
                        "learn": [
                          0.004023672825
                        ],
                        "iteration": 935,
                        "passed_time": 1.795378186,
                        "remaining_time": 0.1227609016
                      },
                      {
                        "learn": [
                          0.00402237409
                        ],
                        "iteration": 936,
                        "passed_time": 1.796501138,
                        "remaining_time": 0.1207892974
                      },
                      {
                        "learn": [
                          0.004020644952
                        ],
                        "iteration": 937,
                        "passed_time": 1.797646317,
                        "remaining_time": 0.1188209719
                      },
                      {
                        "learn": [
                          0.004019858283
                        ],
                        "iteration": 938,
                        "passed_time": 1.798833939,
                        "remaining_time": 0.1168571569
                      },
                      {
                        "learn": [
                          0.004018778133
                        ],
                        "iteration": 939,
                        "passed_time": 1.800030011,
                        "remaining_time": 0.1148955326
                      },
                      {
                        "learn": [
                          0.004017021592
                        ],
                        "iteration": 940,
                        "passed_time": 1.801233607,
                        "remaining_time": 0.1129360072
                      },
                      {
                        "learn": [
                          0.004014677144
                        ],
                        "iteration": 941,
                        "passed_time": 1.802357145,
                        "remaining_time": 0.1109731575
                      },
                      {
                        "learn": [
                          0.004011021211
                        ],
                        "iteration": 942,
                        "passed_time": 1.803500202,
                        "remaining_time": 0.1090132678
                      },
                      {
                        "learn": [
                          0.004010208714
                        ],
                        "iteration": 943,
                        "passed_time": 1.804790626,
                        "remaining_time": 0.1070638507
                      },
                      {
                        "learn": [
                          0.004006315776
                        ],
                        "iteration": 944,
                        "passed_time": 1.805927408,
                        "remaining_time": 0.1051068862
                      },
                      {
                        "learn": [
                          0.004003522274
                        ],
                        "iteration": 945,
                        "passed_time": 1.807088018,
                        "remaining_time": 0.1031530158
                      },
                      {
                        "learn": [
                          0.004000786361
                        ],
                        "iteration": 946,
                        "passed_time": 1.808228024,
                        "remaining_time": 0.1011996676
                      },
                      {
                        "learn": [
                          0.003995148451
                        ],
                        "iteration": 947,
                        "passed_time": 1.809360691,
                        "remaining_time": 0.09924763281
                      },
                      {
                        "learn": [
                          0.003989454639
                        ],
                        "iteration": 948,
                        "passed_time": 1.810643186,
                        "remaining_time": 0.09730537668
                      },
                      {
                        "learn": [
                          0.003987280282
                        ],
                        "iteration": 949,
                        "passed_time": 1.811796743,
                        "remaining_time": 0.09535772332
                      },
                      {
                        "learn": [
                          0.003983034493
                        ],
                        "iteration": 950,
                        "passed_time": 1.812925777,
                        "remaining_time": 0.09341047641
                      },
                      {
                        "learn": [
                          0.003978333723
                        ],
                        "iteration": 951,
                        "passed_time": 1.814063602,
                        "remaining_time": 0.0914653917
                      },
                      {
                        "learn": [
                          0.003976089222
                        ],
                        "iteration": 952,
                        "passed_time": 1.815190762,
                        "remaining_time": 0.08952147513
                      },
                      {
                        "learn": [
                          0.003970743537
                        ],
                        "iteration": 953,
                        "passed_time": 1.816335296,
                        "remaining_time": 0.0875801086
                      },
                      {
                        "learn": [
                          0.003968593939
                        ],
                        "iteration": 954,
                        "passed_time": 1.817583131,
                        "remaining_time": 0.08564527841
                      },
                      {
                        "learn": [
                          0.003966541865
                        ],
                        "iteration": 955,
                        "passed_time": 1.818747474,
                        "remaining_time": 0.08370804273
                      },
                      {
                        "learn": [
                          0.0039642583
                        ],
                        "iteration": 956,
                        "passed_time": 1.82019575,
                        "remaining_time": 0.08178518
                      },
                      {
                        "learn": [
                          0.003963289323
                        ],
                        "iteration": 957,
                        "passed_time": 1.821393848,
                        "remaining_time": 0.07985233991
                      },
                      {
                        "learn": [
                          0.003961069969
                        ],
                        "iteration": 958,
                        "passed_time": 1.822547777,
                        "remaining_time": 0.07791914377
                      },
                      {
                        "learn": [
                          0.003960414012
                        ],
                        "iteration": 959,
                        "passed_time": 1.823902138,
                        "remaining_time": 0.07599592241
                      },
                      {
                        "learn": [
                          0.0039559328
                        ],
                        "iteration": 960,
                        "passed_time": 1.825224335,
                        "remaining_time": 0.07407257968
                      },
                      {
                        "learn": [
                          0.00395491933
                        ],
                        "iteration": 961,
                        "passed_time": 1.828185705,
                        "remaining_time": 0.07221523575
                      },
                      {
                        "learn": [
                          0.003951346371
                        ],
                        "iteration": 962,
                        "passed_time": 1.829644114,
                        "remaining_time": 0.07029785277
                      },
                      {
                        "learn": [
                          0.003947502658
                        ],
                        "iteration": 963,
                        "passed_time": 1.830948887,
                        "remaining_time": 0.06837568459
                      },
                      {
                        "learn": [
                          0.003945731184
                        ],
                        "iteration": 964,
                        "passed_time": 1.83289102,
                        "remaining_time": 0.06647791263
                      },
                      {
                        "learn": [
                          0.00394446433
                        ],
                        "iteration": 965,
                        "passed_time": 1.836345902,
                        "remaining_time": 0.0646332926
                      },
                      {
                        "learn": [
                          0.003939495166
                        ],
                        "iteration": 966,
                        "passed_time": 1.840124723,
                        "remaining_time": 0.06279639695
                      },
                      {
                        "learn": [
                          0.003934564572
                        ],
                        "iteration": 967,
                        "passed_time": 1.844123865,
                        "remaining_time": 0.0609627724
                      },
                      {
                        "learn": [
                          0.003929825916
                        ],
                        "iteration": 968,
                        "passed_time": 1.847662323,
                        "remaining_time": 0.05910994017
                      },
                      {
                        "learn": [
                          0.003925244254
                        ],
                        "iteration": 969,
                        "passed_time": 1.852082933,
                        "remaining_time": 0.05728091546
                      },
                      {
                        "learn": [
                          0.003923152848
                        ],
                        "iteration": 970,
                        "passed_time": 1.853344966,
                        "remaining_time": 0.05535221835
                      },
                      {
                        "learn": [
                          0.003922562266
                        ],
                        "iteration": 971,
                        "passed_time": 1.854595803,
                        "remaining_time": 0.05342457046
                      },
                      {
                        "learn": [
                          0.003921547497
                        ],
                        "iteration": 972,
                        "passed_time": 1.855875379,
                        "remaining_time": 0.05149911124
                      },
                      {
                        "learn": [
                          0.003920720626
                        ],
                        "iteration": 973,
                        "passed_time": 1.857132554,
                        "remaining_time": 0.04957438028
                      },
                      {
                        "learn": [
                          0.003919738345
                        ],
                        "iteration": 974,
                        "passed_time": 1.858377223,
                        "remaining_time": 0.04765069803
                      },
                      {
                        "learn": [
                          0.003918181094
                        ],
                        "iteration": 975,
                        "passed_time": 1.859710149,
                        "remaining_time": 0.04573057743
                      },
                      {
                        "learn": [
                          0.003912810127
                        ],
                        "iteration": 976,
                        "passed_time": 1.860939584,
                        "remaining_time": 0.04380922256
                      },
                      {
                        "learn": [
                          0.003911140188
                        ],
                        "iteration": 977,
                        "passed_time": 1.862087097,
                        "remaining_time": 0.04188743981
                      },
                      {
                        "learn": [
                          0.003909329512
                        ],
                        "iteration": 978,
                        "passed_time": 1.863338627,
                        "remaining_time": 0.03996947004
                      },
                      {
                        "learn": [
                          0.003903896289
                        ],
                        "iteration": 979,
                        "passed_time": 1.864539225,
                        "remaining_time": 0.03805182092
                      },
                      {
                        "learn": [
                          0.003901683324
                        ],
                        "iteration": 980,
                        "passed_time": 1.865683637,
                        "remaining_time": 0.03613454546
                      },
                      {
                        "learn": [
                          0.003899618715
                        ],
                        "iteration": 981,
                        "passed_time": 1.866847049,
                        "remaining_time": 0.03421919235
                      },
                      {
                        "learn": [
                          0.003898401467
                        ],
                        "iteration": 982,
                        "passed_time": 1.868514615,
                        "remaining_time": 0.03231408795
                      },
                      {
                        "learn": [
                          0.003897656198
                        ],
                        "iteration": 983,
                        "passed_time": 1.869710812,
                        "remaining_time": 0.03040180182
                      },
                      {
                        "learn": [
                          0.00389316247
                        ],
                        "iteration": 984,
                        "passed_time": 1.870889341,
                        "remaining_time": 0.02849070062
                      },
                      {
                        "learn": [
                          0.003890398419
                        ],
                        "iteration": 985,
                        "passed_time": 1.872309542,
                        "remaining_time": 0.02658451682
                      },
                      {
                        "learn": [
                          0.003890242192
                        ],
                        "iteration": 986,
                        "passed_time": 1.873481234,
                        "remaining_time": 0.02467604462
                      },
                      {
                        "learn": [
                          0.003888060847
                        ],
                        "iteration": 987,
                        "passed_time": 1.874722327,
                        "remaining_time": 0.0227699068
                      },
                      {
                        "learn": [
                          0.003885662872
                        ],
                        "iteration": 988,
                        "passed_time": 1.875932053,
                        "remaining_time": 0.020864765
                      },
                      {
                        "learn": [
                          0.003883660638
                        ],
                        "iteration": 989,
                        "passed_time": 1.877082346,
                        "remaining_time": 0.01896042774
                      },
                      {
                        "learn": [
                          0.003882917951
                        ],
                        "iteration": 990,
                        "passed_time": 1.878271116,
                        "remaining_time": 0.0170579617
                      },
                      {
                        "learn": [
                          0.003881511322
                        ],
                        "iteration": 991,
                        "passed_time": 1.879474199,
                        "remaining_time": 0.01515704999
                      },
                      {
                        "learn": [
                          0.003876042758
                        ],
                        "iteration": 992,
                        "passed_time": 1.880615066,
                        "remaining_time": 0.0132571052
                      },
                      {
                        "learn": [
                          0.003870602525
                        ],
                        "iteration": 993,
                        "passed_time": 1.881754862,
                        "remaining_time": 0.01135868126
                      },
                      {
                        "learn": [
                          0.003869398857
                        ],
                        "iteration": 994,
                        "passed_time": 1.882951774,
                        "remaining_time": 0.009462069218
                      },
                      {
                        "learn": [
                          0.003867867598
                        ],
                        "iteration": 995,
                        "passed_time": 1.884143916,
                        "remaining_time": 0.007566843036
                      },
                      {
                        "learn": [
                          0.003863716493
                        ],
                        "iteration": 996,
                        "passed_time": 1.885291251,
                        "remaining_time": 0.005672892431
                      },
                      {
                        "learn": [
                          0.003862024529
                        ],
                        "iteration": 997,
                        "passed_time": 1.886426611,
                        "remaining_time": 0.003780414051
                      },
                      {
                        "learn": [
                          0.003859742988
                        ],
                        "iteration": 998,
                        "passed_time": 1.887609055,
                        "remaining_time": 0.001889498553
                      },
                      {
                        "learn": [
                          0.003858817267
                        ],
                        "iteration": 999,
                        "passed_time": 1.888815193,
                        "remaining_time": 0
                      }
                    ],
                    "meta": {
                      "test_sets": [],
                      "test_metrics": [],
                      "learn_metrics": [
                        {
                          "best_value": "Min",
                          "name": "RMSE"
                        }
                      ],
                      "launch_mode": "Train",
                      "parameters": "",
                      "iteration_count": 1000,
                      "learn_sets": [
                        "learn"
                      ],
                      "name": "experiment"
                    }
                  }
                }
              }
            },
            "layout": "IPY_MODEL_5fbe1fb588e446ff88063747d2889018"
          }
        }
      }
    }
  },
  "cells": [
    {
      "cell_type": "markdown",
      "metadata": {
        "id": "view-in-github",
        "colab_type": "text"
      },
      "source": [
        "<a href=\"https://colab.research.google.com/github/msb1002/FYP_Project/blob/master/FYP_ALL.ipynb\" target=\"_parent\"><img src=\"https://colab.research.google.com/assets/colab-badge.svg\" alt=\"Open In Colab\"/></a>"
      ]
    },
    {
      "cell_type": "markdown",
      "source": [
        "# 1.Library"
      ],
      "metadata": {
        "id": "APHGJYMtzVhO"
      }
    },
    {
      "cell_type": "markdown",
      "source": [
        "## Sun\n"
      ],
      "metadata": {
        "id": "7vZrHIjczsj2"
      }
    },
    {
      "cell_type": "code",
      "source": [
        "!pip install stockstats"
      ],
      "metadata": {
        "colab": {
          "base_uri": "https://localhost:8080/"
        },
        "id": "ntso3zgPQvkC",
        "outputId": "7e2782d3-5734-4815-fb41-10605ff9a5cb"
      },
      "execution_count": null,
      "outputs": [
        {
          "output_type": "stream",
          "name": "stdout",
          "text": [
            "Collecting stockstats\n",
            "  Downloading stockstats-0.4.1-py2.py3-none-any.whl (19 kB)\n",
            "Requirement already satisfied: pandas>=0.24.2 in /usr/local/lib/python3.7/dist-packages (from stockstats) (1.3.5)\n",
            "Requirement already satisfied: python-dateutil>=2.7.3 in /usr/local/lib/python3.7/dist-packages (from pandas>=0.24.2->stockstats) (2.8.2)\n",
            "Requirement already satisfied: numpy>=1.17.3 in /usr/local/lib/python3.7/dist-packages (from pandas>=0.24.2->stockstats) (1.21.5)\n",
            "Requirement already satisfied: pytz>=2017.3 in /usr/local/lib/python3.7/dist-packages (from pandas>=0.24.2->stockstats) (2018.9)\n",
            "Requirement already satisfied: six>=1.5 in /usr/local/lib/python3.7/dist-packages (from python-dateutil>=2.7.3->pandas>=0.24.2->stockstats) (1.15.0)\n",
            "Installing collected packages: stockstats\n",
            "Successfully installed stockstats-0.4.1\n"
          ]
        }
      ]
    },
    {
      "cell_type": "code",
      "execution_count": null,
      "metadata": {
        "id": "D4DN2x9zypv6"
      },
      "outputs": [],
      "source": [
        "import numpy as np\n",
        "import pandas as pd\n",
        "import matplotlib.pyplot as plt\n",
        "\n",
        "import torch.nn as nn\n",
        "import os.path as osp\n",
        "import torch.utils.data as data\n",
        "import torch.nn.functional as F\n",
        "\n",
        "from tqdm import tqdm\n",
        "import time, matplotlib, torch, os\n",
        "from statsmodels.tsa.arima_model import ARIMA\n",
        "from torch.utils.tensorboard import SummaryWriter\n",
        "\n",
        "from stockstats import StockDataFrame"
      ]
    },
    {
      "cell_type": "code",
      "source": [
        "import os\n",
        "from os import walk\n",
        "\n",
        "import plotly\n",
        "%matplotlib inline\n",
        "import datetime\n",
        "import numpy as np\n",
        "import pandas as pd\n",
        "import matplotlib.pyplot as plt\n",
        "import plotly.graph_objects as go\n",
        "from datetime import datetime\n",
        "#import seaborn as sns"
      ],
      "metadata": {
        "id": "WOnSJsOzzyY4"
      },
      "execution_count": null,
      "outputs": []
    },
    {
      "cell_type": "code",
      "source": [
        "import tensorflow as tf\n",
        "from tensorflow import keras\n",
        "from tensorflow.keras import layers\n",
        "from sklearn.preprocessing import MinMaxScaler\n",
        "from sklearn.model_selection import train_test_split\n",
        "from sklearn.metrics import r2_score, mean_squared_error, mean_absolute_error"
      ],
      "metadata": {
        "id": "whcAvya6z2bJ"
      },
      "execution_count": null,
      "outputs": []
    },
    {
      "cell_type": "code",
      "source": [
        "#For DNN / CNN+LSTM\n",
        "import keras.backend as K\n",
        "from keras.models import Sequential\n",
        "from keras.layers import Conv1D, LSTM, Flatten, Dense"
      ],
      "metadata": {
        "id": "Kn_bKEF1z5Ge"
      },
      "execution_count": null,
      "outputs": []
    },
    {
      "cell_type": "code",
      "source": [
        "#For SVR\n",
        "from sklearn.svm import SVR\n",
        "\n",
        "#For SVM\n",
        "from sklearn import svm\n",
        "from sklearn.svm import SVC"
      ],
      "metadata": {
        "id": "Q8mKeqWiz5_d"
      },
      "execution_count": null,
      "outputs": []
    },
    {
      "cell_type": "code",
      "source": [
        "#For ARIMA\n",
        "import math\n",
        "import warnings\n",
        "warnings.filterwarnings('ignore')\n",
        "import statsmodels as sm\n",
        "from statsmodels.tsa.stattools import adfuller\n",
        "from statsmodels.tsa.seasonal import seasonal_decompose\n",
        "from statsmodels.tsa.arima_model import ARIMA\n",
        "#from pmdarima.arima import auto_arima\n",
        "from statsmodels.graphics.tsaplots import plot_acf,plot_pacf"
      ],
      "metadata": {
        "id": "SsOJJbNsz8Se"
      },
      "execution_count": null,
      "outputs": []
    },
    {
      "cell_type": "markdown",
      "source": [
        "## Anthony"
      ],
      "metadata": {
        "id": "3nVzI-p10S3m"
      }
    },
    {
      "cell_type": "code",
      "source": [
        "!pip install stockstats"
      ],
      "metadata": {
        "colab": {
          "base_uri": "https://localhost:8080/"
        },
        "id": "rys1oSuS0iTZ",
        "outputId": "53f4355e-20fb-4ec2-c4e5-578db6b2ccc6"
      },
      "execution_count": null,
      "outputs": [
        {
          "output_type": "stream",
          "name": "stdout",
          "text": [
            "Collecting stockstats\n",
            "  Downloading stockstats-0.4.1-py2.py3-none-any.whl (19 kB)\n",
            "Requirement already satisfied: pandas>=0.24.2 in /usr/local/lib/python3.7/dist-packages (from stockstats) (1.3.5)\n",
            "Requirement already satisfied: numpy>=1.17.3 in /usr/local/lib/python3.7/dist-packages (from pandas>=0.24.2->stockstats) (1.21.5)\n",
            "Requirement already satisfied: pytz>=2017.3 in /usr/local/lib/python3.7/dist-packages (from pandas>=0.24.2->stockstats) (2018.9)\n",
            "Requirement already satisfied: python-dateutil>=2.7.3 in /usr/local/lib/python3.7/dist-packages (from pandas>=0.24.2->stockstats) (2.8.2)\n",
            "Requirement already satisfied: six>=1.5 in /usr/local/lib/python3.7/dist-packages (from python-dateutil>=2.7.3->pandas>=0.24.2->stockstats) (1.15.0)\n",
            "Installing collected packages: stockstats\n",
            "Successfully installed stockstats-0.4.1\n"
          ]
        }
      ]
    },
    {
      "cell_type": "code",
      "source": [
        "import pandas as pd\n",
        "import numpy as np\n",
        "import datetime as dt\n",
        "import matplotlib.pyplot as plt\n",
        "from stockstats import StockDataFrame\n",
        "\n",
        "from sklearn.model_selection import train_test_split\n",
        "from sklearn import linear_model\n",
        "from sklearn.svm import SVR\n",
        "\n",
        "import tensorflow as tf\n",
        "from tensorflow import keras\n",
        "from tensorflow.keras import datasets, layers, models\n",
        "\n",
        "from math import floor\n",
        "\n",
        "import pandas_datareader.data as web\n",
        "import pickle"
      ],
      "metadata": {
        "id": "-uxaZ4fy0Q9T"
      },
      "execution_count": null,
      "outputs": []
    },
    {
      "cell_type": "markdown",
      "source": [
        "## Thomas"
      ],
      "metadata": {
        "id": "RrzXvhuo1iTm"
      }
    },
    {
      "cell_type": "code",
      "source": [
        "import pandas as pd\n",
        "import numpy as np\n",
        "import collections"
      ],
      "metadata": {
        "id": "EnwziIdw0dyb"
      },
      "execution_count": null,
      "outputs": []
    },
    {
      "cell_type": "code",
      "source": [
        "## DTC\n",
        "from sklearn.tree import DecisionTreeClassifier\n",
        "import matplotlib.pyplot as plt\n",
        "import matplotlib.dates as mdates\n",
        "import datetime as dt"
      ],
      "metadata": {
        "id": "G9qZJiFn2Esf"
      },
      "execution_count": null,
      "outputs": []
    },
    {
      "cell_type": "code",
      "source": [
        "from sklearn import tree \n",
        "import graphviz"
      ],
      "metadata": {
        "id": "cz24uNsh2aJN"
      },
      "execution_count": null,
      "outputs": []
    },
    {
      "cell_type": "code",
      "source": [
        "##SVR\n",
        "from sklearn.svm import SVR\n",
        "from sklearn.metrics import r2_score, mean_squared_error, mean_absolute_error\n",
        "from datetime import datetime\n",
        "from sklearn.model_selection import train_test_split\n",
        "import pandas_datareader.data as web"
      ],
      "metadata": {
        "id": "HjUpkdIA2gG1"
      },
      "execution_count": null,
      "outputs": []
    },
    {
      "cell_type": "markdown",
      "source": [
        "# 2.Data importing and preprocessing"
      ],
      "metadata": {
        "id": "W2kvPFGp2xlo"
      }
    },
    {
      "cell_type": "markdown",
      "source": [
        "## Sun"
      ],
      "metadata": {
        "id": "Hh611dee270E"
      }
    },
    {
      "cell_type": "markdown",
      "source": [
        "### Data Preprocessing"
      ],
      "metadata": {
        "id": "BSIjSKSc3rRl"
      }
    },
    {
      "cell_type": "code",
      "source": [
        "def finder(ds,target):\n",
        "  for e in ds:\n",
        "    if code in e:\n",
        "      return e\n",
        "\n",
        "def timestamp(i):\n",
        "  formatted_date = datetime.fromtimestamp(i)\n",
        "  return formatted_date"
      ],
      "metadata": {
        "id": "facMb5zv3FRV"
      },
      "execution_count": null,
      "outputs": []
    },
    {
      "cell_type": "markdown",
      "source": [
        "### Using pandas datareader for analysis"
      ],
      "metadata": {
        "id": "MuhNZYDb3yg9"
      }
    },
    {
      "cell_type": "code",
      "source": [
        "import pandas_datareader.data as web\n",
        "\n",
        "#Setting the index values as timestamp\n",
        "def process():\n",
        "  print(\"Enter the code of the model that you want to implement\")\n",
        "  code = input()\n",
        "  #final_code = '^'+code\n",
        "  final_code = code\n",
        "  df_ = web.DataReader(\"AAPL\", 'stooq')\n",
        "  #df_['timestamp'] = df_.index.astype('int64')\n",
        "  #df_.reset_index(drop=True, inplace=True)\n",
        "  #df_.set_index('timestamp', inplace=True)\n",
        "\n",
        "  print(f\"Loading the dataset for the {code}\")\n",
        "\n",
        "  return df_"
      ],
      "metadata": {
        "id": "VuTgwoqZ3-i2"
      },
      "execution_count": null,
      "outputs": []
    },
    {
      "cell_type": "code",
      "source": [
        "#For now, the stock values for Apple (AAPL is returned)\n",
        "df = process()"
      ],
      "metadata": {
        "colab": {
          "base_uri": "https://localhost:8080/"
        },
        "id": "56khOHJG9Vd7",
        "outputId": "ce1001ce-0d38-4aad-90b7-d8e2d43478ab"
      },
      "execution_count": null,
      "outputs": [
        {
          "output_type": "stream",
          "name": "stdout",
          "text": [
            "Enter the code of the model that you want to implement\n",
            "AAPL\n",
            "Loading the dataset for the AAPL\n"
          ]
        }
      ]
    },
    {
      "cell_type": "code",
      "source": [
        "def additional_features(df):\n",
        "  #SMA\n",
        "  df['10_sma'] = df['Close'].rolling(window=10,min_periods=1).mean()\n",
        "  df['20_sma'] = df['Close'].rolling(window=20,min_periods=1).mean()\n",
        "  df['50_sma'] = df['Close'].rolling(window=50,min_periods=1).mean()\n",
        "  \n",
        "  #EMA\n",
        "  df['10_ema'] = df['Close'].ewm(span=10,min_periods=1).mean()\n",
        "  df['20_ema'] = df['Close'].ewm(span=20,min_periods=1).mean()\n",
        "  df['50_ema'] = df['Close'].ewm(span=50,min_periods=1).mean()\n",
        "\n",
        "  #Bollinger\n",
        "  df['bollinger_mean'] = df['Close'].rolling(20, min_periods=1).mean()\n",
        "  df['bollinger_std'] = df['Close'].rolling(20, min_periods=1).std()\n",
        "  df['BOL_UP'] = df['bollinger_mean'] + (2 * df['bollinger_std'])\n",
        "  df['BOL_DOWN'] = df['bollinger_mean'] - (2 * df['bollinger_std'])\n",
        "  df[\"bollinger_gap\"] = df[\"BOL_UP\"]-df['BOL_DOWN']\n",
        "  df.dropna(inplace=True) #Not sure if I can change?\n",
        "\n",
        "  price_change =  df['Close'].pct_change().fillna(0)\n",
        "  df['percetage_change'] = price_change\n",
        "\n",
        "  momentum = [1,1]\n",
        "  for i in range(2,len(df)):\n",
        "    momentum.append(1 if df['Close'][i] > df['Close'][i-1] else -1)\n",
        "  df['momentum'] = momentum"
      ],
      "metadata": {
        "id": "Za0CIByf4Ao9"
      },
      "execution_count": null,
      "outputs": []
    },
    {
      "cell_type": "code",
      "source": [
        "#Print the database for the implementations\n",
        "additional_features(df)\n",
        "df.head()"
      ],
      "metadata": {
        "id": "pjgy5r444DJs",
        "colab": {
          "base_uri": "https://localhost:8080/",
          "height": 388
        },
        "outputId": "9c24d486-59cc-4f50-a3b2-2a42174a7e79"
      },
      "execution_count": null,
      "outputs": [
        {
          "output_type": "execute_result",
          "data": {
            "text/plain": [
              "              Open    High      Low   Close     Volume      10_sma  \\\n",
              "Date                                                                 \n",
              "2022-04-05  177.50  178.30  174.415  175.06   73401786  173.445000   \n",
              "2022-04-04  174.57  178.49  174.440  178.44   76545983  175.110000   \n",
              "2022-04-01  174.03  174.88  171.940  174.31   78751328  174.910000   \n",
              "2022-03-31  177.84  178.03  174.400  174.61  103049285  174.850000   \n",
              "2022-03-30  178.55  179.61  176.700  177.77   92633154  175.336667   \n",
              "\n",
              "                20_sma      50_sma      10_ema      20_ema      50_ema  \\\n",
              "Date                                                                     \n",
              "2022-04-05  173.445000  173.445000  173.606500  173.525750  173.477300   \n",
              "2022-04-04  175.110000  175.110000  175.549535  175.330233  175.198135   \n",
              "2022-04-01  174.910000  174.910000  175.141163  175.035708  174.962605   \n",
              "2022-03-31  174.850000  174.850000  174.988681  174.932733  174.886332   \n",
              "2022-03-30  175.336667  175.336667  175.711085  175.531266  175.416259   \n",
              "\n",
              "            bollinger_mean  bollinger_std      BOL_UP    BOL_DOWN  \\\n",
              "Date                                                                \n",
              "2022-04-05      173.445000       2.283955  178.012910  168.877090   \n",
              "2022-04-04      175.110000       3.305284  181.720567  168.499433   \n",
              "2022-04-01      174.910000       2.728235  180.366470  169.453530   \n",
              "2022-03-31      174.850000       2.366527  179.583054  170.116946   \n",
              "2022-03-30      175.336667       2.429285  180.195237  170.478096   \n",
              "\n",
              "            bollinger_gap  percetage_change  momentum  \n",
              "Date                                                   \n",
              "2022-04-05       9.135820          0.000000         1  \n",
              "2022-04-04      13.221135          0.019308         1  \n",
              "2022-04-01      10.912940         -0.023145        -1  \n",
              "2022-03-31       9.466108          0.001721         1  \n",
              "2022-03-30       9.717141          0.018097         1  "
            ],
            "text/html": [
              "\n",
              "  <div id=\"df-d5939d89-f78a-44ba-9a64-1bc3d1ca202b\">\n",
              "    <div class=\"colab-df-container\">\n",
              "      <div>\n",
              "<style scoped>\n",
              "    .dataframe tbody tr th:only-of-type {\n",
              "        vertical-align: middle;\n",
              "    }\n",
              "\n",
              "    .dataframe tbody tr th {\n",
              "        vertical-align: top;\n",
              "    }\n",
              "\n",
              "    .dataframe thead th {\n",
              "        text-align: right;\n",
              "    }\n",
              "</style>\n",
              "<table border=\"1\" class=\"dataframe\">\n",
              "  <thead>\n",
              "    <tr style=\"text-align: right;\">\n",
              "      <th></th>\n",
              "      <th>Open</th>\n",
              "      <th>High</th>\n",
              "      <th>Low</th>\n",
              "      <th>Close</th>\n",
              "      <th>Volume</th>\n",
              "      <th>10_sma</th>\n",
              "      <th>20_sma</th>\n",
              "      <th>50_sma</th>\n",
              "      <th>10_ema</th>\n",
              "      <th>20_ema</th>\n",
              "      <th>50_ema</th>\n",
              "      <th>bollinger_mean</th>\n",
              "      <th>bollinger_std</th>\n",
              "      <th>BOL_UP</th>\n",
              "      <th>BOL_DOWN</th>\n",
              "      <th>bollinger_gap</th>\n",
              "      <th>percetage_change</th>\n",
              "      <th>momentum</th>\n",
              "    </tr>\n",
              "    <tr>\n",
              "      <th>Date</th>\n",
              "      <th></th>\n",
              "      <th></th>\n",
              "      <th></th>\n",
              "      <th></th>\n",
              "      <th></th>\n",
              "      <th></th>\n",
              "      <th></th>\n",
              "      <th></th>\n",
              "      <th></th>\n",
              "      <th></th>\n",
              "      <th></th>\n",
              "      <th></th>\n",
              "      <th></th>\n",
              "      <th></th>\n",
              "      <th></th>\n",
              "      <th></th>\n",
              "      <th></th>\n",
              "      <th></th>\n",
              "    </tr>\n",
              "  </thead>\n",
              "  <tbody>\n",
              "    <tr>\n",
              "      <th>2022-04-05</th>\n",
              "      <td>177.50</td>\n",
              "      <td>178.30</td>\n",
              "      <td>174.415</td>\n",
              "      <td>175.06</td>\n",
              "      <td>73401786</td>\n",
              "      <td>173.445000</td>\n",
              "      <td>173.445000</td>\n",
              "      <td>173.445000</td>\n",
              "      <td>173.606500</td>\n",
              "      <td>173.525750</td>\n",
              "      <td>173.477300</td>\n",
              "      <td>173.445000</td>\n",
              "      <td>2.283955</td>\n",
              "      <td>178.012910</td>\n",
              "      <td>168.877090</td>\n",
              "      <td>9.135820</td>\n",
              "      <td>0.000000</td>\n",
              "      <td>1</td>\n",
              "    </tr>\n",
              "    <tr>\n",
              "      <th>2022-04-04</th>\n",
              "      <td>174.57</td>\n",
              "      <td>178.49</td>\n",
              "      <td>174.440</td>\n",
              "      <td>178.44</td>\n",
              "      <td>76545983</td>\n",
              "      <td>175.110000</td>\n",
              "      <td>175.110000</td>\n",
              "      <td>175.110000</td>\n",
              "      <td>175.549535</td>\n",
              "      <td>175.330233</td>\n",
              "      <td>175.198135</td>\n",
              "      <td>175.110000</td>\n",
              "      <td>3.305284</td>\n",
              "      <td>181.720567</td>\n",
              "      <td>168.499433</td>\n",
              "      <td>13.221135</td>\n",
              "      <td>0.019308</td>\n",
              "      <td>1</td>\n",
              "    </tr>\n",
              "    <tr>\n",
              "      <th>2022-04-01</th>\n",
              "      <td>174.03</td>\n",
              "      <td>174.88</td>\n",
              "      <td>171.940</td>\n",
              "      <td>174.31</td>\n",
              "      <td>78751328</td>\n",
              "      <td>174.910000</td>\n",
              "      <td>174.910000</td>\n",
              "      <td>174.910000</td>\n",
              "      <td>175.141163</td>\n",
              "      <td>175.035708</td>\n",
              "      <td>174.962605</td>\n",
              "      <td>174.910000</td>\n",
              "      <td>2.728235</td>\n",
              "      <td>180.366470</td>\n",
              "      <td>169.453530</td>\n",
              "      <td>10.912940</td>\n",
              "      <td>-0.023145</td>\n",
              "      <td>-1</td>\n",
              "    </tr>\n",
              "    <tr>\n",
              "      <th>2022-03-31</th>\n",
              "      <td>177.84</td>\n",
              "      <td>178.03</td>\n",
              "      <td>174.400</td>\n",
              "      <td>174.61</td>\n",
              "      <td>103049285</td>\n",
              "      <td>174.850000</td>\n",
              "      <td>174.850000</td>\n",
              "      <td>174.850000</td>\n",
              "      <td>174.988681</td>\n",
              "      <td>174.932733</td>\n",
              "      <td>174.886332</td>\n",
              "      <td>174.850000</td>\n",
              "      <td>2.366527</td>\n",
              "      <td>179.583054</td>\n",
              "      <td>170.116946</td>\n",
              "      <td>9.466108</td>\n",
              "      <td>0.001721</td>\n",
              "      <td>1</td>\n",
              "    </tr>\n",
              "    <tr>\n",
              "      <th>2022-03-30</th>\n",
              "      <td>178.55</td>\n",
              "      <td>179.61</td>\n",
              "      <td>176.700</td>\n",
              "      <td>177.77</td>\n",
              "      <td>92633154</td>\n",
              "      <td>175.336667</td>\n",
              "      <td>175.336667</td>\n",
              "      <td>175.336667</td>\n",
              "      <td>175.711085</td>\n",
              "      <td>175.531266</td>\n",
              "      <td>175.416259</td>\n",
              "      <td>175.336667</td>\n",
              "      <td>2.429285</td>\n",
              "      <td>180.195237</td>\n",
              "      <td>170.478096</td>\n",
              "      <td>9.717141</td>\n",
              "      <td>0.018097</td>\n",
              "      <td>1</td>\n",
              "    </tr>\n",
              "  </tbody>\n",
              "</table>\n",
              "</div>\n",
              "      <button class=\"colab-df-convert\" onclick=\"convertToInteractive('df-d5939d89-f78a-44ba-9a64-1bc3d1ca202b')\"\n",
              "              title=\"Convert this dataframe to an interactive table.\"\n",
              "              style=\"display:none;\">\n",
              "        \n",
              "  <svg xmlns=\"http://www.w3.org/2000/svg\" height=\"24px\"viewBox=\"0 0 24 24\"\n",
              "       width=\"24px\">\n",
              "    <path d=\"M0 0h24v24H0V0z\" fill=\"none\"/>\n",
              "    <path d=\"M18.56 5.44l.94 2.06.94-2.06 2.06-.94-2.06-.94-.94-2.06-.94 2.06-2.06.94zm-11 1L8.5 8.5l.94-2.06 2.06-.94-2.06-.94L8.5 2.5l-.94 2.06-2.06.94zm10 10l.94 2.06.94-2.06 2.06-.94-2.06-.94-.94-2.06-.94 2.06-2.06.94z\"/><path d=\"M17.41 7.96l-1.37-1.37c-.4-.4-.92-.59-1.43-.59-.52 0-1.04.2-1.43.59L10.3 9.45l-7.72 7.72c-.78.78-.78 2.05 0 2.83L4 21.41c.39.39.9.59 1.41.59.51 0 1.02-.2 1.41-.59l7.78-7.78 2.81-2.81c.8-.78.8-2.07 0-2.86zM5.41 20L4 18.59l7.72-7.72 1.47 1.35L5.41 20z\"/>\n",
              "  </svg>\n",
              "      </button>\n",
              "      \n",
              "  <style>\n",
              "    .colab-df-container {\n",
              "      display:flex;\n",
              "      flex-wrap:wrap;\n",
              "      gap: 12px;\n",
              "    }\n",
              "\n",
              "    .colab-df-convert {\n",
              "      background-color: #E8F0FE;\n",
              "      border: none;\n",
              "      border-radius: 50%;\n",
              "      cursor: pointer;\n",
              "      display: none;\n",
              "      fill: #1967D2;\n",
              "      height: 32px;\n",
              "      padding: 0 0 0 0;\n",
              "      width: 32px;\n",
              "    }\n",
              "\n",
              "    .colab-df-convert:hover {\n",
              "      background-color: #E2EBFA;\n",
              "      box-shadow: 0px 1px 2px rgba(60, 64, 67, 0.3), 0px 1px 3px 1px rgba(60, 64, 67, 0.15);\n",
              "      fill: #174EA6;\n",
              "    }\n",
              "\n",
              "    [theme=dark] .colab-df-convert {\n",
              "      background-color: #3B4455;\n",
              "      fill: #D2E3FC;\n",
              "    }\n",
              "\n",
              "    [theme=dark] .colab-df-convert:hover {\n",
              "      background-color: #434B5C;\n",
              "      box-shadow: 0px 1px 3px 1px rgba(0, 0, 0, 0.15);\n",
              "      filter: drop-shadow(0px 1px 2px rgba(0, 0, 0, 0.3));\n",
              "      fill: #FFFFFF;\n",
              "    }\n",
              "  </style>\n",
              "\n",
              "      <script>\n",
              "        const buttonEl =\n",
              "          document.querySelector('#df-d5939d89-f78a-44ba-9a64-1bc3d1ca202b button.colab-df-convert');\n",
              "        buttonEl.style.display =\n",
              "          google.colab.kernel.accessAllowed ? 'block' : 'none';\n",
              "\n",
              "        async function convertToInteractive(key) {\n",
              "          const element = document.querySelector('#df-d5939d89-f78a-44ba-9a64-1bc3d1ca202b');\n",
              "          const dataTable =\n",
              "            await google.colab.kernel.invokeFunction('convertToInteractive',\n",
              "                                                     [key], {});\n",
              "          if (!dataTable) return;\n",
              "\n",
              "          const docLinkHtml = 'Like what you see? Visit the ' +\n",
              "            '<a target=\"_blank\" href=https://colab.research.google.com/notebooks/data_table.ipynb>data table notebook</a>'\n",
              "            + ' to learn more about interactive tables.';\n",
              "          element.innerHTML = '';\n",
              "          dataTable['output_type'] = 'display_data';\n",
              "          await google.colab.output.renderOutput(dataTable, element);\n",
              "          const docLink = document.createElement('div');\n",
              "          docLink.innerHTML = docLinkHtml;\n",
              "          element.appendChild(docLink);\n",
              "        }\n",
              "      </script>\n",
              "    </div>\n",
              "  </div>\n",
              "  "
            ]
          },
          "metadata": {},
          "execution_count": 11
        }
      ]
    },
    {
      "cell_type": "markdown",
      "source": [
        "### Additional preprocessing for backtesting"
      ],
      "metadata": {
        "id": "Sd8BEaiE8RCW"
      }
    },
    {
      "cell_type": "code",
      "source": [
        "#Leave olhc\n",
        "df_olhcv = df[['Open','High','Low','Close','Volume']]\n",
        "df_olhcv.columns = df_olhcv.columns.str.lower()\n",
        "df_olhcv.head()"
      ],
      "metadata": {
        "id": "ifvR9uBz3O9Y",
        "colab": {
          "base_uri": "https://localhost:8080/",
          "height": 237
        },
        "outputId": "0c254727-b3ec-4f67-e408-7df2646b572d"
      },
      "execution_count": null,
      "outputs": [
        {
          "output_type": "execute_result",
          "data": {
            "text/plain": [
              "              open    high      low   close     volume\n",
              "Date                                                  \n",
              "2022-04-05  177.50  178.30  174.415  175.06   73401786\n",
              "2022-04-04  174.57  178.49  174.440  178.44   76545983\n",
              "2022-04-01  174.03  174.88  171.940  174.31   78751328\n",
              "2022-03-31  177.84  178.03  174.400  174.61  103049285\n",
              "2022-03-30  178.55  179.61  176.700  177.77   92633154"
            ],
            "text/html": [
              "\n",
              "  <div id=\"df-6152cb4c-e13d-450e-b7bd-bef7b0885e11\">\n",
              "    <div class=\"colab-df-container\">\n",
              "      <div>\n",
              "<style scoped>\n",
              "    .dataframe tbody tr th:only-of-type {\n",
              "        vertical-align: middle;\n",
              "    }\n",
              "\n",
              "    .dataframe tbody tr th {\n",
              "        vertical-align: top;\n",
              "    }\n",
              "\n",
              "    .dataframe thead th {\n",
              "        text-align: right;\n",
              "    }\n",
              "</style>\n",
              "<table border=\"1\" class=\"dataframe\">\n",
              "  <thead>\n",
              "    <tr style=\"text-align: right;\">\n",
              "      <th></th>\n",
              "      <th>open</th>\n",
              "      <th>high</th>\n",
              "      <th>low</th>\n",
              "      <th>close</th>\n",
              "      <th>volume</th>\n",
              "    </tr>\n",
              "    <tr>\n",
              "      <th>Date</th>\n",
              "      <th></th>\n",
              "      <th></th>\n",
              "      <th></th>\n",
              "      <th></th>\n",
              "      <th></th>\n",
              "    </tr>\n",
              "  </thead>\n",
              "  <tbody>\n",
              "    <tr>\n",
              "      <th>2022-04-05</th>\n",
              "      <td>177.50</td>\n",
              "      <td>178.30</td>\n",
              "      <td>174.415</td>\n",
              "      <td>175.06</td>\n",
              "      <td>73401786</td>\n",
              "    </tr>\n",
              "    <tr>\n",
              "      <th>2022-04-04</th>\n",
              "      <td>174.57</td>\n",
              "      <td>178.49</td>\n",
              "      <td>174.440</td>\n",
              "      <td>178.44</td>\n",
              "      <td>76545983</td>\n",
              "    </tr>\n",
              "    <tr>\n",
              "      <th>2022-04-01</th>\n",
              "      <td>174.03</td>\n",
              "      <td>174.88</td>\n",
              "      <td>171.940</td>\n",
              "      <td>174.31</td>\n",
              "      <td>78751328</td>\n",
              "    </tr>\n",
              "    <tr>\n",
              "      <th>2022-03-31</th>\n",
              "      <td>177.84</td>\n",
              "      <td>178.03</td>\n",
              "      <td>174.400</td>\n",
              "      <td>174.61</td>\n",
              "      <td>103049285</td>\n",
              "    </tr>\n",
              "    <tr>\n",
              "      <th>2022-03-30</th>\n",
              "      <td>178.55</td>\n",
              "      <td>179.61</td>\n",
              "      <td>176.700</td>\n",
              "      <td>177.77</td>\n",
              "      <td>92633154</td>\n",
              "    </tr>\n",
              "  </tbody>\n",
              "</table>\n",
              "</div>\n",
              "      <button class=\"colab-df-convert\" onclick=\"convertToInteractive('df-6152cb4c-e13d-450e-b7bd-bef7b0885e11')\"\n",
              "              title=\"Convert this dataframe to an interactive table.\"\n",
              "              style=\"display:none;\">\n",
              "        \n",
              "  <svg xmlns=\"http://www.w3.org/2000/svg\" height=\"24px\"viewBox=\"0 0 24 24\"\n",
              "       width=\"24px\">\n",
              "    <path d=\"M0 0h24v24H0V0z\" fill=\"none\"/>\n",
              "    <path d=\"M18.56 5.44l.94 2.06.94-2.06 2.06-.94-2.06-.94-.94-2.06-.94 2.06-2.06.94zm-11 1L8.5 8.5l.94-2.06 2.06-.94-2.06-.94L8.5 2.5l-.94 2.06-2.06.94zm10 10l.94 2.06.94-2.06 2.06-.94-2.06-.94-.94-2.06-.94 2.06-2.06.94z\"/><path d=\"M17.41 7.96l-1.37-1.37c-.4-.4-.92-.59-1.43-.59-.52 0-1.04.2-1.43.59L10.3 9.45l-7.72 7.72c-.78.78-.78 2.05 0 2.83L4 21.41c.39.39.9.59 1.41.59.51 0 1.02-.2 1.41-.59l7.78-7.78 2.81-2.81c.8-.78.8-2.07 0-2.86zM5.41 20L4 18.59l7.72-7.72 1.47 1.35L5.41 20z\"/>\n",
              "  </svg>\n",
              "      </button>\n",
              "      \n",
              "  <style>\n",
              "    .colab-df-container {\n",
              "      display:flex;\n",
              "      flex-wrap:wrap;\n",
              "      gap: 12px;\n",
              "    }\n",
              "\n",
              "    .colab-df-convert {\n",
              "      background-color: #E8F0FE;\n",
              "      border: none;\n",
              "      border-radius: 50%;\n",
              "      cursor: pointer;\n",
              "      display: none;\n",
              "      fill: #1967D2;\n",
              "      height: 32px;\n",
              "      padding: 0 0 0 0;\n",
              "      width: 32px;\n",
              "    }\n",
              "\n",
              "    .colab-df-convert:hover {\n",
              "      background-color: #E2EBFA;\n",
              "      box-shadow: 0px 1px 2px rgba(60, 64, 67, 0.3), 0px 1px 3px 1px rgba(60, 64, 67, 0.15);\n",
              "      fill: #174EA6;\n",
              "    }\n",
              "\n",
              "    [theme=dark] .colab-df-convert {\n",
              "      background-color: #3B4455;\n",
              "      fill: #D2E3FC;\n",
              "    }\n",
              "\n",
              "    [theme=dark] .colab-df-convert:hover {\n",
              "      background-color: #434B5C;\n",
              "      box-shadow: 0px 1px 3px 1px rgba(0, 0, 0, 0.15);\n",
              "      filter: drop-shadow(0px 1px 2px rgba(0, 0, 0, 0.3));\n",
              "      fill: #FFFFFF;\n",
              "    }\n",
              "  </style>\n",
              "\n",
              "      <script>\n",
              "        const buttonEl =\n",
              "          document.querySelector('#df-6152cb4c-e13d-450e-b7bd-bef7b0885e11 button.colab-df-convert');\n",
              "        buttonEl.style.display =\n",
              "          google.colab.kernel.accessAllowed ? 'block' : 'none';\n",
              "\n",
              "        async function convertToInteractive(key) {\n",
              "          const element = document.querySelector('#df-6152cb4c-e13d-450e-b7bd-bef7b0885e11');\n",
              "          const dataTable =\n",
              "            await google.colab.kernel.invokeFunction('convertToInteractive',\n",
              "                                                     [key], {});\n",
              "          if (!dataTable) return;\n",
              "\n",
              "          const docLinkHtml = 'Like what you see? Visit the ' +\n",
              "            '<a target=\"_blank\" href=https://colab.research.google.com/notebooks/data_table.ipynb>data table notebook</a>'\n",
              "            + ' to learn more about interactive tables.';\n",
              "          element.innerHTML = '';\n",
              "          dataTable['output_type'] = 'display_data';\n",
              "          await google.colab.output.renderOutput(dataTable, element);\n",
              "          const docLink = document.createElement('div');\n",
              "          docLink.innerHTML = docLinkHtml;\n",
              "          element.appendChild(docLink);\n",
              "        }\n",
              "      </script>\n",
              "    </div>\n",
              "  </div>\n",
              "  "
            ]
          },
          "metadata": {},
          "execution_count": 14
        }
      ]
    },
    {
      "cell_type": "code",
      "source": [
        "y = StockDataFrame(df_olhcv)\n",
        "data_bt = y[['open','high','low','close','volume',\n",
        "          'boll', 'boll_ub', 'boll_lb',\n",
        "          'macd', 'macdh', 'macds',\n",
        "          'rsi_11', 'rsi_14', 'rsi_21']]\n",
        "data_bt.index = [int(str(ind)[0:4]+str(ind)[5:7]+str(ind)[8:10]) for ind in data_bt.index]\n",
        "data_bt = data_bt.sort_index()\n",
        "data_bt.head()"
      ],
      "metadata": {
        "colab": {
          "base_uri": "https://localhost:8080/",
          "height": 206
        },
        "id": "Fsz55_cR8kzm",
        "outputId": "f97d5dfb-c0b4-48b8-e910-0f8f48330248"
      },
      "execution_count": null,
      "outputs": [
        {
          "output_type": "execute_result",
          "data": {
            "text/plain": [
              "            open    high     low   close     volume      boll    boll_ub  \\\n",
              "20170410  33.893  33.960  33.729  33.791   70691358  34.04930  35.538299   \n",
              "20170411  33.739  33.834  33.059  33.428  128704371  34.17730  35.979914   \n",
              "20170412  33.421  33.555  33.284  33.471   84222470  34.31455  36.286957   \n",
              "20170413  33.498  33.610  33.294  33.294   72623752  34.46530  36.618802   \n",
              "20170417  33.393  33.491  33.249  33.478   66196690  34.65050  37.007354   \n",
              "\n",
              "            boll_lb      macd     macdh     macds     rsi_11     rsi_14  \\\n",
              "20170410  32.560301 -0.572578  0.012143 -0.584721  42.779156  41.448494   \n",
              "20170411  32.374686 -0.623744 -0.035987 -0.587756  33.488086  34.616279   \n",
              "20170412  32.342143 -0.643017 -0.064258 -0.578759  34.084066  35.066361   \n",
              "20170413  32.311798 -0.662643 -0.099948 -0.562695  29.381066  31.670588   \n",
              "20170417  32.293646 -0.660032 -0.122323 -0.537708  31.505393  33.354352   \n",
              "\n",
              "             rsi_21  \n",
              "20170410  41.565608  \n",
              "20170411  37.524987  \n",
              "20170412  37.820022  \n",
              "20170413  35.842523  \n",
              "20170417  37.007759  "
            ],
            "text/html": [
              "\n",
              "  <div id=\"df-48fad88c-0248-4c3b-b86e-13019de3cc0f\">\n",
              "    <div class=\"colab-df-container\">\n",
              "      <div>\n",
              "<style scoped>\n",
              "    .dataframe tbody tr th:only-of-type {\n",
              "        vertical-align: middle;\n",
              "    }\n",
              "\n",
              "    .dataframe tbody tr th {\n",
              "        vertical-align: top;\n",
              "    }\n",
              "\n",
              "    .dataframe thead th {\n",
              "        text-align: right;\n",
              "    }\n",
              "</style>\n",
              "<table border=\"1\" class=\"dataframe\">\n",
              "  <thead>\n",
              "    <tr style=\"text-align: right;\">\n",
              "      <th></th>\n",
              "      <th>open</th>\n",
              "      <th>high</th>\n",
              "      <th>low</th>\n",
              "      <th>close</th>\n",
              "      <th>volume</th>\n",
              "      <th>boll</th>\n",
              "      <th>boll_ub</th>\n",
              "      <th>boll_lb</th>\n",
              "      <th>macd</th>\n",
              "      <th>macdh</th>\n",
              "      <th>macds</th>\n",
              "      <th>rsi_11</th>\n",
              "      <th>rsi_14</th>\n",
              "      <th>rsi_21</th>\n",
              "    </tr>\n",
              "  </thead>\n",
              "  <tbody>\n",
              "    <tr>\n",
              "      <th>20170410</th>\n",
              "      <td>33.893</td>\n",
              "      <td>33.960</td>\n",
              "      <td>33.729</td>\n",
              "      <td>33.791</td>\n",
              "      <td>70691358</td>\n",
              "      <td>34.04930</td>\n",
              "      <td>35.538299</td>\n",
              "      <td>32.560301</td>\n",
              "      <td>-0.572578</td>\n",
              "      <td>0.012143</td>\n",
              "      <td>-0.584721</td>\n",
              "      <td>42.779156</td>\n",
              "      <td>41.448494</td>\n",
              "      <td>41.565608</td>\n",
              "    </tr>\n",
              "    <tr>\n",
              "      <th>20170411</th>\n",
              "      <td>33.739</td>\n",
              "      <td>33.834</td>\n",
              "      <td>33.059</td>\n",
              "      <td>33.428</td>\n",
              "      <td>128704371</td>\n",
              "      <td>34.17730</td>\n",
              "      <td>35.979914</td>\n",
              "      <td>32.374686</td>\n",
              "      <td>-0.623744</td>\n",
              "      <td>-0.035987</td>\n",
              "      <td>-0.587756</td>\n",
              "      <td>33.488086</td>\n",
              "      <td>34.616279</td>\n",
              "      <td>37.524987</td>\n",
              "    </tr>\n",
              "    <tr>\n",
              "      <th>20170412</th>\n",
              "      <td>33.421</td>\n",
              "      <td>33.555</td>\n",
              "      <td>33.284</td>\n",
              "      <td>33.471</td>\n",
              "      <td>84222470</td>\n",
              "      <td>34.31455</td>\n",
              "      <td>36.286957</td>\n",
              "      <td>32.342143</td>\n",
              "      <td>-0.643017</td>\n",
              "      <td>-0.064258</td>\n",
              "      <td>-0.578759</td>\n",
              "      <td>34.084066</td>\n",
              "      <td>35.066361</td>\n",
              "      <td>37.820022</td>\n",
              "    </tr>\n",
              "    <tr>\n",
              "      <th>20170413</th>\n",
              "      <td>33.498</td>\n",
              "      <td>33.610</td>\n",
              "      <td>33.294</td>\n",
              "      <td>33.294</td>\n",
              "      <td>72623752</td>\n",
              "      <td>34.46530</td>\n",
              "      <td>36.618802</td>\n",
              "      <td>32.311798</td>\n",
              "      <td>-0.662643</td>\n",
              "      <td>-0.099948</td>\n",
              "      <td>-0.562695</td>\n",
              "      <td>29.381066</td>\n",
              "      <td>31.670588</td>\n",
              "      <td>35.842523</td>\n",
              "    </tr>\n",
              "    <tr>\n",
              "      <th>20170417</th>\n",
              "      <td>33.393</td>\n",
              "      <td>33.491</td>\n",
              "      <td>33.249</td>\n",
              "      <td>33.478</td>\n",
              "      <td>66196690</td>\n",
              "      <td>34.65050</td>\n",
              "      <td>37.007354</td>\n",
              "      <td>32.293646</td>\n",
              "      <td>-0.660032</td>\n",
              "      <td>-0.122323</td>\n",
              "      <td>-0.537708</td>\n",
              "      <td>31.505393</td>\n",
              "      <td>33.354352</td>\n",
              "      <td>37.007759</td>\n",
              "    </tr>\n",
              "  </tbody>\n",
              "</table>\n",
              "</div>\n",
              "      <button class=\"colab-df-convert\" onclick=\"convertToInteractive('df-48fad88c-0248-4c3b-b86e-13019de3cc0f')\"\n",
              "              title=\"Convert this dataframe to an interactive table.\"\n",
              "              style=\"display:none;\">\n",
              "        \n",
              "  <svg xmlns=\"http://www.w3.org/2000/svg\" height=\"24px\"viewBox=\"0 0 24 24\"\n",
              "       width=\"24px\">\n",
              "    <path d=\"M0 0h24v24H0V0z\" fill=\"none\"/>\n",
              "    <path d=\"M18.56 5.44l.94 2.06.94-2.06 2.06-.94-2.06-.94-.94-2.06-.94 2.06-2.06.94zm-11 1L8.5 8.5l.94-2.06 2.06-.94-2.06-.94L8.5 2.5l-.94 2.06-2.06.94zm10 10l.94 2.06.94-2.06 2.06-.94-2.06-.94-.94-2.06-.94 2.06-2.06.94z\"/><path d=\"M17.41 7.96l-1.37-1.37c-.4-.4-.92-.59-1.43-.59-.52 0-1.04.2-1.43.59L10.3 9.45l-7.72 7.72c-.78.78-.78 2.05 0 2.83L4 21.41c.39.39.9.59 1.41.59.51 0 1.02-.2 1.41-.59l7.78-7.78 2.81-2.81c.8-.78.8-2.07 0-2.86zM5.41 20L4 18.59l7.72-7.72 1.47 1.35L5.41 20z\"/>\n",
              "  </svg>\n",
              "      </button>\n",
              "      \n",
              "  <style>\n",
              "    .colab-df-container {\n",
              "      display:flex;\n",
              "      flex-wrap:wrap;\n",
              "      gap: 12px;\n",
              "    }\n",
              "\n",
              "    .colab-df-convert {\n",
              "      background-color: #E8F0FE;\n",
              "      border: none;\n",
              "      border-radius: 50%;\n",
              "      cursor: pointer;\n",
              "      display: none;\n",
              "      fill: #1967D2;\n",
              "      height: 32px;\n",
              "      padding: 0 0 0 0;\n",
              "      width: 32px;\n",
              "    }\n",
              "\n",
              "    .colab-df-convert:hover {\n",
              "      background-color: #E2EBFA;\n",
              "      box-shadow: 0px 1px 2px rgba(60, 64, 67, 0.3), 0px 1px 3px 1px rgba(60, 64, 67, 0.15);\n",
              "      fill: #174EA6;\n",
              "    }\n",
              "\n",
              "    [theme=dark] .colab-df-convert {\n",
              "      background-color: #3B4455;\n",
              "      fill: #D2E3FC;\n",
              "    }\n",
              "\n",
              "    [theme=dark] .colab-df-convert:hover {\n",
              "      background-color: #434B5C;\n",
              "      box-shadow: 0px 1px 3px 1px rgba(0, 0, 0, 0.15);\n",
              "      filter: drop-shadow(0px 1px 2px rgba(0, 0, 0, 0.3));\n",
              "      fill: #FFFFFF;\n",
              "    }\n",
              "  </style>\n",
              "\n",
              "      <script>\n",
              "        const buttonEl =\n",
              "          document.querySelector('#df-48fad88c-0248-4c3b-b86e-13019de3cc0f button.colab-df-convert');\n",
              "        buttonEl.style.display =\n",
              "          google.colab.kernel.accessAllowed ? 'block' : 'none';\n",
              "\n",
              "        async function convertToInteractive(key) {\n",
              "          const element = document.querySelector('#df-48fad88c-0248-4c3b-b86e-13019de3cc0f');\n",
              "          const dataTable =\n",
              "            await google.colab.kernel.invokeFunction('convertToInteractive',\n",
              "                                                     [key], {});\n",
              "          if (!dataTable) return;\n",
              "\n",
              "          const docLinkHtml = 'Like what you see? Visit the ' +\n",
              "            '<a target=\"_blank\" href=https://colab.research.google.com/notebooks/data_table.ipynb>data table notebook</a>'\n",
              "            + ' to learn more about interactive tables.';\n",
              "          element.innerHTML = '';\n",
              "          dataTable['output_type'] = 'display_data';\n",
              "          await google.colab.output.renderOutput(dataTable, element);\n",
              "          const docLink = document.createElement('div');\n",
              "          docLink.innerHTML = docLinkHtml;\n",
              "          element.appendChild(docLink);\n",
              "        }\n",
              "      </script>\n",
              "    </div>\n",
              "  </div>\n",
              "  "
            ]
          },
          "metadata": {},
          "execution_count": 19
        }
      ]
    },
    {
      "cell_type": "markdown",
      "source": [
        "## Anthony"
      ],
      "metadata": {
        "id": "n6yNnRVM4MvN"
      }
    },
    {
      "cell_type": "code",
      "source": [
        "start_date = \"2000-01-01\"\n",
        "end_date = \"2022-12-31\"\n",
        "stock_data = web.DataReader('AAPL', 'stooq',start=start_date, end=end_date)\n",
        "stock_data.columns = [\"open\",\"high\",\"low\",\"close\",\"volume\"]"
      ],
      "metadata": {
        "id": "UaemB9N94Ult"
      },
      "execution_count": null,
      "outputs": []
    },
    {
      "cell_type": "code",
      "source": [
        "# Use online package to generate additional features\n",
        "x = StockDataFrame(stock_data)\n",
        "data = x[['open','high','low','close','volume',\n",
        "          'boll', 'boll_ub', 'boll_lb',\n",
        "          'macd', 'macdh', 'macds',\n",
        "          'rsi_11', 'rsi_14', 'rsi_21']]\n",
        "data.index = [int(str(ind)[0:4]+str(ind)[5:7]+str(ind)[8:10]) for ind in data.index]\n",
        "data = data.sort_index()"
      ],
      "metadata": {
        "id": "HNzI_0nr4jsd"
      },
      "execution_count": null,
      "outputs": []
    },
    {
      "cell_type": "code",
      "source": [
        "# Split the train and test data\n",
        "def custom_split(data,start,end):\n",
        "    train = (data.index >= start) & (data.index <= end)\n",
        "    train_X = data[train]\n",
        "    \n",
        "    return train_X"
      ],
      "metadata": {
        "id": "c2-oefqn4ll-"
      },
      "execution_count": null,
      "outputs": []
    },
    {
      "cell_type": "code",
      "source": [
        "start_date = []\n",
        "num_period = 10\n",
        "period_year = 1\n",
        "\n",
        "start = 2022-(num_period+period_year-1)\n",
        "for i in range(num_period):\n",
        "    start_date.append((start+i)*10000+101)\n",
        "\n",
        "\n",
        "date_range_list={}\n",
        "for i in start_date:\n",
        "    date_range_list[i] = (i-101)+(period_year-1)*10000+1231\n",
        "\n",
        "print(date_range_list)\n",
        "\n",
        "stock_list = {\"BlockChain\":[\"COIN\",\"NVDA\",\"FB\"],\n",
        "              \"Airline\":[\"BA\",\"GD\",\"LMT\",],\n",
        "              \"Traveling\":[\"UBER\",\"ABNB\",\"MAR\",\"BKNG\"],\n",
        "              \"Semiconductors\":[\"INTC\",\"NVDA\",\"QCOM\",\"MU\",\"AMD\"],\n",
        "              \"Cloud Computing\":[\"IBM\", \"AMZN\",\"GOOG\",\"CRM\"],\n",
        "              \"Social Media\":[\"TWTR\",\"SNAP\",\"PINS\",\"FB\"],\n",
        "              \"Entertainment\":[\"DIS\",\"NFLX\",\"FB\"],\n",
        "              \"Retail\":[\"WMT\",\"COST\",\"TGT\",\"BBY\",\"HD\"],\n",
        "              \"Franchise\":[\"MCD\", \"YUM\", \"SBUX\", \"DPZ\"],\n",
        "              \"Real Estate\":[\"HST\", \"EQR\", \"AVB\", \"PLD\", \"SPG\"],\n",
        "              \"Telecommunication\":[\"T\",\"TMUS\",\"VZ\",\"CMCSA\",\"CHTR\"],\n",
        "              \"Energy & Resources\":[\"DOW\", \"DD\"],\n",
        "              \"Luxury goods\":[\"RACE\",\"EL\",\"PVH\"]\n",
        "                            }\n",
        "\n",
        "start_date = \"2000-01-01\"\n",
        "end_date = \"2022-12-31\"\n",
        "\n",
        "\n",
        "do_nth_name = \"Buy&Hold\"\n",
        "model_name = \"WithModel\"\n",
        "\n",
        "backtest_col = [\"Sector\",\"Stock\",\n",
        "                \"Range_Start\",\"Range_End\",\n",
        "                do_nth_name+\"_Profit\",model_name+\"_Profit\",\n",
        "                do_nth_name+\"_CAGR(in %)\",model_name+\"_CAGR(in %)\",\n",
        "                \"CAGR_Performance(in %)\",\n",
        "                do_nth_name+\"_MDD(in %)\",model_name+\"_MDD(in %)\",\n",
        "                \"MDD_Performance(in %)\"]"
      ],
      "metadata": {
        "id": "oA8TCPZ_uqh8",
        "colab": {
          "base_uri": "https://localhost:8080/"
        },
        "outputId": "539a2835-9981-485b-8376-cc3a2ea2fc7e"
      },
      "execution_count": null,
      "outputs": [
        {
          "output_type": "stream",
          "name": "stdout",
          "text": [
            "{20120101: 20121231, 20130101: 20131231, 20140101: 20141231, 20150101: 20151231, 20160101: 20161231, 20170101: 20171231, 20180101: 20181231, 20190101: 20191231, 20200101: 20201231, 20210101: 20211231}\n"
          ]
        }
      ]
    },
    {
      "cell_type": "code",
      "source": [
        "backtest_col\n",
        "stoc"
      ],
      "metadata": {
        "colab": {
          "base_uri": "https://localhost:8080/"
        },
        "id": "gpBYWlXg_sNq",
        "outputId": "a274728e-db5c-40f9-cefe-5921daac2e2f"
      },
      "execution_count": null,
      "outputs": [
        {
          "output_type": "execute_result",
          "data": {
            "text/plain": [
              "['Sector',\n",
              " 'Stock',\n",
              " 'Range_Start',\n",
              " 'Range_End',\n",
              " 'Buy&Hold_Profit',\n",
              " 'WithModel_Profit',\n",
              " 'Buy&Hold_CAGR(in %)',\n",
              " 'WithModel_CAGR(in %)',\n",
              " 'CAGR_Performance(in %)',\n",
              " 'Buy&Hold_MDD(in %)',\n",
              " 'WithModel_MDD(in %)',\n",
              " 'MDD_Performance(in %)']"
            ]
          },
          "metadata": {},
          "execution_count": 57
        }
      ]
    },
    {
      "cell_type": "markdown",
      "source": [
        "## Thomas"
      ],
      "metadata": {
        "id": "beDPN1Zr4tkV"
      }
    },
    {
      "cell_type": "code",
      "source": [
        "## Choose your stock\n",
        "start_date = \"2010-01-01\"\n",
        "end_date = \"2022-12-31\"\n",
        "stock = web.DataReader('CCL', 'stooq',start=start_date, end=end_date)\n"
      ],
      "metadata": {
        "id": "bnQiJ6Mm5V4c"
      },
      "execution_count": null,
      "outputs": []
    },
    {
      "cell_type": "code",
      "source": [
        "stock = stock.reindex(index=stock.index[::-1])"
      ],
      "metadata": {
        "id": "Yj3pdv95NdFJ"
      },
      "execution_count": null,
      "outputs": []
    },
    {
      "cell_type": "code",
      "source": [
        "stock['Future'] = stock['High'].rolling(window = 30).mean()[::-1].shift(19)\n",
        "stock['Future']"
      ],
      "metadata": {
        "colab": {
          "base_uri": "https://localhost:8080/"
        },
        "id": "HGhEbWC-4w9n",
        "outputId": "0abe4482-6f76-41dc-931a-d91fe87d37e6"
      },
      "execution_count": null,
      "outputs": [
        {
          "output_type": "execute_result",
          "data": {
            "text/plain": [
              "Date\n",
              "2022-03-11   NaN\n",
              "2022-03-10   NaN\n",
              "2022-03-09   NaN\n",
              "2022-03-08   NaN\n",
              "2022-03-07   NaN\n",
              "              ..\n",
              "2017-03-21   NaN\n",
              "2017-03-20   NaN\n",
              "2017-03-17   NaN\n",
              "2017-03-16   NaN\n",
              "2017-03-15   NaN\n",
              "Name: Future, Length: 1258, dtype: float64"
            ]
          },
          "metadata": {},
          "execution_count": 32
        }
      ]
    },
    {
      "cell_type": "code",
      "source": [
        "stock['Return'] = stock['High'].pct_change(50).shift(-100)\n",
        "features = ['High','Volume']"
      ],
      "metadata": {
        "id": "elWBFz706Ruu"
      },
      "execution_count": null,
      "outputs": []
    },
    {
      "cell_type": "markdown",
      "source": [
        "# 3.Models"
      ],
      "metadata": {
        "id": "p_by3JrE4IjU"
      }
    },
    {
      "cell_type": "markdown",
      "source": [
        "## Sun"
      ],
      "metadata": {
        "id": "S7Pmgrim6kGc"
      }
    },
    {
      "cell_type": "markdown",
      "source": [
        "### SVR"
      ],
      "metadata": {
        "id": "fluTFOZY8zvP"
      }
    },
    {
      "cell_type": "code",
      "source": [
        "from sklearn.svm import SVR\n",
        "\n",
        "def svr_func(df_):\n",
        "  train_df = df_\n",
        "  #Data Preprocessing\n",
        "  train_df_svr = train_df.head(len(train_df)-1) \n",
        "  days = train_df_svr.index.tolist()\n",
        "  days = [[i] for i in days]\n",
        "  #adj_prices = [[i] for i in adj_prices]\n",
        "  adj_prices = train_df_svr['Close'].tolist()\n",
        "  train_X, test_X, train_y, test_y = train_test_split(days, adj_prices, test_size=0.25)\n",
        "\n",
        "  #SVR Models-1\n",
        "  #lin_svr = SVR(kernel='linear',C=1000.0)\n",
        "  #lin_svr.fit(train_X,train_y)\n",
        "\n",
        "  #SVR Models-2\n",
        "  poly_svr = SVR(kernel='poly',C=1000.0, degree=2)\n",
        "  poly_svr.fit(train_X,train_y)\n",
        "\n",
        "  #SVR Models-3\n",
        "  rbf_svr = SVR(kernel='rbf',C=1000.0, gamma = 0.15)\n",
        "  rbf_svr.fit(train_X,train_y)\n",
        "\n",
        "  #performance evaluation\n",
        "\n",
        "  print(\"Pure prediction section\")\n",
        "  print(\"Actual score - poly\")\n",
        "  print(poly_svr.score(test_X, test_y))\n",
        "  print(\"Actual score - rbf\")\n",
        "  print(rbf_svr.score(test_X, test_y))\n",
        "\n",
        "  print(\"------------------------------------\")\n",
        "  #svr_list = [lin_svr,poly_svr,rbf_svr]\n",
        "  svr_list = [poly_svr,rbf_svr]\n",
        "  for svr in svr_list:\n",
        "    svr_predict = svr.predict(test_X)\n",
        "\n",
        "    print('SVR {} PERFORMANCE'.format(str(svr)))\n",
        "    print('r2 score: '+str(r2_score(test_y, svr_predict)))\n",
        "    print('RMSE : '+str(np.sqrt(mean_squared_error(test_y, svr_predict))))\n",
        "    print(\"Mean Absolute Error : \" + str(mean_absolute_error(test_y,svr_predict)))\n",
        "\n",
        "\n",
        "def svm_func(df_):\n",
        "\n",
        "  print(\"Momentum prediction - as classifier\")\n",
        "\n",
        "  length = len(df)\n",
        "\n",
        "  X = np.transpose(np.array([df['percetage_change'],df['bollinger_gap'],df['bollinger_mean'],df['bollinger_std']]))\n",
        "  Y = np.array(df['momentum'])\n",
        "\n",
        "  X_train = X[0:int(0.8*length)]\n",
        "  X_test = X[int(0.8*length):]\n",
        "  y_train = Y[0:int(0.8*length)]\n",
        "  y_test = Y[int(0.8*length):]\n",
        "\n",
        "\n",
        "  poly_svm = svm.SVC(kernel='poly')\n",
        "  poly_svm.fit(X_train, y_train)\n",
        "  poly_score = poly_svm.score(X_test, y_test)\n",
        "  print(\"Prediction score for poly SVM classifier : \",poly_score)\n",
        "\n",
        "  rbf_svm = svm.SVC(kernel='rbf')\n",
        "  rbf_svm.fit(X_train, y_train)\n",
        "  rbf_score = rbf_svm.score(X_test, y_test)\n",
        "  print(\"Prediction score for RBF SVM classifier : \",rbf_score)\n",
        "\n"
      ],
      "metadata": {
        "id": "MR5F0Yso8wOs"
      },
      "execution_count": null,
      "outputs": []
    },
    {
      "cell_type": "code",
      "source": [
        "import pandas as pd\n",
        "from sklearn import svm\n",
        "\n",
        "svr_func(df)"
      ],
      "metadata": {
        "id": "Dlh5Ys3R84ne",
        "colab": {
          "base_uri": "https://localhost:8080/",
          "height": 442
        },
        "outputId": "71efd2e2-6ad2-41f6-a2eb-06d57a263ac8"
      },
      "execution_count": null,
      "outputs": [
        {
          "output_type": "error",
          "ename": "TypeError",
          "evalue": "ignored",
          "traceback": [
            "\u001b[0;31m---------------------------------------------------------------------------\u001b[0m",
            "\u001b[0;31mTypeError\u001b[0m                                 Traceback (most recent call last)",
            "\u001b[0;32m<ipython-input-21-04917ffd2f61>\u001b[0m in \u001b[0;36m<module>\u001b[0;34m()\u001b[0m\n\u001b[1;32m      2\u001b[0m \u001b[0;32mfrom\u001b[0m \u001b[0msklearn\u001b[0m \u001b[0;32mimport\u001b[0m \u001b[0msvm\u001b[0m\u001b[0;34m\u001b[0m\u001b[0;34m\u001b[0m\u001b[0m\n\u001b[1;32m      3\u001b[0m \u001b[0;34m\u001b[0m\u001b[0m\n\u001b[0;32m----> 4\u001b[0;31m \u001b[0msvr_func\u001b[0m\u001b[0;34m(\u001b[0m\u001b[0mdf\u001b[0m\u001b[0;34m)\u001b[0m\u001b[0;34m\u001b[0m\u001b[0;34m\u001b[0m\u001b[0m\n\u001b[0m",
            "\u001b[0;32m<ipython-input-20-ea7e4d25bf64>\u001b[0m in \u001b[0;36msvr_func\u001b[0;34m(df_)\u001b[0m\n\u001b[1;32m     17\u001b[0m   \u001b[0;31m#SVR Models-2\u001b[0m\u001b[0;34m\u001b[0m\u001b[0;34m\u001b[0m\u001b[0;34m\u001b[0m\u001b[0m\n\u001b[1;32m     18\u001b[0m   \u001b[0mpoly_svr\u001b[0m \u001b[0;34m=\u001b[0m \u001b[0mSVR\u001b[0m\u001b[0;34m(\u001b[0m\u001b[0mkernel\u001b[0m\u001b[0;34m=\u001b[0m\u001b[0;34m'poly'\u001b[0m\u001b[0;34m,\u001b[0m\u001b[0mC\u001b[0m\u001b[0;34m=\u001b[0m\u001b[0;36m1000.0\u001b[0m\u001b[0;34m,\u001b[0m \u001b[0mdegree\u001b[0m\u001b[0;34m=\u001b[0m\u001b[0;36m2\u001b[0m\u001b[0;34m)\u001b[0m\u001b[0;34m\u001b[0m\u001b[0;34m\u001b[0m\u001b[0m\n\u001b[0;32m---> 19\u001b[0;31m   \u001b[0mpoly_svr\u001b[0m\u001b[0;34m.\u001b[0m\u001b[0mfit\u001b[0m\u001b[0;34m(\u001b[0m\u001b[0mtrain_X\u001b[0m\u001b[0;34m,\u001b[0m\u001b[0mtrain_y\u001b[0m\u001b[0;34m)\u001b[0m\u001b[0;34m\u001b[0m\u001b[0;34m\u001b[0m\u001b[0m\n\u001b[0m\u001b[1;32m     20\u001b[0m \u001b[0;34m\u001b[0m\u001b[0m\n\u001b[1;32m     21\u001b[0m   \u001b[0;31m#SVR Models-3\u001b[0m\u001b[0;34m\u001b[0m\u001b[0;34m\u001b[0m\u001b[0;34m\u001b[0m\u001b[0m\n",
            "\u001b[0;32m/usr/local/lib/python3.7/dist-packages/sklearn/svm/_base.py\u001b[0m in \u001b[0;36mfit\u001b[0;34m(self, X, y, sample_weight)\u001b[0m\n\u001b[1;32m    194\u001b[0m                 \u001b[0morder\u001b[0m\u001b[0;34m=\u001b[0m\u001b[0;34m\"C\"\u001b[0m\u001b[0;34m,\u001b[0m\u001b[0;34m\u001b[0m\u001b[0;34m\u001b[0m\u001b[0m\n\u001b[1;32m    195\u001b[0m                 \u001b[0maccept_sparse\u001b[0m\u001b[0;34m=\u001b[0m\u001b[0;34m\"csr\"\u001b[0m\u001b[0;34m,\u001b[0m\u001b[0;34m\u001b[0m\u001b[0;34m\u001b[0m\u001b[0m\n\u001b[0;32m--> 196\u001b[0;31m                 \u001b[0maccept_large_sparse\u001b[0m\u001b[0;34m=\u001b[0m\u001b[0;32mFalse\u001b[0m\u001b[0;34m,\u001b[0m\u001b[0;34m\u001b[0m\u001b[0;34m\u001b[0m\u001b[0m\n\u001b[0m\u001b[1;32m    197\u001b[0m             )\n\u001b[1;32m    198\u001b[0m \u001b[0;34m\u001b[0m\u001b[0m\n",
            "\u001b[0;32m/usr/local/lib/python3.7/dist-packages/sklearn/base.py\u001b[0m in \u001b[0;36m_validate_data\u001b[0;34m(self, X, y, reset, validate_separately, **check_params)\u001b[0m\n\u001b[1;32m    579\u001b[0m                 \u001b[0my\u001b[0m \u001b[0;34m=\u001b[0m \u001b[0mcheck_array\u001b[0m\u001b[0;34m(\u001b[0m\u001b[0my\u001b[0m\u001b[0;34m,\u001b[0m \u001b[0;34m**\u001b[0m\u001b[0mcheck_y_params\u001b[0m\u001b[0;34m)\u001b[0m\u001b[0;34m\u001b[0m\u001b[0;34m\u001b[0m\u001b[0m\n\u001b[1;32m    580\u001b[0m             \u001b[0;32melse\u001b[0m\u001b[0;34m:\u001b[0m\u001b[0;34m\u001b[0m\u001b[0;34m\u001b[0m\u001b[0m\n\u001b[0;32m--> 581\u001b[0;31m                 \u001b[0mX\u001b[0m\u001b[0;34m,\u001b[0m \u001b[0my\u001b[0m \u001b[0;34m=\u001b[0m \u001b[0mcheck_X_y\u001b[0m\u001b[0;34m(\u001b[0m\u001b[0mX\u001b[0m\u001b[0;34m,\u001b[0m \u001b[0my\u001b[0m\u001b[0;34m,\u001b[0m \u001b[0;34m**\u001b[0m\u001b[0mcheck_params\u001b[0m\u001b[0;34m)\u001b[0m\u001b[0;34m\u001b[0m\u001b[0;34m\u001b[0m\u001b[0m\n\u001b[0m\u001b[1;32m    582\u001b[0m             \u001b[0mout\u001b[0m \u001b[0;34m=\u001b[0m \u001b[0mX\u001b[0m\u001b[0;34m,\u001b[0m \u001b[0my\u001b[0m\u001b[0;34m\u001b[0m\u001b[0;34m\u001b[0m\u001b[0m\n\u001b[1;32m    583\u001b[0m \u001b[0;34m\u001b[0m\u001b[0m\n",
            "\u001b[0;32m/usr/local/lib/python3.7/dist-packages/sklearn/utils/validation.py\u001b[0m in \u001b[0;36mcheck_X_y\u001b[0;34m(X, y, accept_sparse, accept_large_sparse, dtype, order, copy, force_all_finite, ensure_2d, allow_nd, multi_output, ensure_min_samples, ensure_min_features, y_numeric, estimator)\u001b[0m\n\u001b[1;32m    974\u001b[0m         \u001b[0mensure_min_samples\u001b[0m\u001b[0;34m=\u001b[0m\u001b[0mensure_min_samples\u001b[0m\u001b[0;34m,\u001b[0m\u001b[0;34m\u001b[0m\u001b[0;34m\u001b[0m\u001b[0m\n\u001b[1;32m    975\u001b[0m         \u001b[0mensure_min_features\u001b[0m\u001b[0;34m=\u001b[0m\u001b[0mensure_min_features\u001b[0m\u001b[0;34m,\u001b[0m\u001b[0;34m\u001b[0m\u001b[0;34m\u001b[0m\u001b[0m\n\u001b[0;32m--> 976\u001b[0;31m         \u001b[0mestimator\u001b[0m\u001b[0;34m=\u001b[0m\u001b[0mestimator\u001b[0m\u001b[0;34m,\u001b[0m\u001b[0;34m\u001b[0m\u001b[0;34m\u001b[0m\u001b[0m\n\u001b[0m\u001b[1;32m    977\u001b[0m     )\n\u001b[1;32m    978\u001b[0m \u001b[0;34m\u001b[0m\u001b[0m\n",
            "\u001b[0;32m/usr/local/lib/python3.7/dist-packages/sklearn/utils/validation.py\u001b[0m in \u001b[0;36mcheck_array\u001b[0;34m(array, accept_sparse, accept_large_sparse, dtype, order, copy, force_all_finite, ensure_2d, allow_nd, ensure_min_samples, ensure_min_features, estimator)\u001b[0m\n\u001b[1;32m    744\u001b[0m                     \u001b[0marray\u001b[0m \u001b[0;34m=\u001b[0m \u001b[0marray\u001b[0m\u001b[0;34m.\u001b[0m\u001b[0mastype\u001b[0m\u001b[0;34m(\u001b[0m\u001b[0mdtype\u001b[0m\u001b[0;34m,\u001b[0m \u001b[0mcasting\u001b[0m\u001b[0;34m=\u001b[0m\u001b[0;34m\"unsafe\"\u001b[0m\u001b[0;34m,\u001b[0m \u001b[0mcopy\u001b[0m\u001b[0;34m=\u001b[0m\u001b[0;32mFalse\u001b[0m\u001b[0;34m)\u001b[0m\u001b[0;34m\u001b[0m\u001b[0;34m\u001b[0m\u001b[0m\n\u001b[1;32m    745\u001b[0m                 \u001b[0;32melse\u001b[0m\u001b[0;34m:\u001b[0m\u001b[0;34m\u001b[0m\u001b[0;34m\u001b[0m\u001b[0m\n\u001b[0;32m--> 746\u001b[0;31m                     \u001b[0marray\u001b[0m \u001b[0;34m=\u001b[0m \u001b[0mnp\u001b[0m\u001b[0;34m.\u001b[0m\u001b[0masarray\u001b[0m\u001b[0;34m(\u001b[0m\u001b[0marray\u001b[0m\u001b[0;34m,\u001b[0m \u001b[0morder\u001b[0m\u001b[0;34m=\u001b[0m\u001b[0morder\u001b[0m\u001b[0;34m,\u001b[0m \u001b[0mdtype\u001b[0m\u001b[0;34m=\u001b[0m\u001b[0mdtype\u001b[0m\u001b[0;34m)\u001b[0m\u001b[0;34m\u001b[0m\u001b[0;34m\u001b[0m\u001b[0m\n\u001b[0m\u001b[1;32m    747\u001b[0m             \u001b[0;32mexcept\u001b[0m \u001b[0mComplexWarning\u001b[0m \u001b[0;32mas\u001b[0m \u001b[0mcomplex_warning\u001b[0m\u001b[0;34m:\u001b[0m\u001b[0;34m\u001b[0m\u001b[0;34m\u001b[0m\u001b[0m\n\u001b[1;32m    748\u001b[0m                 raise ValueError(\n",
            "\u001b[0;31mTypeError\u001b[0m: float() argument must be a string or a number, not 'Timestamp'"
          ]
        }
      ]
    },
    {
      "cell_type": "code",
      "source": [
        "svm_func(df)"
      ],
      "metadata": {
        "id": "8n0Ycg1g86Qg",
        "colab": {
          "base_uri": "https://localhost:8080/"
        },
        "outputId": "7ea56071-eb7a-4d1c-9035-7881ac628437"
      },
      "execution_count": null,
      "outputs": [
        {
          "output_type": "stream",
          "name": "stdout",
          "text": [
            "Momentum prediction - as classifier\n",
            "Prediction score for poly SVM classifier :  0.5198412698412699\n",
            "Prediction score for RBF SVM classifier :  0.5198412698412699\n"
          ]
        }
      ]
    },
    {
      "cell_type": "code",
      "source": [
        "from sklearn.model_selection import GridSearchCV\n",
        "from sklearn.metrics import classification_report\n",
        "from sklearn.svm import SVC\n",
        "\n",
        "train_X, val_X, train_y, val_y = train_test_split(X, Y,random_state = 1002)\n",
        "\n",
        "tuned_parameters = [{'kernel': ['linear', 'poly', 'rbf'],'C': [1,100,1000]}]\n",
        "\n",
        "clf = GridSearchCV(SVC(), tuned_parameters, scoring='accuracy')\n",
        "clf.fit(train_X, train_y)\n",
        "\n",
        "clf.best_params_"
      ],
      "metadata": {
        "id": "WsmzjiCa9LHu",
        "colab": {
          "base_uri": "https://localhost:8080/",
          "height": 276
        },
        "outputId": "57a703ee-7a73-4a2a-c41e-7977ff800057"
      },
      "execution_count": null,
      "outputs": [
        {
          "output_type": "error",
          "ename": "NameError",
          "evalue": "ignored",
          "traceback": [
            "\u001b[0;31m---------------------------------------------------------------------------\u001b[0m",
            "\u001b[0;31mNameError\u001b[0m                                 Traceback (most recent call last)",
            "\u001b[0;32m<ipython-input-23-82f835a02b6f>\u001b[0m in \u001b[0;36m<module>\u001b[0;34m()\u001b[0m\n\u001b[1;32m      3\u001b[0m \u001b[0;32mfrom\u001b[0m \u001b[0msklearn\u001b[0m\u001b[0;34m.\u001b[0m\u001b[0msvm\u001b[0m \u001b[0;32mimport\u001b[0m \u001b[0mSVC\u001b[0m\u001b[0;34m\u001b[0m\u001b[0;34m\u001b[0m\u001b[0m\n\u001b[1;32m      4\u001b[0m \u001b[0;34m\u001b[0m\u001b[0m\n\u001b[0;32m----> 5\u001b[0;31m \u001b[0mtrain_X\u001b[0m\u001b[0;34m,\u001b[0m \u001b[0mval_X\u001b[0m\u001b[0;34m,\u001b[0m \u001b[0mtrain_y\u001b[0m\u001b[0;34m,\u001b[0m \u001b[0mval_y\u001b[0m \u001b[0;34m=\u001b[0m \u001b[0mtrain_test_split\u001b[0m\u001b[0;34m(\u001b[0m\u001b[0mX\u001b[0m\u001b[0;34m,\u001b[0m \u001b[0mY\u001b[0m\u001b[0;34m,\u001b[0m\u001b[0mrandom_state\u001b[0m \u001b[0;34m=\u001b[0m \u001b[0;36m1002\u001b[0m\u001b[0;34m)\u001b[0m\u001b[0;34m\u001b[0m\u001b[0;34m\u001b[0m\u001b[0m\n\u001b[0m\u001b[1;32m      6\u001b[0m \u001b[0;34m\u001b[0m\u001b[0m\n\u001b[1;32m      7\u001b[0m \u001b[0mtuned_parameters\u001b[0m \u001b[0;34m=\u001b[0m \u001b[0;34m[\u001b[0m\u001b[0;34m{\u001b[0m\u001b[0;34m'kernel'\u001b[0m\u001b[0;34m:\u001b[0m \u001b[0;34m[\u001b[0m\u001b[0;34m'linear'\u001b[0m\u001b[0;34m,\u001b[0m \u001b[0;34m'poly'\u001b[0m\u001b[0;34m,\u001b[0m \u001b[0;34m'rbf'\u001b[0m\u001b[0;34m]\u001b[0m\u001b[0;34m,\u001b[0m\u001b[0;34m'C'\u001b[0m\u001b[0;34m:\u001b[0m \u001b[0;34m[\u001b[0m\u001b[0;36m1\u001b[0m\u001b[0;34m,\u001b[0m\u001b[0;36m100\u001b[0m\u001b[0;34m,\u001b[0m\u001b[0;36m1000\u001b[0m\u001b[0;34m]\u001b[0m\u001b[0;34m}\u001b[0m\u001b[0;34m]\u001b[0m\u001b[0;34m\u001b[0m\u001b[0;34m\u001b[0m\u001b[0m\n",
            "\u001b[0;31mNameError\u001b[0m: name 'X' is not defined"
          ]
        }
      ]
    },
    {
      "cell_type": "code",
      "source": [
        "clf.best_params_"
      ],
      "metadata": {
        "id": "MFbFm0uk89g8",
        "colab": {
          "base_uri": "https://localhost:8080/",
          "height": 166
        },
        "outputId": "3c35a1ac-150f-4630-e450-e0c4eb3d13b3"
      },
      "execution_count": null,
      "outputs": [
        {
          "output_type": "error",
          "ename": "NameError",
          "evalue": "ignored",
          "traceback": [
            "\u001b[0;31m---------------------------------------------------------------------------\u001b[0m",
            "\u001b[0;31mNameError\u001b[0m                                 Traceback (most recent call last)",
            "\u001b[0;32m<ipython-input-24-9772bec5683a>\u001b[0m in \u001b[0;36m<module>\u001b[0;34m()\u001b[0m\n\u001b[0;32m----> 1\u001b[0;31m \u001b[0mclf\u001b[0m\u001b[0;34m.\u001b[0m\u001b[0mbest_params_\u001b[0m\u001b[0;34m\u001b[0m\u001b[0;34m\u001b[0m\u001b[0m\n\u001b[0m",
            "\u001b[0;31mNameError\u001b[0m: name 'clf' is not defined"
          ]
        }
      ]
    },
    {
      "cell_type": "markdown",
      "source": [
        "### DNN Model(pure)"
      ],
      "metadata": {
        "id": "2uYrL_MP9M7E"
      }
    },
    {
      "cell_type": "code",
      "source": [
        "import tensorflow as tf\n",
        "from tensorflow import keras\n",
        "from tensorflow.keras import layers\n",
        "from sklearn.preprocessing import MinMaxScaler\n",
        "from sklearn.model_selection import train_test_split\n",
        "from sklearn.metrics import r2_score, mean_squared_error, mean_absolute_error"
      ],
      "metadata": {
        "id": "6WgeePsF9SFh"
      },
      "execution_count": null,
      "outputs": []
    },
    {
      "cell_type": "code",
      "source": [
        "#Data Pre-processing\n",
        "train_df = df\n",
        "\n",
        "X = train_df[['Open','High','Low','Volume']]\n",
        "Y = train_df[['Close']]\n",
        "\n",
        "X_scaler = MinMaxScaler(feature_range=(0, 1))\n",
        "X[X.columns] = X_scaler.fit_transform(X[X.columns])\n",
        "X = X.fillna(X.median())\n",
        "\n",
        "Y_scaler = MinMaxScaler(feature_range=(0, 1))\n",
        "Y[Y.columns] = Y_scaler.fit_transform(Y[Y.columns])\n",
        "Y = Y.fillna(Y.median())\n",
        "\n",
        "train_X, test_X, train_y, test_y = train_test_split(X, Y, test_size=0.25)"
      ],
      "metadata": {
        "id": "NvdFG7A_9Uek"
      },
      "execution_count": null,
      "outputs": []
    },
    {
      "cell_type": "code",
      "source": [
        "#Model\n",
        "model = keras.Sequential(\n",
        "    [\n",
        "        layers.Dense(64, activation=\"relu\", input_shape=(4,)),\n",
        "        layers.Dense(128, activation=\"relu\", name=\"layer1\"),\n",
        "        layers.Dense(256, activation=\"relu\", name=\"layer2\"),\n",
        "        layers.Dense(1,activation=\"linear\", name=\"layer3\")\n",
        "    ]\n",
        ")\n",
        "\n",
        "model.compile(loss='mean_squared_error',optimizer='adam')\n",
        "history = model.fit(train_X,train_y,validation_data=(val_X, val_y),epochs = 200 ,batch_size = 10,verbose=False)"
      ],
      "metadata": {
        "id": "KjCMCO209WEc",
        "colab": {
          "base_uri": "https://localhost:8080/",
          "height": 222
        },
        "outputId": "3daa9b9f-9905-4eec-b6f7-1adf2ef9faeb"
      },
      "execution_count": null,
      "outputs": [
        {
          "output_type": "error",
          "ename": "NameError",
          "evalue": "ignored",
          "traceback": [
            "\u001b[0;31m---------------------------------------------------------------------------\u001b[0m",
            "\u001b[0;31mNameError\u001b[0m                                 Traceback (most recent call last)",
            "\u001b[0;32m<ipython-input-31-54f0d9cac498>\u001b[0m in \u001b[0;36m<module>\u001b[0;34m()\u001b[0m\n\u001b[1;32m     10\u001b[0m \u001b[0;34m\u001b[0m\u001b[0m\n\u001b[1;32m     11\u001b[0m \u001b[0mmodel\u001b[0m\u001b[0;34m.\u001b[0m\u001b[0mcompile\u001b[0m\u001b[0;34m(\u001b[0m\u001b[0mloss\u001b[0m\u001b[0;34m=\u001b[0m\u001b[0;34m'mean_squared_error'\u001b[0m\u001b[0;34m,\u001b[0m\u001b[0moptimizer\u001b[0m\u001b[0;34m=\u001b[0m\u001b[0;34m'adam'\u001b[0m\u001b[0;34m)\u001b[0m\u001b[0;34m\u001b[0m\u001b[0;34m\u001b[0m\u001b[0m\n\u001b[0;32m---> 12\u001b[0;31m \u001b[0mhistory\u001b[0m \u001b[0;34m=\u001b[0m \u001b[0mmodel\u001b[0m\u001b[0;34m.\u001b[0m\u001b[0mfit\u001b[0m\u001b[0;34m(\u001b[0m\u001b[0mtrain_X\u001b[0m\u001b[0;34m,\u001b[0m\u001b[0mtrain_y\u001b[0m\u001b[0;34m,\u001b[0m\u001b[0mvalidation_data\u001b[0m\u001b[0;34m=\u001b[0m\u001b[0;34m(\u001b[0m\u001b[0mval_X\u001b[0m\u001b[0;34m,\u001b[0m \u001b[0mval_y\u001b[0m\u001b[0;34m)\u001b[0m\u001b[0;34m,\u001b[0m\u001b[0mepochs\u001b[0m \u001b[0;34m=\u001b[0m \u001b[0;36m200\u001b[0m \u001b[0;34m,\u001b[0m\u001b[0mbatch_size\u001b[0m \u001b[0;34m=\u001b[0m \u001b[0;36m10\u001b[0m\u001b[0;34m,\u001b[0m\u001b[0mverbose\u001b[0m\u001b[0;34m=\u001b[0m\u001b[0;32mFalse\u001b[0m\u001b[0;34m)\u001b[0m\u001b[0;34m\u001b[0m\u001b[0;34m\u001b[0m\u001b[0m\n\u001b[0m",
            "\u001b[0;31mNameError\u001b[0m: name 'val_X' is not defined"
          ]
        }
      ]
    },
    {
      "cell_type": "code",
      "source": [
        "history_df = pd.DataFrame(history.history)\n",
        "history_df['loss'].plot();\n",
        "history_df['val_loss'].plot();\n",
        "plt.title(\"Simple DNN Architecture\")"
      ],
      "metadata": {
        "id": "4_Q9D_h49YQM",
        "colab": {
          "base_uri": "https://localhost:8080/",
          "height": 222
        },
        "outputId": "6a2f50ee-50a8-4e07-e184-203cdab74c99"
      },
      "execution_count": null,
      "outputs": [
        {
          "output_type": "error",
          "ename": "NameError",
          "evalue": "ignored",
          "traceback": [
            "\u001b[0;31m---------------------------------------------------------------------------\u001b[0m",
            "\u001b[0;31mNameError\u001b[0m                                 Traceback (most recent call last)",
            "\u001b[0;32m<ipython-input-27-8391c244e9ed>\u001b[0m in \u001b[0;36m<module>\u001b[0;34m()\u001b[0m\n\u001b[0;32m----> 1\u001b[0;31m \u001b[0mhistory_df\u001b[0m \u001b[0;34m=\u001b[0m \u001b[0mpd\u001b[0m\u001b[0;34m.\u001b[0m\u001b[0mDataFrame\u001b[0m\u001b[0;34m(\u001b[0m\u001b[0mhistory\u001b[0m\u001b[0;34m.\u001b[0m\u001b[0mhistory\u001b[0m\u001b[0;34m)\u001b[0m\u001b[0;34m\u001b[0m\u001b[0;34m\u001b[0m\u001b[0m\n\u001b[0m\u001b[1;32m      2\u001b[0m \u001b[0mhistory_df\u001b[0m\u001b[0;34m[\u001b[0m\u001b[0;34m'loss'\u001b[0m\u001b[0;34m]\u001b[0m\u001b[0;34m.\u001b[0m\u001b[0mplot\u001b[0m\u001b[0;34m(\u001b[0m\u001b[0;34m)\u001b[0m\u001b[0;34m;\u001b[0m\u001b[0;34m\u001b[0m\u001b[0;34m\u001b[0m\u001b[0m\n\u001b[1;32m      3\u001b[0m \u001b[0mhistory_df\u001b[0m\u001b[0;34m[\u001b[0m\u001b[0;34m'val_loss'\u001b[0m\u001b[0;34m]\u001b[0m\u001b[0;34m.\u001b[0m\u001b[0mplot\u001b[0m\u001b[0;34m(\u001b[0m\u001b[0;34m)\u001b[0m\u001b[0;34m;\u001b[0m\u001b[0;34m\u001b[0m\u001b[0;34m\u001b[0m\u001b[0m\n\u001b[1;32m      4\u001b[0m \u001b[0mplt\u001b[0m\u001b[0;34m.\u001b[0m\u001b[0mtitle\u001b[0m\u001b[0;34m(\u001b[0m\u001b[0;34m\"Simple DNN Architecture\"\u001b[0m\u001b[0;34m)\u001b[0m\u001b[0;34m\u001b[0m\u001b[0;34m\u001b[0m\u001b[0m\n",
            "\u001b[0;31mNameError\u001b[0m: name 'history' is not defined"
          ]
        }
      ]
    },
    {
      "cell_type": "code",
      "source": [
        "model.summary()"
      ],
      "metadata": {
        "id": "-vCI1WLj9ZqU",
        "colab": {
          "base_uri": "https://localhost:8080/"
        },
        "outputId": "f96e6218-4c4e-44da-d81b-cc4a4d604eac"
      },
      "execution_count": null,
      "outputs": [
        {
          "output_type": "stream",
          "name": "stdout",
          "text": [
            "Model: \"sequential_1\"\n",
            "_________________________________________________________________\n",
            " Layer (type)                Output Shape              Param #   \n",
            "=================================================================\n",
            " dense_1 (Dense)             (None, 64)                320       \n",
            "                                                                 \n",
            " layer1 (Dense)              (None, 128)               8320      \n",
            "                                                                 \n",
            " layer2 (Dense)              (None, 256)               33024     \n",
            "                                                                 \n",
            " layer3 (Dense)              (None, 1)                 257       \n",
            "                                                                 \n",
            "=================================================================\n",
            "Total params: 41,921\n",
            "Trainable params: 41,921\n",
            "Non-trainable params: 0\n",
            "_________________________________________________________________\n"
          ]
        }
      ]
    },
    {
      "cell_type": "code",
      "source": [
        "\n",
        "\n",
        "dnn_predict = model.predict(test_X)\n",
        "\n",
        "print('SIMPLE DNN PERFORMANCE')\n",
        "print('r2 score: '+str(r2_score(test_y, dnn_predict)))\n",
        "print('RMSE : '+str(np.sqrt(mean_squared_error(test_y, dnn_predict))))\n",
        "print(\"Mean Absolute Error : \" + str(mean_absolute_error(test_y,dnn_predict)))"
      ],
      "metadata": {
        "id": "_wsjRIhu9a0l",
        "colab": {
          "base_uri": "https://localhost:8080/"
        },
        "outputId": "65d21990-ca8e-46cc-bfa4-712d9c3f5be9"
      },
      "execution_count": null,
      "outputs": [
        {
          "output_type": "stream",
          "name": "stdout",
          "text": [
            "SIMPLE DNN PERFORMANCE\n",
            "r2 score: -1.1999354179002282\n",
            "RMSE : 0.46425889782401564\n",
            "Mean Absolute Error : 0.3367392089881141\n"
          ]
        }
      ]
    },
    {
      "cell_type": "code",
      "source": [
        "dnn_predict"
      ],
      "metadata": {
        "colab": {
          "base_uri": "https://localhost:8080/"
        },
        "id": "vjwKgYXxSdse",
        "outputId": "f6e563fc-d974-49f4-e210-16b851f6b2ff"
      },
      "execution_count": null,
      "outputs": [
        {
          "output_type": "execute_result",
          "data": {
            "text/plain": [
              "-0.01256341"
            ]
          },
          "metadata": {},
          "execution_count": 33
        }
      ]
    },
    {
      "cell_type": "markdown",
      "source": [
        "Complex DNN Model"
      ],
      "metadata": {
        "id": "rJeYCaUj9cjF"
      }
    },
    {
      "cell_type": "code",
      "source": [
        "train_X, test_X, train_y, test_y = train_test_split(X, Y, test_size=0.25)\n",
        "train_X,val_X,train_y,val_y = train_test_split(train_X, train_y, test_size=0.25)"
      ],
      "metadata": {
        "id": "kNLFWb089fGo"
      },
      "execution_count": null,
      "outputs": []
    },
    {
      "cell_type": "code",
      "source": [
        "from tensorflow import keras\n",
        "from tensorflow.keras import layers, callbacks\n",
        "\n",
        "early_stopping = callbacks.EarlyStopping(\n",
        "    min_delta=0.0001, # minimium change considered improvement\n",
        "    patience=50, # how many epochs to wait before stopping\n",
        "    restore_best_weights=True,\n",
        ")\n",
        "\n",
        "#train_X, test_X, train_y, test_y\n",
        "model = keras.Sequential([\n",
        "    layers.Dense(units=1024, input_shape=[len(train_X.columns)]),\n",
        "    layers.Dropout(0.2),\n",
        "    layers.BatchNormalization(),\n",
        "    layers.Dense(512, activation='relu'),\n",
        "    layers.Dropout(0.2),\n",
        "    layers.BatchNormalization(),\n",
        "    layers.Dense(256, activation='relu'),\n",
        "    layers.Dropout(0.2),\n",
        "    layers.BatchNormalization(),\n",
        "    layers.Dense(1)\n",
        "\n",
        "])\n",
        "\n",
        "model.compile(\n",
        "    optimizer='adam',\n",
        "    loss='mae',\n",
        ")\n",
        "\n",
        "history = model.fit(\n",
        "    train_X, train_y,\n",
        "    validation_data=(val_X, val_y),\n",
        "    batch_size=256,\n",
        "    epochs=200,\n",
        "    callbacks=[early_stopping], # put your callbacks in a list\n",
        "    verbose=True\n",
        ")"
      ],
      "metadata": {
        "id": "MqezI4-29j2e",
        "colab": {
          "base_uri": "https://localhost:8080/",
          "height": 1000
        },
        "outputId": "5421e9d8-80b3-4028-cd93-bc72a03d2128"
      },
      "execution_count": null,
      "outputs": [
        {
          "output_type": "stream",
          "name": "stdout",
          "text": [
            "Epoch 1/200\n",
            "3/3 [==============================] - 2s 271ms/step - loss: 1.7399 - val_loss: 0.3193\n",
            "Epoch 2/200\n",
            "3/3 [==============================] - 0s 110ms/step - loss: 1.3498 - val_loss: 0.2442\n",
            "Epoch 3/200\n",
            "3/3 [==============================] - 0s 85ms/step - loss: 0.9103 - val_loss: 0.2518\n",
            "Epoch 4/200\n",
            "3/3 [==============================] - 0s 85ms/step - loss: 0.7357 - val_loss: 0.2396\n",
            "Epoch 5/200\n",
            "3/3 [==============================] - 0s 99ms/step - loss: 0.6757 - val_loss: 0.1740\n",
            "Epoch 6/200\n",
            "3/3 [==============================] - 0s 96ms/step - loss: 0.6583 - val_loss: 0.2039\n",
            "Epoch 7/200\n",
            "3/3 [==============================] - 0s 88ms/step - loss: 0.5785 - val_loss: 0.2466\n",
            "Epoch 8/200\n",
            "3/3 [==============================] - 0s 85ms/step - loss: 0.5593 - val_loss: 0.2395\n",
            "Epoch 9/200\n",
            "3/3 [==============================] - 0s 92ms/step - loss: 0.5654 - val_loss: 0.2028\n",
            "Epoch 10/200\n",
            "3/3 [==============================] - 0s 141ms/step - loss: 0.5384 - val_loss: 0.2070\n",
            "Epoch 11/200\n",
            "3/3 [==============================] - 0s 81ms/step - loss: 0.5498 - val_loss: 0.2385\n",
            "Epoch 12/200\n",
            "3/3 [==============================] - 0s 113ms/step - loss: 0.5031 - val_loss: 0.2385\n",
            "Epoch 13/200\n",
            "3/3 [==============================] - 0s 74ms/step - loss: 0.4950 - val_loss: 0.2311\n",
            "Epoch 14/200\n",
            "3/3 [==============================] - 0s 104ms/step - loss: 0.4671 - val_loss: 0.2236\n",
            "Epoch 15/200\n",
            "3/3 [==============================] - 0s 79ms/step - loss: 0.4850 - val_loss: 0.2267\n",
            "Epoch 16/200\n",
            "3/3 [==============================] - 0s 90ms/step - loss: 0.4608 - val_loss: 0.2366\n",
            "Epoch 17/200\n",
            "3/3 [==============================] - 0s 96ms/step - loss: 0.4661 - val_loss: 0.2377\n",
            "Epoch 18/200\n",
            "3/3 [==============================] - 0s 98ms/step - loss: 0.4632 - val_loss: 0.2227\n",
            "Epoch 19/200\n",
            "3/3 [==============================] - 0s 51ms/step - loss: 0.4973 - val_loss: 0.2246\n",
            "Epoch 20/200\n",
            "3/3 [==============================] - 0s 52ms/step - loss: 0.4099 - val_loss: 0.2235\n",
            "Epoch 21/200\n",
            "3/3 [==============================] - 0s 51ms/step - loss: 0.4430 - val_loss: 0.2189\n",
            "Epoch 22/200\n",
            "3/3 [==============================] - 0s 53ms/step - loss: 0.4521 - val_loss: 0.2062\n",
            "Epoch 23/200\n",
            "3/3 [==============================] - 0s 53ms/step - loss: 0.4290 - val_loss: 0.2115\n",
            "Epoch 24/200\n",
            "3/3 [==============================] - 0s 63ms/step - loss: 0.4023 - val_loss: 0.2159\n",
            "Epoch 25/200\n",
            "3/3 [==============================] - 0s 51ms/step - loss: 0.4185 - val_loss: 0.2098\n",
            "Epoch 26/200\n",
            "3/3 [==============================] - 0s 54ms/step - loss: 0.3829 - val_loss: 0.1973\n",
            "Epoch 27/200\n",
            "3/3 [==============================] - 0s 53ms/step - loss: 0.4186 - val_loss: 0.2063\n",
            "Epoch 28/200\n",
            "3/3 [==============================] - 0s 52ms/step - loss: 0.4041 - val_loss: 0.2149\n",
            "Epoch 29/200\n",
            "3/3 [==============================] - 0s 51ms/step - loss: 0.4109 - val_loss: 0.2197\n",
            "Epoch 30/200\n",
            "3/3 [==============================] - 0s 56ms/step - loss: 0.3985 - val_loss: 0.2294\n",
            "Epoch 31/200\n",
            "3/3 [==============================] - 0s 55ms/step - loss: 0.3792 - val_loss: 0.2116\n",
            "Epoch 32/200\n",
            "3/3 [==============================] - 0s 53ms/step - loss: 0.3901 - val_loss: 0.2075\n",
            "Epoch 33/200\n",
            "3/3 [==============================] - 0s 52ms/step - loss: 0.3637 - val_loss: 0.2143\n",
            "Epoch 34/200\n",
            "1/3 [=========>....................] - ETA: 0s - loss: 0.3620"
          ]
        },
        {
          "output_type": "error",
          "ename": "KeyboardInterrupt",
          "evalue": "ignored",
          "traceback": [
            "\u001b[0;31m---------------------------------------------------------------------------\u001b[0m",
            "\u001b[0;31mKeyboardInterrupt\u001b[0m                         Traceback (most recent call last)",
            "\u001b[0;32m<ipython-input-35-a8c2f0e7f58a>\u001b[0m in \u001b[0;36m<module>\u001b[0;34m()\u001b[0m\n\u001b[1;32m     34\u001b[0m     \u001b[0mepochs\u001b[0m\u001b[0;34m=\u001b[0m\u001b[0;36m200\u001b[0m\u001b[0;34m,\u001b[0m\u001b[0;34m\u001b[0m\u001b[0;34m\u001b[0m\u001b[0m\n\u001b[1;32m     35\u001b[0m     \u001b[0mcallbacks\u001b[0m\u001b[0;34m=\u001b[0m\u001b[0;34m[\u001b[0m\u001b[0mearly_stopping\u001b[0m\u001b[0;34m]\u001b[0m\u001b[0;34m,\u001b[0m \u001b[0;31m# put your callbacks in a list\u001b[0m\u001b[0;34m\u001b[0m\u001b[0;34m\u001b[0m\u001b[0m\n\u001b[0;32m---> 36\u001b[0;31m     \u001b[0mverbose\u001b[0m\u001b[0;34m=\u001b[0m\u001b[0;32mTrue\u001b[0m\u001b[0;34m\u001b[0m\u001b[0;34m\u001b[0m\u001b[0m\n\u001b[0m\u001b[1;32m     37\u001b[0m )\n",
            "\u001b[0;32m/usr/local/lib/python3.7/dist-packages/keras/utils/traceback_utils.py\u001b[0m in \u001b[0;36merror_handler\u001b[0;34m(*args, **kwargs)\u001b[0m\n\u001b[1;32m     62\u001b[0m     \u001b[0mfiltered_tb\u001b[0m \u001b[0;34m=\u001b[0m \u001b[0;32mNone\u001b[0m\u001b[0;34m\u001b[0m\u001b[0;34m\u001b[0m\u001b[0m\n\u001b[1;32m     63\u001b[0m     \u001b[0;32mtry\u001b[0m\u001b[0;34m:\u001b[0m\u001b[0;34m\u001b[0m\u001b[0;34m\u001b[0m\u001b[0m\n\u001b[0;32m---> 64\u001b[0;31m       \u001b[0;32mreturn\u001b[0m \u001b[0mfn\u001b[0m\u001b[0;34m(\u001b[0m\u001b[0;34m*\u001b[0m\u001b[0margs\u001b[0m\u001b[0;34m,\u001b[0m \u001b[0;34m**\u001b[0m\u001b[0mkwargs\u001b[0m\u001b[0;34m)\u001b[0m\u001b[0;34m\u001b[0m\u001b[0;34m\u001b[0m\u001b[0m\n\u001b[0m\u001b[1;32m     65\u001b[0m     \u001b[0;32mexcept\u001b[0m \u001b[0mException\u001b[0m \u001b[0;32mas\u001b[0m \u001b[0me\u001b[0m\u001b[0;34m:\u001b[0m  \u001b[0;31m# pylint: disable=broad-except\u001b[0m\u001b[0;34m\u001b[0m\u001b[0;34m\u001b[0m\u001b[0m\n\u001b[1;32m     66\u001b[0m       \u001b[0mfiltered_tb\u001b[0m \u001b[0;34m=\u001b[0m \u001b[0m_process_traceback_frames\u001b[0m\u001b[0;34m(\u001b[0m\u001b[0me\u001b[0m\u001b[0;34m.\u001b[0m\u001b[0m__traceback__\u001b[0m\u001b[0;34m)\u001b[0m\u001b[0;34m\u001b[0m\u001b[0;34m\u001b[0m\u001b[0m\n",
            "\u001b[0;32m/usr/local/lib/python3.7/dist-packages/keras/engine/training.py\u001b[0m in \u001b[0;36mfit\u001b[0;34m(self, x, y, batch_size, epochs, verbose, callbacks, validation_split, validation_data, shuffle, class_weight, sample_weight, initial_epoch, steps_per_epoch, validation_steps, validation_batch_size, validation_freq, max_queue_size, workers, use_multiprocessing)\u001b[0m\n\u001b[1;32m   1382\u001b[0m                 _r=1):\n\u001b[1;32m   1383\u001b[0m               \u001b[0mcallbacks\u001b[0m\u001b[0;34m.\u001b[0m\u001b[0mon_train_batch_begin\u001b[0m\u001b[0;34m(\u001b[0m\u001b[0mstep\u001b[0m\u001b[0;34m)\u001b[0m\u001b[0;34m\u001b[0m\u001b[0;34m\u001b[0m\u001b[0m\n\u001b[0;32m-> 1384\u001b[0;31m               \u001b[0mtmp_logs\u001b[0m \u001b[0;34m=\u001b[0m \u001b[0mself\u001b[0m\u001b[0;34m.\u001b[0m\u001b[0mtrain_function\u001b[0m\u001b[0;34m(\u001b[0m\u001b[0miterator\u001b[0m\u001b[0;34m)\u001b[0m\u001b[0;34m\u001b[0m\u001b[0;34m\u001b[0m\u001b[0m\n\u001b[0m\u001b[1;32m   1385\u001b[0m               \u001b[0;32mif\u001b[0m \u001b[0mdata_handler\u001b[0m\u001b[0;34m.\u001b[0m\u001b[0mshould_sync\u001b[0m\u001b[0;34m:\u001b[0m\u001b[0;34m\u001b[0m\u001b[0;34m\u001b[0m\u001b[0m\n\u001b[1;32m   1386\u001b[0m                 \u001b[0mcontext\u001b[0m\u001b[0;34m.\u001b[0m\u001b[0masync_wait\u001b[0m\u001b[0;34m(\u001b[0m\u001b[0;34m)\u001b[0m\u001b[0;34m\u001b[0m\u001b[0;34m\u001b[0m\u001b[0m\n",
            "\u001b[0;32m/usr/local/lib/python3.7/dist-packages/tensorflow/python/util/traceback_utils.py\u001b[0m in \u001b[0;36merror_handler\u001b[0;34m(*args, **kwargs)\u001b[0m\n\u001b[1;32m    148\u001b[0m     \u001b[0mfiltered_tb\u001b[0m \u001b[0;34m=\u001b[0m \u001b[0;32mNone\u001b[0m\u001b[0;34m\u001b[0m\u001b[0;34m\u001b[0m\u001b[0m\n\u001b[1;32m    149\u001b[0m     \u001b[0;32mtry\u001b[0m\u001b[0;34m:\u001b[0m\u001b[0;34m\u001b[0m\u001b[0;34m\u001b[0m\u001b[0m\n\u001b[0;32m--> 150\u001b[0;31m       \u001b[0;32mreturn\u001b[0m \u001b[0mfn\u001b[0m\u001b[0;34m(\u001b[0m\u001b[0;34m*\u001b[0m\u001b[0margs\u001b[0m\u001b[0;34m,\u001b[0m \u001b[0;34m**\u001b[0m\u001b[0mkwargs\u001b[0m\u001b[0;34m)\u001b[0m\u001b[0;34m\u001b[0m\u001b[0;34m\u001b[0m\u001b[0m\n\u001b[0m\u001b[1;32m    151\u001b[0m     \u001b[0;32mexcept\u001b[0m \u001b[0mException\u001b[0m \u001b[0;32mas\u001b[0m \u001b[0me\u001b[0m\u001b[0;34m:\u001b[0m\u001b[0;34m\u001b[0m\u001b[0;34m\u001b[0m\u001b[0m\n\u001b[1;32m    152\u001b[0m       \u001b[0mfiltered_tb\u001b[0m \u001b[0;34m=\u001b[0m \u001b[0m_process_traceback_frames\u001b[0m\u001b[0;34m(\u001b[0m\u001b[0me\u001b[0m\u001b[0;34m.\u001b[0m\u001b[0m__traceback__\u001b[0m\u001b[0;34m)\u001b[0m\u001b[0;34m\u001b[0m\u001b[0;34m\u001b[0m\u001b[0m\n",
            "\u001b[0;32m/usr/local/lib/python3.7/dist-packages/tensorflow/python/eager/def_function.py\u001b[0m in \u001b[0;36m__call__\u001b[0;34m(self, *args, **kwds)\u001b[0m\n\u001b[1;32m    913\u001b[0m \u001b[0;34m\u001b[0m\u001b[0m\n\u001b[1;32m    914\u001b[0m       \u001b[0;32mwith\u001b[0m \u001b[0mOptionalXlaContext\u001b[0m\u001b[0;34m(\u001b[0m\u001b[0mself\u001b[0m\u001b[0;34m.\u001b[0m\u001b[0m_jit_compile\u001b[0m\u001b[0;34m)\u001b[0m\u001b[0;34m:\u001b[0m\u001b[0;34m\u001b[0m\u001b[0;34m\u001b[0m\u001b[0m\n\u001b[0;32m--> 915\u001b[0;31m         \u001b[0mresult\u001b[0m \u001b[0;34m=\u001b[0m \u001b[0mself\u001b[0m\u001b[0;34m.\u001b[0m\u001b[0m_call\u001b[0m\u001b[0;34m(\u001b[0m\u001b[0;34m*\u001b[0m\u001b[0margs\u001b[0m\u001b[0;34m,\u001b[0m \u001b[0;34m**\u001b[0m\u001b[0mkwds\u001b[0m\u001b[0;34m)\u001b[0m\u001b[0;34m\u001b[0m\u001b[0;34m\u001b[0m\u001b[0m\n\u001b[0m\u001b[1;32m    916\u001b[0m \u001b[0;34m\u001b[0m\u001b[0m\n\u001b[1;32m    917\u001b[0m       \u001b[0mnew_tracing_count\u001b[0m \u001b[0;34m=\u001b[0m \u001b[0mself\u001b[0m\u001b[0;34m.\u001b[0m\u001b[0mexperimental_get_tracing_count\u001b[0m\u001b[0;34m(\u001b[0m\u001b[0;34m)\u001b[0m\u001b[0;34m\u001b[0m\u001b[0;34m\u001b[0m\u001b[0m\n",
            "\u001b[0;32m/usr/local/lib/python3.7/dist-packages/tensorflow/python/eager/def_function.py\u001b[0m in \u001b[0;36m_call\u001b[0;34m(self, *args, **kwds)\u001b[0m\n\u001b[1;32m    945\u001b[0m       \u001b[0;31m# In this case we have created variables on the first call, so we run the\u001b[0m\u001b[0;34m\u001b[0m\u001b[0;34m\u001b[0m\u001b[0;34m\u001b[0m\u001b[0m\n\u001b[1;32m    946\u001b[0m       \u001b[0;31m# defunned version which is guaranteed to never create variables.\u001b[0m\u001b[0;34m\u001b[0m\u001b[0;34m\u001b[0m\u001b[0;34m\u001b[0m\u001b[0m\n\u001b[0;32m--> 947\u001b[0;31m       \u001b[0;32mreturn\u001b[0m \u001b[0mself\u001b[0m\u001b[0;34m.\u001b[0m\u001b[0m_stateless_fn\u001b[0m\u001b[0;34m(\u001b[0m\u001b[0;34m*\u001b[0m\u001b[0margs\u001b[0m\u001b[0;34m,\u001b[0m \u001b[0;34m**\u001b[0m\u001b[0mkwds\u001b[0m\u001b[0;34m)\u001b[0m  \u001b[0;31m# pylint: disable=not-callable\u001b[0m\u001b[0;34m\u001b[0m\u001b[0;34m\u001b[0m\u001b[0m\n\u001b[0m\u001b[1;32m    948\u001b[0m     \u001b[0;32melif\u001b[0m \u001b[0mself\u001b[0m\u001b[0;34m.\u001b[0m\u001b[0m_stateful_fn\u001b[0m \u001b[0;32mis\u001b[0m \u001b[0;32mnot\u001b[0m \u001b[0;32mNone\u001b[0m\u001b[0;34m:\u001b[0m\u001b[0;34m\u001b[0m\u001b[0;34m\u001b[0m\u001b[0m\n\u001b[1;32m    949\u001b[0m       \u001b[0;31m# Release the lock early so that multiple threads can perform the call\u001b[0m\u001b[0;34m\u001b[0m\u001b[0;34m\u001b[0m\u001b[0;34m\u001b[0m\u001b[0m\n",
            "\u001b[0;32m/usr/local/lib/python3.7/dist-packages/tensorflow/python/eager/function.py\u001b[0m in \u001b[0;36m__call__\u001b[0;34m(self, *args, **kwargs)\u001b[0m\n\u001b[1;32m   2955\u001b[0m        filtered_flat_args) = self._maybe_define_function(args, kwargs)\n\u001b[1;32m   2956\u001b[0m     return graph_function._call_flat(\n\u001b[0;32m-> 2957\u001b[0;31m         filtered_flat_args, captured_inputs=graph_function.captured_inputs)  # pylint: disable=protected-access\n\u001b[0m\u001b[1;32m   2958\u001b[0m \u001b[0;34m\u001b[0m\u001b[0m\n\u001b[1;32m   2959\u001b[0m   \u001b[0;34m@\u001b[0m\u001b[0mproperty\u001b[0m\u001b[0;34m\u001b[0m\u001b[0;34m\u001b[0m\u001b[0m\n",
            "\u001b[0;32m/usr/local/lib/python3.7/dist-packages/tensorflow/python/eager/function.py\u001b[0m in \u001b[0;36m_call_flat\u001b[0;34m(self, args, captured_inputs, cancellation_manager)\u001b[0m\n\u001b[1;32m   1852\u001b[0m       \u001b[0;31m# No tape is watching; skip to running the function.\u001b[0m\u001b[0;34m\u001b[0m\u001b[0;34m\u001b[0m\u001b[0;34m\u001b[0m\u001b[0m\n\u001b[1;32m   1853\u001b[0m       return self._build_call_outputs(self._inference_function.call(\n\u001b[0;32m-> 1854\u001b[0;31m           ctx, args, cancellation_manager=cancellation_manager))\n\u001b[0m\u001b[1;32m   1855\u001b[0m     forward_backward = self._select_forward_and_backward_functions(\n\u001b[1;32m   1856\u001b[0m         \u001b[0margs\u001b[0m\u001b[0;34m,\u001b[0m\u001b[0;34m\u001b[0m\u001b[0;34m\u001b[0m\u001b[0m\n",
            "\u001b[0;32m/usr/local/lib/python3.7/dist-packages/tensorflow/python/eager/function.py\u001b[0m in \u001b[0;36mcall\u001b[0;34m(self, ctx, args, cancellation_manager)\u001b[0m\n\u001b[1;32m    502\u001b[0m               \u001b[0minputs\u001b[0m\u001b[0;34m=\u001b[0m\u001b[0margs\u001b[0m\u001b[0;34m,\u001b[0m\u001b[0;34m\u001b[0m\u001b[0;34m\u001b[0m\u001b[0m\n\u001b[1;32m    503\u001b[0m               \u001b[0mattrs\u001b[0m\u001b[0;34m=\u001b[0m\u001b[0mattrs\u001b[0m\u001b[0;34m,\u001b[0m\u001b[0;34m\u001b[0m\u001b[0;34m\u001b[0m\u001b[0m\n\u001b[0;32m--> 504\u001b[0;31m               ctx=ctx)\n\u001b[0m\u001b[1;32m    505\u001b[0m         \u001b[0;32melse\u001b[0m\u001b[0;34m:\u001b[0m\u001b[0;34m\u001b[0m\u001b[0;34m\u001b[0m\u001b[0m\n\u001b[1;32m    506\u001b[0m           outputs = execute.execute_with_cancellation(\n",
            "\u001b[0;32m/usr/local/lib/python3.7/dist-packages/tensorflow/python/eager/execute.py\u001b[0m in \u001b[0;36mquick_execute\u001b[0;34m(op_name, num_outputs, inputs, attrs, ctx, name)\u001b[0m\n\u001b[1;32m     53\u001b[0m     \u001b[0mctx\u001b[0m\u001b[0;34m.\u001b[0m\u001b[0mensure_initialized\u001b[0m\u001b[0;34m(\u001b[0m\u001b[0;34m)\u001b[0m\u001b[0;34m\u001b[0m\u001b[0;34m\u001b[0m\u001b[0m\n\u001b[1;32m     54\u001b[0m     tensors = pywrap_tfe.TFE_Py_Execute(ctx._handle, device_name, op_name,\n\u001b[0;32m---> 55\u001b[0;31m                                         inputs, attrs, num_outputs)\n\u001b[0m\u001b[1;32m     56\u001b[0m   \u001b[0;32mexcept\u001b[0m \u001b[0mcore\u001b[0m\u001b[0;34m.\u001b[0m\u001b[0m_NotOkStatusException\u001b[0m \u001b[0;32mas\u001b[0m \u001b[0me\u001b[0m\u001b[0;34m:\u001b[0m\u001b[0;34m\u001b[0m\u001b[0;34m\u001b[0m\u001b[0m\n\u001b[1;32m     57\u001b[0m     \u001b[0;32mif\u001b[0m \u001b[0mname\u001b[0m \u001b[0;32mis\u001b[0m \u001b[0;32mnot\u001b[0m \u001b[0;32mNone\u001b[0m\u001b[0;34m:\u001b[0m\u001b[0;34m\u001b[0m\u001b[0;34m\u001b[0m\u001b[0m\n",
            "\u001b[0;31mKeyboardInterrupt\u001b[0m: "
          ]
        }
      ]
    },
    {
      "cell_type": "code",
      "source": [
        "#Expressing the loss - underfitting\n",
        "history_df = pd.DataFrame(history.history)\n",
        "history_df['loss'].plot();\n",
        "history_df['val_loss'].plot();\n",
        "plt.title(\"Complex DNN Structure\")"
      ],
      "metadata": {
        "id": "bXibji_c9ktU",
        "colab": {
          "base_uri": "https://localhost:8080/",
          "height": 240
        },
        "outputId": "9b2909a6-5f5b-49e3-9aa5-fed70d4f861d"
      },
      "execution_count": null,
      "outputs": [
        {
          "output_type": "error",
          "ename": "NameError",
          "evalue": "ignored",
          "traceback": [
            "\u001b[0;31m---------------------------------------------------------------------------\u001b[0m",
            "\u001b[0;31mNameError\u001b[0m                                 Traceback (most recent call last)",
            "\u001b[0;32m<ipython-input-36-b00a22b4156b>\u001b[0m in \u001b[0;36m<module>\u001b[0;34m()\u001b[0m\n\u001b[1;32m      1\u001b[0m \u001b[0;31m#Expressing the loss - underfitting\u001b[0m\u001b[0;34m\u001b[0m\u001b[0;34m\u001b[0m\u001b[0;34m\u001b[0m\u001b[0m\n\u001b[0;32m----> 2\u001b[0;31m \u001b[0mhistory_df\u001b[0m \u001b[0;34m=\u001b[0m \u001b[0mpd\u001b[0m\u001b[0;34m.\u001b[0m\u001b[0mDataFrame\u001b[0m\u001b[0;34m(\u001b[0m\u001b[0mhistory\u001b[0m\u001b[0;34m.\u001b[0m\u001b[0mhistory\u001b[0m\u001b[0;34m)\u001b[0m\u001b[0;34m\u001b[0m\u001b[0;34m\u001b[0m\u001b[0m\n\u001b[0m\u001b[1;32m      3\u001b[0m \u001b[0mhistory_df\u001b[0m\u001b[0;34m[\u001b[0m\u001b[0;34m'loss'\u001b[0m\u001b[0;34m]\u001b[0m\u001b[0;34m.\u001b[0m\u001b[0mplot\u001b[0m\u001b[0;34m(\u001b[0m\u001b[0;34m)\u001b[0m\u001b[0;34m;\u001b[0m\u001b[0;34m\u001b[0m\u001b[0;34m\u001b[0m\u001b[0m\n\u001b[1;32m      4\u001b[0m \u001b[0mhistory_df\u001b[0m\u001b[0;34m[\u001b[0m\u001b[0;34m'val_loss'\u001b[0m\u001b[0;34m]\u001b[0m\u001b[0;34m.\u001b[0m\u001b[0mplot\u001b[0m\u001b[0;34m(\u001b[0m\u001b[0;34m)\u001b[0m\u001b[0;34m;\u001b[0m\u001b[0;34m\u001b[0m\u001b[0;34m\u001b[0m\u001b[0m\n\u001b[1;32m      5\u001b[0m \u001b[0mplt\u001b[0m\u001b[0;34m.\u001b[0m\u001b[0mtitle\u001b[0m\u001b[0;34m(\u001b[0m\u001b[0;34m\"Complex DNN Structure\"\u001b[0m\u001b[0;34m)\u001b[0m\u001b[0;34m\u001b[0m\u001b[0;34m\u001b[0m\u001b[0m\n",
            "\u001b[0;31mNameError\u001b[0m: name 'history' is not defined"
          ]
        }
      ]
    },
    {
      "cell_type": "markdown",
      "source": [
        "XGBoost"
      ],
      "metadata": {
        "id": "9mkKkjF79ma7"
      }
    },
    {
      "cell_type": "code",
      "source": [
        "from xgboost import XGBRegressor\n",
        "\n",
        "train_X, test_X, train_y, test_y = train_test_split(X, Y, test_size=0.2)\n",
        "model = XGBRegressor(learning_rate = 0.01,n_estimators=1000)\n",
        "\n",
        "model.fit(train_X, train_y, early_stopping_rounds=5, eval_set=[(test_X, test_y)], verbose=False)\n",
        "xgb_pred_y = model.predict(test_X)"
      ],
      "metadata": {
        "id": "IRbqUARL9oPr",
        "colab": {
          "base_uri": "https://localhost:8080/"
        },
        "outputId": "f2eaf2cb-2784-47af-dbb3-10fe18a381ff"
      },
      "execution_count": null,
      "outputs": [
        {
          "output_type": "stream",
          "name": "stdout",
          "text": [
            "[13:58:04] WARNING: /workspace/src/objective/regression_obj.cu:152: reg:linear is now deprecated in favor of reg:squarederror.\n"
          ]
        }
      ]
    },
    {
      "cell_type": "code",
      "source": [
        "#Performance evaluation\n",
        "print('XGBOOST PERFORMANCE')\n",
        "print('r2 score: '+str(r2_score(test_y, xgb_pred_y)))\n",
        "print('RMSE : '+str(np.sqrt(mean_squared_error(test_y, xgb_pred_y))))\n",
        "print(\"Mean Absolute Error : \" + str(mean_absolute_error(test_y,xgb_pred_y)))"
      ],
      "metadata": {
        "id": "oPVlqmcI9qTE",
        "colab": {
          "base_uri": "https://localhost:8080/"
        },
        "outputId": "600653fc-2e60-4da9-e72e-7d10230f7d00"
      },
      "execution_count": null,
      "outputs": [
        {
          "output_type": "stream",
          "name": "stdout",
          "text": [
            "XGBOOST PERFORMANCE\n",
            "r2 score: 0.9994762276549368\n",
            "RMSE : 0.007001538922428736\n",
            "Mean Absolute Error : 0.004287173785081848\n"
          ]
        }
      ]
    },
    {
      "cell_type": "markdown",
      "source": [
        "CatBoost"
      ],
      "metadata": {
        "id": "iDeHyZAh9tKB"
      }
    },
    {
      "cell_type": "code",
      "source": [
        "pip install catboost"
      ],
      "metadata": {
        "id": "m612vg0K9sWr",
        "colab": {
          "base_uri": "https://localhost:8080/"
        },
        "outputId": "c59fce1f-b136-4c6f-f765-a1d38af98c5d"
      },
      "execution_count": null,
      "outputs": [
        {
          "output_type": "stream",
          "name": "stdout",
          "text": [
            "Collecting catboost\n",
            "  Downloading catboost-1.0.5-cp37-none-manylinux1_x86_64.whl (76.6 MB)\n",
            "\u001b[K     |████████████████████████████████| 76.6 MB 935 kB/s \n",
            "\u001b[?25hRequirement already satisfied: matplotlib in /usr/local/lib/python3.7/dist-packages (from catboost) (3.2.2)\n",
            "Requirement already satisfied: scipy in /usr/local/lib/python3.7/dist-packages (from catboost) (1.4.1)\n",
            "Requirement already satisfied: pandas>=0.24.0 in /usr/local/lib/python3.7/dist-packages (from catboost) (1.3.5)\n",
            "Requirement already satisfied: six in /usr/local/lib/python3.7/dist-packages (from catboost) (1.15.0)\n",
            "Requirement already satisfied: numpy>=1.16.0 in /usr/local/lib/python3.7/dist-packages (from catboost) (1.21.5)\n",
            "Requirement already satisfied: graphviz in /usr/local/lib/python3.7/dist-packages (from catboost) (0.10.1)\n",
            "Requirement already satisfied: plotly in /usr/local/lib/python3.7/dist-packages (from catboost) (5.5.0)\n",
            "Requirement already satisfied: pytz>=2017.3 in /usr/local/lib/python3.7/dist-packages (from pandas>=0.24.0->catboost) (2018.9)\n",
            "Requirement already satisfied: python-dateutil>=2.7.3 in /usr/local/lib/python3.7/dist-packages (from pandas>=0.24.0->catboost) (2.8.2)\n",
            "Requirement already satisfied: cycler>=0.10 in /usr/local/lib/python3.7/dist-packages (from matplotlib->catboost) (0.11.0)\n",
            "Requirement already satisfied: kiwisolver>=1.0.1 in /usr/local/lib/python3.7/dist-packages (from matplotlib->catboost) (1.4.0)\n",
            "Requirement already satisfied: pyparsing!=2.0.4,!=2.1.2,!=2.1.6,>=2.0.1 in /usr/local/lib/python3.7/dist-packages (from matplotlib->catboost) (3.0.7)\n",
            "Requirement already satisfied: typing-extensions in /usr/local/lib/python3.7/dist-packages (from kiwisolver>=1.0.1->matplotlib->catboost) (3.10.0.2)\n",
            "Requirement already satisfied: tenacity>=6.2.0 in /usr/local/lib/python3.7/dist-packages (from plotly->catboost) (8.0.1)\n",
            "Installing collected packages: catboost\n",
            "Successfully installed catboost-1.0.5\n"
          ]
        }
      ]
    },
    {
      "cell_type": "code",
      "source": [
        "from catboost import CatBoostRegressor\n",
        "\n",
        "model_cat = CatBoostRegressor(random_state=1002,logging_level='Silent')\n",
        "\n",
        "model_cat.fit(train_X, train_y, plot=True)\n",
        "pred_cat = model_cat.predict(test_X, verbose=True)"
      ],
      "metadata": {
        "id": "sQQlH8829vkw",
        "colab": {
          "base_uri": "https://localhost:8080/",
          "height": 17,
          "referenced_widgets": [
            "1e42e9686c944705bee034d64598ef05"
          ]
        },
        "outputId": "35a7da59-4022-4087-c982-aef323ad2ec3"
      },
      "execution_count": null,
      "outputs": [
        {
          "output_type": "display_data",
          "data": {
            "text/plain": [
              "MetricVisualizer(layout=Layout(align_self='stretch', height='500px'))"
            ],
            "application/vnd.jupyter.widget-view+json": {
              "version_major": 2,
              "version_minor": 0,
              "model_id": "1e42e9686c944705bee034d64598ef05"
            }
          },
          "metadata": {}
        }
      ]
    },
    {
      "cell_type": "code",
      "source": [
        "#Performance evaluation\n",
        "print('CATBoost PERFORMANCE')\n",
        "print('r2 score: '+str(r2_score(test_y, pred_cat)))\n",
        "print('RMSE : '+str(np.sqrt(mean_squared_error(test_y, pred_cat))))\n",
        "print(\"Mean Absolute Error : \" + str(mean_absolute_error(test_y,pred_cat)))"
      ],
      "metadata": {
        "id": "clNIozgb9xCE",
        "colab": {
          "base_uri": "https://localhost:8080/"
        },
        "outputId": "2c310e43-3257-4e2b-f67a-5ae42f9e70ab"
      },
      "execution_count": null,
      "outputs": [
        {
          "output_type": "stream",
          "name": "stdout",
          "text": [
            "CATBoost PERFORMANCE\n",
            "r2 score: 0.9993251040201563\n",
            "RMSE : 0.007947685001804641\n",
            "Mean Absolute Error : 0.005133748168232367\n"
          ]
        }
      ]
    },
    {
      "cell_type": "markdown",
      "source": [
        "ARIMA"
      ],
      "metadata": {
        "id": "q9jyD7ng9yss"
      }
    },
    {
      "cell_type": "markdown",
      "source": [
        "ARIMA - Auto Regression Integrated Moving Average (AR, I, MA)\n",
        "\n",
        "**p**: order of the autoregressive model (how lagged it is) -> # of preceding Y values that needs to be added\n",
        "\n",
        "**d**: degree of differencing (How much the value is different from the previous) -> d until it makes data stationary (const variance)\n",
        "\n",
        "e.g. \n",
        "\n",
        "If d=1:  yt  =  Yt - Yt-1\n",
        "\n",
        "If d=2:  yt  =  (Yt - Yt-1) - (Yt-1 - Yt-2)  = Yt - 2Yt-1 + Yt-2\n",
        "\n",
        "**q** : Order of moving average (MA) - error terms (adding the noise)"
      ],
      "metadata": {
        "id": "lDwO3ugZ94D9"
      }
    },
    {
      "cell_type": "markdown",
      "source": [
        "Criteria \n",
        "\n",
        "- ACF,PACF graph : appropriateness of the model\n",
        "- AIC : Lowest\n",
        "- BIC : Lowest"
      ],
      "metadata": {
        "id": "w2NuabV897lX"
      }
    },
    {
      "cell_type": "code",
      "source": [
        "df_close = df['Close']\n",
        "\n",
        "#For the ADF test\n",
        "\n",
        "def test_stationarity(timeseries):\n",
        "    #Determing rolling statistics\n",
        "    rolmean = timeseries.rolling(12).mean() #window size 12 mean\n",
        "\n",
        "    rolstd = timeseries.rolling(12).std() #windoiw size 12 std\n",
        "    #Plot rolling statistics:\n",
        "    plt.plot(timeseries, color='blue',label='Base')\n",
        "    plt.plot(rolmean, color='red', label='Rolling Mean')\n",
        "    plt.plot(rolstd, color='black', label = 'Rolling Std')\n",
        "    plt.legend(loc='best')\n",
        "    plt.title('Rolling Mean and Standard Deviation')\n",
        "    plt.show(block=False)\n",
        "\n",
        "    print(\"Results of dickey fuller test\")\n",
        "    adft = adfuller(timeseries,autolag='AIC')\n",
        "\n",
        "    # Resulting test statistics, p-value, lags used and number of observation\n",
        "    output = pd.Series(adft[0:4],index=['Test Statistics','p-value','# lags','# observations used'])\n",
        "    for key,values in adft[4].items():\n",
        "        output['critical value (%s)'%key] =  values\n",
        "    print(output)\n",
        "    \n",
        "test_stationarity(df_close)"
      ],
      "metadata": {
        "id": "OuSBNVnF9zln",
        "colab": {
          "base_uri": "https://localhost:8080/",
          "height": 441
        },
        "outputId": "cf118144-1c8b-4c5d-8d41-da6cfa3a563e"
      },
      "execution_count": null,
      "outputs": [
        {
          "output_type": "display_data",
          "data": {
            "text/plain": [
              "<Figure size 432x288 with 1 Axes>"
            ],
            "image/png": "[encoded data removed]"
          },
          "metadata": {
            "needs_background": "light"
          }
        },
        {
          "output_type": "stream",
          "name": "stdout",
          "text": [
            "Results of dickey fuller test\n",
            "Test Statistics           -1.457635\n",
            "p-value                    0.554355\n",
            "# lags                    20.000000\n",
            "# observations used     1236.000000\n",
            "critical value (1%)       -3.435652\n",
            "critical value (5%)       -2.863881\n",
            "critical value (10%)      -2.568016\n",
            "dtype: float64\n"
          ]
        }
      ]
    },
    {
      "cell_type": "markdown",
      "source": [
        "Unit Root Test : Time Series y_t = D_t + z_t + e_t\n",
        "\n",
        "D_t : Deterministic (trend,season)\n",
        "z_t : stochastic (random walk with a drift) testing this part\n",
        "e_t : stationary error\n",
        "Model with unit root has a \"spike and shocks\" = high unit root means highly stochastic\n",
        "\n",
        "Critical value (1%,5%,10% C.I) < Test Statistics\n",
        "\n",
        "H_0 : (O) unit root exists vs H_a : (X) unit root does not exist\n",
        "\n",
        "NOT Stationary"
      ],
      "metadata": {
        "id": "qrpX8fWl-BSl"
      }
    },
    {
      "cell_type": "code",
      "source": [
        "#The data is non-linear\n",
        "#Analyzing the Close, Trend, and seasonality\n",
        "result = seasonal_decompose(df_close, model='multiplicative', period = 30)\n",
        "\n",
        "fig = plt.figure()  \n",
        "fig = result.plot()  \n",
        "fig.set_size_inches(16, 8)"
      ],
      "metadata": {
        "id": "jGIQpUjK9-Lk",
        "colab": {
          "base_uri": "https://localhost:8080/",
          "height": 258
        },
        "outputId": "74638a88-113f-4bcc-edb4-2e54a1847508"
      },
      "execution_count": null,
      "outputs": [
        {
          "output_type": "error",
          "ename": "TypeError",
          "evalue": "ignored",
          "traceback": [
            "\u001b[0;31m---------------------------------------------------------------------------\u001b[0m",
            "\u001b[0;31mTypeError\u001b[0m                                 Traceback (most recent call last)",
            "\u001b[0;32m<ipython-input-44-cbe0a5c621ef>\u001b[0m in \u001b[0;36m<module>\u001b[0;34m()\u001b[0m\n\u001b[1;32m      1\u001b[0m \u001b[0;31m#The data is non-linear\u001b[0m\u001b[0;34m\u001b[0m\u001b[0;34m\u001b[0m\u001b[0;34m\u001b[0m\u001b[0m\n\u001b[1;32m      2\u001b[0m \u001b[0;31m#Analyzing the Close, Trend, and seasonality\u001b[0m\u001b[0;34m\u001b[0m\u001b[0;34m\u001b[0m\u001b[0;34m\u001b[0m\u001b[0m\n\u001b[0;32m----> 3\u001b[0;31m \u001b[0mresult\u001b[0m \u001b[0;34m=\u001b[0m \u001b[0mseasonal_decompose\u001b[0m\u001b[0;34m(\u001b[0m\u001b[0mdf_close\u001b[0m\u001b[0;34m,\u001b[0m \u001b[0mmodel\u001b[0m\u001b[0;34m=\u001b[0m\u001b[0;34m'multiplicative'\u001b[0m\u001b[0;34m,\u001b[0m \u001b[0mperiod\u001b[0m \u001b[0;34m=\u001b[0m \u001b[0;36m30\u001b[0m\u001b[0;34m)\u001b[0m\u001b[0;34m\u001b[0m\u001b[0;34m\u001b[0m\u001b[0m\n\u001b[0m\u001b[1;32m      4\u001b[0m \u001b[0;34m\u001b[0m\u001b[0m\n\u001b[1;32m      5\u001b[0m \u001b[0mfig\u001b[0m \u001b[0;34m=\u001b[0m \u001b[0mplt\u001b[0m\u001b[0;34m.\u001b[0m\u001b[0mfigure\u001b[0m\u001b[0;34m(\u001b[0m\u001b[0;34m)\u001b[0m\u001b[0;34m\u001b[0m\u001b[0;34m\u001b[0m\u001b[0m\n",
            "\u001b[0;31mTypeError\u001b[0m: seasonal_decompose() got an unexpected keyword argument 'period'"
          ]
        }
      ]
    },
    {
      "cell_type": "markdown",
      "source": [
        "Based on the graph above, it is evident that there is a downward trend in Close price, meaning that the data is **not stationary**\n",
        "\n",
        "- mean should be stationary over time\n",
        "- variance should not be function of time (homoscedasticity)\n",
        "-covariance should not be function of time\n",
        "\n"
      ],
      "metadata": {
        "id": "766cTdy8-G6m"
      }
    },
    {
      "cell_type": "markdown",
      "source": [
        "Methods to make data stationary : https://people.duke.edu/~rnau/whatuse.htm"
      ],
      "metadata": {
        "id": "ZeV-mWwX-KTt"
      }
    },
    {
      "cell_type": "code",
      "source": [
        "#Log,Differencing to make it stationary - Transformations such as logarithms can help to stabilise the variance of a time series. \n",
        "df_log = np.log(df_close)\n",
        "moving_avg = df_log.rolling(12).mean()\n",
        "std_dev = df_log.rolling(12).std()\n",
        "\n",
        "#Separating the training and testing\n",
        "train_data, test_data = df_log[:int(len(df_log)*0.9)], df_log[int(len(df_log)*0.9):]"
      ],
      "metadata": {
        "id": "jwE9Ob9q-Adb"
      },
      "execution_count": null,
      "outputs": []
    },
    {
      "cell_type": "markdown",
      "source": [
        "Autocorrelation : relationship between the lags (serial correlation)\n",
        "- X axis : # of lags\n",
        "- Y axis : Moran's I (how one is similar to surrounding)\n",
        "\n",
        "Below\n",
        "\n",
        "- ACF : Quite close to one another and is all in one side\n",
        "-PACF : Part of y(t) vs y(t-2) not explained by y(t-1)\n",
        "\n",
        "AR : ACF decrease slowly & PACF sharp drop\n",
        "\n",
        "MA : ACF sharp drop & PACF gradual decline\n",
        "\n",
        "ARMA : moth ACF & PACF decrease\n",
        "\n",
        "e.g. 둘 다 서서히 줄어들면 ARMA(1,1), ACF에서 두번 쭉 떨어지면 MA(2)"
      ],
      "metadata": {
        "id": "VLN3M80y-ORo"
      }
    },
    {
      "cell_type": "code",
      "source": [
        "#Auto-correlation\n",
        "plt.rcParams[\"figure.figsize\"] = (16,8)\n",
        "plot_acf(Y**2)\n",
        "plt.show()\n",
        "\n",
        "#Partial Auto-correlation\n",
        "plot_pacf(Y**2)\n",
        "plt.show()"
      ],
      "metadata": {
        "id": "03IVCN4R-RMC",
        "colab": {
          "base_uri": "https://localhost:8080/",
          "height": 686
        },
        "outputId": "d659b1df-6dd7-4e57-9af0-94d8c44dc77a"
      },
      "execution_count": null,
      "outputs": [
        {
          "output_type": "display_data",
          "data": {
            "text/plain": [
              "<Figure size 1152x576 with 1 Axes>"
            ],
            "image/png": "[encoded data removed]"
          },
          "metadata": {
            "needs_background": "light"
          }
        },
        {
          "output_type": "display_data",
          "data": {
            "text/plain": [
              "<Figure size 1152x576 with 1 Axes>"
            ],
            "image/png": "[encoded data removed]"
          },
          "metadata": {
            "needs_background": "light"
          }
        }
      ]
    },
    {
      "cell_type": "code",
      "source": [
        "#Selecting the mest ARIMA combination\n",
        "model_autoARIMA = auto_arima(train_data, start_p=0, start_q=0,\n",
        "                      test='adf',       # use adftest to find optimal 'd'\n",
        "                      max_p=10, max_q=10, # maximum p and q\n",
        "                      m=1,              # frequency of series\n",
        "                      d=None,           # let model determine 'd'\n",
        "                      seasonal=False,   # No Seasonality\n",
        "                      start_P=0, \n",
        "                      D=0, \n",
        "                      trace=True,\n",
        "                      error_action='ignore',  \n",
        "                      suppress_warnings=True, \n",
        "                      stepwise=True)\n",
        "\n",
        "print(model_autoARIMA.summary())\n",
        "\n",
        "model_autoARIMA.plot_diagnostics(figsize=(15,8))\n",
        "\n",
        "plt.show()\n"
      ],
      "metadata": {
        "id": "LFa12TsE-SzJ",
        "colab": {
          "base_uri": "https://localhost:8080/",
          "height": 235
        },
        "outputId": "e678ca5c-0c46-49f3-f599-5764f97be0a1"
      },
      "execution_count": null,
      "outputs": [
        {
          "output_type": "error",
          "ename": "NameError",
          "evalue": "ignored",
          "traceback": [
            "\u001b[0;31m---------------------------------------------------------------------------\u001b[0m",
            "\u001b[0;31mNameError\u001b[0m                                 Traceback (most recent call last)",
            "\u001b[0;32m<ipython-input-83-f82177949ad6>\u001b[0m in \u001b[0;36m<module>\u001b[0;34m()\u001b[0m\n\u001b[1;32m      1\u001b[0m \u001b[0;31m#Selecting the mest ARIMA combination\u001b[0m\u001b[0;34m\u001b[0m\u001b[0;34m\u001b[0m\u001b[0;34m\u001b[0m\u001b[0m\n\u001b[0;32m----> 2\u001b[0;31m model_autoARIMA = auto_arima(train_data, start_p=0, start_q=0,\n\u001b[0m\u001b[1;32m      3\u001b[0m                       \u001b[0mtest\u001b[0m\u001b[0;34m=\u001b[0m\u001b[0;34m'adf'\u001b[0m\u001b[0;34m,\u001b[0m       \u001b[0;31m# use adftest to find optimal 'd'\u001b[0m\u001b[0;34m\u001b[0m\u001b[0;34m\u001b[0m\u001b[0m\n\u001b[1;32m      4\u001b[0m                       \u001b[0mmax_p\u001b[0m\u001b[0;34m=\u001b[0m\u001b[0;36m10\u001b[0m\u001b[0;34m,\u001b[0m \u001b[0mmax_q\u001b[0m\u001b[0;34m=\u001b[0m\u001b[0;36m10\u001b[0m\u001b[0;34m,\u001b[0m \u001b[0;31m# maximum p and q\u001b[0m\u001b[0;34m\u001b[0m\u001b[0;34m\u001b[0m\u001b[0m\n\u001b[1;32m      5\u001b[0m                       \u001b[0mm\u001b[0m\u001b[0;34m=\u001b[0m\u001b[0;36m1\u001b[0m\u001b[0;34m,\u001b[0m              \u001b[0;31m# frequency of series\u001b[0m\u001b[0;34m\u001b[0m\u001b[0;34m\u001b[0m\u001b[0m\n",
            "\u001b[0;31mNameError\u001b[0m: name 'auto_arima' is not defined"
          ]
        }
      ]
    },
    {
      "cell_type": "markdown",
      "source": [
        "Reference: https://www.statsmodels.org/dev/generated/statsmodels.tsa.arima.model.ARIMAResults.plot_diagnostics.html\n",
        "\n",
        "Produces a 2x2 plot grid with the following plots (ordered clockwise from top left):\n",
        "\n",
        "1. Standardized residuals over time\n",
        "\n",
        "2. Histogram plus estimated density of standardized residuals, along with a Normal(0,1) density plotted for reference. (KDE - Epanechnikov kernel function)\n",
        "\n",
        "3. Normal Q-Q plot, with Normal reference line. (finding the apt distribution)\n",
        "\n",
        "4. Correlogram"
      ],
      "metadata": {
        "id": "ph_uTZIf-U9L"
      }
    },
    {
      "cell_type": "code",
      "source": [
        "!pip install statsmodels"
      ],
      "metadata": {
        "colab": {
          "base_uri": "https://localhost:8080/"
        },
        "id": "_wYKIixDZ3dT",
        "outputId": "6a7e34f8-c16e-465b-8859-657bbd46909a"
      },
      "execution_count": null,
      "outputs": [
        {
          "output_type": "stream",
          "name": "stdout",
          "text": [
            "Requirement already satisfied: statsmodels in /usr/local/lib/python3.7/dist-packages (0.10.2)\n",
            "Requirement already satisfied: pandas>=0.19 in /usr/local/lib/python3.7/dist-packages (from statsmodels) (1.3.5)\n",
            "Requirement already satisfied: patsy>=0.4.0 in /usr/local/lib/python3.7/dist-packages (from statsmodels) (0.5.2)\n",
            "Requirement already satisfied: scipy>=0.18 in /usr/local/lib/python3.7/dist-packages (from statsmodels) (1.4.1)\n",
            "Requirement already satisfied: numpy>=1.11 in /usr/local/lib/python3.7/dist-packages (from statsmodels) (1.21.5)\n",
            "Requirement already satisfied: python-dateutil>=2.7.3 in /usr/local/lib/python3.7/dist-packages (from pandas>=0.19->statsmodels) (2.8.2)\n",
            "Requirement already satisfied: pytz>=2017.3 in /usr/local/lib/python3.7/dist-packages (from pandas>=0.19->statsmodels) (2018.9)\n",
            "Requirement already satisfied: six in /usr/local/lib/python3.7/dist-packages (from patsy>=0.4.0->statsmodels) (1.15.0)\n"
          ]
        }
      ]
    },
    {
      "cell_type": "code",
      "source": [
        "#As expected, better to use the AR > MA focused model\n",
        "#Best model:  ARIMA(9,1,0)(0,0,0)[0]\n",
        "\n",
        "from statsmodels.tsa.arima_model import ARIMA\n",
        "\n",
        "model = ARIMA(train_data, order=(9,1,0))  \n",
        "arima_model = model.fit()\n",
        "\n",
        "print(arima_model.summary())"
      ],
      "metadata": {
        "id": "AimygD7x-Ywl",
        "colab": {
          "base_uri": "https://localhost:8080/"
        },
        "outputId": "607e3b0b-959d-4b4d-abf3-9621ce1feb2b"
      },
      "execution_count": null,
      "outputs": [
        {
          "output_type": "stream",
          "name": "stdout",
          "text": [
            "                             ARIMA Model Results                              \n",
            "==============================================================================\n",
            "Dep. Variable:                D.Close   No. Observations:                 1130\n",
            "Model:                 ARIMA(9, 1, 0)   Log Likelihood                2833.789\n",
            "Method:                       css-mle   S.D. of innovations              0.020\n",
            "Date:                Sun, 27 Mar 2022   AIC                          -5645.578\n",
            "Time:                        08:12:31   BIC                          -5590.248\n",
            "Sample:                             1   HQIC                         -5624.674\n",
            "                                                                              \n",
            "=================================================================================\n",
            "                    coef    std err          z      P>|z|      [0.025      0.975]\n",
            "---------------------------------------------------------------------------------\n",
            "const            -0.0014      0.001     -2.410      0.016      -0.002      -0.000\n",
            "ar.L1.D.Close    -0.0866      0.030     -2.924      0.004      -0.145      -0.029\n",
            "ar.L2.D.Close    -0.0043      0.030     -0.146      0.884      -0.062       0.054\n",
            "ar.L3.D.Close    -0.0127      0.029     -0.431      0.667      -0.070       0.045\n",
            "ar.L4.D.Close    -0.0019      0.029     -0.066      0.948      -0.060       0.056\n",
            "ar.L5.D.Close     0.0284      0.029      0.967      0.334      -0.029       0.086\n",
            "ar.L6.D.Close    -0.0401      0.029     -1.361      0.174      -0.098       0.018\n",
            "ar.L7.D.Close     0.0992      0.029      3.365      0.001       0.041       0.157\n",
            "ar.L8.D.Close    -0.0983      0.030     -3.318      0.001      -0.156      -0.040\n",
            "ar.L9.D.Close     0.0843      0.030      2.841      0.005       0.026       0.142\n",
            "                                    Roots                                    \n",
            "=============================================================================\n",
            "                  Real          Imaginary           Modulus         Frequency\n",
            "-----------------------------------------------------------------------------\n",
            "AR.1           -1.0587           -0.4485j            1.1497           -0.4362\n",
            "AR.2           -1.0587           +0.4485j            1.1497            0.4362\n",
            "AR.3           -0.5131           -1.1628j            1.2710           -0.3161\n",
            "AR.4           -0.5131           +1.1628j            1.2710            0.3161\n",
            "AR.5            0.3521           -1.3417j            1.3871           -0.2092\n",
            "AR.6            0.3521           +1.3417j            1.3871            0.2092\n",
            "AR.7            1.3979           -0.0000j            1.3979           -0.0000\n",
            "AR.8            1.1039           -0.9201j            1.4371           -0.1106\n",
            "AR.9            1.1039           +0.9201j            1.4371            0.1106\n",
            "-----------------------------------------------------------------------------\n"
          ]
        }
      ]
    },
    {
      "cell_type": "code",
      "source": [
        "#train,test -> after the log / difference\n",
        "plt.plot(train_data,color='blue')\n",
        "\n",
        "model = ARIMA(train_data[1:], order=(9,1,0))\n",
        "results = model.fit()\n",
        "plt.plot(results.fittedvalues[1:], color='red')"
      ],
      "metadata": {
        "id": "nm0Viy0L-aUA",
        "colab": {
          "base_uri": "https://localhost:8080/",
          "height": 353
        },
        "outputId": "a2122e57-f8ce-47ee-ce80-2fdaf8540eb5"
      },
      "execution_count": null,
      "outputs": [
        {
          "output_type": "execute_result",
          "data": {
            "text/plain": [
              "[<matplotlib.lines.Line2D at 0x7fd81a3ae290>]"
            ]
          },
          "metadata": {},
          "execution_count": 96
        },
        {
          "output_type": "display_data",
          "data": {
            "text/plain": [
              "<Figure size 1152x576 with 1 Axes>"
            ],
            "image/png": "[encoded data removed]"
          },
          "metadata": {
            "needs_background": "light"
          }
        }
      ]
    },
    {
      "cell_type": "code",
      "source": [
        "model = ARIMA(train_data, order=(9,1,0))"
      ],
      "metadata": {
        "id": "7Y7NP09K-bA0"
      },
      "execution_count": null,
      "outputs": []
    },
    {
      "cell_type": "code",
      "source": [
        "r = model.fit()"
      ],
      "metadata": {
        "id": "qFRip7QD-chg",
        "colab": {
          "base_uri": "https://localhost:8080/",
          "height": 346
        },
        "outputId": "6a491a0d-d1f4-4404-a1c1-afac11c6bcf7"
      },
      "execution_count": null,
      "outputs": [
        {
          "output_type": "error",
          "ename": "ValueError",
          "evalue": "ignored",
          "traceback": [
            "\u001b[0;31m---------------------------------------------------------------------------\u001b[0m",
            "\u001b[0;31mValueError\u001b[0m                                Traceback (most recent call last)",
            "\u001b[0;32m<ipython-input-97-27dd48e1fd70>\u001b[0m in \u001b[0;36m<module>\u001b[0;34m()\u001b[0m\n\u001b[0;32m----> 1\u001b[0;31m \u001b[0mr\u001b[0m \u001b[0;34m=\u001b[0m \u001b[0mmodel\u001b[0m\u001b[0;34m.\u001b[0m\u001b[0mfit\u001b[0m\u001b[0;34m(\u001b[0m\u001b[0;34m)\u001b[0m\u001b[0;34m\u001b[0m\u001b[0;34m\u001b[0m\u001b[0m\n\u001b[0m",
            "\u001b[0;32m/usr/local/lib/python3.7/dist-packages/statsmodels/tsa/arima_model.py\u001b[0m in \u001b[0;36mfit\u001b[0;34m(self, start_params, trend, method, transparams, solver, maxiter, full_output, disp, callback, start_ar_lags, **kwargs)\u001b[0m\n\u001b[1;32m   1147\u001b[0m                                            \u001b[0mmethod\u001b[0m\u001b[0;34m,\u001b[0m \u001b[0mtransparams\u001b[0m\u001b[0;34m,\u001b[0m \u001b[0msolver\u001b[0m\u001b[0;34m,\u001b[0m\u001b[0;34m\u001b[0m\u001b[0;34m\u001b[0m\u001b[0m\n\u001b[1;32m   1148\u001b[0m                                            \u001b[0mmaxiter\u001b[0m\u001b[0;34m,\u001b[0m \u001b[0mfull_output\u001b[0m\u001b[0;34m,\u001b[0m \u001b[0mdisp\u001b[0m\u001b[0;34m,\u001b[0m\u001b[0;34m\u001b[0m\u001b[0;34m\u001b[0m\u001b[0m\n\u001b[0;32m-> 1149\u001b[0;31m                                            callback, start_ar_lags, **kwargs)\n\u001b[0m\u001b[1;32m   1150\u001b[0m         \u001b[0mnormalized_cov_params\u001b[0m \u001b[0;34m=\u001b[0m \u001b[0;32mNone\u001b[0m  \u001b[0;31m# TODO: fix this?\u001b[0m\u001b[0;34m\u001b[0m\u001b[0;34m\u001b[0m\u001b[0m\n\u001b[1;32m   1151\u001b[0m         arima_fit = ARIMAResults(self, mlefit._results.params,\n",
            "\u001b[0;32m/usr/local/lib/python3.7/dist-packages/statsmodels/tsa/arima_model.py\u001b[0m in \u001b[0;36mfit\u001b[0;34m(self, start_params, trend, method, transparams, solver, maxiter, full_output, disp, callback, start_ar_lags, **kwargs)\u001b[0m\n\u001b[1;32m    902\u001b[0m         \u001b[0;31m# (re)set trend and handle exogenous variables\u001b[0m\u001b[0;34m\u001b[0m\u001b[0;34m\u001b[0m\u001b[0;34m\u001b[0m\u001b[0m\n\u001b[1;32m    903\u001b[0m         \u001b[0;31m# always pass original exog\u001b[0m\u001b[0;34m\u001b[0m\u001b[0;34m\u001b[0m\u001b[0;34m\u001b[0m\u001b[0m\n\u001b[0;32m--> 904\u001b[0;31m         \u001b[0mk_trend\u001b[0m\u001b[0;34m,\u001b[0m \u001b[0mexog\u001b[0m \u001b[0;34m=\u001b[0m \u001b[0m_make_arma_exog\u001b[0m\u001b[0;34m(\u001b[0m\u001b[0mendog\u001b[0m\u001b[0;34m,\u001b[0m \u001b[0mself\u001b[0m\u001b[0;34m.\u001b[0m\u001b[0mexog\u001b[0m\u001b[0;34m,\u001b[0m \u001b[0mtrend\u001b[0m\u001b[0;34m)\u001b[0m\u001b[0;34m\u001b[0m\u001b[0;34m\u001b[0m\u001b[0m\n\u001b[0m\u001b[1;32m    905\u001b[0m \u001b[0;34m\u001b[0m\u001b[0m\n\u001b[1;32m    906\u001b[0m         \u001b[0;31m# Check has something to estimate\u001b[0m\u001b[0;34m\u001b[0m\u001b[0;34m\u001b[0m\u001b[0;34m\u001b[0m\u001b[0m\n",
            "\u001b[0;32m/usr/local/lib/python3.7/dist-packages/statsmodels/tsa/arima_model.py\u001b[0m in \u001b[0;36m_make_arma_exog\u001b[0;34m(endog, exog, trend)\u001b[0m\n\u001b[1;32m    395\u001b[0m         \u001b[0mexog\u001b[0m \u001b[0;34m=\u001b[0m \u001b[0mnp\u001b[0m\u001b[0;34m.\u001b[0m\u001b[0mones\u001b[0m\u001b[0;34m(\u001b[0m\u001b[0;34m(\u001b[0m\u001b[0mlen\u001b[0m\u001b[0;34m(\u001b[0m\u001b[0mendog\u001b[0m\u001b[0;34m)\u001b[0m\u001b[0;34m,\u001b[0m \u001b[0;36m1\u001b[0m\u001b[0;34m)\u001b[0m\u001b[0;34m)\u001b[0m\u001b[0;34m\u001b[0m\u001b[0;34m\u001b[0m\u001b[0m\n\u001b[1;32m    396\u001b[0m     \u001b[0;32melif\u001b[0m \u001b[0mexog\u001b[0m \u001b[0;32mis\u001b[0m \u001b[0;32mnot\u001b[0m \u001b[0;32mNone\u001b[0m \u001b[0;32mand\u001b[0m \u001b[0mtrend\u001b[0m \u001b[0;34m==\u001b[0m \u001b[0;34m'c'\u001b[0m\u001b[0;34m:\u001b[0m  \u001b[0;31m# constant plus exogenous\u001b[0m\u001b[0;34m\u001b[0m\u001b[0;34m\u001b[0m\u001b[0m\n\u001b[0;32m--> 397\u001b[0;31m         \u001b[0mexog\u001b[0m \u001b[0;34m=\u001b[0m \u001b[0madd_trend\u001b[0m\u001b[0;34m(\u001b[0m\u001b[0mexog\u001b[0m\u001b[0;34m,\u001b[0m \u001b[0mtrend\u001b[0m\u001b[0;34m=\u001b[0m\u001b[0;34m'c'\u001b[0m\u001b[0;34m,\u001b[0m \u001b[0mprepend\u001b[0m\u001b[0;34m=\u001b[0m\u001b[0;32mTrue\u001b[0m\u001b[0;34m,\u001b[0m \u001b[0mhas_constant\u001b[0m\u001b[0;34m=\u001b[0m\u001b[0;34m'raise'\u001b[0m\u001b[0;34m)\u001b[0m\u001b[0;34m\u001b[0m\u001b[0;34m\u001b[0m\u001b[0m\n\u001b[0m\u001b[1;32m    398\u001b[0m     \u001b[0;32melif\u001b[0m \u001b[0mexog\u001b[0m \u001b[0;32mis\u001b[0m \u001b[0;32mnot\u001b[0m \u001b[0;32mNone\u001b[0m \u001b[0;32mand\u001b[0m \u001b[0mtrend\u001b[0m \u001b[0;34m==\u001b[0m \u001b[0;34m'nc'\u001b[0m\u001b[0;34m:\u001b[0m\u001b[0;34m\u001b[0m\u001b[0;34m\u001b[0m\u001b[0m\n\u001b[1;32m    399\u001b[0m         \u001b[0;31m# make sure it's not holding constant from last run\u001b[0m\u001b[0;34m\u001b[0m\u001b[0;34m\u001b[0m\u001b[0;34m\u001b[0m\u001b[0m\n",
            "\u001b[0;32m/usr/local/lib/python3.7/dist-packages/statsmodels/tsa/tsatools.py\u001b[0m in \u001b[0;36madd_trend\u001b[0;34m(x, trend, prepend, has_constant)\u001b[0m\n\u001b[1;32m    106\u001b[0m                 \u001b[0mmsg\u001b[0m \u001b[0;34m=\u001b[0m \u001b[0;34m\"x contains a constant. Adding a constant with \"\u001b[0m\u001b[0;31m \u001b[0m\u001b[0;31m\\\u001b[0m\u001b[0;34m\u001b[0m\u001b[0;34m\u001b[0m\u001b[0m\n\u001b[1;32m    107\u001b[0m                       \u001b[0;34m\"trend='{0}' is not allowed.\"\u001b[0m\u001b[0;34m.\u001b[0m\u001b[0mformat\u001b[0m\u001b[0;34m(\u001b[0m\u001b[0mtrend\u001b[0m\u001b[0;34m)\u001b[0m\u001b[0;34m\u001b[0m\u001b[0;34m\u001b[0m\u001b[0m\n\u001b[0;32m--> 108\u001b[0;31m                 \u001b[0;32mraise\u001b[0m \u001b[0mValueError\u001b[0m\u001b[0;34m(\u001b[0m\u001b[0mmsg\u001b[0m\u001b[0;34m)\u001b[0m\u001b[0;34m\u001b[0m\u001b[0;34m\u001b[0m\u001b[0m\n\u001b[0m\u001b[1;32m    109\u001b[0m             \u001b[0;32melif\u001b[0m \u001b[0mhas_constant\u001b[0m \u001b[0;34m==\u001b[0m \u001b[0;34m'skip'\u001b[0m\u001b[0;34m:\u001b[0m\u001b[0;34m\u001b[0m\u001b[0;34m\u001b[0m\u001b[0m\n\u001b[1;32m    110\u001b[0m                 \u001b[0mcolumns\u001b[0m \u001b[0;34m=\u001b[0m \u001b[0mcolumns\u001b[0m\u001b[0;34m[\u001b[0m\u001b[0;36m1\u001b[0m\u001b[0;34m:\u001b[0m\u001b[0;34m]\u001b[0m\u001b[0;34m\u001b[0m\u001b[0;34m\u001b[0m\u001b[0m\n",
            "\u001b[0;31mValueError\u001b[0m: x contains a constant. Adding a constant with trend='c' is not allowed."
          ]
        }
      ]
    },
    {
      "cell_type": "code",
      "source": [
        "x = r.predict(start=len(train_data),end=len(df))"
      ],
      "metadata": {
        "id": "urGF1egO-eSr",
        "colab": {
          "base_uri": "https://localhost:8080/",
          "height": 166
        },
        "outputId": "1a3346bc-7caf-4c6c-9255-a9253c0f36cb"
      },
      "execution_count": null,
      "outputs": [
        {
          "output_type": "error",
          "ename": "NameError",
          "evalue": "ignored",
          "traceback": [
            "\u001b[0;31m---------------------------------------------------------------------------\u001b[0m",
            "\u001b[0;31mNameError\u001b[0m                                 Traceback (most recent call last)",
            "\u001b[0;32m<ipython-input-98-2bb6462a69db>\u001b[0m in \u001b[0;36m<module>\u001b[0;34m()\u001b[0m\n\u001b[0;32m----> 1\u001b[0;31m \u001b[0mx\u001b[0m \u001b[0;34m=\u001b[0m \u001b[0mr\u001b[0m\u001b[0;34m.\u001b[0m\u001b[0mpredict\u001b[0m\u001b[0;34m(\u001b[0m\u001b[0mstart\u001b[0m\u001b[0;34m=\u001b[0m\u001b[0mlen\u001b[0m\u001b[0;34m(\u001b[0m\u001b[0mtrain_data\u001b[0m\u001b[0;34m)\u001b[0m\u001b[0;34m,\u001b[0m\u001b[0mend\u001b[0m\u001b[0;34m=\u001b[0m\u001b[0mlen\u001b[0m\u001b[0;34m(\u001b[0m\u001b[0mdf\u001b[0m\u001b[0;34m)\u001b[0m\u001b[0;34m)\u001b[0m\u001b[0;34m\u001b[0m\u001b[0;34m\u001b[0m\u001b[0m\n\u001b[0m",
            "\u001b[0;31mNameError\u001b[0m: name 'r' is not defined"
          ]
        }
      ]
    },
    {
      "cell_type": "code",
      "source": [
        "plt.plot(train_data,color='blue')\n",
        "plt.plot(results.fittedvalues[1:], color='red')\n",
        "plt.plot(test_data,color='green')\n",
        "plt.plot(x,color='orange')"
      ],
      "metadata": {
        "id": "3kTGRhUc-f49",
        "colab": {
          "base_uri": "https://localhost:8080/",
          "height": 519
        },
        "outputId": "7cb19505-114c-4e80-f478-192280530035"
      },
      "execution_count": null,
      "outputs": [
        {
          "output_type": "error",
          "ename": "NameError",
          "evalue": "ignored",
          "traceback": [
            "\u001b[0;31m---------------------------------------------------------------------------\u001b[0m",
            "\u001b[0;31mNameError\u001b[0m                                 Traceback (most recent call last)",
            "\u001b[0;32m<ipython-input-99-192a42f6069b>\u001b[0m in \u001b[0;36m<module>\u001b[0;34m()\u001b[0m\n\u001b[1;32m      2\u001b[0m \u001b[0mplt\u001b[0m\u001b[0;34m.\u001b[0m\u001b[0mplot\u001b[0m\u001b[0;34m(\u001b[0m\u001b[0mresults\u001b[0m\u001b[0;34m.\u001b[0m\u001b[0mfittedvalues\u001b[0m\u001b[0;34m[\u001b[0m\u001b[0;36m1\u001b[0m\u001b[0;34m:\u001b[0m\u001b[0;34m]\u001b[0m\u001b[0;34m,\u001b[0m \u001b[0mcolor\u001b[0m\u001b[0;34m=\u001b[0m\u001b[0;34m'red'\u001b[0m\u001b[0;34m)\u001b[0m\u001b[0;34m\u001b[0m\u001b[0;34m\u001b[0m\u001b[0m\n\u001b[1;32m      3\u001b[0m \u001b[0mplt\u001b[0m\u001b[0;34m.\u001b[0m\u001b[0mplot\u001b[0m\u001b[0;34m(\u001b[0m\u001b[0mtest_data\u001b[0m\u001b[0;34m,\u001b[0m\u001b[0mcolor\u001b[0m\u001b[0;34m=\u001b[0m\u001b[0;34m'green'\u001b[0m\u001b[0;34m)\u001b[0m\u001b[0;34m\u001b[0m\u001b[0;34m\u001b[0m\u001b[0m\n\u001b[0;32m----> 4\u001b[0;31m \u001b[0mplt\u001b[0m\u001b[0;34m.\u001b[0m\u001b[0mplot\u001b[0m\u001b[0;34m(\u001b[0m\u001b[0mx\u001b[0m\u001b[0;34m,\u001b[0m\u001b[0mcolor\u001b[0m\u001b[0;34m=\u001b[0m\u001b[0;34m'orange'\u001b[0m\u001b[0;34m)\u001b[0m\u001b[0;34m\u001b[0m\u001b[0;34m\u001b[0m\u001b[0m\n\u001b[0m",
            "\u001b[0;31mNameError\u001b[0m: name 'x' is not defined"
          ]
        },
        {
          "output_type": "display_data",
          "data": {
            "text/plain": [
              "<Figure size 1152x576 with 1 Axes>"
            ],
            "image/png": "[encoded data removed]"
          },
          "metadata": {
            "needs_background": "light"
          }
        }
      ]
    },
    {
      "cell_type": "markdown",
      "source": [
        "Autoregressive models are used for \n",
        "1. Stationary (AR)\n",
        "2. Trend (ARIMA)\n",
        "3. Seasonality (SARIMA)\n",
        "\n",
        "\n",
        "ARCH - AR(p) model applied to variance of time series\n"
      ],
      "metadata": {
        "id": "73aOGbPh-h_L"
      }
    },
    {
      "cell_type": "markdown",
      "source": [
        "RandomForest"
      ],
      "metadata": {
        "id": "Ev4ZisUa-lBT"
      }
    },
    {
      "cell_type": "code",
      "source": [
        "from sklearn.ensemble import RandomForestRegressor\n",
        "from sklearn.model_selection import cross_val_score\n",
        "from sklearn.pipeline import Pipeline\n",
        "from sklearn.impute import SimpleImputer\n",
        "\n",
        "final_pipeline = Pipeline(steps=[('preprocessor', SimpleImputer()),\n",
        "                              ('model', RandomForestRegressor(n_estimators=50,random_state=0))\n",
        "                             ])\n",
        "# cv returns negative MAE, so *-1\n",
        "scores = -1 * cross_val_score(final_pipeline, X, Y,\n",
        "                              cv=5, #how many partitions they have\n",
        "                              scoring='neg_mean_absolute_error')"
      ],
      "metadata": {
        "id": "0hPUpu8--hS0"
      },
      "execution_count": null,
      "outputs": []
    },
    {
      "cell_type": "code",
      "source": [
        "scores"
      ],
      "metadata": {
        "id": "0vI7GNTJ-pU0",
        "colab": {
          "base_uri": "https://localhost:8080/"
        },
        "outputId": "648bede5-abf3-4ed0-ebe9-ed9846360619"
      },
      "execution_count": null,
      "outputs": [
        {
          "output_type": "execute_result",
          "data": {
            "text/plain": [
              "array([0.077025  , 0.02609193, 0.00329158, 0.00198703, 0.00303056])"
            ]
          },
          "metadata": {},
          "execution_count": 101
        }
      ]
    },
    {
      "cell_type": "markdown",
      "source": [
        "CNN + LSTM"
      ],
      "metadata": {
        "id": "QuPlgIBo-txF"
      }
    },
    {
      "cell_type": "markdown",
      "source": [
        "## Anthony"
      ],
      "metadata": {
        "id": "LuvX1-2p6mlF"
      }
    },
    {
      "cell_type": "markdown",
      "source": [
        "### CNN_LSTM (Price Prediction)"
      ],
      "metadata": {
        "id": "gV6Od9DU_Tqj"
      }
    },
    {
      "cell_type": "markdown",
      "source": [
        "#### Load Data"
      ],
      "metadata": {
        "id": "yzgGQG-DxOaR"
      }
    },
    {
      "cell_type": "code",
      "source": [
        "train_X = custom_split(data,start = 20130101,end = 20171031)\n",
        "valid_X = custom_split(data,start = 20171101,end = 20181231)\n",
        "test_X = custom_split(data,start = 20190101,end = 20201231)"
      ],
      "metadata": {
        "id": "I9SfHXzk8w0b"
      },
      "execution_count": null,
      "outputs": []
    },
    {
      "cell_type": "markdown",
      "source": [
        "#### Label the target result"
      ],
      "metadata": {
        "id": "2aJ5myQg_a6z"
      }
    },
    {
      "cell_type": "code",
      "source": [
        "# Assume we use 10 days price data to predict opening price of the 11th day\n",
        "num_day_to_predict = 10"
      ],
      "metadata": {
        "id": "vKneXSH__c2E"
      },
      "execution_count": null,
      "outputs": []
    },
    {
      "cell_type": "code",
      "source": [
        "def produce_result_target_price(X,num_day,result_col_name = \"result_price\"):\n",
        "    y = pd.DataFrame(np.nan, index=X.index, columns=[result_col_name])\n",
        "    for i in range(len(X)-num_day):\n",
        "        y.iloc[i+num_day_to_predict,0] = X.iloc[i+num_day,0]\n",
        "    return y"
      ],
      "metadata": {
        "id": "HZDNP6WZ_fzU"
      },
      "execution_count": null,
      "outputs": []
    },
    {
      "cell_type": "code",
      "source": [
        "train_y = produce_result_target_price(train_X,num_day_to_predict)\n",
        "valid_y = produce_result_target_price(valid_X,num_day_to_predict)\n",
        "test_y = produce_result_target_price(test_X,num_day_to_predict)"
      ],
      "metadata": {
        "id": "H36uXsDs_hQ0"
      },
      "execution_count": null,
      "outputs": []
    },
    {
      "cell_type": "markdown",
      "source": [
        "#### Transform the X, y data into tensor"
      ],
      "metadata": {
        "id": "ZWbKH7k5t7Dd"
      }
    },
    {
      "cell_type": "code",
      "source": [
        "def transform_data_to_tensor(X,y,num_day):\n",
        "    # Initiate tensor for X\n",
        "    x_first = X.iloc[0:num_day,:]\n",
        "    x_mean = x_first.mean(axis=0) # Get the mean of the 10-day frame\n",
        "    x_std = x_first.std(axis=0) # Get the std of the 10-day frame\n",
        "    x_first = x_first.sub(x_mean, axis=1).div(x_std, axis=1) # Normalize the 10-day frame here\n",
        "    \n",
        "    # Initiate tensor for y\n",
        "    x_open = X.iloc[0:num_day,0]\n",
        "    y_val = y.iloc[num_day,:] # Get the corresponding y\n",
        "    y_val = y_val.sub(x_open.mean(axis=0)).div(x_open.std(axis=0)) # Normalize the y\n",
        "    \n",
        "    x_tf_data = [tf.convert_to_tensor(np.array(x_first),dtype = tf.float32)]\n",
        "    y_tf_data = [tf.convert_to_tensor(np.array(y_val),dtype = tf.float32)]\n",
        "    \n",
        "    for i in range(1,len(X)-num_day):   \n",
        "        x_window = X.iloc[i:i+num_day,:] # Set the window as a 10-day frame \n",
        "        x_mean = x_window.mean(axis=0) # Get the mean of the 10-day frame\n",
        "        x_std = x_window.std(axis=0) # Get the std of the 10-day frame\n",
        "        x_window = x_window.sub(x_mean, axis=1).div(x_std, axis=1) # Normalize the 10-day frame here\n",
        "        \n",
        "        x_open = X.iloc[i:i+num_day,0] # Get the opening price of the 10-day frame\n",
        "        y_val = y.iloc[i+num_day,:] # Get the corresponding y\n",
        "        y_val = y_val.sub(x_open.mean(axis=0)).div(x_open.std(axis=0)) # Normalize the y\n",
        "        \n",
        "        x_next_tf = tf.convert_to_tensor(np.array(x_window),dtype = tf.float32)\n",
        "        x_tf_data = tf.concat([x_tf_data, [x_next_tf]], 0)\n",
        "        \n",
        "        y_next_tf = tf.convert_to_tensor(np.array(y_val),dtype = tf.float32)\n",
        "        y_tf_data = tf.concat([y_tf_data, [y_next_tf]], 0)\n",
        "    return (tf.reshape(x_tf_data,(-1,10,14,1)),y_tf_data)"
      ],
      "metadata": {
        "id": "uODj6qeJ_qMk"
      },
      "execution_count": null,
      "outputs": []
    },
    {
      "cell_type": "code",
      "source": [
        "tf_train_X,tf_train_y = transform_data_to_tensor(train_X,train_y,num_day_to_predict)\n",
        "tf_valid_X,tf_valid_y = transform_data_to_tensor(valid_X,valid_y,num_day_to_predict)\n",
        "tf_test_X,tf_test_y = transform_data_to_tensor(test_X,test_y,num_day_to_predict)"
      ],
      "metadata": {
        "id": "xpvJQeBc_tBL"
      },
      "execution_count": null,
      "outputs": []
    },
    {
      "cell_type": "markdown",
      "source": [
        "#### Build the Model"
      ],
      "metadata": {
        "id": "KSEem6K8_yxX"
      }
    },
    {
      "cell_type": "code",
      "source": [
        "def myModel(input_shape,\n",
        "            encoder_unit = 100,\n",
        "            repeat_vector_n = 10):\n",
        "    \n",
        "    inputs = layers.Input(input_shape)\n",
        "    \n",
        "    print(\"Input: \",inputs.shape)\n",
        "    \n",
        "    # First Convolution + MaxPooling + Dropout\n",
        "    x = layers.Conv2D(filters = 64,kernel_size=(3,3), strides = (1,1), activation='relu', padding='valid')(inputs)\n",
        "    x = layers.MaxPooling2D(pool_size=(2,2),strides=(2,1), padding='valid')(x)\n",
        "    x = layers.Dropout(rate = 0.01)(x)\n",
        "    print(\"1 Cov: \",x.shape)\n",
        "    \n",
        "    # Second Convolution + MaxPooling + Dropout\n",
        "    x = layers.Conv2D(filters = 16,kernel_size=(3,3), strides = (1,1), activation='relu', padding='valid')(x)\n",
        "    x = layers.MaxPooling2D(pool_size=(2,2),strides=(2,1), padding='valid')(x)\n",
        "    x = layers.Dropout(rate = 0.01)(x)\n",
        "    print(\"2 Cov: \",x.shape)\n",
        "    \n",
        "    # Flatten Layer\n",
        "    x = layers.Flatten()(x)\n",
        "    print(\"Flatten: \",x.shape)\n",
        "    \n",
        "    # Repeat Vector Layer\n",
        "    x = layers.RepeatVector(n = repeat_vector_n)(x)\n",
        "    print(\"RepeatVector: \",x.shape)\n",
        "    \n",
        "    # Connect to LSTM\n",
        "    x = layers.LSTM(units = encoder_unit, input_shape=(5,1))(x)\n",
        "    print(\"LSTM: \",x.shape)\n",
        "    \n",
        "    # Add the Dense Layer with relu activation\n",
        "    x = layers.Dense(units = 50,activation = \"relu\")(x)\n",
        "    print(\"1 Dense: \",x.shape)\n",
        "    \n",
        "    # Add the last Dense Layer with sigmoid activation\n",
        "    outputs = layers.Dense(units = 1,activation = \"sigmoid\")(x)\n",
        "    print(\"Output: \",outputs.shape)\n",
        "    \n",
        "    return keras.Model(inputs=inputs, outputs=outputs)"
      ],
      "metadata": {
        "id": "pkcE46v0_x7k"
      },
      "execution_count": null,
      "outputs": []
    },
    {
      "cell_type": "markdown",
      "source": [
        "#### Model Training and Fitting and Validation"
      ],
      "metadata": {
        "id": "kxATrAN3_45D"
      }
    },
    {
      "cell_type": "code",
      "source": [
        "loss_list = [\"MAE\"]\n",
        "optimizer_list = [\"Adam\"]\n",
        "epoch_list = [30,50,100]\n",
        "batch_list = [50]\n",
        "encoder_list = [50,100]\n",
        "lr_list = [0.001,0.005,0.01]\n",
        "train_df = pd.DataFrame(columns = [\"Epoch\",\"Batch\",\"Optimizer\",\"LR\",\"Encoder Unit\",\"Loss\",\"Metrics\",\"Validation\"])\n",
        "best_model = \"\"\n",
        "best_valid = 99999\n",
        "metrics = [keras.metrics.MeanSquaredError()]\n",
        "\n",
        "for los in loss_list:\n",
        "    for opti in optimizer_list:\n",
        "        for epochs in epoch_list:\n",
        "            for batchs in batch_list:\n",
        "                for lr in lr_list:\n",
        "                    for encoder_u in encoder_list:\n",
        "\n",
        "                        model = myModel(input_shape=(num_day_to_predict,train_X.shape[1],1),\n",
        "                                        encoder_unit = encoder_u,\n",
        "                                        repeat_vector_n = 50\n",
        "                                       )\n",
        "\n",
        "                        if opti == \"Adam\":\n",
        "                            optimizer = keras.optimizers.Adam(learning_rate=lr)\n",
        "\n",
        "                        if los == \"MAE\":\n",
        "                            loss = keras.losses.MeanAbsoluteError()\n",
        "                        elif los == \"MSE\":\n",
        "                            loss = keras.losses.MeanSquaredError()\n",
        "\n",
        "                        model.compile(\n",
        "                            optimizer=optimizer,\n",
        "                            loss=loss,\n",
        "                            metrics=metrics,\n",
        "                        )\n",
        "\n",
        "                        history = model.fit(\n",
        "                                tf_train_X,\n",
        "                                tf_train_y,\n",
        "                                epochs = epochs,\n",
        "                                steps_per_epoch = batchs,\n",
        "                            )\n",
        "\n",
        "                        results = model.evaluate(tf_valid_X, tf_valid_y, batch_size=batchs)\n",
        "                        print(results)\n",
        "                        print(\"===== Summary =====\")\n",
        "                        print(\"Epoch: \",epochs)\n",
        "                        print(\"Batch Size: \",batchs)\n",
        "                        print(\"Optimizer: \",opti)\n",
        "                        print(\"Learning Rate: \",lr)\n",
        "                        print(\"Encoder Units: \",encoder_u)\n",
        "                        print(\"Loss Function: \", los)\n",
        "                        print(\"Metrics: \", metrics)\n",
        "                        print(\"Validation: \",results)\n",
        "                        if results[0] < best_valid:\n",
        "                            best_valid = results[0]\n",
        "                            best_model = model\n",
        "                        train_df = train_df.append({\"Epoch\": epochs,\n",
        "                                                    \"Batch\": batchs,\n",
        "                                                    \"Optimizer\": opti,\n",
        "                                                    \"LR\": lr,\n",
        "                                                    \"Encoder Unit\": encoder_u,\n",
        "                                                    \"Loss\": los,\n",
        "                                                    \"Metrics\": metrics,\n",
        "                                                    \"Validation\":results}, ignore_index=True)\n",
        "best_model.save(\"model/cnn_lstm_best\")"
      ],
      "metadata": {
        "id": "NHhIX0J7_6kj",
        "colab": {
          "base_uri": "https://localhost:8080/",
          "height": 1000
        },
        "outputId": "f91ce01e-022e-47ab-f425-38bdf240743f"
      },
      "execution_count": null,
      "outputs": [
        {
          "output_type": "stream",
          "name": "stdout",
          "text": [
            "Input:  (None, 10, 14, 1)\n",
            "1 Cov:  (None, 4, 11, 64)\n",
            "2 Cov:  (None, 1, 8, 16)\n",
            "Flatten:  (None, 128)\n",
            "RepeatVector:  (None, 50, 128)\n",
            "LSTM:  (None, 50)\n",
            "1 Dense:  (None, 50)\n",
            "Output:  (None, 1)\n",
            "Epoch 1/30\n",
            "50/50 [==============================] - 6s 44ms/step - loss: 1.1466 - mean_squared_error: 2.4558\n",
            "Epoch 2/30\n",
            "50/50 [==============================] - 2s 49ms/step - loss: 1.1166 - mean_squared_error: 2.3540\n",
            "Epoch 3/30\n",
            "50/50 [==============================] - 2s 49ms/step - loss: 1.0781 - mean_squared_error: 2.2069\n",
            "Epoch 4/30\n",
            "50/50 [==============================] - 2s 39ms/step - loss: 1.0673 - mean_squared_error: 2.1916\n",
            "Epoch 5/30\n",
            "50/50 [==============================] - 2s 43ms/step - loss: 1.0528 - mean_squared_error: 2.1686\n",
            "Epoch 6/30\n",
            "50/50 [==============================] - 2s 49ms/step - loss: 1.0240 - mean_squared_error: 2.0994\n",
            "Epoch 7/30\n",
            "50/50 [==============================] - 2s 44ms/step - loss: 1.0215 - mean_squared_error: 2.0949\n",
            "Epoch 8/30\n",
            "50/50 [==============================] - 2s 42ms/step - loss: 1.0246 - mean_squared_error: 2.1595\n",
            "Epoch 9/30\n",
            "50/50 [==============================] - 2s 40ms/step - loss: 1.0274 - mean_squared_error: 2.1568\n",
            "Epoch 10/30\n",
            "50/50 [==============================] - 2s 43ms/step - loss: 0.9951 - mean_squared_error: 1.9462\n",
            "Epoch 11/30\n",
            "50/50 [==============================] - 2s 40ms/step - loss: 1.0069 - mean_squared_error: 2.2214\n",
            "Epoch 12/30\n",
            "50/50 [==============================] - 2s 39ms/step - loss: 0.9655 - mean_squared_error: 1.8276\n",
            "Epoch 13/30\n",
            "50/50 [==============================] - 2s 39ms/step - loss: 1.0424 - mean_squared_error: 2.3012\n",
            "Epoch 14/30\n",
            "50/50 [==============================] - 2s 40ms/step - loss: 0.9776 - mean_squared_error: 1.9430\n",
            "Epoch 15/30\n",
            "50/50 [==============================] - 2s 40ms/step - loss: 0.9749 - mean_squared_error: 1.9711\n",
            "Epoch 16/30\n",
            "50/50 [==============================] - 3s 53ms/step - loss: 0.9629 - mean_squared_error: 1.9513\n",
            "Epoch 17/30\n",
            "50/50 [==============================] - 4s 86ms/step - loss: 0.9671 - mean_squared_error: 1.9440\n",
            "Epoch 18/30\n",
            "50/50 [==============================] - 3s 52ms/step - loss: 1.0159 - mean_squared_error: 2.2421\n",
            "Epoch 19/30\n",
            "50/50 [==============================] - 2s 41ms/step - loss: 0.9808 - mean_squared_error: 2.1136\n",
            "Epoch 20/30\n",
            "50/50 [==============================] - 2s 40ms/step - loss: 0.9518 - mean_squared_error: 1.7547\n",
            "Epoch 21/30\n",
            "50/50 [==============================] - 2s 49ms/step - loss: 0.9983 - mean_squared_error: 2.1697\n",
            "Epoch 22/30\n",
            "50/50 [==============================] - 2s 39ms/step - loss: 0.9712 - mean_squared_error: 1.8455\n",
            "Epoch 23/30\n",
            "50/50 [==============================] - 2s 38ms/step - loss: 0.9813 - mean_squared_error: 1.9982\n",
            "Epoch 24/30\n",
            "50/50 [==============================] - 2s 39ms/step - loss: 0.9602 - mean_squared_error: 2.1048\n",
            "Epoch 25/30\n",
            "50/50 [==============================] - 2s 40ms/step - loss: 0.9757 - mean_squared_error: 2.0391\n",
            "Epoch 26/30\n",
            "50/50 [==============================] - 2s 43ms/step - loss: 0.9728 - mean_squared_error: 2.0604\n",
            "Epoch 27/30\n",
            "50/50 [==============================] - 2s 40ms/step - loss: 0.9605 - mean_squared_error: 2.0184\n",
            "Epoch 28/30\n",
            "50/50 [==============================] - 2s 39ms/step - loss: 0.9594 - mean_squared_error: 1.8149\n",
            "Epoch 29/30\n",
            "50/50 [==============================] - 2s 45ms/step - loss: 0.9451 - mean_squared_error: 2.0282\n",
            "Epoch 30/30\n",
            "19/50 [==========>...................] - ETA: 1s - loss: 0.9687 - mean_squared_error: 1.9649WARNING:tensorflow:Your input ran out of data; interrupting training. Make sure that your dataset or generator can generate at least `steps_per_epoch * epochs` batches (in this case, 1500 batches). You may need to use the repeat() function when building your dataset.\n",
            "50/50 [==============================] - 1s 20ms/step - loss: 0.9720 - mean_squared_error: 1.9711\n",
            "6/6 [==============================] - 1s 17ms/step - loss: 1.0617 - mean_squared_error: 1.8680\n",
            "[1.0616939067840576, 1.8679698705673218]\n",
            "===== Summary =====\n",
            "Epoch:  30\n",
            "Batch Size:  50\n",
            "Optimizer:  Adam\n",
            "Learning Rate:  0.001\n",
            "Encoder Units:  50\n",
            "Loss Function:  MAE\n",
            "Metrics:  [<keras.metrics.MeanSquaredError object at 0x7f8385908450>]\n",
            "Validation:  [1.0616939067840576, 1.8679698705673218]\n",
            "Input:  (None, 10, 14, 1)\n",
            "1 Cov:  (None, 4, 11, 64)\n",
            "2 Cov:  (None, 1, 8, 16)\n",
            "Flatten:  (None, 128)\n",
            "RepeatVector:  (None, 50, 128)\n",
            "LSTM:  (None, 100)\n",
            "1 Dense:  (None, 50)\n",
            "Output:  (None, 1)\n",
            "Epoch 1/30\n",
            "50/50 [==============================] - 6s 57ms/step - loss: 1.1478 - mean_squared_error: 2.3171\n",
            "Epoch 2/30\n",
            "50/50 [==============================] - 3s 59ms/step - loss: 1.0726 - mean_squared_error: 2.2147\n",
            "Epoch 3/30\n",
            "50/50 [==============================] - 3s 57ms/step - loss: 1.0714 - mean_squared_error: 2.2035\n",
            "Epoch 4/30\n",
            "50/50 [==============================] - 3s 57ms/step - loss: 1.0649 - mean_squared_error: 2.2184\n",
            "Epoch 5/30\n",
            "11/50 [=====>........................] - ETA: 2s - loss: 0.9456 - mean_squared_error: 1.5691"
          ]
        },
        {
          "output_type": "error",
          "ename": "KeyboardInterrupt",
          "evalue": "ignored",
          "traceback": [
            "\u001b[0;31m---------------------------------------------------------------------------\u001b[0m",
            "\u001b[0;31mKeyboardInterrupt\u001b[0m                         Traceback (most recent call last)",
            "\u001b[0;32m<ipython-input-72-c71486bd17dd>\u001b[0m in \u001b[0;36m<module>\u001b[0;34m()\u001b[0m\n\u001b[1;32m     40\u001b[0m                                 \u001b[0mtf_train_y\u001b[0m\u001b[0;34m,\u001b[0m\u001b[0;34m\u001b[0m\u001b[0;34m\u001b[0m\u001b[0m\n\u001b[1;32m     41\u001b[0m                                 \u001b[0mepochs\u001b[0m \u001b[0;34m=\u001b[0m \u001b[0mepochs\u001b[0m\u001b[0;34m,\u001b[0m\u001b[0;34m\u001b[0m\u001b[0;34m\u001b[0m\u001b[0m\n\u001b[0;32m---> 42\u001b[0;31m                                 \u001b[0msteps_per_epoch\u001b[0m \u001b[0;34m=\u001b[0m \u001b[0mbatchs\u001b[0m\u001b[0;34m,\u001b[0m\u001b[0;34m\u001b[0m\u001b[0;34m\u001b[0m\u001b[0m\n\u001b[0m\u001b[1;32m     43\u001b[0m                             )\n\u001b[1;32m     44\u001b[0m \u001b[0;34m\u001b[0m\u001b[0m\n",
            "\u001b[0;32m/usr/local/lib/python3.7/dist-packages/keras/utils/traceback_utils.py\u001b[0m in \u001b[0;36merror_handler\u001b[0;34m(*args, **kwargs)\u001b[0m\n\u001b[1;32m     62\u001b[0m     \u001b[0mfiltered_tb\u001b[0m \u001b[0;34m=\u001b[0m \u001b[0;32mNone\u001b[0m\u001b[0;34m\u001b[0m\u001b[0;34m\u001b[0m\u001b[0m\n\u001b[1;32m     63\u001b[0m     \u001b[0;32mtry\u001b[0m\u001b[0;34m:\u001b[0m\u001b[0;34m\u001b[0m\u001b[0;34m\u001b[0m\u001b[0m\n\u001b[0;32m---> 64\u001b[0;31m       \u001b[0;32mreturn\u001b[0m \u001b[0mfn\u001b[0m\u001b[0;34m(\u001b[0m\u001b[0;34m*\u001b[0m\u001b[0margs\u001b[0m\u001b[0;34m,\u001b[0m \u001b[0;34m**\u001b[0m\u001b[0mkwargs\u001b[0m\u001b[0;34m)\u001b[0m\u001b[0;34m\u001b[0m\u001b[0;34m\u001b[0m\u001b[0m\n\u001b[0m\u001b[1;32m     65\u001b[0m     \u001b[0;32mexcept\u001b[0m \u001b[0mException\u001b[0m \u001b[0;32mas\u001b[0m \u001b[0me\u001b[0m\u001b[0;34m:\u001b[0m  \u001b[0;31m# pylint: disable=broad-except\u001b[0m\u001b[0;34m\u001b[0m\u001b[0;34m\u001b[0m\u001b[0m\n\u001b[1;32m     66\u001b[0m       \u001b[0mfiltered_tb\u001b[0m \u001b[0;34m=\u001b[0m \u001b[0m_process_traceback_frames\u001b[0m\u001b[0;34m(\u001b[0m\u001b[0me\u001b[0m\u001b[0;34m.\u001b[0m\u001b[0m__traceback__\u001b[0m\u001b[0;34m)\u001b[0m\u001b[0;34m\u001b[0m\u001b[0;34m\u001b[0m\u001b[0m\n",
            "\u001b[0;32m/usr/local/lib/python3.7/dist-packages/keras/engine/training.py\u001b[0m in \u001b[0;36mfit\u001b[0;34m(self, x, y, batch_size, epochs, verbose, callbacks, validation_split, validation_data, shuffle, class_weight, sample_weight, initial_epoch, steps_per_epoch, validation_steps, validation_batch_size, validation_freq, max_queue_size, workers, use_multiprocessing)\u001b[0m\n\u001b[1;32m   1382\u001b[0m                 _r=1):\n\u001b[1;32m   1383\u001b[0m               \u001b[0mcallbacks\u001b[0m\u001b[0;34m.\u001b[0m\u001b[0mon_train_batch_begin\u001b[0m\u001b[0;34m(\u001b[0m\u001b[0mstep\u001b[0m\u001b[0;34m)\u001b[0m\u001b[0;34m\u001b[0m\u001b[0;34m\u001b[0m\u001b[0m\n\u001b[0;32m-> 1384\u001b[0;31m               \u001b[0mtmp_logs\u001b[0m \u001b[0;34m=\u001b[0m \u001b[0mself\u001b[0m\u001b[0;34m.\u001b[0m\u001b[0mtrain_function\u001b[0m\u001b[0;34m(\u001b[0m\u001b[0miterator\u001b[0m\u001b[0;34m)\u001b[0m\u001b[0;34m\u001b[0m\u001b[0;34m\u001b[0m\u001b[0m\n\u001b[0m\u001b[1;32m   1385\u001b[0m               \u001b[0;32mif\u001b[0m \u001b[0mdata_handler\u001b[0m\u001b[0;34m.\u001b[0m\u001b[0mshould_sync\u001b[0m\u001b[0;34m:\u001b[0m\u001b[0;34m\u001b[0m\u001b[0;34m\u001b[0m\u001b[0m\n\u001b[1;32m   1386\u001b[0m                 \u001b[0mcontext\u001b[0m\u001b[0;34m.\u001b[0m\u001b[0masync_wait\u001b[0m\u001b[0;34m(\u001b[0m\u001b[0;34m)\u001b[0m\u001b[0;34m\u001b[0m\u001b[0;34m\u001b[0m\u001b[0m\n",
            "\u001b[0;32m/usr/local/lib/python3.7/dist-packages/tensorflow/python/util/traceback_utils.py\u001b[0m in \u001b[0;36merror_handler\u001b[0;34m(*args, **kwargs)\u001b[0m\n\u001b[1;32m    148\u001b[0m     \u001b[0mfiltered_tb\u001b[0m \u001b[0;34m=\u001b[0m \u001b[0;32mNone\u001b[0m\u001b[0;34m\u001b[0m\u001b[0;34m\u001b[0m\u001b[0m\n\u001b[1;32m    149\u001b[0m     \u001b[0;32mtry\u001b[0m\u001b[0;34m:\u001b[0m\u001b[0;34m\u001b[0m\u001b[0;34m\u001b[0m\u001b[0m\n\u001b[0;32m--> 150\u001b[0;31m       \u001b[0;32mreturn\u001b[0m \u001b[0mfn\u001b[0m\u001b[0;34m(\u001b[0m\u001b[0;34m*\u001b[0m\u001b[0margs\u001b[0m\u001b[0;34m,\u001b[0m \u001b[0;34m**\u001b[0m\u001b[0mkwargs\u001b[0m\u001b[0;34m)\u001b[0m\u001b[0;34m\u001b[0m\u001b[0;34m\u001b[0m\u001b[0m\n\u001b[0m\u001b[1;32m    151\u001b[0m     \u001b[0;32mexcept\u001b[0m \u001b[0mException\u001b[0m \u001b[0;32mas\u001b[0m \u001b[0me\u001b[0m\u001b[0;34m:\u001b[0m\u001b[0;34m\u001b[0m\u001b[0;34m\u001b[0m\u001b[0m\n\u001b[1;32m    152\u001b[0m       \u001b[0mfiltered_tb\u001b[0m \u001b[0;34m=\u001b[0m \u001b[0m_process_traceback_frames\u001b[0m\u001b[0;34m(\u001b[0m\u001b[0me\u001b[0m\u001b[0;34m.\u001b[0m\u001b[0m__traceback__\u001b[0m\u001b[0;34m)\u001b[0m\u001b[0;34m\u001b[0m\u001b[0;34m\u001b[0m\u001b[0m\n",
            "\u001b[0;32m/usr/local/lib/python3.7/dist-packages/tensorflow/python/eager/def_function.py\u001b[0m in \u001b[0;36m__call__\u001b[0;34m(self, *args, **kwds)\u001b[0m\n\u001b[1;32m    913\u001b[0m \u001b[0;34m\u001b[0m\u001b[0m\n\u001b[1;32m    914\u001b[0m       \u001b[0;32mwith\u001b[0m \u001b[0mOptionalXlaContext\u001b[0m\u001b[0;34m(\u001b[0m\u001b[0mself\u001b[0m\u001b[0;34m.\u001b[0m\u001b[0m_jit_compile\u001b[0m\u001b[0;34m)\u001b[0m\u001b[0;34m:\u001b[0m\u001b[0;34m\u001b[0m\u001b[0;34m\u001b[0m\u001b[0m\n\u001b[0;32m--> 915\u001b[0;31m         \u001b[0mresult\u001b[0m \u001b[0;34m=\u001b[0m \u001b[0mself\u001b[0m\u001b[0;34m.\u001b[0m\u001b[0m_call\u001b[0m\u001b[0;34m(\u001b[0m\u001b[0;34m*\u001b[0m\u001b[0margs\u001b[0m\u001b[0;34m,\u001b[0m \u001b[0;34m**\u001b[0m\u001b[0mkwds\u001b[0m\u001b[0;34m)\u001b[0m\u001b[0;34m\u001b[0m\u001b[0;34m\u001b[0m\u001b[0m\n\u001b[0m\u001b[1;32m    916\u001b[0m \u001b[0;34m\u001b[0m\u001b[0m\n\u001b[1;32m    917\u001b[0m       \u001b[0mnew_tracing_count\u001b[0m \u001b[0;34m=\u001b[0m \u001b[0mself\u001b[0m\u001b[0;34m.\u001b[0m\u001b[0mexperimental_get_tracing_count\u001b[0m\u001b[0;34m(\u001b[0m\u001b[0;34m)\u001b[0m\u001b[0;34m\u001b[0m\u001b[0;34m\u001b[0m\u001b[0m\n",
            "\u001b[0;32m/usr/local/lib/python3.7/dist-packages/tensorflow/python/eager/def_function.py\u001b[0m in \u001b[0;36m_call\u001b[0;34m(self, *args, **kwds)\u001b[0m\n\u001b[1;32m    945\u001b[0m       \u001b[0;31m# In this case we have created variables on the first call, so we run the\u001b[0m\u001b[0;34m\u001b[0m\u001b[0;34m\u001b[0m\u001b[0;34m\u001b[0m\u001b[0m\n\u001b[1;32m    946\u001b[0m       \u001b[0;31m# defunned version which is guaranteed to never create variables.\u001b[0m\u001b[0;34m\u001b[0m\u001b[0;34m\u001b[0m\u001b[0;34m\u001b[0m\u001b[0m\n\u001b[0;32m--> 947\u001b[0;31m       \u001b[0;32mreturn\u001b[0m \u001b[0mself\u001b[0m\u001b[0;34m.\u001b[0m\u001b[0m_stateless_fn\u001b[0m\u001b[0;34m(\u001b[0m\u001b[0;34m*\u001b[0m\u001b[0margs\u001b[0m\u001b[0;34m,\u001b[0m \u001b[0;34m**\u001b[0m\u001b[0mkwds\u001b[0m\u001b[0;34m)\u001b[0m  \u001b[0;31m# pylint: disable=not-callable\u001b[0m\u001b[0;34m\u001b[0m\u001b[0;34m\u001b[0m\u001b[0m\n\u001b[0m\u001b[1;32m    948\u001b[0m     \u001b[0;32melif\u001b[0m \u001b[0mself\u001b[0m\u001b[0;34m.\u001b[0m\u001b[0m_stateful_fn\u001b[0m \u001b[0;32mis\u001b[0m \u001b[0;32mnot\u001b[0m \u001b[0;32mNone\u001b[0m\u001b[0;34m:\u001b[0m\u001b[0;34m\u001b[0m\u001b[0;34m\u001b[0m\u001b[0m\n\u001b[1;32m    949\u001b[0m       \u001b[0;31m# Release the lock early so that multiple threads can perform the call\u001b[0m\u001b[0;34m\u001b[0m\u001b[0;34m\u001b[0m\u001b[0;34m\u001b[0m\u001b[0m\n",
            "\u001b[0;32m/usr/local/lib/python3.7/dist-packages/tensorflow/python/eager/function.py\u001b[0m in \u001b[0;36m__call__\u001b[0;34m(self, *args, **kwargs)\u001b[0m\n\u001b[1;32m   2955\u001b[0m        filtered_flat_args) = self._maybe_define_function(args, kwargs)\n\u001b[1;32m   2956\u001b[0m     return graph_function._call_flat(\n\u001b[0;32m-> 2957\u001b[0;31m         filtered_flat_args, captured_inputs=graph_function.captured_inputs)  # pylint: disable=protected-access\n\u001b[0m\u001b[1;32m   2958\u001b[0m \u001b[0;34m\u001b[0m\u001b[0m\n\u001b[1;32m   2959\u001b[0m   \u001b[0;34m@\u001b[0m\u001b[0mproperty\u001b[0m\u001b[0;34m\u001b[0m\u001b[0;34m\u001b[0m\u001b[0m\n",
            "\u001b[0;32m/usr/local/lib/python3.7/dist-packages/tensorflow/python/eager/function.py\u001b[0m in \u001b[0;36m_call_flat\u001b[0;34m(self, args, captured_inputs, cancellation_manager)\u001b[0m\n\u001b[1;32m   1852\u001b[0m       \u001b[0;31m# No tape is watching; skip to running the function.\u001b[0m\u001b[0;34m\u001b[0m\u001b[0;34m\u001b[0m\u001b[0;34m\u001b[0m\u001b[0m\n\u001b[1;32m   1853\u001b[0m       return self._build_call_outputs(self._inference_function.call(\n\u001b[0;32m-> 1854\u001b[0;31m           ctx, args, cancellation_manager=cancellation_manager))\n\u001b[0m\u001b[1;32m   1855\u001b[0m     forward_backward = self._select_forward_and_backward_functions(\n\u001b[1;32m   1856\u001b[0m         \u001b[0margs\u001b[0m\u001b[0;34m,\u001b[0m\u001b[0;34m\u001b[0m\u001b[0;34m\u001b[0m\u001b[0m\n",
            "\u001b[0;32m/usr/local/lib/python3.7/dist-packages/tensorflow/python/eager/function.py\u001b[0m in \u001b[0;36mcall\u001b[0;34m(self, ctx, args, cancellation_manager)\u001b[0m\n\u001b[1;32m    502\u001b[0m               \u001b[0minputs\u001b[0m\u001b[0;34m=\u001b[0m\u001b[0margs\u001b[0m\u001b[0;34m,\u001b[0m\u001b[0;34m\u001b[0m\u001b[0;34m\u001b[0m\u001b[0m\n\u001b[1;32m    503\u001b[0m               \u001b[0mattrs\u001b[0m\u001b[0;34m=\u001b[0m\u001b[0mattrs\u001b[0m\u001b[0;34m,\u001b[0m\u001b[0;34m\u001b[0m\u001b[0;34m\u001b[0m\u001b[0m\n\u001b[0;32m--> 504\u001b[0;31m               ctx=ctx)\n\u001b[0m\u001b[1;32m    505\u001b[0m         \u001b[0;32melse\u001b[0m\u001b[0;34m:\u001b[0m\u001b[0;34m\u001b[0m\u001b[0;34m\u001b[0m\u001b[0m\n\u001b[1;32m    506\u001b[0m           outputs = execute.execute_with_cancellation(\n",
            "\u001b[0;32m/usr/local/lib/python3.7/dist-packages/tensorflow/python/eager/execute.py\u001b[0m in \u001b[0;36mquick_execute\u001b[0;34m(op_name, num_outputs, inputs, attrs, ctx, name)\u001b[0m\n\u001b[1;32m     53\u001b[0m     \u001b[0mctx\u001b[0m\u001b[0;34m.\u001b[0m\u001b[0mensure_initialized\u001b[0m\u001b[0;34m(\u001b[0m\u001b[0;34m)\u001b[0m\u001b[0;34m\u001b[0m\u001b[0;34m\u001b[0m\u001b[0m\n\u001b[1;32m     54\u001b[0m     tensors = pywrap_tfe.TFE_Py_Execute(ctx._handle, device_name, op_name,\n\u001b[0;32m---> 55\u001b[0;31m                                         inputs, attrs, num_outputs)\n\u001b[0m\u001b[1;32m     56\u001b[0m   \u001b[0;32mexcept\u001b[0m \u001b[0mcore\u001b[0m\u001b[0;34m.\u001b[0m\u001b[0m_NotOkStatusException\u001b[0m \u001b[0;32mas\u001b[0m \u001b[0me\u001b[0m\u001b[0;34m:\u001b[0m\u001b[0;34m\u001b[0m\u001b[0;34m\u001b[0m\u001b[0m\n\u001b[1;32m     57\u001b[0m     \u001b[0;32mif\u001b[0m \u001b[0mname\u001b[0m \u001b[0;32mis\u001b[0m \u001b[0;32mnot\u001b[0m \u001b[0;32mNone\u001b[0m\u001b[0;34m:\u001b[0m\u001b[0;34m\u001b[0m\u001b[0;34m\u001b[0m\u001b[0m\n",
            "\u001b[0;31mKeyboardInterrupt\u001b[0m: "
          ]
        }
      ]
    },
    {
      "cell_type": "markdown",
      "source": [
        "#### Model testing\n"
      ],
      "metadata": {
        "id": "u4dn7ChhYX-E"
      }
    },
    {
      "cell_type": "code",
      "source": [
        "def getMeanAndStd(X,num_day):\n",
        "    mean_list = []\n",
        "    std_list = []\n",
        "    for i in range(0,len(X)-num_day): \n",
        "        x_open = X.iloc[i:i+num_day,0]\n",
        "        mean_list.append(x_open.mean(axis=0))\n",
        "        std_list.append(x_open.std(axis=0))\n",
        "    mean_df = pd.DataFrame(mean_list, columns = [\"mean\"])\n",
        "    std_df = pd.DataFrame(std_list, columns = [\"std\"])\n",
        "    return (mean_df,std_df)"
      ],
      "metadata": {
        "id": "G2BUarsCADms"
      },
      "execution_count": null,
      "outputs": []
    },
    {
      "cell_type": "code",
      "source": [
        "loaded_cnn_lstm_model = keras.models.load_model('model/cnn_lstm_best')"
      ],
      "metadata": {
        "id": "SlMS3KLsuVgz"
      },
      "execution_count": null,
      "outputs": []
    },
    {
      "cell_type": "markdown",
      "source": [
        "#### Backtest Result of CNN_LSTM (Price Prediction)"
      ],
      "metadata": {
        "id": "Ve0K8QpEucEQ"
      }
    },
    {
      "cell_type": "code",
      "source": [
        "def get_last_n_day_mean(df,n):\n",
        "    series = df[\"open\"]\n",
        "    windows = series.rolling(n)\n",
        "    n_days_averages = windows.mean()\n",
        "    n_days_list = n_days_averages.tolist()\n",
        "    final_list = n_days_list[n:]\n",
        "    new_df = pd.DataFrame(final_list,columns=[\"mean_\"+str(n)],index=df.index[n:])\n",
        "    return new_df"
      ],
      "metadata": {
        "id": "sHmgzwxaubit"
      },
      "execution_count": null,
      "outputs": []
    },
    {
      "cell_type": "code",
      "source": [
        "#### CNN_LSTM_REGRESSION\n",
        "backtest_summary = pd.DataFrame(columns=backtest_col)\n",
        "\n",
        "for sector, stocks in stock_list.items():\n",
        "    for stock in stocks:\n",
        "        print(\"Runninng stock: \"+ stock)\n",
        "        stock_data_1 = web.DataReader(stock, \"stooq\",start=start_date, end=end_date)\n",
        "        stock_data_1.columns = [\"open\",\"high\",\"low\",\"close\",\"volume\"]\n",
        "        x_1 = StockDataFrame(stock_data_1)\n",
        "        data_1 = x_1[['open','high','low','close','volume',\n",
        "                      'boll', 'boll_ub', 'boll_lb',\n",
        "                      'macd', 'macdh', 'macds',\n",
        "                      'rsi_11', 'rsi_14', 'rsi_21']]\n",
        "        data_1.index = [int(str(ind)[0:4]+str(ind)[5:7]+str(ind)[8:10]) for ind in data_1.index]\n",
        "        data_1 = data_1.sort_index()\n",
        "        print(stock + \" Data loaded...\")\n",
        "        for k,v in date_range_list.items():\n",
        "            \n",
        "            print(\"Getting Data... - \" + stock + \" from \" + str(k))\n",
        "            if (data_1.index[0]>v):\n",
        "                print(\"No data for this testing period... - \" + stock + \" from \" + str(k))\n",
        "                continue\n",
        "            test_X_1 = custom_split(data_1,start = k,end = v)\n",
        "            test_y_1 = produce_result_target_price(test_X_1,num_day_to_predict)\n",
        "            if len(test_X_1) <= 10:\n",
        "                print(\"No enoguh data for testing... - \" + stock + \" from \" + str(k))\n",
        "                continue\n",
        "                \n",
        "            print(\"Transforming Data... - \" + stock + \" from \" + str(k))\n",
        "            tf_test_X_1,tf_test_y_1 = transform_data_to_tensor(test_X_1,test_y_1,num_day_to_predict)\n",
        "            \n",
        "            print(\"Predicting... - \" + stock + \" from \" + str(k))\n",
        "            predictions_1 = loaded_cnn_lstm_model.predict(tf_test_X_1)\n",
        "            \n",
        "            print(\"Converting... - \" + stock + \" from \" + str(k))\n",
        "            test_mean_1, test_std_1 = getMeanAndStd(test_X_1, num_day_to_predict)\n",
        "            final_test_y_1 = test_y_1.iloc[num_day_to_predict: , :]\n",
        "            backtestdata_1 = final_test_y_1.rename(columns={\"result_price\":\"Open\"})\n",
        "            \n",
        "            final_pred_1 = np.array(predictions_1*np.array(test_std_1) + np.array(test_mean_1))\n",
        "            compare_to_n_day_mean = 5\n",
        "            df = get_last_n_day_mean(test_X_1,compare_to_n_day_mean)[(10-compare_to_n_day_mean):]\n",
        "            df[\"pred\"] = final_pred_1\n",
        "            \n",
        "            df[\"Action\"] = df.apply(lambda row: \"Buy\" if row[\"pred\"] > row[\"mean_\"+str(compare_to_n_day_mean)] else \"Sell\", axis=1)\n",
        "            final_pred_df_1 = df.drop(columns=[\"mean_\"+str(compare_to_n_day_mean),\"pred\"])\n",
        "            \n",
        "            print(\"Backtesting... - \" + stock + \" from \" + str(k))\n",
        "            back1 = backtest(backtestdata_1,final_pred_df_1,10000,0.0005,period_year)\n",
        "            \n",
        "            print(\"Start Iteration... - \" + stock + \" from \" + str(k))\n",
        "            back1.start_test()\n",
        "            \n",
        "            print(\"======= from \"+ str(k) + \" to \" + str(v)+\" =========\")\n",
        "            back1.print_performance()\n",
        "            back1.export_trade_record(\"CNN_LSTM_REG_\"+sector+\"-\"+stock,str(k)+\"-to-\"+str(v)+\"(\"+str(round(back1.get_performance()*100,2))+\"%)\")\n",
        "            backtest_summary = backtest_summary.append({\"Sector\":sector,\n",
        "                                                        \"Stock\":stock,\n",
        "                                                        \"Range_Start\":str(k),\n",
        "                                                        \"Range_End\":str(v),\n",
        "                                                        do_nth_name+\"_Profit\":round(back1.get_do_nothing(),2),\n",
        "                                                        model_name+\"_Profit\":round(back1.get_profit(),2),\n",
        "                                                        do_nth_name+\"_CAGR(in %)\":round(back1.get_do_nothing_CAGR()*100,2),\n",
        "                                                        model_name+\"_CAGR(in %)\":round(back1.get_model_CAGR()*100,2),\n",
        "                                                        \"CAGR_Performance(in %)\":round(back1.get_diff_in_CAGR()*100,2),\n",
        "                                                        do_nth_name+\"_MDD(in %)\":round(back1.get_do_nothing_MDD()*100,2),\n",
        "                                                        model_name+\"_MDD(in %)\":round(back1.get_model_MDD()*100,2),\n",
        "                                                        \"MDD_Performance(in %)\":round(back1.get_diff_in_MDD()*100,2)}, ignore_index=True)\n",
        "            print(\"+++++++++++++++++++++++++++++++++++++++++++++++++++++++++++\")\n",
        "\n",
        "print(\"Backtesting Completed...\")\n",
        "backtest_summary.to_csv(\"backtest_summary_CNN_LSTM_REG.csv\")\n",
        "            \n",
        "\n"
      ],
      "metadata": {
        "id": "zZdeil13uiQ-"
      },
      "execution_count": null,
      "outputs": []
    },
    {
      "cell_type": "code",
      "source": [
        "mean_backtest_summary = backtest_summary.groupby(\"Stock\")[[\"Stock\",\n",
        "                                                          do_nth_name+\"_Profit\",\n",
        "                                                          model_name+\"_Profit\",\n",
        "                                                          do_nth_name+\"_CAGR(in %)\",\n",
        "                                                          model_name+\"_CAGR(in %)\",\n",
        "                                                          \"CAGR_Performance(in %)\",\n",
        "                                                          do_nth_name+\"_MDD(in %)\",\n",
        "                                                          model_name+\"_MDD(in %)\",\n",
        "                                                          \"MDD_Performance(in %)\"]].mean()\n",
        "\n",
        "mean_backtest_summary = mean_backtest_summary.add_prefix(\"mean_\")\n",
        "\n",
        "mean_backtest_summary = mean_backtest_summary.round(decimals = 2)\n",
        "mean_backtest_summary.to_csv(\"backtest_summary_CNN_LSTM_REG_mean.csv\")"
      ],
      "metadata": {
        "id": "TSEd4BfzvAC_"
      },
      "execution_count": null,
      "outputs": []
    },
    {
      "cell_type": "markdown",
      "source": [
        "### CNN_LSTM (Direction Prediction)"
      ],
      "metadata": {
        "id": "wACtkwfTAil7"
      }
    },
    {
      "cell_type": "markdown",
      "source": [
        "#### Load Data"
      ],
      "metadata": {
        "id": "2OdnSkHFAk4J"
      }
    },
    {
      "cell_type": "code",
      "source": [
        "train_X = custom_split(data,start = 20120101,end = 20161031)\n",
        "valid_X = custom_split(data,start = 20161101,end = 20171231)\n",
        "test_X = custom_split(data,start = 20180101,end = 20191231)"
      ],
      "metadata": {
        "id": "mU8ycX44AkJJ",
        "colab": {
          "base_uri": "https://localhost:8080/",
          "height": 204
        },
        "outputId": "aa3007e8-14f8-46c0-eb8e-50d7dc1d909a"
      },
      "execution_count": null,
      "outputs": [
        {
          "output_type": "error",
          "ename": "NameError",
          "evalue": "ignored",
          "traceback": [
            "\u001b[0;31m---------------------------------------------------------------------------\u001b[0m",
            "\u001b[0;31mNameError\u001b[0m                                 Traceback (most recent call last)",
            "\u001b[0;32m<ipython-input-2-b3ccc2a58717>\u001b[0m in \u001b[0;36m<module>\u001b[0;34m()\u001b[0m\n\u001b[0;32m----> 1\u001b[0;31m \u001b[0mtrain_X\u001b[0m \u001b[0;34m=\u001b[0m \u001b[0mcustom_split\u001b[0m\u001b[0;34m(\u001b[0m\u001b[0mdata\u001b[0m\u001b[0;34m,\u001b[0m\u001b[0mstart\u001b[0m \u001b[0;34m=\u001b[0m \u001b[0;36m20120101\u001b[0m\u001b[0;34m,\u001b[0m\u001b[0mend\u001b[0m \u001b[0;34m=\u001b[0m \u001b[0;36m20161031\u001b[0m\u001b[0;34m)\u001b[0m\u001b[0;34m\u001b[0m\u001b[0;34m\u001b[0m\u001b[0m\n\u001b[0m\u001b[1;32m      2\u001b[0m \u001b[0mvalid_X\u001b[0m \u001b[0;34m=\u001b[0m \u001b[0mcustom_split\u001b[0m\u001b[0;34m(\u001b[0m\u001b[0mdata\u001b[0m\u001b[0;34m,\u001b[0m\u001b[0mstart\u001b[0m \u001b[0;34m=\u001b[0m \u001b[0;36m20161101\u001b[0m\u001b[0;34m,\u001b[0m\u001b[0mend\u001b[0m \u001b[0;34m=\u001b[0m \u001b[0;36m20171231\u001b[0m\u001b[0;34m)\u001b[0m\u001b[0;34m\u001b[0m\u001b[0;34m\u001b[0m\u001b[0m\n\u001b[1;32m      3\u001b[0m \u001b[0mtest_X\u001b[0m \u001b[0;34m=\u001b[0m \u001b[0mcustom_split\u001b[0m\u001b[0;34m(\u001b[0m\u001b[0mdata\u001b[0m\u001b[0;34m,\u001b[0m\u001b[0mstart\u001b[0m \u001b[0;34m=\u001b[0m \u001b[0;36m20180101\u001b[0m\u001b[0;34m,\u001b[0m\u001b[0mend\u001b[0m \u001b[0;34m=\u001b[0m \u001b[0;36m20191231\u001b[0m\u001b[0;34m)\u001b[0m\u001b[0;34m\u001b[0m\u001b[0;34m\u001b[0m\u001b[0m\n",
            "\u001b[0;31mNameError\u001b[0m: name 'custom_split' is not defined"
          ]
        }
      ]
    },
    {
      "cell_type": "markdown",
      "source": [
        "#### Label the target result"
      ],
      "metadata": {
        "id": "237Ih9EkAoh0"
      }
    },
    {
      "cell_type": "code",
      "source": [
        "# Assume we use 10 days price data to predict opening price of the 11th day\n",
        "num_day_to_predict = 10"
      ],
      "metadata": {
        "id": "r_MbXkYFAnuX"
      },
      "execution_count": null,
      "outputs": []
    },
    {
      "cell_type": "code",
      "source": [
        "def produce_result_target_price(X,num_day,result_col_name = \"Action\"):\n",
        "    y = pd.DataFrame(np.nan, index=X.index, columns=[result_col_name])\n",
        "    status = \"Hold\"\n",
        "    for i in range(len(X)-num_day):\n",
        "        last_10_day_mean = np.mean(X.iloc[i:i+num_day,0])\n",
        "        if X.iloc[i+num_day,0]>last_10_day_mean*1.01:\n",
        "            y.iloc[i+num_day_to_predict,0] = 1\n",
        "            status = \"Buy\"\n",
        "        elif X.iloc[i+num_day,0]<last_10_day_mean/1.01:\n",
        "            y.iloc[i+num_day_to_predict,0] = 0\n",
        "            status = \"Sell\"\n",
        "        else:\n",
        "            if status == \"Hold\" or status == \"Sell\":\n",
        "                y.iloc[i+num_day_to_predict,0] = 0\n",
        "            elif status == \"Buy\":\n",
        "                y.iloc[i+num_day_to_predict,0] = 1\n",
        "    return y"
      ],
      "metadata": {
        "id": "UGYoUXEMAumT"
      },
      "execution_count": null,
      "outputs": []
    },
    {
      "cell_type": "code",
      "source": [
        "# y value meaning {1: Buy, 0: Sell}\n",
        "train_y = produce_result_target_price(train_X,num_day_to_predict)\n",
        "valid_y = produce_result_target_price(valid_X,num_day_to_predict)\n",
        "test_y = produce_result_target_price(test_X,num_day_to_predict)"
      ],
      "metadata": {
        "id": "IFkF4EbkAw0E"
      },
      "execution_count": null,
      "outputs": []
    },
    {
      "cell_type": "markdown",
      "source": [
        "#### Transform the X,y data into tensor"
      ],
      "metadata": {
        "id": "oYzObJ80A15b"
      }
    },
    {
      "cell_type": "code",
      "source": [
        "def transform_X_data_to_tensor(X,num_day):\n",
        "    # Initiate tensor for X\n",
        "    x_first = X.iloc[0:num_day,:]\n",
        "    x_mean = x_first.mean(axis=0) # Get the mean of the 10-day frame\n",
        "    x_std = x_first.std(axis=0) # Get the std of the 10-day frame\n",
        "    x_first = x_first.sub(x_mean, axis=1).div(x_std, axis=1) # Normalize the 10-day frame here\n",
        "    x_tf_data = [tf.convert_to_tensor(np.array(x_first),dtype = tf.float32)]\n",
        "    \n",
        "    for i in range(1,len(X)-num_day):   \n",
        "        x_window = X.iloc[i:i+num_day,:] # Set the window as a 10-day frame \n",
        "        x_mean = x_window.mean(axis=0) # Get the mean of the 10-day frame\n",
        "        x_std = x_window.std(axis=0) # Get the std of the 10-day frame\n",
        "        x_window = x_window.sub(x_mean, axis=1).div(x_std, axis=1) # Normalize the 10-day frame here\n",
        "        \n",
        "        x_next_tf = tf.convert_to_tensor(np.array(x_window),dtype = tf.float32)\n",
        "        x_tf_data = tf.concat([x_tf_data, [x_next_tf]], 0)\n",
        "        \n",
        "    return tf.reshape(x_tf_data,(-1,10,14,1))\n",
        "def transform_y_data_to_tensor(y,num_day):\n",
        "    temp_y = y.dropna()\n",
        "    y_tf_data = []\n",
        "    for ind in temp_y.index:\n",
        "        if temp_y.loc[ind,\"Action\"] == 1:\n",
        "            y_tf_data.append([1,0])\n",
        "        elif temp_y.loc[ind,\"Action\"] == 0:\n",
        "            y_tf_data.append([0,1])\n",
        "    y_tf_data = tf.convert_to_tensor(y_tf_data)\n",
        "        \n",
        "    return y_tf_data"
      ],
      "metadata": {
        "id": "SHbVIN0QA1HD"
      },
      "execution_count": null,
      "outputs": []
    },
    {
      "cell_type": "code",
      "source": [
        "tf_train_X = transform_X_data_to_tensor(train_X,num_day_to_predict)\n",
        "tf_train_y = transform_y_data_to_tensor(train_y,num_day_to_predict)\n",
        "tf_valid_X = transform_X_data_to_tensor(valid_X,num_day_to_predict)\n",
        "tf_valid_y = transform_y_data_to_tensor(valid_y,num_day_to_predict)\n",
        "tf_test_X = transform_X_data_to_tensor(test_X,num_day_to_predict)\n",
        "tf_test_y = transform_y_data_to_tensor(test_y,num_day_to_predict)"
      ],
      "metadata": {
        "id": "SY6j5_AmBATr"
      },
      "execution_count": null,
      "outputs": []
    },
    {
      "cell_type": "markdown",
      "source": [
        "#### Build the Model"
      ],
      "metadata": {
        "id": "mvUqNJ5cBHY0"
      }
    },
    {
      "cell_type": "code",
      "source": [
        "def myModel(input_shape,\n",
        "            encoder_unit = 100,\n",
        "            repeat_vector_n = 10):\n",
        "    \n",
        "    inputs = layers.Input(input_shape)\n",
        "    \n",
        "    print(\"Input: \",inputs.shape)\n",
        "    \n",
        "    # First Convolution + MaxPooling + Dropout\n",
        "    x = layers.Conv2D(filters = 64,kernel_size=(3,3), strides = (1,1), activation='relu', padding='valid')(inputs)\n",
        "    x = layers.MaxPooling2D(pool_size=(2,2),strides=(2,1), padding='valid')(x)\n",
        "    x = layers.Dropout(rate = 0.01)(x)\n",
        "    print(\"1 Cov: \",x.shape)\n",
        "    \n",
        "    # Second Convolution + MaxPooling + Dropout\n",
        "    x = layers.Conv2D(filters = 16,kernel_size=(3,3), strides = (1,1), activation='relu', padding='valid')(x)\n",
        "    x = layers.MaxPooling2D(pool_size=(2,2),strides=(2,1), padding='valid')(x)\n",
        "    x = layers.Dropout(rate = 0.01)(x)\n",
        "    print(\"2 Cov: \",x.shape)\n",
        "    \n",
        "    # Flatten Layer\n",
        "    x = layers.Flatten()(x)\n",
        "    print(\"Flatten: \",x.shape)\n",
        "    \n",
        "    # Repeat Vector Layer\n",
        "    x = layers.RepeatVector(n = repeat_vector_n)(x)\n",
        "    print(\"RepeatVector: \",x.shape)\n",
        "    \n",
        "    # Connect to LSTM\n",
        "    x = layers.LSTM(units = encoder_unit, input_shape=(5,1))(x)\n",
        "    print(\"LSTM: \",x.shape)\n",
        "    \n",
        "    # Second Flatten Layer\n",
        "    x = layers.Flatten()(x)\n",
        "    print(\"Flatten: \",x.shape)\n",
        "    \n",
        "    # Add the Dense Layer with relu activation\n",
        "    x = layers.Dense(units = 50,activation = \"relu\")(x)\n",
        "    print(\"1 Dense: \",x.shape)\n",
        "    \n",
        "    # Add the last Dense Layer with sigmoid activation\n",
        "    outputs = layers.Dense(units = 2,activation = \"softmax\")(x)\n",
        "    print(\"Output: \",outputs.shape)\n",
        "    \n",
        "    return keras.Model(inputs=inputs, outputs=outputs)"
      ],
      "metadata": {
        "id": "VzTHwQbDBGxc"
      },
      "execution_count": null,
      "outputs": []
    },
    {
      "cell_type": "markdown",
      "source": [
        "#### Model Training and Fitting and Validation"
      ],
      "metadata": {
        "id": "Yis-u2LxBLpE"
      }
    },
    {
      "cell_type": "code",
      "source": [
        "optimizer_list = [\"Adam\"]\n",
        "epoch_list = [30,50]\n",
        "batch_list = [50]\n",
        "encoder_list = [50,100]\n",
        "lr_list = [0.001,0.005,0.01]\n",
        "train_df = pd.DataFrame(columns = [\"Epoch\",\"Batch\",\"Optimizer\",\"LR\",\"Encoder Unit\",\"Loss\",\"Metrics\",\"Validation\"])\n",
        "best_model = \"\"\n",
        "best_valid = 99999\n",
        "metrics = [keras.metrics.RootMeanSquaredError()]\n",
        "\n",
        "\n",
        "for opti in optimizer_list:\n",
        "    for epochs in epoch_list:\n",
        "        for batchs in batch_list:\n",
        "            for lr in lr_list:\n",
        "                for encoder_u in encoder_list:\n",
        "\n",
        "                    model = myModel(input_shape=(num_day_to_predict,train_X.shape[1],1),\n",
        "                                    encoder_unit = encoder_u,\n",
        "                                    repeat_vector_n = 100\n",
        "                                   )\n",
        "\n",
        "                    if opti == \"Adam\":\n",
        "                        optimizer = keras.optimizers.Adam(learning_rate=lr)\n",
        "\n",
        "\n",
        "                    model.compile(\n",
        "                        optimizer=optimizer,\n",
        "                        loss=keras.losses.MeanSquaredError(),\n",
        "                        metrics=metrics,\n",
        "                    )\n",
        "\n",
        "                    history = model.fit(\n",
        "                            tf_train_X,\n",
        "                            tf_train_y,\n",
        "                            epochs = epochs,\n",
        "                            steps_per_epoch = batchs,\n",
        "                        )\n",
        "\n",
        "                    results = model.evaluate(tf_valid_X, tf_valid_y, batch_size=batchs)\n",
        "                    print(results)\n",
        "                    print(\"===== Summary =====\")\n",
        "                    print(\"Epoch: \",epochs)\n",
        "                    print(\"Batch Size: \",batchs)\n",
        "                    print(\"Optimizer: \",opti)\n",
        "                    print(\"Learning Rate: \",lr)\n",
        "                    print(\"Encoder Units: \",encoder_u)\n",
        "                    print(\"Loss Function: \", \"Categorical CrossEntropy\")\n",
        "                    print(\"Metrics: \", metrics)\n",
        "                    print(\"Validation: \",results)\n",
        "                    if results[0] < best_valid:\n",
        "                        best_valid = results[0]\n",
        "                        best_model = model\n",
        "                    train_df = train_df.append({\"Epoch\": epochs,\n",
        "                                                \"Batch\": batchs,\n",
        "                                                \"Optimizer\": opti,\n",
        "                                                \"LR\": lr,\n",
        "                                                \"Encoder Unit\": encoder_u,\n",
        "                                                \"Loss\": \"Categorical CrossEntropy\",\n",
        "                                                \"Metrics\": metrics,\n",
        "                                                \"Validation\":results}, ignore_index=True)\n",
        "best_model.save(\"model/cnn_lstm_classify_best\")"
      ],
      "metadata": {
        "id": "UKb3z2cxBOK9",
        "colab": {
          "base_uri": "https://localhost:8080/"
        },
        "outputId": "e9026c49-857f-4719-9c04-63c5dd29a603"
      },
      "execution_count": null,
      "outputs": [
        {
          "output_type": "stream",
          "name": "stdout",
          "text": [
            "Input:  (None, 10, 14, 1)\n",
            "1 Cov:  (None, 4, 11, 64)\n",
            "2 Cov:  (None, 1, 8, 16)\n",
            "Flatten:  (None, 128)\n",
            "RepeatVector:  (None, 100, 128)\n",
            "LSTM:  (None, 50)\n",
            "Flatten:  (None, 50)\n",
            "1 Dense:  (None, 50)\n",
            "Output:  (None, 2)\n",
            "Epoch 1/30\n",
            "50/50 [==============================] - 5s 63ms/step - loss: 0.1233 - root_mean_squared_error: 0.3511\n",
            "Epoch 2/30\n",
            "50/50 [==============================] - 3s 64ms/step - loss: 0.0960 - root_mean_squared_error: 0.3099\n",
            "Epoch 3/30\n",
            "50/50 [==============================] - 3s 63ms/step - loss: 0.0775 - root_mean_squared_error: 0.2784\n",
            "Epoch 4/30\n",
            "50/50 [==============================] - 3s 63ms/step - loss: 0.0831 - root_mean_squared_error: 0.2883\n",
            "Epoch 5/30\n",
            "50/50 [==============================] - 3s 64ms/step - loss: 0.0674 - root_mean_squared_error: 0.2597\n",
            "Epoch 6/30\n",
            "50/50 [==============================] - 3s 63ms/step - loss: 0.0540 - root_mean_squared_error: 0.2324\n",
            "Epoch 7/30\n",
            "50/50 [==============================] - 3s 64ms/step - loss: 0.0544 - root_mean_squared_error: 0.2333\n",
            "Epoch 8/30\n",
            "50/50 [==============================] - 3s 65ms/step - loss: 0.0429 - root_mean_squared_error: 0.2071\n",
            "Epoch 9/30\n",
            "50/50 [==============================] - 3s 63ms/step - loss: 0.0568 - root_mean_squared_error: 0.2384\n",
            "Epoch 10/30\n",
            "50/50 [==============================] - 3s 63ms/step - loss: 0.0468 - root_mean_squared_error: 0.2164\n",
            "Epoch 11/30\n",
            "50/50 [==============================] - 3s 63ms/step - loss: 0.0493 - root_mean_squared_error: 0.2221\n",
            "Epoch 12/30\n",
            "50/50 [==============================] - 3s 63ms/step - loss: 0.0306 - root_mean_squared_error: 0.1750\n",
            "Epoch 13/30\n",
            "50/50 [==============================] - 3s 64ms/step - loss: 0.0309 - root_mean_squared_error: 0.1759\n",
            "Epoch 14/30\n",
            "50/50 [==============================] - 3s 64ms/step - loss: 0.0272 - root_mean_squared_error: 0.1650\n",
            "Epoch 15/30\n",
            "50/50 [==============================] - 3s 65ms/step - loss: 0.0383 - root_mean_squared_error: 0.1956\n",
            "Epoch 16/30\n",
            "50/50 [==============================] - 3s 63ms/step - loss: 0.0319 - root_mean_squared_error: 0.1785\n",
            "Epoch 17/30\n",
            "50/50 [==============================] - 3s 64ms/step - loss: 0.0259 - root_mean_squared_error: 0.1611\n",
            "Epoch 18/30\n",
            "50/50 [==============================] - 3s 64ms/step - loss: 0.0226 - root_mean_squared_error: 0.1504\n",
            "Epoch 19/30\n",
            "50/50 [==============================] - 3s 63ms/step - loss: 0.0305 - root_mean_squared_error: 0.1746\n",
            "Epoch 20/30\n",
            "50/50 [==============================] - 3s 64ms/step - loss: 0.0257 - root_mean_squared_error: 0.1602\n",
            "Epoch 21/30\n",
            "50/50 [==============================] - 3s 64ms/step - loss: 0.0241 - root_mean_squared_error: 0.1552\n",
            "Epoch 22/30\n",
            "50/50 [==============================] - 3s 64ms/step - loss: 0.0250 - root_mean_squared_error: 0.1582\n",
            "Epoch 23/30\n",
            "50/50 [==============================] - 3s 63ms/step - loss: 0.0311 - root_mean_squared_error: 0.1764\n",
            "Epoch 24/30\n",
            "50/50 [==============================] - 3s 64ms/step - loss: 0.0350 - root_mean_squared_error: 0.1870\n",
            "Epoch 25/30\n",
            "50/50 [==============================] - 3s 64ms/step - loss: 0.0188 - root_mean_squared_error: 0.1370\n",
            "Epoch 26/30\n",
            "50/50 [==============================] - 3s 63ms/step - loss: 0.0199 - root_mean_squared_error: 0.1410\n",
            "Epoch 27/30\n",
            "50/50 [==============================] - 3s 63ms/step - loss: 0.0197 - root_mean_squared_error: 0.1404\n",
            "Epoch 28/30\n",
            "50/50 [==============================] - 4s 84ms/step - loss: 0.0208 - root_mean_squared_error: 0.1441\n",
            "Epoch 29/30\n",
            "50/50 [==============================] - 3s 64ms/step - loss: 0.0136 - root_mean_squared_error: 0.1165\n",
            "Epoch 30/30\n",
            "19/50 [==========>...................] - ETA: 1s - loss: 0.0126 - root_mean_squared_error: 0.1122WARNING:tensorflow:Your input ran out of data; interrupting training. Make sure that your dataset or generator can generate at least `steps_per_epoch * epochs` batches (in this case, 1500 batches). You may need to use the repeat() function when building your dataset.\n"
          ]
        },
        {
          "output_type": "stream",
          "name": "stderr",
          "text": [
            "WARNING:tensorflow:Your input ran out of data; interrupting training. Make sure that your dataset or generator can generate at least `steps_per_epoch * epochs` batches (in this case, 1500 batches). You may need to use the repeat() function when building your dataset.\n"
          ]
        },
        {
          "output_type": "stream",
          "name": "stdout",
          "text": [
            "50/50 [==============================] - 1s 25ms/step - loss: 0.0124 - root_mean_squared_error: 0.1115\n",
            "6/6 [==============================] - 1s 26ms/step - loss: 0.0951 - root_mean_squared_error: 0.3085\n",
            "[0.09514999389648438, 0.3084639310836792]\n",
            "===== Summary =====\n",
            "Epoch:  30\n",
            "Batch Size:  50\n",
            "Optimizer:  Adam\n",
            "Learning Rate:  0.005\n",
            "Encoder Units:  50\n",
            "Loss Function:  Categorical CrossEntropy\n",
            "Metrics:  [<keras.metrics.RootMeanSquaredError object at 0x7f7f5b8af590>]\n",
            "Validation:  [0.09514999389648438, 0.3084639310836792]\n",
            "Input:  (None, 10, 14, 1)\n",
            "1 Cov:  (None, 4, 11, 64)\n",
            "2 Cov:  (None, 1, 8, 16)\n",
            "Flatten:  (None, 128)\n",
            "RepeatVector:  (None, 100, 128)\n",
            "LSTM:  (None, 100)\n",
            "Flatten:  (None, 100)\n",
            "1 Dense:  (None, 50)\n",
            "Output:  (None, 2)\n",
            "Epoch 1/30\n",
            "50/50 [==============================] - 7s 89ms/step - loss: 0.1323 - root_mean_squared_error: 0.3540\n",
            "Epoch 2/30\n",
            "50/50 [==============================] - 4s 88ms/step - loss: 0.0992 - root_mean_squared_error: 0.3149\n",
            "Epoch 3/30\n",
            "50/50 [==============================] - 4s 89ms/step - loss: 0.0929 - root_mean_squared_error: 0.3048\n",
            "Epoch 4/30\n",
            "50/50 [==============================] - 4s 89ms/step - loss: 0.0823 - root_mean_squared_error: 0.2869\n",
            "Epoch 5/30\n",
            "50/50 [==============================] - 4s 87ms/step - loss: 0.0629 - root_mean_squared_error: 0.2508\n",
            "Epoch 6/30\n",
            "50/50 [==============================] - 5s 93ms/step - loss: 0.0629 - root_mean_squared_error: 0.2507\n",
            "Epoch 7/30\n",
            "50/50 [==============================] - 4s 89ms/step - loss: 0.0628 - root_mean_squared_error: 0.2507\n",
            "Epoch 8/30\n",
            "50/50 [==============================] - 4s 89ms/step - loss: 0.0624 - root_mean_squared_error: 0.2498\n",
            "Epoch 9/30\n",
            "50/50 [==============================] - 4s 87ms/step - loss: 0.0577 - root_mean_squared_error: 0.2401\n",
            "Epoch 10/30\n",
            "50/50 [==============================] - 4s 89ms/step - loss: 0.0490 - root_mean_squared_error: 0.2214\n",
            "Epoch 11/30\n",
            "50/50 [==============================] - 5s 92ms/step - loss: 0.0434 - root_mean_squared_error: 0.2083\n",
            "Epoch 12/30\n",
            "50/50 [==============================] - 5s 90ms/step - loss: 0.0422 - root_mean_squared_error: 0.2055\n",
            "Epoch 13/30\n",
            "50/50 [==============================] - 5s 91ms/step - loss: 0.0364 - root_mean_squared_error: 0.1907\n",
            "Epoch 14/30\n",
            "50/50 [==============================] - 4s 89ms/step - loss: 0.0367 - root_mean_squared_error: 0.1915\n",
            "Epoch 15/30\n",
            "50/50 [==============================] - 5s 90ms/step - loss: 0.0461 - root_mean_squared_error: 0.2147\n",
            "Epoch 16/30\n",
            "50/50 [==============================] - 4s 89ms/step - loss: 0.0292 - root_mean_squared_error: 0.1710\n",
            "Epoch 17/30\n",
            "50/50 [==============================] - 4s 90ms/step - loss: 0.0438 - root_mean_squared_error: 0.2092\n",
            "Epoch 18/30\n",
            "50/50 [==============================] - 5s 92ms/step - loss: 0.0289 - root_mean_squared_error: 0.1700\n",
            "Epoch 19/30\n",
            "50/50 [==============================] - 5s 91ms/step - loss: 0.0257 - root_mean_squared_error: 0.1602\n",
            "Epoch 20/30\n",
            "50/50 [==============================] - 5s 91ms/step - loss: 0.0410 - root_mean_squared_error: 0.2025\n",
            "Epoch 21/30\n",
            "50/50 [==============================] - 5s 90ms/step - loss: 0.0478 - root_mean_squared_error: 0.2185\n",
            "Epoch 22/30\n",
            "50/50 [==============================] - 5s 90ms/step - loss: 0.0332 - root_mean_squared_error: 0.1822\n",
            "Epoch 23/30\n",
            "50/50 [==============================] - 4s 88ms/step - loss: 0.0301 - root_mean_squared_error: 0.1735\n",
            "Epoch 24/30\n",
            "50/50 [==============================] - 5s 90ms/step - loss: 0.0245 - root_mean_squared_error: 0.1564\n",
            "Epoch 25/30\n",
            "50/50 [==============================] - 5s 91ms/step - loss: 0.0188 - root_mean_squared_error: 0.1370\n",
            "Epoch 26/30\n",
            "50/50 [==============================] - 5s 93ms/step - loss: 0.0289 - root_mean_squared_error: 0.1701\n",
            "Epoch 27/30\n",
            "50/50 [==============================] - 5s 93ms/step - loss: 0.0210 - root_mean_squared_error: 0.1448\n",
            "Epoch 28/30\n",
            "50/50 [==============================] - 5s 92ms/step - loss: 0.0140 - root_mean_squared_error: 0.1182\n",
            "Epoch 29/30\n",
            "50/50 [==============================] - 5s 91ms/step - loss: 0.0182 - root_mean_squared_error: 0.1349\n",
            "Epoch 30/30\n",
            "20/50 [===========>..................] - ETA: 2s - loss: 0.0258 - root_mean_squared_error: 0.1606WARNING:tensorflow:Your input ran out of data; interrupting training. Make sure that your dataset or generator can generate at least `steps_per_epoch * epochs` batches (in this case, 1500 batches). You may need to use the repeat() function when building your dataset.\n"
          ]
        },
        {
          "output_type": "stream",
          "name": "stderr",
          "text": [
            "WARNING:tensorflow:Your input ran out of data; interrupting training. Make sure that your dataset or generator can generate at least `steps_per_epoch * epochs` batches (in this case, 1500 batches). You may need to use the repeat() function when building your dataset.\n"
          ]
        },
        {
          "output_type": "stream",
          "name": "stdout",
          "text": [
            "50/50 [==============================] - 2s 35ms/step - loss: 0.0258 - root_mean_squared_error: 0.1606\n",
            "6/6 [==============================] - 1s 37ms/step - loss: 0.0811 - root_mean_squared_error: 0.2847\n",
            "[0.08107063174247742, 0.2847290635108948]\n",
            "===== Summary =====\n",
            "Epoch:  30\n",
            "Batch Size:  50\n",
            "Optimizer:  Adam\n",
            "Learning Rate:  0.005\n",
            "Encoder Units:  100\n",
            "Loss Function:  Categorical CrossEntropy\n",
            "Metrics:  [<keras.metrics.RootMeanSquaredError object at 0x7f7f5b8af590>]\n",
            "Validation:  [0.08107063174247742, 0.2847290635108948]\n",
            "Input:  (None, 10, 14, 1)\n",
            "1 Cov:  (None, 4, 11, 64)\n",
            "2 Cov:  (None, 1, 8, 16)\n",
            "Flatten:  (None, 128)\n",
            "RepeatVector:  (None, 100, 128)\n",
            "LSTM:  (None, 50)\n",
            "Flatten:  (None, 50)\n",
            "1 Dense:  (None, 50)\n",
            "Output:  (None, 2)\n",
            "Epoch 1/30\n",
            "50/50 [==============================] - 5s 64ms/step - loss: 0.1362 - root_mean_squared_error: 0.3548\n",
            "Epoch 2/30\n",
            "50/50 [==============================] - 3s 63ms/step - loss: 0.1063 - root_mean_squared_error: 0.3260\n",
            "Epoch 3/30\n",
            "50/50 [==============================] - 3s 65ms/step - loss: 0.0922 - root_mean_squared_error: 0.3037\n",
            "Epoch 4/30\n",
            "50/50 [==============================] - 3s 64ms/step - loss: 0.0699 - root_mean_squared_error: 0.2645\n",
            "Epoch 5/30\n",
            "50/50 [==============================] - 3s 63ms/step - loss: 0.0726 - root_mean_squared_error: 0.2695\n",
            "Epoch 6/30\n",
            "50/50 [==============================] - 3s 62ms/step - loss: 0.0782 - root_mean_squared_error: 0.2797\n",
            "Epoch 7/30\n",
            "50/50 [==============================] - 3s 64ms/step - loss: 0.0591 - root_mean_squared_error: 0.2430\n",
            "Epoch 8/30\n",
            "50/50 [==============================] - 4s 71ms/step - loss: 0.0681 - root_mean_squared_error: 0.2609\n",
            "Epoch 9/30\n",
            "50/50 [==============================] - 3s 66ms/step - loss: 0.0824 - root_mean_squared_error: 0.2871\n",
            "Epoch 10/30\n",
            "50/50 [==============================] - 3s 62ms/step - loss: 0.0641 - root_mean_squared_error: 0.2531\n",
            "Epoch 11/30\n",
            "50/50 [==============================] - 3s 64ms/step - loss: 0.0572 - root_mean_squared_error: 0.2392\n",
            "Epoch 12/30\n",
            "50/50 [==============================] - 3s 62ms/step - loss: 0.0594 - root_mean_squared_error: 0.2437\n",
            "Epoch 13/30\n",
            "50/50 [==============================] - 3s 62ms/step - loss: 0.0556 - root_mean_squared_error: 0.2359\n",
            "Epoch 14/30\n",
            "50/50 [==============================] - 3s 62ms/step - loss: 0.0681 - root_mean_squared_error: 0.2609\n",
            "Epoch 15/30\n",
            "50/50 [==============================] - 3s 64ms/step - loss: 0.0486 - root_mean_squared_error: 0.2204\n",
            "Epoch 16/30\n",
            "50/50 [==============================] - 3s 64ms/step - loss: 0.0614 - root_mean_squared_error: 0.2479\n",
            "Epoch 17/30\n",
            "50/50 [==============================] - 3s 65ms/step - loss: 0.0534 - root_mean_squared_error: 0.2312\n",
            "Epoch 18/30\n",
            "50/50 [==============================] - 3s 64ms/step - loss: 0.1363 - root_mean_squared_error: 0.3692\n",
            "Epoch 19/30\n",
            "50/50 [==============================] - 3s 65ms/step - loss: 0.1526 - root_mean_squared_error: 0.3906\n",
            "Epoch 20/30\n",
            "50/50 [==============================] - 3s 66ms/step - loss: 0.1470 - root_mean_squared_error: 0.3834\n",
            "Epoch 21/30\n",
            "50/50 [==============================] - 3s 64ms/step - loss: 0.1326 - root_mean_squared_error: 0.3642\n",
            "Epoch 22/30\n",
            "50/50 [==============================] - 3s 64ms/step - loss: 0.1258 - root_mean_squared_error: 0.3546\n",
            "Epoch 23/30\n",
            "50/50 [==============================] - 3s 64ms/step - loss: 0.1282 - root_mean_squared_error: 0.3581\n",
            "Epoch 24/30\n",
            "50/50 [==============================] - 3s 67ms/step - loss: 0.1368 - root_mean_squared_error: 0.3699\n",
            "Epoch 25/30\n",
            "50/50 [==============================] - 3s 62ms/step - loss: 0.1004 - root_mean_squared_error: 0.3168\n",
            "Epoch 26/30\n",
            "50/50 [==============================] - 3s 65ms/step - loss: 0.1120 - root_mean_squared_error: 0.3347\n",
            "Epoch 27/30\n",
            "50/50 [==============================] - 3s 64ms/step - loss: 0.1372 - root_mean_squared_error: 0.3703\n",
            "Epoch 28/30\n",
            "50/50 [==============================] - 3s 65ms/step - loss: 0.1103 - root_mean_squared_error: 0.3321\n",
            "Epoch 29/30\n",
            "50/50 [==============================] - 3s 64ms/step - loss: 0.1030 - root_mean_squared_error: 0.3209\n",
            "Epoch 30/30\n",
            "19/50 [==========>...................] - ETA: 1s - loss: 0.0999 - root_mean_squared_error: 0.3161WARNING:tensorflow:Your input ran out of data; interrupting training. Make sure that your dataset or generator can generate at least `steps_per_epoch * epochs` batches (in this case, 1500 batches). You may need to use the repeat() function when building your dataset.\n"
          ]
        },
        {
          "output_type": "stream",
          "name": "stderr",
          "text": [
            "WARNING:tensorflow:Your input ran out of data; interrupting training. Make sure that your dataset or generator can generate at least `steps_per_epoch * epochs` batches (in this case, 1500 batches). You may need to use the repeat() function when building your dataset.\n"
          ]
        },
        {
          "output_type": "stream",
          "name": "stdout",
          "text": [
            "50/50 [==============================] - 1s 24ms/step - loss: 0.1006 - root_mean_squared_error: 0.3173\n",
            "6/6 [==============================] - 1s 21ms/step - loss: 0.1068 - root_mean_squared_error: 0.3267\n",
            "[0.10675199329853058, 0.3267292380332947]\n",
            "===== Summary =====\n",
            "Epoch:  30\n",
            "Batch Size:  50\n",
            "Optimizer:  Adam\n",
            "Learning Rate:  0.01\n",
            "Encoder Units:  50\n",
            "Loss Function:  Categorical CrossEntropy\n",
            "Metrics:  [<keras.metrics.RootMeanSquaredError object at 0x7f7f5b8af590>]\n",
            "Validation:  [0.10675199329853058, 0.3267292380332947]\n",
            "Input:  (None, 10, 14, 1)\n",
            "1 Cov:  (None, 4, 11, 64)\n",
            "2 Cov:  (None, 1, 8, 16)\n",
            "Flatten:  (None, 128)\n",
            "RepeatVector:  (None, 100, 128)\n",
            "LSTM:  (None, 100)\n",
            "Flatten:  (None, 100)\n",
            "1 Dense:  (None, 50)\n",
            "Output:  (None, 2)\n",
            "Epoch 1/30\n",
            "50/50 [==============================] - 8s 90ms/step - loss: 0.1514 - root_mean_squared_error: 0.3783\n",
            "Epoch 2/30\n",
            "50/50 [==============================] - 4s 88ms/step - loss: 0.1074 - root_mean_squared_error: 0.3277\n",
            "Epoch 3/30\n",
            "50/50 [==============================] - 4s 89ms/step - loss: 0.0893 - root_mean_squared_error: 0.2989\n",
            "Epoch 4/30\n",
            "50/50 [==============================] - 4s 88ms/step - loss: 0.0847 - root_mean_squared_error: 0.2910\n",
            "Epoch 5/30\n",
            "50/50 [==============================] - 4s 89ms/step - loss: 0.0768 - root_mean_squared_error: 0.2771\n",
            "Epoch 6/30\n",
            "50/50 [==============================] - 5s 93ms/step - loss: 0.0674 - root_mean_squared_error: 0.2595\n",
            "Epoch 7/30\n",
            "50/50 [==============================] - 5s 94ms/step - loss: 0.0616 - root_mean_squared_error: 0.2482\n",
            "Epoch 8/30\n",
            "50/50 [==============================] - 4s 88ms/step - loss: 0.0550 - root_mean_squared_error: 0.2345\n",
            "Epoch 9/30\n",
            "50/50 [==============================] - 4s 88ms/step - loss: 0.0583 - root_mean_squared_error: 0.2415\n",
            "Epoch 10/30\n",
            "50/50 [==============================] - 4s 88ms/step - loss: 0.0401 - root_mean_squared_error: 0.2002\n",
            "Epoch 11/30\n",
            "50/50 [==============================] - 4s 88ms/step - loss: 0.0498 - root_mean_squared_error: 0.2232\n",
            "Epoch 12/30\n",
            "50/50 [==============================] - 5s 93ms/step - loss: 0.0489 - root_mean_squared_error: 0.2211\n",
            "Epoch 13/30\n",
            "50/50 [==============================] - 5s 95ms/step - loss: 0.0364 - root_mean_squared_error: 0.1907\n",
            "Epoch 14/30\n",
            "50/50 [==============================] - 4s 90ms/step - loss: 0.0382 - root_mean_squared_error: 0.1954\n",
            "Epoch 15/30\n",
            "50/50 [==============================] - 5s 91ms/step - loss: 0.0335 - root_mean_squared_error: 0.1830\n",
            "Epoch 16/30\n",
            "50/50 [==============================] - 5s 90ms/step - loss: 0.0345 - root_mean_squared_error: 0.1858\n",
            "Epoch 17/30\n",
            "50/50 [==============================] - 4s 88ms/step - loss: 0.0507 - root_mean_squared_error: 0.2252\n",
            "Epoch 18/30\n",
            "50/50 [==============================] - 5s 93ms/step - loss: 0.0308 - root_mean_squared_error: 0.1756\n",
            "Epoch 19/30\n",
            "50/50 [==============================] - 4s 89ms/step - loss: 0.0293 - root_mean_squared_error: 0.1712\n",
            "Epoch 20/30\n",
            "50/50 [==============================] - 4s 88ms/step - loss: 0.0379 - root_mean_squared_error: 0.1946\n",
            "Epoch 21/30\n",
            "50/50 [==============================] - 5s 91ms/step - loss: 0.0369 - root_mean_squared_error: 0.1922\n",
            "Epoch 22/30\n",
            "50/50 [==============================] - 5s 92ms/step - loss: 0.0330 - root_mean_squared_error: 0.1818\n",
            "Epoch 23/30\n",
            "50/50 [==============================] - 4s 88ms/step - loss: 0.0299 - root_mean_squared_error: 0.1729\n",
            "Epoch 24/30\n",
            "50/50 [==============================] - 4s 89ms/step - loss: 0.0820 - root_mean_squared_error: 0.2863\n",
            "Epoch 25/30\n",
            "50/50 [==============================] - 4s 88ms/step - loss: 0.0663 - root_mean_squared_error: 0.2576\n",
            "Epoch 26/30\n",
            "50/50 [==============================] - 4s 88ms/step - loss: 0.0536 - root_mean_squared_error: 0.2316\n",
            "Epoch 27/30\n",
            "50/50 [==============================] - 4s 88ms/step - loss: 0.0378 - root_mean_squared_error: 0.1945\n",
            "Epoch 28/30\n",
            "50/50 [==============================] - 4s 88ms/step - loss: 0.0455 - root_mean_squared_error: 0.2132\n",
            "Epoch 29/30\n",
            "50/50 [==============================] - 4s 89ms/step - loss: 0.0399 - root_mean_squared_error: 0.1997\n",
            "Epoch 30/30\n",
            "20/50 [===========>..................] - ETA: 2s - loss: 0.0327 - root_mean_squared_error: 0.1807WARNING:tensorflow:Your input ran out of data; interrupting training. Make sure that your dataset or generator can generate at least `steps_per_epoch * epochs` batches (in this case, 1500 batches). You may need to use the repeat() function when building your dataset.\n"
          ]
        },
        {
          "output_type": "stream",
          "name": "stderr",
          "text": [
            "WARNING:tensorflow:Your input ran out of data; interrupting training. Make sure that your dataset or generator can generate at least `steps_per_epoch * epochs` batches (in this case, 1500 batches). You may need to use the repeat() function when building your dataset.\n"
          ]
        },
        {
          "output_type": "stream",
          "name": "stdout",
          "text": [
            "50/50 [==============================] - 2s 35ms/step - loss: 0.0327 - root_mean_squared_error: 0.1807\n",
            "6/6 [==============================] - 1s 36ms/step - loss: 0.1086 - root_mean_squared_error: 0.3296\n",
            "[0.10860730707645416, 0.3295562267303467]\n",
            "===== Summary =====\n",
            "Epoch:  30\n",
            "Batch Size:  50\n",
            "Optimizer:  Adam\n",
            "Learning Rate:  0.01\n",
            "Encoder Units:  100\n",
            "Loss Function:  Categorical CrossEntropy\n",
            "Metrics:  [<keras.metrics.RootMeanSquaredError object at 0x7f7f5b8af590>]\n",
            "Validation:  [0.10860730707645416, 0.3295562267303467]\n",
            "Input:  (None, 10, 14, 1)\n",
            "1 Cov:  (None, 4, 11, 64)\n",
            "2 Cov:  (None, 1, 8, 16)\n",
            "Flatten:  (None, 128)\n",
            "RepeatVector:  (None, 100, 128)\n",
            "LSTM:  (None, 50)\n",
            "Flatten:  (None, 50)\n",
            "1 Dense:  (None, 50)\n",
            "Output:  (None, 2)\n",
            "Epoch 1/50\n",
            "50/50 [==============================] - 5s 62ms/step - loss: 0.1277 - root_mean_squared_error: 0.3523\n",
            "Epoch 2/50\n",
            "50/50 [==============================] - 3s 63ms/step - loss: 0.1066 - root_mean_squared_error: 0.3265\n",
            "Epoch 3/50\n",
            "50/50 [==============================] - 3s 63ms/step - loss: 0.1123 - root_mean_squared_error: 0.3351\n",
            "Epoch 4/50\n",
            "50/50 [==============================] - 3s 63ms/step - loss: 0.1016 - root_mean_squared_error: 0.3188\n",
            "Epoch 5/50\n",
            "50/50 [==============================] - 3s 63ms/step - loss: 0.0904 - root_mean_squared_error: 0.3007\n",
            "Epoch 6/50\n",
            "50/50 [==============================] - 3s 62ms/step - loss: 0.0824 - root_mean_squared_error: 0.2870\n",
            "Epoch 7/50\n",
            "50/50 [==============================] - 3s 63ms/step - loss: 0.0815 - root_mean_squared_error: 0.2855\n",
            "Epoch 8/50\n",
            "50/50 [==============================] - 3s 62ms/step - loss: 0.0660 - root_mean_squared_error: 0.2570\n",
            "Epoch 9/50\n",
            "50/50 [==============================] - 3s 63ms/step - loss: 0.0623 - root_mean_squared_error: 0.2497\n",
            "Epoch 10/50\n",
            "50/50 [==============================] - 3s 63ms/step - loss: 0.0573 - root_mean_squared_error: 0.2393\n",
            "Epoch 11/50\n",
            "50/50 [==============================] - 3s 62ms/step - loss: 0.0428 - root_mean_squared_error: 0.2070\n",
            "Epoch 12/50\n",
            "50/50 [==============================] - 3s 63ms/step - loss: 0.0494 - root_mean_squared_error: 0.2222\n",
            "Epoch 13/50\n",
            "50/50 [==============================] - 3s 63ms/step - loss: 0.0474 - root_mean_squared_error: 0.2178\n",
            "Epoch 14/50\n",
            "50/50 [==============================] - 3s 62ms/step - loss: 0.0436 - root_mean_squared_error: 0.2088\n",
            "Epoch 15/50\n",
            "50/50 [==============================] - 3s 63ms/step - loss: 0.0388 - root_mean_squared_error: 0.1969\n",
            "Epoch 16/50\n",
            "50/50 [==============================] - 3s 62ms/step - loss: 0.0523 - root_mean_squared_error: 0.2287\n",
            "Epoch 17/50\n",
            "50/50 [==============================] - 3s 62ms/step - loss: 0.0442 - root_mean_squared_error: 0.2103\n",
            "Epoch 18/50\n",
            "50/50 [==============================] - 3s 63ms/step - loss: 0.0429 - root_mean_squared_error: 0.2070\n",
            "Epoch 19/50\n",
            "50/50 [==============================] - 3s 63ms/step - loss: 0.0388 - root_mean_squared_error: 0.1969\n",
            "Epoch 20/50\n",
            "50/50 [==============================] - 3s 63ms/step - loss: 0.0405 - root_mean_squared_error: 0.2011\n",
            "Epoch 21/50\n",
            "50/50 [==============================] - 3s 63ms/step - loss: 0.0250 - root_mean_squared_error: 0.1582\n",
            "Epoch 22/50\n",
            "50/50 [==============================] - 3s 63ms/step - loss: 0.0285 - root_mean_squared_error: 0.1689\n",
            "Epoch 23/50\n",
            "50/50 [==============================] - 3s 63ms/step - loss: 0.0374 - root_mean_squared_error: 0.1933\n",
            "Epoch 24/50\n",
            "50/50 [==============================] - 3s 67ms/step - loss: 0.0325 - root_mean_squared_error: 0.1802\n",
            "Epoch 25/50\n",
            "50/50 [==============================] - 3s 63ms/step - loss: 0.0309 - root_mean_squared_error: 0.1758\n",
            "Epoch 26/50\n",
            "50/50 [==============================] - 3s 67ms/step - loss: 0.0295 - root_mean_squared_error: 0.1718\n",
            "Epoch 27/50\n",
            "50/50 [==============================] - 3s 63ms/step - loss: 0.0202 - root_mean_squared_error: 0.1421\n",
            "Epoch 28/50\n",
            "50/50 [==============================] - 3s 63ms/step - loss: 0.0293 - root_mean_squared_error: 0.1710\n",
            "Epoch 29/50\n",
            "50/50 [==============================] - 3s 67ms/step - loss: 0.0241 - root_mean_squared_error: 0.1553\n",
            "Epoch 30/50\n",
            "50/50 [==============================] - 3s 63ms/step - loss: 0.0218 - root_mean_squared_error: 0.1478\n",
            "Epoch 31/50\n",
            "50/50 [==============================] - 3s 66ms/step - loss: 0.0212 - root_mean_squared_error: 0.1457\n",
            "Epoch 32/50\n",
            "50/50 [==============================] - 3s 66ms/step - loss: 0.0158 - root_mean_squared_error: 0.1258\n",
            "Epoch 33/50\n",
            "50/50 [==============================] - 3s 66ms/step - loss: 0.0231 - root_mean_squared_error: 0.1520\n",
            "Epoch 34/50\n",
            "50/50 [==============================] - 3s 65ms/step - loss: 0.0131 - root_mean_squared_error: 0.1145\n",
            "Epoch 35/50\n",
            "50/50 [==============================] - 3s 64ms/step - loss: 0.0207 - root_mean_squared_error: 0.1438\n",
            "Epoch 36/50\n",
            "50/50 [==============================] - 3s 64ms/step - loss: 0.0132 - root_mean_squared_error: 0.1149\n",
            "Epoch 37/50\n",
            "50/50 [==============================] - 3s 65ms/step - loss: 0.0158 - root_mean_squared_error: 0.1258\n",
            "Epoch 38/50\n",
            "50/50 [==============================] - 3s 68ms/step - loss: 0.0142 - root_mean_squared_error: 0.1193\n",
            "Epoch 39/50\n",
            "50/50 [==============================] - 3s 67ms/step - loss: 0.0163 - root_mean_squared_error: 0.1278\n",
            "Epoch 40/50\n",
            "50/50 [==============================] - 3s 67ms/step - loss: 0.0126 - root_mean_squared_error: 0.1123\n",
            "Epoch 41/50\n",
            "50/50 [==============================] - 3s 69ms/step - loss: 0.0165 - root_mean_squared_error: 0.1286\n",
            "Epoch 42/50\n",
            "50/50 [==============================] - 3s 64ms/step - loss: 0.0169 - root_mean_squared_error: 0.1300\n",
            "Epoch 43/50\n",
            "50/50 [==============================] - 3s 65ms/step - loss: 0.0101 - root_mean_squared_error: 0.1004\n",
            "Epoch 44/50\n",
            "50/50 [==============================] - 3s 65ms/step - loss: 0.0163 - root_mean_squared_error: 0.1277\n",
            "Epoch 45/50\n",
            "50/50 [==============================] - 3s 69ms/step - loss: 0.0139 - root_mean_squared_error: 0.1178\n",
            "Epoch 46/50\n",
            "50/50 [==============================] - 3s 68ms/step - loss: 0.0127 - root_mean_squared_error: 0.1125\n",
            "Epoch 47/50\n",
            "50/50 [==============================] - 3s 65ms/step - loss: 0.0165 - root_mean_squared_error: 0.1285\n",
            "Epoch 48/50\n",
            "50/50 [==============================] - 3s 66ms/step - loss: 0.0208 - root_mean_squared_error: 0.1443\n",
            "Epoch 49/50\n",
            "50/50 [==============================] - 3s 66ms/step - loss: 0.0150 - root_mean_squared_error: 0.1225\n",
            "Epoch 50/50\n",
            "WARNING:tensorflow:Your input ran out of data; interrupting training. Make sure that your dataset or generator can generate at least `steps_per_epoch * epochs` batches (in this case, 2500 batches). You may need to use the repeat() function when building your dataset.\n"
          ]
        },
        {
          "output_type": "stream",
          "name": "stderr",
          "text": [
            "WARNING:tensorflow:Your input ran out of data; interrupting training. Make sure that your dataset or generator can generate at least `steps_per_epoch * epochs` batches (in this case, 2500 batches). You may need to use the repeat() function when building your dataset.\n"
          ]
        },
        {
          "output_type": "stream",
          "name": "stdout",
          "text": [
            "50/50 [==============================] - 0s 573us/step - loss: 0.0150 - root_mean_squared_error: 0.1225\n",
            "6/6 [==============================] - 1s 23ms/step - loss: 0.0838 - root_mean_squared_error: 0.2894\n",
            "[0.08375155925750732, 0.2893986105918884]\n",
            "===== Summary =====\n",
            "Epoch:  50\n",
            "Batch Size:  50\n",
            "Optimizer:  Adam\n",
            "Learning Rate:  0.005\n",
            "Encoder Units:  50\n",
            "Loss Function:  Categorical CrossEntropy\n",
            "Metrics:  [<keras.metrics.RootMeanSquaredError object at 0x7f7f5b8af590>]\n",
            "Validation:  [0.08375155925750732, 0.2893986105918884]\n",
            "Input:  (None, 10, 14, 1)\n",
            "1 Cov:  (None, 4, 11, 64)\n",
            "2 Cov:  (None, 1, 8, 16)\n",
            "Flatten:  (None, 128)\n",
            "RepeatVector:  (None, 100, 128)\n",
            "LSTM:  (None, 100)\n",
            "Flatten:  (None, 100)\n",
            "1 Dense:  (None, 50)\n",
            "Output:  (None, 2)\n",
            "Epoch 1/50\n",
            "50/50 [==============================] - 7s 89ms/step - loss: 0.1337 - root_mean_squared_error: 0.3527\n",
            "Epoch 2/50\n",
            "50/50 [==============================] - 4s 89ms/step - loss: 0.0915 - root_mean_squared_error: 0.3024\n",
            "Epoch 3/50\n",
            "50/50 [==============================] - 4s 89ms/step - loss: 0.0810 - root_mean_squared_error: 0.2846\n",
            "Epoch 4/50\n",
            "50/50 [==============================] - 4s 89ms/step - loss: 0.0718 - root_mean_squared_error: 0.2679\n",
            "Epoch 5/50\n",
            "50/50 [==============================] - 4s 87ms/step - loss: 0.0771 - root_mean_squared_error: 0.2777\n",
            "Epoch 6/50\n",
            "50/50 [==============================] - 4s 87ms/step - loss: 0.0674 - root_mean_squared_error: 0.2596\n",
            "Epoch 7/50\n",
            "50/50 [==============================] - 4s 86ms/step - loss: 0.0565 - root_mean_squared_error: 0.2376\n",
            "Epoch 8/50\n",
            "50/50 [==============================] - 4s 88ms/step - loss: 0.0483 - root_mean_squared_error: 0.2199\n",
            "Epoch 9/50\n",
            "50/50 [==============================] - 4s 89ms/step - loss: 0.0442 - root_mean_squared_error: 0.2101\n",
            "Epoch 10/50\n",
            "50/50 [==============================] - 4s 87ms/step - loss: 0.0446 - root_mean_squared_error: 0.2113\n",
            "Epoch 11/50\n",
            "50/50 [==============================] - 4s 87ms/step - loss: 0.0381 - root_mean_squared_error: 0.1952\n",
            "Epoch 12/50\n",
            "50/50 [==============================] - 4s 89ms/step - loss: 0.0406 - root_mean_squared_error: 0.2014\n",
            "Epoch 13/50\n",
            "50/50 [==============================] - 4s 90ms/step - loss: 0.0342 - root_mean_squared_error: 0.1849\n",
            "Epoch 14/50\n",
            "50/50 [==============================] - 4s 89ms/step - loss: 0.0302 - root_mean_squared_error: 0.1739\n",
            "Epoch 15/50\n",
            "50/50 [==============================] - 4s 88ms/step - loss: 0.0440 - root_mean_squared_error: 0.2098\n",
            "Epoch 16/50\n",
            "50/50 [==============================] - 5s 93ms/step - loss: 0.0546 - root_mean_squared_error: 0.2337\n",
            "Epoch 17/50\n",
            "50/50 [==============================] - 4s 87ms/step - loss: 0.0420 - root_mean_squared_error: 0.2049\n",
            "Epoch 18/50\n",
            "50/50 [==============================] - 4s 89ms/step - loss: 0.0456 - root_mean_squared_error: 0.2135\n",
            "Epoch 19/50\n",
            "50/50 [==============================] - 4s 89ms/step - loss: 0.0368 - root_mean_squared_error: 0.1917\n",
            "Epoch 20/50\n",
            "50/50 [==============================] - 5s 93ms/step - loss: 0.0255 - root_mean_squared_error: 0.1596\n",
            "Epoch 21/50\n",
            "50/50 [==============================] - 4s 89ms/step - loss: 0.0223 - root_mean_squared_error: 0.1493\n",
            "Epoch 22/50\n",
            "50/50 [==============================] - 4s 90ms/step - loss: 0.0309 - root_mean_squared_error: 0.1759\n",
            "Epoch 23/50\n",
            "50/50 [==============================] - 5s 92ms/step - loss: 0.0260 - root_mean_squared_error: 0.1614\n",
            "Epoch 24/50\n",
            "50/50 [==============================] - 4s 89ms/step - loss: 0.0321 - root_mean_squared_error: 0.1790\n",
            "Epoch 25/50\n",
            "50/50 [==============================] - 5s 92ms/step - loss: 0.0398 - root_mean_squared_error: 0.1995\n",
            "Epoch 26/50\n",
            "50/50 [==============================] - 5s 93ms/step - loss: 0.0311 - root_mean_squared_error: 0.1762\n",
            "Epoch 27/50\n",
            "50/50 [==============================] - 4s 89ms/step - loss: 0.0239 - root_mean_squared_error: 0.1545\n",
            "Epoch 28/50\n",
            "50/50 [==============================] - 5s 90ms/step - loss: 0.0142 - root_mean_squared_error: 0.1193\n",
            "Epoch 29/50\n",
            "50/50 [==============================] - 5s 93ms/step - loss: 0.0153 - root_mean_squared_error: 0.1238\n",
            "Epoch 30/50\n",
            "50/50 [==============================] - 4s 89ms/step - loss: 0.0161 - root_mean_squared_error: 0.1267\n",
            "Epoch 31/50\n",
            "50/50 [==============================] - 4s 87ms/step - loss: 0.0131 - root_mean_squared_error: 0.1144\n",
            "Epoch 32/50\n",
            "50/50 [==============================] - 4s 89ms/step - loss: 0.0225 - root_mean_squared_error: 0.1499\n",
            "Epoch 33/50\n",
            "50/50 [==============================] - 4s 86ms/step - loss: 0.0219 - root_mean_squared_error: 0.1479\n",
            "Epoch 34/50\n",
            "50/50 [==============================] - 4s 88ms/step - loss: 0.0081 - root_mean_squared_error: 0.0898\n",
            "Epoch 35/50\n",
            "50/50 [==============================] - 5s 90ms/step - loss: 0.0102 - root_mean_squared_error: 0.1010\n",
            "Epoch 36/50\n",
            "50/50 [==============================] - 4s 88ms/step - loss: 0.0124 - root_mean_squared_error: 0.1113\n",
            "Epoch 37/50\n",
            "50/50 [==============================] - 4s 87ms/step - loss: 0.0186 - root_mean_squared_error: 0.1362\n",
            "Epoch 38/50\n",
            "50/50 [==============================] - 5s 90ms/step - loss: 0.0394 - root_mean_squared_error: 0.1986\n",
            "Epoch 39/50\n",
            "50/50 [==============================] - 5s 91ms/step - loss: 0.0259 - root_mean_squared_error: 0.1608\n",
            "Epoch 40/50\n",
            "50/50 [==============================] - 4s 87ms/step - loss: 0.0096 - root_mean_squared_error: 0.0978\n",
            "Epoch 41/50\n",
            "50/50 [==============================] - 5s 91ms/step - loss: 0.0091 - root_mean_squared_error: 0.0956\n",
            "Epoch 42/50\n",
            "50/50 [==============================] - 5s 91ms/step - loss: 0.0089 - root_mean_squared_error: 0.0946\n",
            "Epoch 43/50\n",
            "50/50 [==============================] - 5s 92ms/step - loss: 0.0068 - root_mean_squared_error: 0.0825\n",
            "Epoch 44/50\n",
            "50/50 [==============================] - 4s 90ms/step - loss: 0.0050 - root_mean_squared_error: 0.0704\n",
            "Epoch 45/50\n",
            "50/50 [==============================] - 4s 89ms/step - loss: 0.0100 - root_mean_squared_error: 0.1001\n",
            "Epoch 46/50\n",
            "50/50 [==============================] - 5s 91ms/step - loss: 0.0096 - root_mean_squared_error: 0.0980\n",
            "Epoch 47/50\n",
            "50/50 [==============================] - 5s 90ms/step - loss: 0.0130 - root_mean_squared_error: 0.1139\n",
            "Epoch 48/50\n",
            "50/50 [==============================] - 4s 88ms/step - loss: 0.0079 - root_mean_squared_error: 0.0887\n",
            "Epoch 49/50\n",
            "50/50 [==============================] - 5s 91ms/step - loss: 0.0082 - root_mean_squared_error: 0.0907\n",
            "Epoch 50/50\n",
            "WARNING:tensorflow:Your input ran out of data; interrupting training. Make sure that your dataset or generator can generate at least `steps_per_epoch * epochs` batches (in this case, 2500 batches). You may need to use the repeat() function when building your dataset.\n"
          ]
        },
        {
          "output_type": "stream",
          "name": "stderr",
          "text": [
            "WARNING:tensorflow:Your input ran out of data; interrupting training. Make sure that your dataset or generator can generate at least `steps_per_epoch * epochs` batches (in this case, 2500 batches). You may need to use the repeat() function when building your dataset.\n"
          ]
        },
        {
          "output_type": "stream",
          "name": "stdout",
          "text": [
            "50/50 [==============================] - 0s 531us/step - loss: 0.0082 - root_mean_squared_error: 0.0907\n",
            "6/6 [==============================] - 1s 33ms/step - loss: 0.1137 - root_mean_squared_error: 0.3372\n",
            "[0.11368202418088913, 0.3371676504611969]\n",
            "===== Summary =====\n",
            "Epoch:  50\n",
            "Batch Size:  50\n",
            "Optimizer:  Adam\n",
            "Learning Rate:  0.005\n",
            "Encoder Units:  100\n",
            "Loss Function:  Categorical CrossEntropy\n",
            "Metrics:  [<keras.metrics.RootMeanSquaredError object at 0x7f7f5b8af590>]\n",
            "Validation:  [0.11368202418088913, 0.3371676504611969]\n",
            "Input:  (None, 10, 14, 1)\n",
            "1 Cov:  (None, 4, 11, 64)\n",
            "2 Cov:  (None, 1, 8, 16)\n",
            "Flatten:  (None, 128)\n",
            "RepeatVector:  (None, 100, 128)\n",
            "LSTM:  (None, 50)\n",
            "Flatten:  (None, 50)\n",
            "1 Dense:  (None, 50)\n",
            "Output:  (None, 2)\n",
            "Epoch 1/50\n",
            "50/50 [==============================] - 6s 63ms/step - loss: 0.1437 - root_mean_squared_error: 0.3716\n",
            "Epoch 2/50\n",
            "50/50 [==============================] - 3s 67ms/step - loss: 0.1052 - root_mean_squared_error: 0.3244\n",
            "Epoch 3/50\n",
            "50/50 [==============================] - 3s 64ms/step - loss: 0.0957 - root_mean_squared_error: 0.3094\n",
            "Epoch 4/50\n",
            "50/50 [==============================] - 3s 66ms/step - loss: 0.0856 - root_mean_squared_error: 0.2927\n",
            "Epoch 5/50\n",
            "50/50 [==============================] - 3s 62ms/step - loss: 0.0828 - root_mean_squared_error: 0.2878\n",
            "Epoch 6/50\n",
            "50/50 [==============================] - 3s 62ms/step - loss: 0.0633 - root_mean_squared_error: 0.2516\n",
            "Epoch 7/50\n",
            "50/50 [==============================] - 3s 64ms/step - loss: 0.0585 - root_mean_squared_error: 0.2419\n",
            "Epoch 8/50\n",
            "50/50 [==============================] - 3s 62ms/step - loss: 0.0578 - root_mean_squared_error: 0.2405\n",
            "Epoch 9/50\n",
            "50/50 [==============================] - 3s 62ms/step - loss: 0.0520 - root_mean_squared_error: 0.2280\n",
            "Epoch 10/50\n",
            "50/50 [==============================] - 3s 66ms/step - loss: 0.0677 - root_mean_squared_error: 0.2602\n",
            "Epoch 11/50\n",
            "50/50 [==============================] - 3s 65ms/step - loss: 0.0477 - root_mean_squared_error: 0.2184\n",
            "Epoch 12/50\n",
            "50/50 [==============================] - 3s 61ms/step - loss: 0.0427 - root_mean_squared_error: 0.2067\n",
            "Epoch 13/50\n",
            "50/50 [==============================] - 3s 68ms/step - loss: 0.0417 - root_mean_squared_error: 0.2042\n",
            "Epoch 14/50\n",
            "50/50 [==============================] - 3s 64ms/step - loss: 0.0392 - root_mean_squared_error: 0.1979\n",
            "Epoch 15/50\n",
            "50/50 [==============================] - 3s 64ms/step - loss: 0.0458 - root_mean_squared_error: 0.2139\n",
            "Epoch 16/50\n",
            "50/50 [==============================] - 3s 62ms/step - loss: 0.0401 - root_mean_squared_error: 0.2003\n",
            "Epoch 17/50\n",
            "50/50 [==============================] - 3s 62ms/step - loss: 0.0412 - root_mean_squared_error: 0.2030\n",
            "Epoch 18/50\n",
            "50/50 [==============================] - 3s 66ms/step - loss: 0.0403 - root_mean_squared_error: 0.2008\n",
            "Epoch 19/50\n",
            "50/50 [==============================] - 3s 65ms/step - loss: 0.0297 - root_mean_squared_error: 0.1723\n",
            "Epoch 20/50\n",
            "50/50 [==============================] - 3s 64ms/step - loss: 0.0370 - root_mean_squared_error: 0.1924\n",
            "Epoch 21/50\n",
            "50/50 [==============================] - 3s 62ms/step - loss: 0.0304 - root_mean_squared_error: 0.1745\n",
            "Epoch 22/50\n",
            "50/50 [==============================] - 3s 65ms/step - loss: 0.0323 - root_mean_squared_error: 0.1797\n",
            "Epoch 23/50\n",
            "50/50 [==============================] - 3s 64ms/step - loss: 0.0347 - root_mean_squared_error: 0.1864\n",
            "Epoch 24/50\n",
            "50/50 [==============================] - 3s 63ms/step - loss: 0.0302 - root_mean_squared_error: 0.1738\n",
            "Epoch 25/50\n",
            "50/50 [==============================] - 3s 63ms/step - loss: 0.0290 - root_mean_squared_error: 0.1702\n",
            "Epoch 26/50\n",
            "50/50 [==============================] - 3s 64ms/step - loss: 0.0266 - root_mean_squared_error: 0.1631\n",
            "Epoch 27/50\n",
            "50/50 [==============================] - 3s 63ms/step - loss: 0.0311 - root_mean_squared_error: 0.1765\n",
            "Epoch 28/50\n",
            "50/50 [==============================] - 3s 63ms/step - loss: 0.0247 - root_mean_squared_error: 0.1571\n",
            "Epoch 29/50\n",
            "50/50 [==============================] - 3s 63ms/step - loss: 0.0184 - root_mean_squared_error: 0.1356\n",
            "Epoch 30/50\n",
            "50/50 [==============================] - 3s 64ms/step - loss: 0.0207 - root_mean_squared_error: 0.1440\n",
            "Epoch 31/50\n",
            "50/50 [==============================] - 3s 63ms/step - loss: 0.0294 - root_mean_squared_error: 0.1716\n",
            "Epoch 32/50\n",
            "50/50 [==============================] - 3s 64ms/step - loss: 0.0395 - root_mean_squared_error: 0.1986\n",
            "Epoch 33/50\n",
            "50/50 [==============================] - 3s 64ms/step - loss: 0.0301 - root_mean_squared_error: 0.1735\n",
            "Epoch 34/50\n",
            "50/50 [==============================] - 3s 63ms/step - loss: 0.0364 - root_mean_squared_error: 0.1907\n",
            "Epoch 35/50\n",
            "50/50 [==============================] - 3s 63ms/step - loss: 0.0267 - root_mean_squared_error: 0.1635\n",
            "Epoch 36/50\n",
            "50/50 [==============================] - 3s 63ms/step - loss: 0.0260 - root_mean_squared_error: 0.1612\n",
            "Epoch 37/50\n",
            "50/50 [==============================] - 3s 63ms/step - loss: 0.0197 - root_mean_squared_error: 0.1405\n",
            "Epoch 38/50\n",
            "50/50 [==============================] - 3s 63ms/step - loss: 0.0232 - root_mean_squared_error: 0.1524\n",
            "Epoch 39/50\n",
            "50/50 [==============================] - 3s 63ms/step - loss: 0.0400 - root_mean_squared_error: 0.1999\n",
            "Epoch 40/50\n",
            "50/50 [==============================] - 3s 63ms/step - loss: 0.0405 - root_mean_squared_error: 0.2013\n",
            "Epoch 41/50\n",
            "50/50 [==============================] - 3s 63ms/step - loss: 0.0243 - root_mean_squared_error: 0.1559\n",
            "Epoch 42/50\n",
            "50/50 [==============================] - 3s 63ms/step - loss: 0.0320 - root_mean_squared_error: 0.1788\n",
            "Epoch 43/50\n",
            "50/50 [==============================] - 3s 63ms/step - loss: 0.0222 - root_mean_squared_error: 0.1491\n",
            "Epoch 44/50\n",
            "50/50 [==============================] - 3s 63ms/step - loss: 0.0197 - root_mean_squared_error: 0.1402\n",
            "Epoch 45/50\n",
            "50/50 [==============================] - 3s 63ms/step - loss: 0.0257 - root_mean_squared_error: 0.1604\n",
            "Epoch 46/50\n",
            "50/50 [==============================] - 3s 63ms/step - loss: 0.0205 - root_mean_squared_error: 0.1432\n",
            "Epoch 47/50\n",
            "50/50 [==============================] - 3s 63ms/step - loss: 0.0160 - root_mean_squared_error: 0.1264\n",
            "Epoch 48/50\n",
            "50/50 [==============================] - 3s 63ms/step - loss: 0.0422 - root_mean_squared_error: 0.2053\n",
            "Epoch 49/50\n",
            "50/50 [==============================] - 3s 64ms/step - loss: 0.0189 - root_mean_squared_error: 0.1376\n",
            "Epoch 50/50\n",
            "WARNING:tensorflow:Your input ran out of data; interrupting training. Make sure that your dataset or generator can generate at least `steps_per_epoch * epochs` batches (in this case, 2500 batches). You may need to use the repeat() function when building your dataset.\n"
          ]
        },
        {
          "output_type": "stream",
          "name": "stderr",
          "text": [
            "WARNING:tensorflow:Your input ran out of data; interrupting training. Make sure that your dataset or generator can generate at least `steps_per_epoch * epochs` batches (in this case, 2500 batches). You may need to use the repeat() function when building your dataset.\n"
          ]
        },
        {
          "output_type": "stream",
          "name": "stdout",
          "text": [
            "50/50 [==============================] - 0s 608us/step - loss: 0.0189 - root_mean_squared_error: 0.1376\n",
            "6/6 [==============================] - 1s 23ms/step - loss: 0.0762 - root_mean_squared_error: 0.2761\n",
            "[0.07621484249830246, 0.27607035636901855]\n",
            "===== Summary =====\n",
            "Epoch:  50\n",
            "Batch Size:  50\n",
            "Optimizer:  Adam\n",
            "Learning Rate:  0.01\n",
            "Encoder Units:  50\n",
            "Loss Function:  Categorical CrossEntropy\n",
            "Metrics:  [<keras.metrics.RootMeanSquaredError object at 0x7f7f5b8af590>]\n",
            "Validation:  [0.07621484249830246, 0.27607035636901855]\n",
            "Input:  (None, 10, 14, 1)\n",
            "1 Cov:  (None, 4, 11, 64)\n",
            "2 Cov:  (None, 1, 8, 16)\n",
            "Flatten:  (None, 128)\n",
            "RepeatVector:  (None, 100, 128)\n",
            "LSTM:  (None, 100)\n",
            "Flatten:  (None, 100)\n",
            "1 Dense:  (None, 50)\n",
            "Output:  (None, 2)\n",
            "Epoch 1/50\n",
            "50/50 [==============================] - 7s 90ms/step - loss: 0.1537 - root_mean_squared_error: 0.3731\n",
            "Epoch 2/50\n",
            "50/50 [==============================] - 4s 88ms/step - loss: 0.1083 - root_mean_squared_error: 0.3291\n",
            "Epoch 3/50\n",
            "50/50 [==============================] - 4s 89ms/step - loss: 0.0884 - root_mean_squared_error: 0.2973\n",
            "Epoch 4/50\n",
            "50/50 [==============================] - 4s 88ms/step - loss: 0.1078 - root_mean_squared_error: 0.3284\n",
            "Epoch 5/50\n",
            "50/50 [==============================] - 4s 88ms/step - loss: 0.1156 - root_mean_squared_error: 0.3399\n",
            "Epoch 6/50\n",
            "50/50 [==============================] - 4s 88ms/step - loss: 0.0994 - root_mean_squared_error: 0.3153\n",
            "Epoch 7/50\n",
            "50/50 [==============================] - 4s 88ms/step - loss: 0.0888 - root_mean_squared_error: 0.2981\n",
            "Epoch 8/50\n",
            "50/50 [==============================] - 4s 89ms/step - loss: 0.0934 - root_mean_squared_error: 0.3056\n",
            "Epoch 9/50\n",
            "50/50 [==============================] - 4s 89ms/step - loss: 0.0818 - root_mean_squared_error: 0.2861\n",
            "Epoch 10/50\n",
            "50/50 [==============================] - 4s 88ms/step - loss: 0.0823 - root_mean_squared_error: 0.2868\n",
            "Epoch 11/50\n",
            "50/50 [==============================] - 4s 88ms/step - loss: 0.0809 - root_mean_squared_error: 0.2844\n",
            "Epoch 12/50\n",
            "50/50 [==============================] - 4s 89ms/step - loss: 0.0714 - root_mean_squared_error: 0.2673\n",
            "Epoch 13/50\n",
            "50/50 [==============================] - 4s 90ms/step - loss: 0.0623 - root_mean_squared_error: 0.2497\n",
            "Epoch 14/50\n",
            "50/50 [==============================] - 4s 89ms/step - loss: 0.0598 - root_mean_squared_error: 0.2446\n",
            "Epoch 15/50\n",
            "50/50 [==============================] - 4s 90ms/step - loss: 0.0612 - root_mean_squared_error: 0.2473\n",
            "Epoch 16/50\n",
            "50/50 [==============================] - 5s 91ms/step - loss: 0.0559 - root_mean_squared_error: 0.2364\n",
            "Epoch 17/50\n",
            "50/50 [==============================] - 5s 90ms/step - loss: 0.0559 - root_mean_squared_error: 0.2363\n",
            "Epoch 18/50\n",
            "50/50 [==============================] - 5s 90ms/step - loss: 0.0497 - root_mean_squared_error: 0.2230\n",
            "Epoch 19/50\n",
            "50/50 [==============================] - 5s 93ms/step - loss: 0.0656 - root_mean_squared_error: 0.2562\n",
            "Epoch 20/50\n",
            "50/50 [==============================] - 5s 91ms/step - loss: 0.0541 - root_mean_squared_error: 0.2325\n",
            "Epoch 21/50\n",
            "50/50 [==============================] - 5s 91ms/step - loss: 0.0401 - root_mean_squared_error: 0.2003\n",
            "Epoch 22/50\n",
            "50/50 [==============================] - 5s 92ms/step - loss: 0.0415 - root_mean_squared_error: 0.2036\n",
            "Epoch 23/50\n",
            "50/50 [==============================] - 5s 92ms/step - loss: 0.0475 - root_mean_squared_error: 0.2180\n",
            "Epoch 24/50\n",
            "50/50 [==============================] - 5s 91ms/step - loss: 0.0375 - root_mean_squared_error: 0.1936\n",
            "Epoch 25/50\n",
            "50/50 [==============================] - 4s 89ms/step - loss: 0.0414 - root_mean_squared_error: 0.2036\n",
            "Epoch 26/50\n",
            "50/50 [==============================] - 4s 90ms/step - loss: 0.0334 - root_mean_squared_error: 0.1828\n",
            "Epoch 27/50\n",
            "50/50 [==============================] - 4s 90ms/step - loss: 0.0589 - root_mean_squared_error: 0.2426\n",
            "Epoch 28/50\n",
            "50/50 [==============================] - 4s 90ms/step - loss: 0.0517 - root_mean_squared_error: 0.2275\n",
            "Epoch 29/50\n",
            "50/50 [==============================] - 5s 90ms/step - loss: 0.0392 - root_mean_squared_error: 0.1979\n",
            "Epoch 30/50\n",
            "50/50 [==============================] - 5s 91ms/step - loss: 0.0323 - root_mean_squared_error: 0.1798\n",
            "Epoch 31/50\n",
            "50/50 [==============================] - 4s 90ms/step - loss: 0.0407 - root_mean_squared_error: 0.2018\n",
            "Epoch 32/50\n",
            "50/50 [==============================] - 4s 90ms/step - loss: 0.0416 - root_mean_squared_error: 0.2040\n",
            "Epoch 33/50\n",
            "50/50 [==============================] - 5s 91ms/step - loss: 0.0441 - root_mean_squared_error: 0.2099\n",
            "Epoch 34/50\n",
            "50/50 [==============================] - 4s 89ms/step - loss: 0.0410 - root_mean_squared_error: 0.2025\n",
            "Epoch 35/50\n",
            "50/50 [==============================] - 4s 90ms/step - loss: 0.0502 - root_mean_squared_error: 0.2240\n",
            "Epoch 36/50\n",
            "50/50 [==============================] - 4s 90ms/step - loss: 0.0257 - root_mean_squared_error: 0.1603\n",
            "Epoch 37/50\n",
            "50/50 [==============================] - 4s 89ms/step - loss: 0.0327 - root_mean_squared_error: 0.1808\n",
            "Epoch 38/50\n",
            "50/50 [==============================] - 5s 90ms/step - loss: 0.0307 - root_mean_squared_error: 0.1752\n",
            "Epoch 39/50\n",
            "50/50 [==============================] - 5s 90ms/step - loss: 0.0298 - root_mean_squared_error: 0.1726\n",
            "Epoch 40/50\n",
            "50/50 [==============================] - 5s 90ms/step - loss: 0.0358 - root_mean_squared_error: 0.1893\n",
            "Epoch 41/50\n",
            "50/50 [==============================] - 5s 90ms/step - loss: 0.0314 - root_mean_squared_error: 0.1771\n",
            "Epoch 42/50\n",
            "50/50 [==============================] - 5s 90ms/step - loss: 0.0253 - root_mean_squared_error: 0.1592\n",
            "Epoch 43/50\n",
            "50/50 [==============================] - 4s 89ms/step - loss: 0.0395 - root_mean_squared_error: 0.1986\n",
            "Epoch 44/50\n",
            "50/50 [==============================] - 4s 89ms/step - loss: 0.0240 - root_mean_squared_error: 0.1548\n",
            "Epoch 45/50\n",
            "50/50 [==============================] - 4s 90ms/step - loss: 0.0311 - root_mean_squared_error: 0.1763\n",
            "Epoch 46/50\n",
            "50/50 [==============================] - 5s 90ms/step - loss: 0.0226 - root_mean_squared_error: 0.1504\n",
            "Epoch 47/50\n",
            "50/50 [==============================] - 5s 91ms/step - loss: 0.0254 - root_mean_squared_error: 0.1594\n",
            "Epoch 48/50\n",
            "50/50 [==============================] - 4s 89ms/step - loss: 0.0448 - root_mean_squared_error: 0.2117\n",
            "Epoch 49/50\n",
            "50/50 [==============================] - 5s 91ms/step - loss: 0.0358 - root_mean_squared_error: 0.1891\n",
            "Epoch 50/50\n",
            "WARNING:tensorflow:Your input ran out of data; interrupting training. Make sure that your dataset or generator can generate at least `steps_per_epoch * epochs` batches (in this case, 2500 batches). You may need to use the repeat() function when building your dataset.\n"
          ]
        },
        {
          "output_type": "stream",
          "name": "stderr",
          "text": [
            "WARNING:tensorflow:Your input ran out of data; interrupting training. Make sure that your dataset or generator can generate at least `steps_per_epoch * epochs` batches (in this case, 2500 batches). You may need to use the repeat() function when building your dataset.\n"
          ]
        },
        {
          "output_type": "stream",
          "name": "stdout",
          "text": [
            "50/50 [==============================] - 0s 541us/step - loss: 0.0358 - root_mean_squared_error: 0.1891\n",
            "6/6 [==============================] - 1s 35ms/step - loss: 0.0867 - root_mean_squared_error: 0.2944\n",
            "[0.08668391406536102, 0.29442134499549866]\n",
            "===== Summary =====\n",
            "Epoch:  50\n",
            "Batch Size:  50\n",
            "Optimizer:  Adam\n",
            "Learning Rate:  0.01\n",
            "Encoder Units:  100\n",
            "Loss Function:  Categorical CrossEntropy\n",
            "Metrics:  [<keras.metrics.RootMeanSquaredError object at 0x7f7f5b8af590>]\n",
            "Validation:  [0.08668391406536102, 0.29442134499549866]\n"
          ]
        },
        {
          "output_type": "stream",
          "name": "stderr",
          "text": [
            "WARNING:absl:Found untraced functions such as lstm_cell_19_layer_call_fn, lstm_cell_19_layer_call_and_return_conditional_losses while saving (showing 2 of 2). These functions will not be directly callable after loading.\n"
          ]
        },
        {
          "output_type": "stream",
          "name": "stdout",
          "text": [
            "INFO:tensorflow:Assets written to: model/cnn_lstm_classify_best/assets\n"
          ]
        },
        {
          "output_type": "stream",
          "name": "stderr",
          "text": [
            "INFO:tensorflow:Assets written to: model/cnn_lstm_classify_best/assets\n",
            "WARNING:absl:<keras.layers.recurrent.LSTMCell object at 0x7f7f586e6510> has the same name 'LSTMCell' as a built-in Keras object. Consider renaming <class 'keras.layers.recurrent.LSTMCell'> to avoid naming conflicts when loading with `tf.keras.models.load_model`. If renaming is not possible, pass the object in the `custom_objects` parameter of the load function.\n"
          ]
        }
      ]
    },
    {
      "cell_type": "markdown",
      "source": [
        "#### Model Testing"
      ],
      "metadata": {
        "id": "_EW4QLjdBYk8"
      }
    },
    {
      "cell_type": "code",
      "source": [
        "loaded_cnn_lstm_class_model = keras.models.load_model('model/cnn_lstm_classify_best')\n"
      ],
      "metadata": {
        "id": "BqcJKe2KBQ4E"
      },
      "execution_count": null,
      "outputs": []
    },
    {
      "cell_type": "code",
      "source": [
        "def convert_decision(test,pred,n):\n",
        "    h = np.array(pred)\n",
        "    action = []\n",
        "    status = \"N\"\n",
        "    for i in range(len(h)):\n",
        "        if h[i][0] == max(h[i]):\n",
        "            h[i] = [1,0]\n",
        "            if status == \"N\":\n",
        "                action.append(\"Buy\")\n",
        "                status = \"Buy\"\n",
        "            else:\n",
        "                action.append(\"Hold\")\n",
        "        else:\n",
        "            h[i] = [0,1]\n",
        "            if status == \"Buy\":\n",
        "                action.append(\"Sell\")\n",
        "                status = \"N\"\n",
        "            else:\n",
        "                action.append(\"Hold\")\n",
        "                \n",
        "    backtest = test[[\"open\"]][10:]\n",
        "    backtest.columns = [\"Open\"]\n",
        "    return (backtest,pd.DataFrame(action,index=test[10:].index,columns=[\"Action\"]))\n",
        "\n",
        "\n"
      ],
      "metadata": {
        "id": "JKOa_siaBiIG"
      },
      "execution_count": null,
      "outputs": []
    },
    {
      "cell_type": "markdown",
      "source": [
        "#### Backtest Result of CNN_LSTM (Direction Prediction)"
      ],
      "metadata": {
        "id": "uV8VKcQxvbAw"
      }
    },
    {
      "cell_type": "code",
      "source": [
        "#### CNN_LSTM_CLASSIFICATION\n",
        "backtest_summary = pd.DataFrame(columns=backtest_col)\n",
        "\n",
        "for sector, stocks in stock_list.items():\n",
        "    for stock in stocks:\n",
        "        print(\"Runninng stock: \"+ stock)\n",
        "        stock_data_1 = web.DataReader(stock, \"stooq\",start=start_date, end=end_date)\n",
        "        stock_data_1.columns = [\"open\",\"high\",\"low\",\"close\",\"volume\"]\n",
        "        x_1 = StockDataFrame(stock_data_1)\n",
        "        data_1 = x_1[['open','high','low','close','volume',\n",
        "                      'boll', 'boll_ub', 'boll_lb',\n",
        "                      'macd', 'macdh', 'macds',\n",
        "                      'rsi_11', 'rsi_14', 'rsi_21']]\n",
        "        data_1.index = [int(str(ind)[0:4]+str(ind)[5:7]+str(ind)[8:10]) for ind in data_1.index]\n",
        "        data_1 = data_1.sort_index()\n",
        "        print(stock + \" Data loaded...\")\n",
        "        for k,v in date_range_list.items():\n",
        "            print(\"Getting Data... - \" + stock + \" from \" + str(k))\n",
        "            if (data_1.index[0]>v):\n",
        "                print(\"No data for this testing period... - \" + stock + \" from \" + str(k))\n",
        "                continue\n",
        "            test_1 = custom_split(data_1,start = k,end = v)\n",
        "            if len(test_1) <= 10:\n",
        "                print(\"No enoguh data for testing... - \" + stock + \" from \" + str(k))\n",
        "                continue\n",
        "            print(\"Transforming Data... - \" + stock + \" from \" + str(k))\n",
        "            tf_test_1 = transform_X_data_to_tensor(test_1,num_day_to_predict)\n",
        "            print(\"Predicting... - \" + stock + \" from \" + str(k))\n",
        "            predictions_1 = loaded_cnn_lstm_class_model.predict(tf_test_1)\n",
        "            print(\"Converting... - \" + stock + \" from \" + str(k))\n",
        "            compare_to_n_day_mean = 5\n",
        "            backtestdata_1,final_pred_1 = convert_decision(test_1,predictions_1,compare_to_n_day_mean)\n",
        "            print(\"Backtesting... - \" + stock + \" from \" + str(k))\n",
        "            back1 = backtest(backtestdata_1,final_pred_1,10000,0.0005,period_year)\n",
        "            print(\"Start Iteration... - \" + stock + \" from \" + str(k))\n",
        "            back1.start_test()\n",
        "            print(\"======= from \"+ str(k) + \" to \" + str(v)+\" =========\")\n",
        "            back1.print_do_nothing()\n",
        "            back1.print_profit()\n",
        "            back1.print_performance()\n",
        "            back1.export_trade_record(\"CNN_LSTM_CLASS_\"+sector+\"-\"+stock,str(k)+\"-to-\"+str(v)+\"(\"+str(round(back1.get_performance()*100,2))+\"%)\")\n",
        "            backtest_summary = backtest_summary.append({\"Sector\":sector,\n",
        "                                                        \"Stock\":stock,\n",
        "                                                        \"Range_Start\":str(k),\n",
        "                                                        \"Range_End\":str(v),\n",
        "                                                        do_nth_name+\"_Profit\":round(back1.get_do_nothing(),2),\n",
        "                                                        model_name+\"_Profit\":round(back1.get_profit(),2),\n",
        "                                                        do_nth_name+\"_CAGR(in %)\":round(back1.get_do_nothing_CAGR()*100,2),\n",
        "                                                        model_name+\"_CAGR(in %)\":round(back1.get_model_CAGR()*100,2),\n",
        "                                                        \"CAGR_Performance(in %)\":round(back1.get_diff_in_CAGR()*100,2),\n",
        "                                                        do_nth_name+\"_MDD(in %)\":round(back1.get_do_nothing_MDD()*100,2),\n",
        "                                                        model_name+\"_MDD(in %)\":round(back1.get_model_MDD()*100,2),\n",
        "                                                        \"MDD_Performance(in %)\":round(back1.get_diff_in_MDD()*100,2)}, ignore_index=True)\n",
        "            print(\"+++++++++++++++++++++++++++++++++++++++++++++++++++++++++++\")\n",
        "\n",
        "print(\"Backtesting Completed...\")\n",
        "backtest_summary.to_csv(\"backtest_summary_CNN_LSTM_CLASS.csv\")\n",
        "\n"
      ],
      "metadata": {
        "id": "_4K7G3QcvYs7"
      },
      "execution_count": null,
      "outputs": []
    },
    {
      "cell_type": "code",
      "source": [
        "#### CNN_LSTM_CLASSIFICATION\n",
        "mean_backtest_summary = backtest_summary.groupby(\"Stock\")[[\"Stock\",\n",
        "                                                          do_nth_name+\"_Profit\",\n",
        "                                                          model_name+\"_Profit\",\n",
        "                                                          do_nth_name+\"_CAGR(in %)\",\n",
        "                                                          model_name+\"_CAGR(in %)\",\n",
        "                                                          \"CAGR_Performance(in %)\",\n",
        "                                                          do_nth_name+\"_MDD(in %)\",\n",
        "                                                          model_name+\"_MDD(in %)\",\n",
        "                                                          \"MDD_Performance(in %)\"]].mean()\n",
        "\n",
        "mean_backtest_summary = mean_backtest_summary.add_prefix(\"mean_\")\n",
        "\n",
        "mean_backtest_summary = mean_backtest_summary.round(decimals = 2)\n",
        "mean_backtest_summary.to_csv(\"backtest_summary_CNN_LSTM_CLASS_mean.csv\")\n",
        "\n",
        "\n"
      ],
      "metadata": {
        "id": "dcWEcooKvhx5"
      },
      "execution_count": null,
      "outputs": []
    },
    {
      "cell_type": "markdown",
      "source": [
        "### Support Vectore Regression\n"
      ],
      "metadata": {
        "id": "8TJzilzEB8Ej"
      }
    },
    {
      "cell_type": "markdown",
      "source": [
        "#### Load Data"
      ],
      "metadata": {
        "id": "937X3PftCgE7"
      }
    },
    {
      "cell_type": "code",
      "source": [
        "train_X = custom_split(data,start = 20000101,end = 20101231)\n",
        "valid_X = custom_split(data,start = 20111101,end = 20141231)\n",
        "test_X = custom_split(data,start = 20190101,end = 20201231)"
      ],
      "metadata": {
        "id": "Fbg3BEYrB7Xm"
      },
      "execution_count": null,
      "outputs": []
    },
    {
      "cell_type": "markdown",
      "source": [
        "#### Label the target result (opening price on 11th day)"
      ],
      "metadata": {
        "id": "zQ5M5UXmCEyr"
      }
    },
    {
      "cell_type": "code",
      "source": [
        "# Assume we use 10 days price data to predict closing price of the 11th day\n",
        "num_day_to_predict = 10"
      ],
      "metadata": {
        "id": "6tg2QN7eCEbE"
      },
      "execution_count": null,
      "outputs": []
    },
    {
      "cell_type": "code",
      "source": [
        "def produce_result_target_price(X,num_day,result_col_name = \"result_price\"):\n",
        "    y = pd.DataFrame(np.nan, index=X.index, columns=[result_col_name])\n",
        "    for i in range(num_day,len(X)):\n",
        "        y.loc[X.index[i-1],result_col_name] = X.loc[X.index[i],\"open\"]\n",
        "    \n",
        "    return y"
      ],
      "metadata": {
        "id": "3Su30dvMCI73"
      },
      "execution_count": null,
      "outputs": []
    },
    {
      "cell_type": "code",
      "source": [
        "train_y = produce_result_target_price(train_X,num_day_to_predict)\n",
        "valid_y = produce_result_target_price(valid_X,num_day_to_predict)\n",
        "test_y = produce_result_target_price(test_X,num_day_to_predict)"
      ],
      "metadata": {
        "id": "KLW6aNPfCKM7"
      },
      "execution_count": null,
      "outputs": []
    },
    {
      "cell_type": "markdown",
      "source": [
        "#### Transform the 10-day data into one vector"
      ],
      "metadata": {
        "id": "o1qrzZ0fCM-z"
      }
    },
    {
      "cell_type": "code",
      "source": [
        "def transform_x_data_to_one_vector(X,num_day):\n",
        "    col_name = []\n",
        "    for i in range(num_day):\n",
        "        for j in X.columns:\n",
        "            col_name.append(j+\"-\"+str(i))\n",
        "    new_X = pd.DataFrame(np.nan, index=X.index, columns=col_name)\n",
        "    \n",
        "    for i in range(num_day-1,len(X)):\n",
        "        for col in col_name:\n",
        "            split_list = col.split(\"-\")\n",
        "            new_X.loc[X.index[i],col] = X.loc[X.index[i-int(split_list[1])],split_list[0]]\n",
        "    \n",
        "    return new_X"
      ],
      "metadata": {
        "id": "pb4IOTOUCOXD"
      },
      "execution_count": null,
      "outputs": []
    },
    {
      "cell_type": "code",
      "source": [
        "train_X_10 = transform_x_data_to_one_vector(train_X,num_day_to_predict)\n",
        "valid_X_10 = transform_x_data_to_one_vector(valid_X,num_day_to_predict)\n",
        "test_X_10 = transform_x_data_to_one_vector(test_X,num_day_to_predict)"
      ],
      "metadata": {
        "id": "7sbV1JUECPrT"
      },
      "execution_count": null,
      "outputs": []
    },
    {
      "cell_type": "markdown",
      "source": [
        "#### Drop out rows with NaN"
      ],
      "metadata": {
        "id": "ooULMdk_CTPv"
      }
    },
    {
      "cell_type": "code",
      "source": [
        "def drop_nan_row_y(y,num_day):\n",
        "    drop_list = [y.index[i] for i in range(num_day)]\n",
        "    drop_list.append(y.index[-1])\n",
        "    return y.drop(drop_list)\n",
        "\n",
        "def drop_nan_row_X_10(X,num_day):\n",
        "    drop_list = [X.index[i] for i in range(num_day)]\n",
        "    drop_list.append(X.index[-1])\n",
        "    return X.drop(drop_list)"
      ],
      "metadata": {
        "id": "RzT2hYsbCSNj"
      },
      "execution_count": null,
      "outputs": []
    },
    {
      "cell_type": "code",
      "source": [
        "new_train_X_10 = drop_nan_row_X_10(train_X_10,num_day_to_predict)\n",
        "new_train_y = drop_nan_row_y(train_y,num_day_to_predict)\n",
        "\n",
        "new_valid_X_10  = drop_nan_row_X_10(valid_X_10,num_day_to_predict)\n",
        "new_valid_y = drop_nan_row_y(valid_y,num_day_to_predict)\n",
        "\n",
        "new_test_X_10  = drop_nan_row_X_10(test_X_10,num_day_to_predict)\n",
        "new_test_y = drop_nan_row_y(test_y,num_day_to_predict)"
      ],
      "metadata": {
        "id": "5ePIefKkCV5r"
      },
      "execution_count": null,
      "outputs": []
    },
    {
      "cell_type": "code",
      "source": [
        "# Keep a copy for reverting prediction result\n",
        "old_train_X_10 = new_train_X_10\n",
        "old_train_y = new_train_y\n",
        "old_valid_X_10 = new_valid_X_10\n",
        "old_valid_y = new_valid_y\n",
        "old_test_X_10 = new_test_X_10\n",
        "old_test_y = new_test_y"
      ],
      "metadata": {
        "id": "pTteoTF5CYS7"
      },
      "execution_count": null,
      "outputs": []
    },
    {
      "cell_type": "code",
      "source": [
        "def normalize_data_by_row(X,y):\n",
        "    norm_X = X.sub(X.mean(axis=0), axis=1).div(X.std(axis=0), axis=1)\n",
        "    \n",
        "    col_list =[] \n",
        "    for col in X.columns:\n",
        "        if \"open\" in col:\n",
        "            col_list.append(col)\n",
        "    \n",
        "    temp_y = y.loc[:,\"result_price\"]\n",
        "    mean_10_day = np.mean(X.loc[:,col_list],axis=1)\n",
        "    mean_10_day.index = temp_y.index\n",
        "    std_10_day = np.std(X.loc[:,col_list],axis=1)\n",
        "    std_10_day.index = temp_y.index\n",
        "\n",
        "    norm_y = pd.DataFrame((temp_y-mean_10_day)/std_10_day,\n",
        "                          columns=[\"result_price\"])\n",
        "                         \n",
        "    return (norm_X,norm_y)"
      ],
      "metadata": {
        "id": "M-h4chTfCZab"
      },
      "execution_count": null,
      "outputs": []
    },
    {
      "cell_type": "code",
      "source": [
        "new_train_X_10,new_train_y = normalize_data_by_row(new_train_X_10,new_train_y)\n",
        "new_valid_X_10,new_valid_y = normalize_data_by_row(new_valid_X_10,new_valid_y)\n",
        "new_test_X_10,new_test_y = normalize_data_by_row(new_test_X_10,new_test_y)"
      ],
      "metadata": {
        "id": "52wq_Y0fCatH"
      },
      "execution_count": null,
      "outputs": []
    },
    {
      "cell_type": "markdown",
      "source": [
        "#### Model Training and Fitting"
      ],
      "metadata": {
        "id": "W9kcodEpCdIc"
      }
    },
    {
      "cell_type": "code",
      "source": [
        "# Use Support Vector Regressor to fit the data\n",
        "\n",
        "# C : Regularization parameter. The strength of the regularization is inversely proportional to C.\n",
        "c_list = [i*100 for i in range(10,31)]\n",
        "svr_conf_list = []\n",
        "best_c = -1\n",
        "best_conf = -1\n",
        "for c in c_list:\n",
        "    # gamma : Kernel coefficient\n",
        "    gamma = 0.00001\n",
        "\n",
        "    # radial basis function kernel\n",
        "    kernel=\"rbf\"\n",
        "\n",
        "    svr = SVR(kernel=kernel, C=c, gamma=gamma)\n",
        "    svr.fit(new_train_X_10, new_train_y)\n",
        "\n",
        "    svr_prediction = svr.predict(new_valid_X_10)\n",
        "    svr_confidence = svr.score(new_valid_X_10, new_valid_y)\n",
        "    print(\"svr confidence (c =\", c,\"):\", svr_confidence)\n",
        "    if svr_confidence > best_conf:\n",
        "      best_conf = svr_confidence\n",
        "      best_c = c\n",
        "    svr_conf_list.append(svr_confidence)\n",
        "    \n",
        "plt.plot(c_list, svr_conf_list, label = \"C to SVR Confid\", color = 'Black')\n",
        "print(\"Best C =\", best_c)"
      ],
      "metadata": {
        "id": "HHA71ZmKCfYT",
        "colab": {
          "base_uri": "https://localhost:8080/",
          "height": 1000
        },
        "outputId": "4a3522c2-207c-42ed-bcf8-8ab659b5681d"
      },
      "execution_count": null,
      "outputs": [
        {
          "output_type": "stream",
          "name": "stderr",
          "text": [
            "/usr/local/lib/python3.7/dist-packages/sklearn/utils/validation.py:993: DataConversionWarning: A column-vector y was passed when a 1d array was expected. Please change the shape of y to (n_samples, ), for example using ravel().\n",
            "  y = column_or_1d(y, warn=True)\n",
            "/usr/local/lib/python3.7/dist-packages/sklearn/utils/validation.py:993: DataConversionWarning: A column-vector y was passed when a 1d array was expected. Please change the shape of y to (n_samples, ), for example using ravel().\n",
            "  y = column_or_1d(y, warn=True)\n",
            "/usr/local/lib/python3.7/dist-packages/sklearn/utils/validation.py:993: DataConversionWarning: A column-vector y was passed when a 1d array was expected. Please change the shape of y to (n_samples, ), for example using ravel().\n",
            "  y = column_or_1d(y, warn=True)\n"
          ]
        },
        {
          "output_type": "stream",
          "name": "stdout",
          "text": [
            "svr confidence (c = 1000 ): 0.6147976595533546\n",
            "svr confidence (c = 1100 ): 0.6140689695501803\n",
            "svr confidence (c = 1200 ): 0.6141204216880397\n"
          ]
        },
        {
          "output_type": "stream",
          "name": "stderr",
          "text": [
            "/usr/local/lib/python3.7/dist-packages/sklearn/utils/validation.py:993: DataConversionWarning: A column-vector y was passed when a 1d array was expected. Please change the shape of y to (n_samples, ), for example using ravel().\n",
            "  y = column_or_1d(y, warn=True)\n",
            "/usr/local/lib/python3.7/dist-packages/sklearn/utils/validation.py:993: DataConversionWarning: A column-vector y was passed when a 1d array was expected. Please change the shape of y to (n_samples, ), for example using ravel().\n",
            "  y = column_or_1d(y, warn=True)\n",
            "/usr/local/lib/python3.7/dist-packages/sklearn/utils/validation.py:993: DataConversionWarning: A column-vector y was passed when a 1d array was expected. Please change the shape of y to (n_samples, ), for example using ravel().\n",
            "  y = column_or_1d(y, warn=True)\n"
          ]
        },
        {
          "output_type": "stream",
          "name": "stdout",
          "text": [
            "svr confidence (c = 1300 ): 0.6156200815833759\n",
            "svr confidence (c = 1400 ): 0.6165323821240246\n",
            "svr confidence (c = 1500 ): 0.6179540612177716\n"
          ]
        },
        {
          "output_type": "stream",
          "name": "stderr",
          "text": [
            "/usr/local/lib/python3.7/dist-packages/sklearn/utils/validation.py:993: DataConversionWarning: A column-vector y was passed when a 1d array was expected. Please change the shape of y to (n_samples, ), for example using ravel().\n",
            "  y = column_or_1d(y, warn=True)\n",
            "/usr/local/lib/python3.7/dist-packages/sklearn/utils/validation.py:993: DataConversionWarning: A column-vector y was passed when a 1d array was expected. Please change the shape of y to (n_samples, ), for example using ravel().\n",
            "  y = column_or_1d(y, warn=True)\n",
            "/usr/local/lib/python3.7/dist-packages/sklearn/utils/validation.py:993: DataConversionWarning: A column-vector y was passed when a 1d array was expected. Please change the shape of y to (n_samples, ), for example using ravel().\n",
            "  y = column_or_1d(y, warn=True)\n"
          ]
        },
        {
          "output_type": "stream",
          "name": "stdout",
          "text": [
            "svr confidence (c = 1600 ): 0.6188517184582896\n",
            "svr confidence (c = 1700 ): 0.6207314843915552\n",
            "svr confidence (c = 1800 ): 0.6220272479500115\n"
          ]
        },
        {
          "output_type": "stream",
          "name": "stderr",
          "text": [
            "/usr/local/lib/python3.7/dist-packages/sklearn/utils/validation.py:993: DataConversionWarning: A column-vector y was passed when a 1d array was expected. Please change the shape of y to (n_samples, ), for example using ravel().\n",
            "  y = column_or_1d(y, warn=True)\n",
            "/usr/local/lib/python3.7/dist-packages/sklearn/utils/validation.py:993: DataConversionWarning: A column-vector y was passed when a 1d array was expected. Please change the shape of y to (n_samples, ), for example using ravel().\n",
            "  y = column_or_1d(y, warn=True)\n",
            "/usr/local/lib/python3.7/dist-packages/sklearn/utils/validation.py:993: DataConversionWarning: A column-vector y was passed when a 1d array was expected. Please change the shape of y to (n_samples, ), for example using ravel().\n",
            "  y = column_or_1d(y, warn=True)\n"
          ]
        },
        {
          "output_type": "stream",
          "name": "stdout",
          "text": [
            "svr confidence (c = 1900 ): 0.6225261730722231\n",
            "svr confidence (c = 2000 ): 0.6222077136357409\n",
            "svr confidence (c = 2100 ): 0.6219230924429571\n"
          ]
        },
        {
          "output_type": "stream",
          "name": "stderr",
          "text": [
            "/usr/local/lib/python3.7/dist-packages/sklearn/utils/validation.py:993: DataConversionWarning: A column-vector y was passed when a 1d array was expected. Please change the shape of y to (n_samples, ), for example using ravel().\n",
            "  y = column_or_1d(y, warn=True)\n",
            "/usr/local/lib/python3.7/dist-packages/sklearn/utils/validation.py:993: DataConversionWarning: A column-vector y was passed when a 1d array was expected. Please change the shape of y to (n_samples, ), for example using ravel().\n",
            "  y = column_or_1d(y, warn=True)\n",
            "/usr/local/lib/python3.7/dist-packages/sklearn/utils/validation.py:993: DataConversionWarning: A column-vector y was passed when a 1d array was expected. Please change the shape of y to (n_samples, ), for example using ravel().\n",
            "  y = column_or_1d(y, warn=True)\n"
          ]
        },
        {
          "output_type": "stream",
          "name": "stdout",
          "text": [
            "svr confidence (c = 2200 ): 0.6215163519730953\n",
            "svr confidence (c = 2300 ): 0.6211136628027294\n",
            "svr confidence (c = 2400 ): 0.6207402314723149\n"
          ]
        },
        {
          "output_type": "stream",
          "name": "stderr",
          "text": [
            "/usr/local/lib/python3.7/dist-packages/sklearn/utils/validation.py:993: DataConversionWarning: A column-vector y was passed when a 1d array was expected. Please change the shape of y to (n_samples, ), for example using ravel().\n",
            "  y = column_or_1d(y, warn=True)\n",
            "/usr/local/lib/python3.7/dist-packages/sklearn/utils/validation.py:993: DataConversionWarning: A column-vector y was passed when a 1d array was expected. Please change the shape of y to (n_samples, ), for example using ravel().\n",
            "  y = column_or_1d(y, warn=True)\n",
            "/usr/local/lib/python3.7/dist-packages/sklearn/utils/validation.py:993: DataConversionWarning: A column-vector y was passed when a 1d array was expected. Please change the shape of y to (n_samples, ), for example using ravel().\n",
            "  y = column_or_1d(y, warn=True)\n"
          ]
        },
        {
          "output_type": "stream",
          "name": "stdout",
          "text": [
            "svr confidence (c = 2500 ): 0.6203114707121876\n",
            "svr confidence (c = 2600 ): 0.6201839500990188\n",
            "svr confidence (c = 2700 ): 0.6207242292216886\n"
          ]
        },
        {
          "output_type": "stream",
          "name": "stderr",
          "text": [
            "/usr/local/lib/python3.7/dist-packages/sklearn/utils/validation.py:993: DataConversionWarning: A column-vector y was passed when a 1d array was expected. Please change the shape of y to (n_samples, ), for example using ravel().\n",
            "  y = column_or_1d(y, warn=True)\n",
            "/usr/local/lib/python3.7/dist-packages/sklearn/utils/validation.py:993: DataConversionWarning: A column-vector y was passed when a 1d array was expected. Please change the shape of y to (n_samples, ), for example using ravel().\n",
            "  y = column_or_1d(y, warn=True)\n",
            "/usr/local/lib/python3.7/dist-packages/sklearn/utils/validation.py:993: DataConversionWarning: A column-vector y was passed when a 1d array was expected. Please change the shape of y to (n_samples, ), for example using ravel().\n",
            "  y = column_or_1d(y, warn=True)\n"
          ]
        },
        {
          "output_type": "stream",
          "name": "stdout",
          "text": [
            "svr confidence (c = 2800 ): 0.62094759404774\n",
            "svr confidence (c = 2900 ): 0.6206615368037564\n",
            "svr confidence (c = 3000 ): 0.6206778349059512\n",
            "Best C = 1900\n"
          ]
        },
        {
          "output_type": "display_data",
          "data": {
            "text/plain": [
              "<Figure size 432x288 with 1 Axes>"
            ],
            "image/png": "[encoded data removed]"
          },
          "metadata": {
            "needs_background": "light"
          }
        }
      ]
    },
    {
      "cell_type": "code",
      "source": [
        "# Use Support Vector Regressor to fit the data\n",
        "\n",
        "# gamma : Kernel coefficient\n",
        "\n",
        "gamma_list = [0.0000001,0.0000005,0.000001,0.000005,0.00001,0.00005,0.0001,0.0005]\n",
        "svr_conf_list = []\n",
        "best_conf = -1\n",
        "best_gamma = -1\n",
        "for gamma in gamma_list:\n",
        "    # C : Regularization parameter. The strength of the regularization is inversely proportional to C.\n",
        "    c = best_c\n",
        "\n",
        "    # radial basis function kernel\n",
        "    kernel=\"rbf\"\n",
        "\n",
        "    svr = SVR(kernel=kernel, C=c, gamma=gamma)\n",
        "    svr.fit(new_train_X_10, new_train_y)\n",
        "\n",
        "    svr_prediction = svr.predict(new_valid_X_10)\n",
        "    svr_confidence = svr.score(new_valid_X_10, new_valid_y)\n",
        "    print(\"svr confidence (gamma =\", gamma,\"):\", svr_confidence)\n",
        "    if svr_confidence > best_conf:\n",
        "      best_conf = svr_confidence\n",
        "      best_gamma = gamma\n",
        "    svr_conf_list.append(svr_confidence)\n",
        "\n",
        "    \n",
        "plt.plot(gamma_list, svr_conf_list, label = \"gamma to SVR Confid\", color = 'Black')\n",
        "print(\"Best Gamma:\", best_gamma)"
      ],
      "metadata": {
        "id": "AxstqvUhCj92",
        "colab": {
          "base_uri": "https://localhost:8080/",
          "height": 731
        },
        "outputId": "9130e8b0-2575-4597-f1bb-bb6421783000"
      },
      "execution_count": null,
      "outputs": [
        {
          "output_type": "stream",
          "name": "stderr",
          "text": [
            "/usr/local/lib/python3.7/dist-packages/sklearn/utils/validation.py:993: DataConversionWarning: A column-vector y was passed when a 1d array was expected. Please change the shape of y to (n_samples, ), for example using ravel().\n",
            "  y = column_or_1d(y, warn=True)\n",
            "/usr/local/lib/python3.7/dist-packages/sklearn/utils/validation.py:993: DataConversionWarning: A column-vector y was passed when a 1d array was expected. Please change the shape of y to (n_samples, ), for example using ravel().\n",
            "  y = column_or_1d(y, warn=True)\n"
          ]
        },
        {
          "output_type": "stream",
          "name": "stdout",
          "text": [
            "svr confidence (gamma = 1e-07 ): 0.3915416186820738\n",
            "svr confidence (gamma = 5e-07 ): 0.5267994131250884\n"
          ]
        },
        {
          "output_type": "stream",
          "name": "stderr",
          "text": [
            "/usr/local/lib/python3.7/dist-packages/sklearn/utils/validation.py:993: DataConversionWarning: A column-vector y was passed when a 1d array was expected. Please change the shape of y to (n_samples, ), for example using ravel().\n",
            "  y = column_or_1d(y, warn=True)\n",
            "/usr/local/lib/python3.7/dist-packages/sklearn/utils/validation.py:993: DataConversionWarning: A column-vector y was passed when a 1d array was expected. Please change the shape of y to (n_samples, ), for example using ravel().\n",
            "  y = column_or_1d(y, warn=True)\n"
          ]
        },
        {
          "output_type": "stream",
          "name": "stdout",
          "text": [
            "svr confidence (gamma = 1e-06 ): 0.5700823809749256\n",
            "svr confidence (gamma = 5e-06 ): 0.6158497951734774\n"
          ]
        },
        {
          "output_type": "stream",
          "name": "stderr",
          "text": [
            "/usr/local/lib/python3.7/dist-packages/sklearn/utils/validation.py:993: DataConversionWarning: A column-vector y was passed when a 1d array was expected. Please change the shape of y to (n_samples, ), for example using ravel().\n",
            "  y = column_or_1d(y, warn=True)\n",
            "/usr/local/lib/python3.7/dist-packages/sklearn/utils/validation.py:993: DataConversionWarning: A column-vector y was passed when a 1d array was expected. Please change the shape of y to (n_samples, ), for example using ravel().\n",
            "  y = column_or_1d(y, warn=True)\n"
          ]
        },
        {
          "output_type": "stream",
          "name": "stdout",
          "text": [
            "svr confidence (gamma = 1e-05 ): 0.6225261730722231\n",
            "svr confidence (gamma = 5e-05 ): 0.6206348133499968\n"
          ]
        },
        {
          "output_type": "stream",
          "name": "stderr",
          "text": [
            "/usr/local/lib/python3.7/dist-packages/sklearn/utils/validation.py:993: DataConversionWarning: A column-vector y was passed when a 1d array was expected. Please change the shape of y to (n_samples, ), for example using ravel().\n",
            "  y = column_or_1d(y, warn=True)\n",
            "/usr/local/lib/python3.7/dist-packages/sklearn/utils/validation.py:993: DataConversionWarning: A column-vector y was passed when a 1d array was expected. Please change the shape of y to (n_samples, ), for example using ravel().\n",
            "  y = column_or_1d(y, warn=True)\n"
          ]
        },
        {
          "output_type": "stream",
          "name": "stdout",
          "text": [
            "svr confidence (gamma = 0.0001 ): 0.6175891783160139\n",
            "svr confidence (gamma = 0.0005 ): 0.4625014234202647\n",
            "Best Gamma: 1e-05\n"
          ]
        },
        {
          "output_type": "display_data",
          "data": {
            "text/plain": [
              "<Figure size 432x288 with 1 Axes>"
            ],
            "image/png": "[encoded data removed]"
          },
          "metadata": {
            "needs_background": "light"
          }
        }
      ]
    },
    {
      "cell_type": "markdown",
      "source": [
        "#### Model Testing"
      ],
      "metadata": {
        "id": "Aq9RYB0xCnm0"
      }
    },
    {
      "cell_type": "code",
      "source": [
        "# C : Regularization parameter. The strength of the regularization is inversely proportional to C.\n",
        "c = 2600\n",
        "\n",
        "# gamma : Kernel coefficient\n",
        "gamma = 0.00001\n",
        "\n",
        "# radial basis function kernel\n",
        "kernel=\"rbf\"\n",
        "\n",
        "svr = SVR(kernel=kernel, C=c, gamma=gamma)\n",
        "svr.fit(new_train_X_10, new_train_y)\n",
        "\n",
        "svr_prediction = svr.predict(new_test_X_10)\n",
        "svr_confidence = svr.score(new_test_X_10, new_test_y)\n",
        "print(\"svr confidence:\", svr_confidence)\n",
        "\n",
        "try:\n",
        "  with open(\"model/svr_\"+str(num_day_to_predict)+\"day.pickle\", 'wb') as f:\n",
        "      pickle.dump(svr, f)\n",
        "except:\n",
        "  best_model = svr\n",
        "\n"
      ],
      "metadata": {
        "id": "yUQzRNCzCo7L",
        "colab": {
          "base_uri": "https://localhost:8080/"
        },
        "outputId": "530b9097-4c6b-4128-c7a8-55e8f5577743"
      },
      "execution_count": null,
      "outputs": [
        {
          "output_type": "stream",
          "name": "stdout",
          "text": [
            "svr confidence: 0.5357356792750103\n"
          ]
        },
        {
          "output_type": "stream",
          "name": "stderr",
          "text": [
            "/usr/local/lib/python3.7/dist-packages/sklearn/utils/validation.py:993: DataConversionWarning: A column-vector y was passed when a 1d array was expected. Please change the shape of y to (n_samples, ), for example using ravel().\n",
            "  y = column_or_1d(y, warn=True)\n"
          ]
        }
      ]
    },
    {
      "cell_type": "code",
      "source": [
        "def convert_prediction(X,y,pred):\n",
        "    col_list =[] \n",
        "    for col in X.columns:\n",
        "        if \"open\" in col:\n",
        "            col_list.append(col)\n",
        "        \n",
        "    mean_10_day = np.mean(X.loc[:,col_list],axis=1)\n",
        "    mean_10_day.index = y.index\n",
        "    std_10_day = np.std(X.loc[:,col_list],axis=1)\n",
        "    std_10_day.index = y.index\n",
        "    a = pd.DataFrame(index = y.index,columns=['mean','std','pred'])\n",
        "    a.loc[:,\"mean\"] = mean_10_day\n",
        "    a.loc[:,\"std\"] = std_10_day\n",
        "    a.loc[:,\"pred\"] = pred\n",
        "    a.loc[:,\"converted\"] = pred*std_10_day+mean_10_day\n",
        "    return a"
      ],
      "metadata": {
        "id": "DwfxCNTWCqrj"
      },
      "execution_count": null,
      "outputs": []
    },
    {
      "cell_type": "code",
      "source": [
        "try:\n",
        "  with open(\"model/svr_\"+str(num_day_to_predict)+\"day.pickle\", 'rb') as f:\n",
        "      svr_test = pickle.load(f)\n",
        "except:\n",
        "  svr_test = svr\n",
        "\n"
      ],
      "metadata": {
        "id": "2QFZ4SqQCsML",
        "colab": {
          "base_uri": "https://localhost:8080/",
          "height": 222
        },
        "outputId": "17ef61f4-dcee-4494-eac9-ab7064f0a80e"
      },
      "execution_count": null,
      "outputs": [
        {
          "output_type": "error",
          "ename": "FileNotFoundError",
          "evalue": "ignored",
          "traceback": [
            "\u001b[0;31m---------------------------------------------------------------------------\u001b[0m",
            "\u001b[0;31mFileNotFoundError\u001b[0m                         Traceback (most recent call last)",
            "\u001b[0;32m<ipython-input-1-fca2704436d6>\u001b[0m in \u001b[0;36m<module>\u001b[0;34m()\u001b[0m\n\u001b[0;32m----> 1\u001b[0;31m \u001b[0;32mwith\u001b[0m \u001b[0mopen\u001b[0m\u001b[0;34m(\u001b[0m\u001b[0;34m'model/svr.pickle'\u001b[0m\u001b[0;34m,\u001b[0m \u001b[0;34m'rb'\u001b[0m\u001b[0;34m)\u001b[0m \u001b[0;32mas\u001b[0m \u001b[0mf\u001b[0m\u001b[0;34m:\u001b[0m\u001b[0;34m\u001b[0m\u001b[0;34m\u001b[0m\u001b[0m\n\u001b[0m\u001b[1;32m      2\u001b[0m     \u001b[0msvr_test\u001b[0m \u001b[0;34m=\u001b[0m \u001b[0mpickle\u001b[0m\u001b[0;34m.\u001b[0m\u001b[0mload\u001b[0m\u001b[0;34m(\u001b[0m\u001b[0mf\u001b[0m\u001b[0;34m)\u001b[0m\u001b[0;34m\u001b[0m\u001b[0;34m\u001b[0m\u001b[0m\n\u001b[1;32m      3\u001b[0m \u001b[0;34m\u001b[0m\u001b[0m\n\u001b[1;32m      4\u001b[0m \u001b[0;34m\u001b[0m\u001b[0m\n",
            "\u001b[0;31mFileNotFoundError\u001b[0m: [Errno 2] No such file or directory: 'model/svr.pickle'"
          ]
        }
      ]
    },
    {
      "cell_type": "markdown",
      "source": [
        "#### Backtest Result for SVR"
      ],
      "metadata": {
        "id": "2F4A91KDCyZs"
      }
    },
    {
      "cell_type": "code",
      "source": [
        "#### SVR Backtest\n",
        "backtest_summary = pd.DataFrame(columns=backtest_col)\n",
        "\n",
        "for sector, stocks in stock_list.items():\n",
        "    for stock in stocks:\n",
        "        print(\"Runninng stock: \"+ stock)\n",
        "        stock_data_1 = web.DataReader(stock, \"stooq\",start=start_date, end=end_date)\n",
        "        stock_data_1.columns = [\"open\",\"high\",\"low\",\"close\",\"volume\"]\n",
        "        x_1 = StockDataFrame(stock_data_1)\n",
        "        data_1 = x_1[['open','high','low','close','volume',\n",
        "                      'boll', 'boll_ub', 'boll_lb',\n",
        "                      'macd', 'macdh', 'macds',\n",
        "                      'rsi_11', 'rsi_14', 'rsi_21']]\n",
        "        data_1.index = [int(str(ind)[0:4]+str(ind)[5:7]+str(ind)[8:10]) for ind in data_1.index]\n",
        "        data_1 = data_1.sort_index()\n",
        "        print(stock + \" Data loaded...\")\n",
        "        for k,v in date_range_list.items():\n",
        "            \n",
        "            print(\"Getting Data... - \" + stock + \" from \" + str(k))\n",
        "            if (data_1.index[0]>v):\n",
        "                print(\"No data for this testing period... - \" + stock + \" from \" + str(k))\n",
        "                continue\n",
        "            test_X = custom_split(data_1,start = k,end = v)\n",
        "            if len(test_X) <= 10:\n",
        "                print(\"No enoguh data for testing... - \" + stock + \" from \" + str(k))\n",
        "                continue\n",
        "                \n",
        "            print(\"Transforming Data... - \" + stock + \" from \" + str(k))\n",
        "            test_y = produce_result_target_price(test_X,num_day_to_predict)\n",
        "            test_X_10 = transform_x_data_to_one_vector(test_X,num_day_to_predict)\n",
        "            new_test_X_10  = drop_nan_row_X_10(test_X_10,num_day_to_predict)\n",
        "            new_test_y = drop_nan_row_y(test_y,num_day_to_predict)\n",
        "            old_test_X_10 = new_test_X_10.copy()\n",
        "            old_test_y = new_test_y.copy()\n",
        "            new_test_X_10,new_test_y = normalize_data_by_row(new_test_X_10,new_test_y)\n",
        "            \n",
        "            print(\"Predicting... - \" + stock + \" from \" + str(k))\n",
        "            svr_prediction = svr_test.predict(new_test_X_10)\n",
        "            \n",
        "            print(\"Converting... - \" + stock + \" from \" + str(k))\n",
        "            pred_df = convert_prediction(old_test_X_10,old_test_y,svr_prediction)\n",
        "            converted_pred = pred_df.loc[:,\"converted\"]\n",
        "            pred_df[\"Action\"] = pred_df.apply(lambda row: \"Buy\" if row[\"converted\"] > row[\"mean\"] else \"Sell\", axis=1)\n",
        "            final_pred = pred_df.drop(columns=[\"mean\",\"std\",\"pred\",\"converted\"])\n",
        "            final_test_y = old_test_y.rename(columns={\"result_price\":\"Open\"})\n",
        "            \n",
        "            print(\"Backtesting... - \" + stock + \" from \" + str(k))\n",
        "            back1 = backtest(final_test_y,final_pred,10000,0.0005,period_year)\n",
        "            \n",
        "            print(\"Start Iteration... - \" + stock + \" from \" + str(k))\n",
        "            back1.start_test()\n",
        "            \n",
        "            print(\"======= from \"+ str(k) + \" to \" + str(v)+\" =========\")\n",
        "            back1.print_do_nothing()\n",
        "            back1.print_profit()\n",
        "            back1.print_performance()\n",
        "            back1.export_trade_record(\"SVR_\"+sector+\"-\"+stock,str(k)+\"-to-\"+str(v)+\"(\"+str(round(back1.get_performance()*100,2))+\"%)\")\n",
        "            backtest_summary = backtest_summary.append({\"Sector\":sector,\n",
        "                                                        \"Stock\":stock,\n",
        "                                                        \"Range_Start\":str(k),\n",
        "                                                        \"Range_End\":str(v),\n",
        "                                                        do_nth_name+\"_Profit\":round(back1.get_do_nothing(),2),\n",
        "                                                        model_name+\"_Profit\":round(back1.get_profit(),2),\n",
        "                                                        do_nth_name+\"_CAGR(in %)\":round(back1.get_do_nothing_CAGR()*100,2),\n",
        "                                                        model_name+\"_CAGR(in %)\":round(back1.get_model_CAGR()*100,2),\n",
        "                                                        \"CAGR_Performance(in %)\":round(back1.get_diff_in_CAGR()*100,2),\n",
        "                                                        do_nth_name+\"_MDD(in %)\":round(back1.get_do_nothing_MDD()*100,2),\n",
        "                                                        model_name+\"_MDD(in %)\":round(back1.get_model_MDD()*100,2),\n",
        "                                                        \"MDD_Performance(in %)\":round(back1.get_diff_in_MDD()*100,2)}, ignore_index=True)\n",
        "            print(\"+++++++++++++++++++++++++++++++++++++++++++++++++++++++++++\")\n",
        "\n",
        "print(\"Backtesting Completed...\")\n",
        "backtest_summary.to_csv(\"backtest_summary_SVR.csv\")"
      ],
      "metadata": {
        "id": "Wtc9MCVrC0Ag"
      },
      "execution_count": null,
      "outputs": []
    },
    {
      "cell_type": "code",
      "source": [
        "\n",
        "mean_backtest_summary = backtest_summary.groupby(\"Stock\")[[\"Stock\",\n",
        "                                                          do_nth_name+\"_Profit\",\n",
        "                                                          model_name+\"_Profit\",\n",
        "                                                          do_nth_name+\"_CAGR(in %)\",\n",
        "                                                          model_name+\"_CAGR(in %)\",\n",
        "                                                          \"CAGR_Performance(in %)\",\n",
        "                                                          do_nth_name+\"_MDD(in %)\",\n",
        "                                                          model_name+\"_MDD(in %)\",\n",
        "                                                          \"MDD_Performance(in %)\"]].mean()\n",
        "\n",
        "mean_backtest_summary = mean_backtest_summary.add_prefix(\"mean_\")\n",
        "\n",
        "mean_backtest_summary = mean_backtest_summary.round(decimals = 2)\n",
        "mean_backtest_summary.to_csv(\"backtest_summary_SVR_mean.csv\")"
      ],
      "metadata": {
        "id": "-ZCd8D8TGJK9"
      },
      "execution_count": null,
      "outputs": []
    },
    {
      "cell_type": "markdown",
      "source": [
        "## Thomas"
      ],
      "metadata": {
        "id": "L56ip1K86on0"
      }
    },
    {
      "cell_type": "markdown",
      "source": [
        " DTC"
      ],
      "metadata": {
        "id": "BG7f9Uip72SV"
      }
    },
    {
      "cell_type": "code",
      "source": [
        "stock_test = stock[1000: :]\n",
        "stock_train = stock[0:1000:]"
      ],
      "metadata": {
        "id": "nqayIVQH4okZ"
      },
      "execution_count": null,
      "outputs": []
    },
    {
      "cell_type": "code",
      "source": [
        "x_train = stock_train[features]\n",
        "x_test= stock_test[features]\n",
        "\n",
        "y_train = np.where(stock_train.Return > 0,1,0)\n",
        "y_test = np.where(stock_test.Return> 0,1,0)"
      ],
      "metadata": {
        "id": "lib7Y5Rs76yc"
      },
      "execution_count": null,
      "outputs": []
    },
    {
      "cell_type": "code",
      "source": [
        "TC = DecisionTreeClassifier(max_depth=3,min_samples_leaf=6)\n",
        "TC.fit(x_train,y_train)"
      ],
      "metadata": {
        "colab": {
          "base_uri": "https://localhost:8080/"
        },
        "id": "-l9v9Zxv78Cs",
        "outputId": "ebd251e2-da4e-4d6f-b354-c27d5c6c3994"
      },
      "execution_count": null,
      "outputs": [
        {
          "output_type": "execute_result",
          "data": {
            "text/plain": [
              "DecisionTreeClassifier(max_depth=3, min_samples_leaf=6)"
            ]
          },
          "metadata": {},
          "execution_count": 38
        }
      ]
    },
    {
      "cell_type": "code",
      "source": [
        "y_pred = TC.predict(x_test)"
      ],
      "metadata": {
        "id": "12ZCUv4Z79Pk"
      },
      "execution_count": null,
      "outputs": []
    },
    {
      "cell_type": "code",
      "source": [
        "from sklearn.metrics import classification_report\n",
        "report = classification_report(y_test,y_pred)\n",
        "print(report)"
      ],
      "metadata": {
        "colab": {
          "base_uri": "https://localhost:8080/"
        },
        "id": "ldjy3x2p8Dy8",
        "outputId": "515947b8-d613-452f-a0c6-fca21a96cac8"
      },
      "execution_count": null,
      "outputs": [
        {
          "output_type": "stream",
          "name": "stdout",
          "text": [
            "              precision    recall  f1-score   support\n",
            "\n",
            "           0       0.83      0.50      0.62       210\n",
            "           1       0.20      0.56      0.30        48\n",
            "\n",
            "    accuracy                           0.51       258\n",
            "   macro avg       0.52      0.53      0.46       258\n",
            "weighted avg       0.71      0.51      0.56       258\n",
            "\n"
          ]
        }
      ]
    },
    {
      "cell_type": "code",
      "source": [
        "from sklearn import tree \n",
        "import graphviz\n",
        "data = tree.export_graphviz(TC,filled=True,feature_names=features,class_names=np.array(['0','1']))\n",
        "graphviz.Source(data)"
      ],
      "metadata": {
        "colab": {
          "base_uri": "https://localhost:8080/",
          "height": 599
        },
        "id": "R7zIploX8FzS",
        "outputId": "1543d38b-ea36-40a0-83dd-d08999d66926"
      },
      "execution_count": null,
      "outputs": [
        {
          "output_type": "execute_result",
          "data": {
            "text/plain": [
              "<graphviz.files.Source at 0x7fc74e212cd0>"
            ],
            "image/svg+xml": "<?xml version=\"1.0\" encoding=\"UTF-8\" standalone=\"no\"?>\n<!DOCTYPE svg PUBLIC \"-//W3C//DTD SVG 1.1//EN\"\n \"http://www.w3.org/Graphics/SVG/1.1/DTD/svg11.dtd\">\n<!-- Generated by graphviz version 2.40.1 (20161225.0304)\n -->\n<!-- Title: Tree Pages: 1 -->\n<svg width=\"1024pt\" height=\"433pt\"\n viewBox=\"0.00 0.00 1024.00 433.00\" xmlns=\"http://www.w3.org/2000/svg\" xmlns:xlink=\"http://www.w3.org/1999/xlink\">\n<g id=\"graph0\" class=\"graph\" transform=\"scale(1 1) rotate(0) translate(4 429)\">\n<title>Tree</title>\n<polygon fill=\"#ffffff\" stroke=\"transparent\" points=\"-4,4 -4,-429 1020,-429 1020,4 -4,4\"/>\n<!-- 0 -->\n<g id=\"node1\" class=\"node\">\n<title>0</title>\n<polygon fill=\"#bcdef6\" stroke=\"#000000\" points=\"565,-425 406,-425 406,-342 565,-342 565,-425\"/>\n<text text-anchor=\"middle\" x=\"485.5\" y=\"-409.8\" font-family=\"Helvetica,sans-Serif\" font-size=\"14.00\" fill=\"#000000\">Volume &lt;= 7812043.5</text>\n<text text-anchor=\"middle\" x=\"485.5\" y=\"-394.8\" font-family=\"Helvetica,sans-Serif\" font-size=\"14.00\" fill=\"#000000\">gini = 0.48</text>\n<text text-anchor=\"middle\" x=\"485.5\" y=\"-379.8\" font-family=\"Helvetica,sans-Serif\" font-size=\"14.00\" fill=\"#000000\">samples = 1000</text>\n<text text-anchor=\"middle\" x=\"485.5\" y=\"-364.8\" font-family=\"Helvetica,sans-Serif\" font-size=\"14.00\" fill=\"#000000\">value = [399, 601]</text>\n<text text-anchor=\"middle\" x=\"485.5\" y=\"-349.8\" font-family=\"Helvetica,sans-Serif\" font-size=\"14.00\" fill=\"#000000\">class = 1</text>\n</g>\n<!-- 1 -->\n<g id=\"node2\" class=\"node\">\n<title>1</title>\n<polygon fill=\"#86c3ef\" stroke=\"#000000\" points=\"438.5,-306 306.5,-306 306.5,-223 438.5,-223 438.5,-306\"/>\n<text text-anchor=\"middle\" x=\"372.5\" y=\"-290.8\" font-family=\"Helvetica,sans-Serif\" font-size=\"14.00\" fill=\"#000000\">High &lt;= 58.566</text>\n<text text-anchor=\"middle\" x=\"372.5\" y=\"-275.8\" font-family=\"Helvetica,sans-Serif\" font-size=\"14.00\" fill=\"#000000\">gini = 0.404</text>\n<text text-anchor=\"middle\" x=\"372.5\" y=\"-260.8\" font-family=\"Helvetica,sans-Serif\" font-size=\"14.00\" fill=\"#000000\">samples = 459</text>\n<text text-anchor=\"middle\" x=\"372.5\" y=\"-245.8\" font-family=\"Helvetica,sans-Serif\" font-size=\"14.00\" fill=\"#000000\">value = [129, 330]</text>\n<text text-anchor=\"middle\" x=\"372.5\" y=\"-230.8\" font-family=\"Helvetica,sans-Serif\" font-size=\"14.00\" fill=\"#000000\">class = 1</text>\n</g>\n<!-- 0&#45;&gt;1 -->\n<g id=\"edge1\" class=\"edge\">\n<title>0&#45;&gt;1</title>\n<path fill=\"none\" stroke=\"#000000\" d=\"M445.9781,-341.8796C437.3403,-332.7832 428.119,-323.0722 419.2303,-313.7116\"/>\n<polygon fill=\"#000000\" stroke=\"#000000\" points=\"421.6146,-311.1395 412.1906,-306.2981 416.5385,-315.9597 421.6146,-311.1395\"/>\n<text text-anchor=\"middle\" x=\"411.5443\" y=\"-327.5897\" font-family=\"Helvetica,sans-Serif\" font-size=\"14.00\" fill=\"#000000\">True</text>\n</g>\n<!-- 8 -->\n<g id=\"node9\" class=\"node\">\n<title>8</title>\n<polygon fill=\"#feffff\" stroke=\"#000000\" points=\"690.5,-306 558.5,-306 558.5,-223 690.5,-223 690.5,-306\"/>\n<text text-anchor=\"middle\" x=\"624.5\" y=\"-290.8\" font-family=\"Helvetica,sans-Serif\" font-size=\"14.00\" fill=\"#000000\">High &lt;= 26.023</text>\n<text text-anchor=\"middle\" x=\"624.5\" y=\"-275.8\" font-family=\"Helvetica,sans-Serif\" font-size=\"14.00\" fill=\"#000000\">gini = 0.5</text>\n<text text-anchor=\"middle\" x=\"624.5\" y=\"-260.8\" font-family=\"Helvetica,sans-Serif\" font-size=\"14.00\" fill=\"#000000\">samples = 541</text>\n<text text-anchor=\"middle\" x=\"624.5\" y=\"-245.8\" font-family=\"Helvetica,sans-Serif\" font-size=\"14.00\" fill=\"#000000\">value = [270, 271]</text>\n<text text-anchor=\"middle\" x=\"624.5\" y=\"-230.8\" font-family=\"Helvetica,sans-Serif\" font-size=\"14.00\" fill=\"#000000\">class = 1</text>\n</g>\n<!-- 0&#45;&gt;8 -->\n<g id=\"edge8\" class=\"edge\">\n<title>0&#45;&gt;8</title>\n<path fill=\"none\" stroke=\"#000000\" d=\"M534.1155,-341.8796C545.0562,-332.513 556.7582,-322.4948 567.9908,-312.8784\"/>\n<polygon fill=\"#000000\" stroke=\"#000000\" points=\"570.3568,-315.4603 575.677,-306.2981 565.8044,-310.1428 570.3568,-315.4603\"/>\n<text text-anchor=\"middle\" x=\"573.7449\" y=\"-327.5233\" font-family=\"Helvetica,sans-Serif\" font-size=\"14.00\" fill=\"#000000\">False</text>\n</g>\n<!-- 2 -->\n<g id=\"node3\" class=\"node\">\n<title>2</title>\n<polygon fill=\"#70b8ec\" stroke=\"#000000\" points=\"259,-187 100,-187 100,-104 259,-104 259,-187\"/>\n<text text-anchor=\"middle\" x=\"179.5\" y=\"-171.8\" font-family=\"Helvetica,sans-Serif\" font-size=\"14.00\" fill=\"#000000\">Volume &lt;= 2154540.5</text>\n<text text-anchor=\"middle\" x=\"179.5\" y=\"-156.8\" font-family=\"Helvetica,sans-Serif\" font-size=\"14.00\" fill=\"#000000\">gini = 0.339</text>\n<text text-anchor=\"middle\" x=\"179.5\" y=\"-141.8\" font-family=\"Helvetica,sans-Serif\" font-size=\"14.00\" fill=\"#000000\">samples = 383</text>\n<text text-anchor=\"middle\" x=\"179.5\" y=\"-126.8\" font-family=\"Helvetica,sans-Serif\" font-size=\"14.00\" fill=\"#000000\">value = [83, 300]</text>\n<text text-anchor=\"middle\" x=\"179.5\" y=\"-111.8\" font-family=\"Helvetica,sans-Serif\" font-size=\"14.00\" fill=\"#000000\">class = 1</text>\n</g>\n<!-- 1&#45;&gt;2 -->\n<g id=\"edge2\" class=\"edge\">\n<title>1&#45;&gt;2</title>\n<path fill=\"none\" stroke=\"#000000\" d=\"M306.3504,-223.7134C289.996,-213.6296 272.3467,-202.7475 255.5621,-192.3984\"/>\n<polygon fill=\"#000000\" stroke=\"#000000\" points=\"257.224,-189.3113 246.875,-187.0421 253.5501,-195.2697 257.224,-189.3113\"/>\n</g>\n<!-- 5 -->\n<g id=\"node6\" class=\"node\">\n<title>5</title>\n<polygon fill=\"#f6d3ba\" stroke=\"#000000\" points=\"430.5,-187 314.5,-187 314.5,-104 430.5,-104 430.5,-187\"/>\n<text text-anchor=\"middle\" x=\"372.5\" y=\"-171.8\" font-family=\"Helvetica,sans-Serif\" font-size=\"14.00\" fill=\"#000000\">High &lt;= 62.038</text>\n<text text-anchor=\"middle\" x=\"372.5\" y=\"-156.8\" font-family=\"Helvetica,sans-Serif\" font-size=\"14.00\" fill=\"#000000\">gini = 0.478</text>\n<text text-anchor=\"middle\" x=\"372.5\" y=\"-141.8\" font-family=\"Helvetica,sans-Serif\" font-size=\"14.00\" fill=\"#000000\">samples = 76</text>\n<text text-anchor=\"middle\" x=\"372.5\" y=\"-126.8\" font-family=\"Helvetica,sans-Serif\" font-size=\"14.00\" fill=\"#000000\">value = [46, 30]</text>\n<text text-anchor=\"middle\" x=\"372.5\" y=\"-111.8\" font-family=\"Helvetica,sans-Serif\" font-size=\"14.00\" fill=\"#000000\">class = 0</text>\n</g>\n<!-- 1&#45;&gt;5 -->\n<g id=\"edge5\" class=\"edge\">\n<title>1&#45;&gt;5</title>\n<path fill=\"none\" stroke=\"#000000\" d=\"M372.5,-222.8796C372.5,-214.6838 372.5,-205.9891 372.5,-197.5013\"/>\n<polygon fill=\"#000000\" stroke=\"#000000\" points=\"376.0001,-197.298 372.5,-187.2981 369.0001,-197.2981 376.0001,-197.298\"/>\n</g>\n<!-- 3 -->\n<g id=\"node4\" class=\"node\">\n<title>3</title>\n<polygon fill=\"#f5cdb0\" stroke=\"#000000\" points=\"99,-68 0,-68 0,0 99,0 99,-68\"/>\n<text text-anchor=\"middle\" x=\"49.5\" y=\"-52.8\" font-family=\"Helvetica,sans-Serif\" font-size=\"14.00\" fill=\"#000000\">gini = 0.469</text>\n<text text-anchor=\"middle\" x=\"49.5\" y=\"-37.8\" font-family=\"Helvetica,sans-Serif\" font-size=\"14.00\" fill=\"#000000\">samples = 8</text>\n<text text-anchor=\"middle\" x=\"49.5\" y=\"-22.8\" font-family=\"Helvetica,sans-Serif\" font-size=\"14.00\" fill=\"#000000\">value = [5, 3]</text>\n<text text-anchor=\"middle\" x=\"49.5\" y=\"-7.8\" font-family=\"Helvetica,sans-Serif\" font-size=\"14.00\" fill=\"#000000\">class = 0</text>\n</g>\n<!-- 2&#45;&gt;3 -->\n<g id=\"edge3\" class=\"edge\">\n<title>2&#45;&gt;3</title>\n<path fill=\"none\" stroke=\"#000000\" d=\"M131.0928,-103.9815C120.0558,-94.5151 108.3347,-84.462 97.3223,-75.0168\"/>\n<polygon fill=\"#000000\" stroke=\"#000000\" points=\"99.3178,-72.1173 89.4487,-68.2637 94.7606,-77.4307 99.3178,-72.1173\"/>\n</g>\n<!-- 4 -->\n<g id=\"node5\" class=\"node\">\n<title>4</title>\n<polygon fill=\"#6db7ec\" stroke=\"#000000\" points=\"241.5,-68 117.5,-68 117.5,0 241.5,0 241.5,-68\"/>\n<text text-anchor=\"middle\" x=\"179.5\" y=\"-52.8\" font-family=\"Helvetica,sans-Serif\" font-size=\"14.00\" fill=\"#000000\">gini = 0.329</text>\n<text text-anchor=\"middle\" x=\"179.5\" y=\"-37.8\" font-family=\"Helvetica,sans-Serif\" font-size=\"14.00\" fill=\"#000000\">samples = 375</text>\n<text text-anchor=\"middle\" x=\"179.5\" y=\"-22.8\" font-family=\"Helvetica,sans-Serif\" font-size=\"14.00\" fill=\"#000000\">value = [78, 297]</text>\n<text text-anchor=\"middle\" x=\"179.5\" y=\"-7.8\" font-family=\"Helvetica,sans-Serif\" font-size=\"14.00\" fill=\"#000000\">class = 1</text>\n</g>\n<!-- 2&#45;&gt;4 -->\n<g id=\"edge4\" class=\"edge\">\n<title>2&#45;&gt;4</title>\n<path fill=\"none\" stroke=\"#000000\" d=\"M179.5,-103.9815C179.5,-95.618 179.5,-86.7965 179.5,-78.3409\"/>\n<polygon fill=\"#000000\" stroke=\"#000000\" points=\"183.0001,-78.2636 179.5,-68.2637 176.0001,-78.2637 183.0001,-78.2636\"/>\n</g>\n<!-- 6 -->\n<g id=\"node7\" class=\"node\">\n<title>6</title>\n<polygon fill=\"#f2c19e\" stroke=\"#000000\" points=\"375.5,-68 259.5,-68 259.5,0 375.5,0 375.5,-68\"/>\n<text text-anchor=\"middle\" x=\"317.5\" y=\"-52.8\" font-family=\"Helvetica,sans-Serif\" font-size=\"14.00\" fill=\"#000000\">gini = 0.448</text>\n<text text-anchor=\"middle\" x=\"317.5\" y=\"-37.8\" font-family=\"Helvetica,sans-Serif\" font-size=\"14.00\" fill=\"#000000\">samples = 68</text>\n<text text-anchor=\"middle\" x=\"317.5\" y=\"-22.8\" font-family=\"Helvetica,sans-Serif\" font-size=\"14.00\" fill=\"#000000\">value = [45, 23]</text>\n<text text-anchor=\"middle\" x=\"317.5\" y=\"-7.8\" font-family=\"Helvetica,sans-Serif\" font-size=\"14.00\" fill=\"#000000\">class = 0</text>\n</g>\n<!-- 5&#45;&gt;6 -->\n<g id=\"edge6\" class=\"edge\">\n<title>5&#45;&gt;6</title>\n<path fill=\"none\" stroke=\"#000000\" d=\"M352.02,-103.9815C347.7585,-95.3423 343.256,-86.2144 338.9603,-77.5059\"/>\n<polygon fill=\"#000000\" stroke=\"#000000\" points=\"341.9641,-75.6836 334.4014,-68.2637 335.6863,-78.7803 341.9641,-75.6836\"/>\n</g>\n<!-- 7 -->\n<g id=\"node8\" class=\"node\">\n<title>7</title>\n<polygon fill=\"#55abe9\" stroke=\"#000000\" points=\"493,-68 394,-68 394,0 493,0 493,-68\"/>\n<text text-anchor=\"middle\" x=\"443.5\" y=\"-52.8\" font-family=\"Helvetica,sans-Serif\" font-size=\"14.00\" fill=\"#000000\">gini = 0.219</text>\n<text text-anchor=\"middle\" x=\"443.5\" y=\"-37.8\" font-family=\"Helvetica,sans-Serif\" font-size=\"14.00\" fill=\"#000000\">samples = 8</text>\n<text text-anchor=\"middle\" x=\"443.5\" y=\"-22.8\" font-family=\"Helvetica,sans-Serif\" font-size=\"14.00\" fill=\"#000000\">value = [1, 7]</text>\n<text text-anchor=\"middle\" x=\"443.5\" y=\"-7.8\" font-family=\"Helvetica,sans-Serif\" font-size=\"14.00\" fill=\"#000000\">class = 1</text>\n</g>\n<!-- 5&#45;&gt;7 -->\n<g id=\"edge7\" class=\"edge\">\n<title>5&#45;&gt;7</title>\n<path fill=\"none\" stroke=\"#000000\" d=\"M398.9378,-103.9815C404.556,-95.1585 410.4988,-85.8258 416.1503,-76.9506\"/>\n<polygon fill=\"#000000\" stroke=\"#000000\" points=\"419.2629,-78.5787 421.6819,-68.2637 413.3584,-74.8188 419.2629,-78.5787\"/>\n</g>\n<!-- 9 -->\n<g id=\"node10\" class=\"node\">\n<title>9</title>\n<polygon fill=\"#bbddf6\" stroke=\"#000000\" points=\"690.5,-187 558.5,-187 558.5,-104 690.5,-104 690.5,-187\"/>\n<text text-anchor=\"middle\" x=\"624.5\" y=\"-171.8\" font-family=\"Helvetica,sans-Serif\" font-size=\"14.00\" fill=\"#000000\">High &lt;= 12.295</text>\n<text text-anchor=\"middle\" x=\"624.5\" y=\"-156.8\" font-family=\"Helvetica,sans-Serif\" font-size=\"14.00\" fill=\"#000000\">gini = 0.479</text>\n<text text-anchor=\"middle\" x=\"624.5\" y=\"-141.8\" font-family=\"Helvetica,sans-Serif\" font-size=\"14.00\" fill=\"#000000\">samples = 411</text>\n<text text-anchor=\"middle\" x=\"624.5\" y=\"-126.8\" font-family=\"Helvetica,sans-Serif\" font-size=\"14.00\" fill=\"#000000\">value = [163, 248]</text>\n<text text-anchor=\"middle\" x=\"624.5\" y=\"-111.8\" font-family=\"Helvetica,sans-Serif\" font-size=\"14.00\" fill=\"#000000\">class = 1</text>\n</g>\n<!-- 8&#45;&gt;9 -->\n<g id=\"edge9\" class=\"edge\">\n<title>8&#45;&gt;9</title>\n<path fill=\"none\" stroke=\"#000000\" d=\"M624.5,-222.8796C624.5,-214.6838 624.5,-205.9891 624.5,-197.5013\"/>\n<polygon fill=\"#000000\" stroke=\"#000000\" points=\"628.0001,-197.298 624.5,-187.2981 621.0001,-197.2981 628.0001,-197.298\"/>\n</g>\n<!-- 12 -->\n<g id=\"node13\" class=\"node\">\n<title>12</title>\n<polygon fill=\"#eb9c64\" stroke=\"#000000\" points=\"896.5,-187 772.5,-187 772.5,-104 896.5,-104 896.5,-187\"/>\n<text text-anchor=\"middle\" x=\"834.5\" y=\"-171.8\" font-family=\"Helvetica,sans-Serif\" font-size=\"14.00\" fill=\"#000000\">High &lt;= 42.364</text>\n<text text-anchor=\"middle\" x=\"834.5\" y=\"-156.8\" font-family=\"Helvetica,sans-Serif\" font-size=\"14.00\" fill=\"#000000\">gini = 0.291</text>\n<text text-anchor=\"middle\" x=\"834.5\" y=\"-141.8\" font-family=\"Helvetica,sans-Serif\" font-size=\"14.00\" fill=\"#000000\">samples = 130</text>\n<text text-anchor=\"middle\" x=\"834.5\" y=\"-126.8\" font-family=\"Helvetica,sans-Serif\" font-size=\"14.00\" fill=\"#000000\">value = [107, 23]</text>\n<text text-anchor=\"middle\" x=\"834.5\" y=\"-111.8\" font-family=\"Helvetica,sans-Serif\" font-size=\"14.00\" fill=\"#000000\">class = 0</text>\n</g>\n<!-- 8&#45;&gt;12 -->\n<g id=\"edge12\" class=\"edge\">\n<title>8&#45;&gt;12</title>\n<path fill=\"none\" stroke=\"#000000\" d=\"M690.6571,-227.011C713.7905,-213.9021 739.8522,-199.1338 763.3738,-185.8049\"/>\n<polygon fill=\"#000000\" stroke=\"#000000\" points=\"765.2782,-188.7486 772.2529,-180.7734 761.8271,-182.6584 765.2782,-188.7486\"/>\n</g>\n<!-- 10 -->\n<g id=\"node11\" class=\"node\">\n<title>10</title>\n<polygon fill=\"#e89152\" stroke=\"#000000\" points=\"610,-68 511,-68 511,0 610,0 610,-68\"/>\n<text text-anchor=\"middle\" x=\"560.5\" y=\"-52.8\" font-family=\"Helvetica,sans-Serif\" font-size=\"14.00\" fill=\"#000000\">gini = 0.198</text>\n<text text-anchor=\"middle\" x=\"560.5\" y=\"-37.8\" font-family=\"Helvetica,sans-Serif\" font-size=\"14.00\" fill=\"#000000\">samples = 9</text>\n<text text-anchor=\"middle\" x=\"560.5\" y=\"-22.8\" font-family=\"Helvetica,sans-Serif\" font-size=\"14.00\" fill=\"#000000\">value = [8, 1]</text>\n<text text-anchor=\"middle\" x=\"560.5\" y=\"-7.8\" font-family=\"Helvetica,sans-Serif\" font-size=\"14.00\" fill=\"#000000\">class = 0</text>\n</g>\n<!-- 9&#45;&gt;10 -->\n<g id=\"edge10\" class=\"edge\">\n<title>9&#45;&gt;10</title>\n<path fill=\"none\" stroke=\"#000000\" d=\"M600.6688,-103.9815C595.6044,-95.1585 590.2475,-85.8258 585.1532,-76.9506\"/>\n<polygon fill=\"#000000\" stroke=\"#000000\" points=\"588.1807,-75.1942 580.167,-68.2637 582.1097,-78.6789 588.1807,-75.1942\"/>\n</g>\n<!-- 11 -->\n<g id=\"node12\" class=\"node\">\n<title>11</title>\n<polygon fill=\"#b5daf5\" stroke=\"#000000\" points=\"760.5,-68 628.5,-68 628.5,0 760.5,0 760.5,-68\"/>\n<text text-anchor=\"middle\" x=\"694.5\" y=\"-52.8\" font-family=\"Helvetica,sans-Serif\" font-size=\"14.00\" fill=\"#000000\">gini = 0.474</text>\n<text text-anchor=\"middle\" x=\"694.5\" y=\"-37.8\" font-family=\"Helvetica,sans-Serif\" font-size=\"14.00\" fill=\"#000000\">samples = 402</text>\n<text text-anchor=\"middle\" x=\"694.5\" y=\"-22.8\" font-family=\"Helvetica,sans-Serif\" font-size=\"14.00\" fill=\"#000000\">value = [155, 247]</text>\n<text text-anchor=\"middle\" x=\"694.5\" y=\"-7.8\" font-family=\"Helvetica,sans-Serif\" font-size=\"14.00\" fill=\"#000000\">class = 1</text>\n</g>\n<!-- 9&#45;&gt;11 -->\n<g id=\"edge11\" class=\"edge\">\n<title>9&#45;&gt;11</title>\n<path fill=\"none\" stroke=\"#000000\" d=\"M650.5654,-103.9815C656.1045,-95.1585 661.9636,-85.8258 667.5355,-76.9506\"/>\n<polygon fill=\"#000000\" stroke=\"#000000\" points=\"670.6363,-78.594 672.9892,-68.2637 664.7078,-74.872 670.6363,-78.594\"/>\n</g>\n<!-- 13 -->\n<g id=\"node14\" class=\"node\">\n<title>13</title>\n<polygon fill=\"#e78c4b\" stroke=\"#000000\" points=\"890.5,-68 778.5,-68 778.5,0 890.5,0 890.5,-68\"/>\n<text text-anchor=\"middle\" x=\"834.5\" y=\"-52.8\" font-family=\"Helvetica,sans-Serif\" font-size=\"14.00\" fill=\"#000000\">gini = 0.153</text>\n<text text-anchor=\"middle\" x=\"834.5\" y=\"-37.8\" font-family=\"Helvetica,sans-Serif\" font-size=\"14.00\" fill=\"#000000\">samples = 108</text>\n<text text-anchor=\"middle\" x=\"834.5\" y=\"-22.8\" font-family=\"Helvetica,sans-Serif\" font-size=\"14.00\" fill=\"#000000\">value = [99, 9]</text>\n<text text-anchor=\"middle\" x=\"834.5\" y=\"-7.8\" font-family=\"Helvetica,sans-Serif\" font-size=\"14.00\" fill=\"#000000\">class = 0</text>\n</g>\n<!-- 12&#45;&gt;13 -->\n<g id=\"edge13\" class=\"edge\">\n<title>12&#45;&gt;13</title>\n<path fill=\"none\" stroke=\"#000000\" d=\"M834.5,-103.9815C834.5,-95.618 834.5,-86.7965 834.5,-78.3409\"/>\n<polygon fill=\"#000000\" stroke=\"#000000\" points=\"838.0001,-78.2636 834.5,-68.2637 831.0001,-78.2637 838.0001,-78.2636\"/>\n</g>\n<!-- 14 -->\n<g id=\"node15\" class=\"node\">\n<title>14</title>\n<polygon fill=\"#aad5f4\" stroke=\"#000000\" points=\"1016,-68 909,-68 909,0 1016,0 1016,-68\"/>\n<text text-anchor=\"middle\" x=\"962.5\" y=\"-52.8\" font-family=\"Helvetica,sans-Serif\" font-size=\"14.00\" fill=\"#000000\">gini = 0.463</text>\n<text text-anchor=\"middle\" x=\"962.5\" y=\"-37.8\" font-family=\"Helvetica,sans-Serif\" font-size=\"14.00\" fill=\"#000000\">samples = 22</text>\n<text text-anchor=\"middle\" x=\"962.5\" y=\"-22.8\" font-family=\"Helvetica,sans-Serif\" font-size=\"14.00\" fill=\"#000000\">value = [8, 14]</text>\n<text text-anchor=\"middle\" x=\"962.5\" y=\"-7.8\" font-family=\"Helvetica,sans-Serif\" font-size=\"14.00\" fill=\"#000000\">class = 1</text>\n</g>\n<!-- 12&#45;&gt;14 -->\n<g id=\"edge14\" class=\"edge\">\n<title>12&#45;&gt;14</title>\n<path fill=\"none\" stroke=\"#000000\" d=\"M882.1625,-103.9815C893.0297,-94.5151 904.5705,-84.462 915.4135,-75.0168\"/>\n<polygon fill=\"#000000\" stroke=\"#000000\" points=\"917.9245,-77.4712 923.1659,-68.2637 913.3266,-72.1929 917.9245,-77.4712\"/>\n</g>\n</g>\n</svg>\n"
          },
          "metadata": {},
          "execution_count": 41
        }
      ]
    },
    {
      "cell_type": "markdown",
      "source": [
        "SVR"
      ],
      "metadata": {
        "id": "DcwktrNv8Khm"
      }
    },
    {
      "cell_type": "code",
      "source": [
        "stock_svr = stock.reset_index()"
      ],
      "metadata": {
        "id": "1NseiwQ98H7s"
      },
      "execution_count": null,
      "outputs": []
    },
    {
      "cell_type": "code",
      "source": [
        "dates = stock_svr.index.tolist()\n",
        "dates_arr = [[i]for i in dates]"
      ],
      "metadata": {
        "id": "2hNUA2He8Mmn"
      },
      "execution_count": null,
      "outputs": []
    },
    {
      "cell_type": "code",
      "source": [
        "High = stock['High'].tolist()"
      ],
      "metadata": {
        "id": "yT-2-Eq_8SIh"
      },
      "execution_count": null,
      "outputs": []
    },
    {
      "cell_type": "code",
      "source": [
        "from sklearn.model_selection import train_test_split\n",
        "x_train,x_test,y_train,y_test = train_test_split(dates_arr, High, test_size = 0.25)"
      ],
      "metadata": {
        "id": "KQeNF3uU8UX1"
      },
      "execution_count": null,
      "outputs": []
    },
    {
      "cell_type": "code",
      "source": [
        "lin_svr = SVR(kernel='linear')\n",
        "\n",
        "poly_svr = SVR(kernel='poly', C=1000.0, degree = 2)\n",
        "\n",
        "rbf_svr = SVR(kernel='rbf', C=1000.0, gamma=0.15)"
      ],
      "metadata": {
        "id": "hMp2E0cg8U1f"
      },
      "execution_count": null,
      "outputs": []
    },
    {
      "cell_type": "code",
      "source": [
        "lin_svr.fit(x_train,y_train)\n",
        "poly_svr.fit(x_train,y_train)\n",
        "rbf_svr.fit(x_train,y_train)"
      ],
      "metadata": {
        "colab": {
          "base_uri": "https://localhost:8080/"
        },
        "id": "YH-YNjSx8V3I",
        "outputId": "76b9ad9b-1757-4b7a-80b8-b619055ef4e8"
      },
      "execution_count": null,
      "outputs": [
        {
          "output_type": "execute_result",
          "data": {
            "text/plain": [
              "SVR(C=1000.0, gamma=0.15)"
            ]
          },
          "metadata": {},
          "execution_count": 47
        }
      ]
    },
    {
      "cell_type": "code",
      "source": [
        "lin_svr_predict = lin_svr.predict(x_test)\n",
        "\n",
        "print('Lin_svr:')\n",
        "print('   r2 score: '+str(r2_score(y_test, lin_svr_predict)))\n",
        "print('   RMSE : '+str(np.sqrt(mean_squared_error(y_test, lin_svr_predict))))\n",
        "print(\"   Mean Absolute Error : \" + str(mean_absolute_error(y_test, lin_svr_predict)))"
      ],
      "metadata": {
        "colab": {
          "base_uri": "https://localhost:8080/"
        },
        "id": "VXJMZjr78YKy",
        "outputId": "e37f78ff-0fd4-47f9-8aad-6f0e6de544ac"
      },
      "execution_count": null,
      "outputs": [
        {
          "output_type": "stream",
          "name": "stdout",
          "text": [
            "Lin_svr:\n",
            "   r2 score: 0.764299553523393\n",
            "   RMSE : 8.517479789724964\n",
            "   Mean Absolute Error : 5.917668571545155\n"
          ]
        }
      ]
    },
    {
      "cell_type": "code",
      "source": [
        "poly_svr_predict = poly_svr.predict(x_test)\n",
        "\n",
        "print('poly_svr:')\n",
        "print('   r2 score: '+str(r2_score(y_test, poly_svr_predict)))\n",
        "print('   RMSE : '+str(np.sqrt(mean_squared_error(y_test, poly_svr_predict))))\n",
        "print(\"   Mean Absolute Error : \" + str(mean_absolute_error(y_test, lin_svr_predict)))"
      ],
      "metadata": {
        "colab": {
          "base_uri": "https://localhost:8080/"
        },
        "id": "0Mvbpl0M8avy",
        "outputId": "24ec56f6-6019-4a72-a53e-75e1a96475f1"
      },
      "execution_count": null,
      "outputs": [
        {
          "output_type": "stream",
          "name": "stdout",
          "text": [
            "poly_svr:\n",
            "   r2 score: 0.7228839220985532\n",
            "   RMSE : 9.235528886120505\n",
            "   Mean Absolute Error : 5.917668571545155\n"
          ]
        }
      ]
    },
    {
      "cell_type": "code",
      "source": [
        "rbf_svr_predict = rbf_svr.predict(x_test)\n",
        "\n",
        "print('rbf_svr:')\n",
        "print('   r2 score: '+str(r2_score(y_test, rbf_svr_predict)))\n",
        "print('   RMSE : '+str(np.sqrt(mean_squared_error(y_test, rbf_svr_predict))))\n",
        "print(\"   Mean Absolute Error : \" + str(mean_absolute_error(y_test, rbf_svr_predict)))"
      ],
      "metadata": {
        "colab": {
          "base_uri": "https://localhost:8080/"
        },
        "id": "r-6U-CHW8h8R",
        "outputId": "07927928-605e-43c5-ef46-3b840b8c1736"
      },
      "execution_count": null,
      "outputs": [
        {
          "output_type": "stream",
          "name": "stdout",
          "text": [
            "rbf_svr:\n",
            "   r2 score: 0.9854747052026853\n",
            "   RMSE : 2.1144303641502735\n",
            "   Mean Absolute Error : 1.198691319045762\n"
          ]
        }
      ]
    },
    {
      "cell_type": "code",
      "source": [
        ""
      ],
      "metadata": {
        "id": "FVryQgfV8kEs"
      },
      "execution_count": null,
      "outputs": []
    },
    {
      "cell_type": "markdown",
      "source": [
        "# Backtesting Module\n"
      ],
      "metadata": {
        "id": "-NQMsMfIVSKm"
      }
    },
    {
      "cell_type": "code",
      "source": [
        "################### Input ##########################\n",
        "# For hist_price_data: index=[\"date\"], columns = [\"Open\"]\n",
        "# For pred_action: index=[\"date\"], columns = [\"Action\"] (Buy/Sell)\n",
        "################### Output #########################\n",
        "# 1. trading record\n",
        "# 2. total profit\n",
        "class backtest:\n",
        "    hpd = \"\"\n",
        "    pred_action=pd.DataFrame()\n",
        "    trade_record=pd.DataFrame(index=[],\n",
        "                              columns=[\"Action\",\"Price\",\"Position\",\"Cash\",\"Pos_Bal\",\"Cash_Bal\",\"Cum_Profit\"],\n",
        "                             )\n",
        "    capital = 0\n",
        "    cash_balance = 0\n",
        "    profit = 0\n",
        "    handle_fee = 0\n",
        "    position = 0\n",
        "    last_price = 0\n",
        "    do_nth_profit = 0\n",
        "    num_year = 0\n",
        "    _tested = False\n",
        "    \n",
        "    _stock_trough = 0\n",
        "    _stock_peak = 0\n",
        "    _stock_all_time_low = 0\n",
        "    _stock_all_time_high = 0\n",
        "    \n",
        "    _portfolio_trough = 0\n",
        "    _portfolio_peak = 0\n",
        "    _portfolio_all_time_low = 0\n",
        "    _portfolio_all_time_high = 0\n",
        "    \n",
        "    def __init__(self,hist_price_data,pred_action,capital,handling_fee,num_year=1):\n",
        "        self.hpd = hist_price_data\n",
        "        self.pred_action = pred_action\n",
        "        self.capital = capital\n",
        "        self.cash_balance = capital\n",
        "        self._portfolio_trough = capital\n",
        "        self._portfolio_peak = capital\n",
        "        self._portfolio_all_time_low = capital\n",
        "        self._portfolio_all_time_high = capital\n",
        "        self.handle_fee = handling_fee\n",
        "        self.num_year = num_year\n",
        "        trade_record=pd.DataFrame(index=[],\n",
        "                                  columns=[\"Action\",\"Price\",\"Position\",\"Cash\",\"Pos_Bal\",\"Cash_Bal\",\"Cum_Profit\"],\n",
        "                                 )        \n",
        "        \n",
        "    def start_test(self): \n",
        "        if not self._tested:  \n",
        "            self._tested = True\n",
        "            print(\"Start Backtesting...\")  \n",
        "            self._stock_all_time_low = self.hpd.iloc[0,0]\n",
        "            self._stock_all_time_high = self.hpd.iloc[0,0]\n",
        "            self._stock_trough = self.hpd.iloc[0,0]\n",
        "            self._stock_peak = self.hpd.iloc[0,0]\n",
        "            # For loop to iterate the data\n",
        "            for ind in self.pred_action.index:\n",
        "                # Update latest price\n",
        "                self.last_price = self.hpd.loc[ind,\"Open\"]\n",
        "                \n",
        "                # Mark All Time Low,High , Trough and Peak for MDD of stock price (using \"Buy&Hold\")\n",
        "                if self.last_price > self._stock_all_time_high:\n",
        "                    self._stock_all_time_high = self.last_price\n",
        "                if self.last_price < self._stock_all_time_low:\n",
        "                    self._stock_all_time_low = self.last_price\n",
        "                if self.last_price > self._stock_all_time_low and self._stock_trough != self._stock_all_time_low:\n",
        "                    self._stock_trough = self._stock_all_time_low\n",
        "                if self.last_price < self._stock_all_time_high and self._stock_peak != self._stock_all_time_high:\n",
        "                    self._stock_peak = self._stock_all_time_high\n",
        "                \n",
        "                # Do the action\n",
        "                if self.pred_action.loc[ind,\"Action\"].lower() == \"buy\":\n",
        "                    self._buy(ind,self.last_price)\n",
        "                elif self.pred_action.loc[ind,\"Action\"].lower() == \"sell\":\n",
        "                    self._sell(ind,self.last_price)\n",
        "                else:\n",
        "                    #print(\"Did not buy at \" + str(ind))\n",
        "                    pass\n",
        "                \n",
        "                curr_portfolio_val = self.get_capital()+self.get_profit()\n",
        "                \n",
        "                # Mark All Time Low,High , Trough and Peak for MDD of our portfolio balance (using our model)\n",
        "                if curr_portfolio_val > self._portfolio_all_time_high:\n",
        "                    self._portfolio_all_time_high = curr_portfolio_val\n",
        "                if curr_portfolio_val < self._portfolio_all_time_low:\n",
        "                    self._portfolio_all_time_low = curr_portfolio_val\n",
        "                if curr_portfolio_val > self._portfolio_all_time_low and self._portfolio_trough != self._portfolio_all_time_low:\n",
        "                    self._portfolio_trough = self._portfolio_all_time_low\n",
        "                if curr_portfolio_val < self._portfolio_all_time_high and self._portfolio_peak != self._portfolio_all_time_high:\n",
        "                    self._portfolio_peak = self._portfolio_all_time_high\n",
        "                            \n",
        "            # =================================================\n",
        "            self._run_do_nothing() # Calculate do nothing profit\n",
        "        else:\n",
        "            print(\"Backtesting has been completed...\")\n",
        "              \n",
        "                \n",
        "        \n",
        "    def _mark_down_record(self,date,action,price,pos_delta,cash_delta):\n",
        "        self.trade_record.loc[date,\"Action\"] = action\n",
        "        self.trade_record.loc[date,\"Price\"] = price\n",
        "        self.trade_record.loc[date,\"Position\"] = pos_delta\n",
        "        self.trade_record.loc[date,\"Cash\"] = cash_delta\n",
        "        \n",
        "        self.trade_record.loc[date,\"Pos_Bal\"] = round(self.position,4)\n",
        "        self.trade_record.loc[date,\"Cash_Bal\"] = round(self.cash_balance,3)\n",
        "        self.trade_record.loc[date,\"Cum_Profit\"] = round(self.get_profit(),3)\n",
        "        \n",
        "    def _buy(self,date,price):\n",
        "        # Assume use all money to buy all\n",
        "        buy_pos = floor(self.cash_balance / price)\n",
        "        for i in range(buy_pos+1):\n",
        "            act_buy_pos = buy_pos - i\n",
        "            if act_buy_pos == 0:\n",
        "                #print(\"You do not have enough money to buy!\")\n",
        "                return\n",
        "            total_amt = act_buy_pos*price*(1+self.handle_fee)\n",
        "            if self.cash_balance > total_amt:\n",
        "                self.position += act_buy_pos\n",
        "                self.cash_balance -= total_amt\n",
        "                self._mark_down_record(date,\n",
        "                                       \"Buy\",\n",
        "                                       price,\n",
        "                                       act_buy_pos,\n",
        "                                       -total_amt)\n",
        "                print(\"Bought at\",date,\"with price =\", price, \"\\tPos:\", act_buy_pos)\n",
        "                return\n",
        "        \n",
        "    \n",
        "    def _sell(self,date,price):\n",
        "        # Assume sell all position\n",
        "        sell_pos = self.position\n",
        "        total_amt = sell_pos*price*(1-self.handle_fee)\n",
        "        if self.position >= 1:\n",
        "            self.position -= sell_pos\n",
        "            self.cash_balance += total_amt\n",
        "            self._mark_down_record(date,\n",
        "                                   \"Sell\",\n",
        "                                   price,\n",
        "                                   -sell_pos,\n",
        "                                   total_amt)\n",
        "            print(\"Sold at\",date,\"with price =\", price, \"\\tPos:\", sell_pos)\n",
        "            \n",
        "            return\n",
        "\n",
        "    def _run_do_nothing(self):\n",
        "        balance = self.capital\n",
        "        first_day_price = self.hpd.iloc[0,0]\n",
        "        last_day_price = self.hpd.iloc[-1,0]\n",
        "        buy_pos = floor(self.capital / first_day_price) # Calculate how many position can buy\n",
        "        total_amt = buy_pos*first_day_price*(1+self.handle_fee) # Check if okay to buy (including fee)\n",
        "        while self.capital < total_amt: # If not enough, reduce buy_pos by 1\n",
        "            buy_pos -= 1\n",
        "            total_amt = buy_pos*first_day_price*(1+self.handle_fee)\n",
        "        position = buy_pos # Buy in \n",
        "        balance -= total_amt\n",
        "        self.do_nth_profit = last_day_price*position+balance-self.capital\n",
        "\n",
        "    def get_performance(self):\n",
        "        if self._tested:\n",
        "            model_profit = self.get_profit()\n",
        "            do_nth_profit = self.get_do_nothing()\n",
        "            perf = (model_profit-do_nth_profit)/abs(do_nth_profit)\n",
        "            return perf\n",
        "        else:\n",
        "            print(\"No Backtesting Record.\")\n",
        "\n",
        "    def get_do_nothing(self):\n",
        "        if self._tested:\n",
        "            return self.do_nth_profit\n",
        "        else:\n",
        "            print(\"No Backtesting Record.\")\n",
        "\n",
        "    def get_profit(self):\n",
        "        if self._tested:\n",
        "            return self.get_cash_balance()+self.get_last_price()*self.get_position()-self.get_capital()\n",
        "        else:\n",
        "            print(\"No Backtesting Record.\")\n",
        "\n",
        "    def get_last_price(self):\n",
        "        if self._tested:\n",
        "            return self.last_price\n",
        "        else:\n",
        "            print(\"No Backtesting Record.\")\n",
        "    \n",
        "    def get_position(self):\n",
        "        if self._tested:\n",
        "            return self.position\n",
        "        else:\n",
        "            print(\"No Backtesting Record.\")\n",
        "    \n",
        "    def get_do_nothing_CAGR(self):\n",
        "        if self._tested:\n",
        "            start_bal = self.get_capital()\n",
        "            end_bal = self.get_do_nothing()+self.get_capital()\n",
        "            num_year = self.get_num_year()\n",
        "            return pow(end_bal/start_bal,1/num_year)-1\n",
        "        else:\n",
        "            print(\"No Backtesting Record.\")\n",
        "            \n",
        "    def get_model_CAGR(self):\n",
        "        if self._tested:\n",
        "            start_bal = self.get_capital()\n",
        "            end_bal = self.get_profit()+self.get_capital()\n",
        "            num_year = self.get_num_year()\n",
        "            return pow(end_bal/start_bal,1/num_year)-1\n",
        "        else:\n",
        "            print(\"No Backtesting Record.\")\n",
        "            \n",
        "    def get_diff_in_CAGR(self):\n",
        "        if self._tested:\n",
        "            return self.get_model_CAGR() - self.get_do_nothing_CAGR()\n",
        "        else:\n",
        "            print(\"No Backtesting Record.\")\n",
        "    \n",
        "    def get_do_nothing_MDD(self):\n",
        "        if self._tested:\n",
        "            return (self._stock_trough-self._stock_peak)/self._stock_peak\n",
        "        else:\n",
        "            print(\"No Backtesting Record.\")\n",
        "            \n",
        "    def get_model_MDD(self):\n",
        "        if self._tested:\n",
        "            return (self._portfolio_trough-self._portfolio_peak)/self._portfolio_peak\n",
        "        else:\n",
        "            print(\"No Backtesting Record.\")\n",
        "            \n",
        "    def get_diff_in_MDD(self):\n",
        "        if self._tested:\n",
        "            return self.get_model_MDD() - self.get_do_nothing_MDD()\n",
        "        else:\n",
        "            print(\"No Backtesting Record.\")\n",
        "    \n",
        "    def get_num_year(self):\n",
        "        return self.num_year\n",
        "    \n",
        "    def get_cash_balance(self):\n",
        "        return self.cash_balance\n",
        "    \n",
        "    def get_capital(self):\n",
        "        return self.capital\n",
        "    \n",
        "    def get_amount(self):\n",
        "        return self.get_capital()+self.get_profit()\n",
        "\n",
        "    def print_do_nothing(self):\n",
        "        if self._tested:\n",
        "            print(\"If buy at\", self.hpd.index[0],\"with price =\",self.hpd.iloc[0,0])\n",
        "            print(\"and do nothing\")\n",
        "            print(\"Current Profit:\",self.get_do_nothing())\n",
        "        else:\n",
        "            print(\"No Backtesting Record.\")\n",
        "            \n",
        "    def print_performance(self):\n",
        "        if self._tested:\n",
        "            print(\"Performance:\", str(round(self.get_performance()*100,2))+\"%\")\n",
        "        else:\n",
        "            print(\"No Backtesting Record.\")\n",
        "    \n",
        "    def print_trade_record(self):\n",
        "        if self._tested:\n",
        "            print(self.trade_record)\n",
        "        else:\n",
        "            print(\"No Backtesting Record.\")\n",
        "    \n",
        "    def print_profit(self):\n",
        "        if self._tested:\n",
        "            print(\"Current Profit with model:\",self.get_profit())\n",
        "        else:\n",
        "            print(\"No Backtesting Record.\")\n",
        "    \n",
        "    def export_trade_record(self,stock,add_msg = \"\"):\n",
        "        if self._tested:\n",
        "            # Save the trade record to the path\n",
        "            if not add_msg == \"\":\n",
        "                add_msg = \"_\" + add_msg\n",
        "            self.trade_record.to_csv(\"trade_record/\"+stock+add_msg+\".csv\")\n",
        "        else:\n",
        "            print(\"No Backtesting Record.\")"
      ],
      "metadata": {
        "id": "n63rLhmdVSYb",
        "colab": {
          "base_uri": "https://localhost:8080/",
          "height": 365
        },
        "outputId": "c29e5a07-f0ed-42b1-b8a7-b9e87d4244af"
      },
      "execution_count": null,
      "outputs": [
        {
          "output_type": "error",
          "ename": "NameError",
          "evalue": "ignored",
          "traceback": [
            "\u001b[0;31m---------------------------------------------------------------------------\u001b[0m",
            "\u001b[0;31mNameError\u001b[0m                                 Traceback (most recent call last)",
            "\u001b[0;32m<ipython-input-1-38c1ffdba8bd>\u001b[0m in \u001b[0;36m<module>\u001b[0;34m()\u001b[0m\n\u001b[1;32m      5\u001b[0m \u001b[0;31m# 1. trading record\u001b[0m\u001b[0;34m\u001b[0m\u001b[0;34m\u001b[0m\u001b[0;34m\u001b[0m\u001b[0m\n\u001b[1;32m      6\u001b[0m \u001b[0;31m# 2. total profit\u001b[0m\u001b[0;34m\u001b[0m\u001b[0;34m\u001b[0m\u001b[0;34m\u001b[0m\u001b[0m\n\u001b[0;32m----> 7\u001b[0;31m \u001b[0;32mclass\u001b[0m \u001b[0mbacktest\u001b[0m\u001b[0;34m:\u001b[0m\u001b[0;34m\u001b[0m\u001b[0;34m\u001b[0m\u001b[0m\n\u001b[0m\u001b[1;32m      8\u001b[0m     \u001b[0mhpd\u001b[0m \u001b[0;34m=\u001b[0m \u001b[0;34m\"\"\u001b[0m\u001b[0;34m\u001b[0m\u001b[0;34m\u001b[0m\u001b[0m\n\u001b[1;32m      9\u001b[0m     \u001b[0mpred_action\u001b[0m\u001b[0;34m=\u001b[0m\u001b[0mpd\u001b[0m\u001b[0;34m.\u001b[0m\u001b[0mDataFrame\u001b[0m\u001b[0;34m(\u001b[0m\u001b[0;34m)\u001b[0m\u001b[0;34m\u001b[0m\u001b[0;34m\u001b[0m\u001b[0m\n",
            "\u001b[0;32m<ipython-input-1-38c1ffdba8bd>\u001b[0m in \u001b[0;36mbacktest\u001b[0;34m()\u001b[0m\n\u001b[1;32m      7\u001b[0m \u001b[0;32mclass\u001b[0m \u001b[0mbacktest\u001b[0m\u001b[0;34m:\u001b[0m\u001b[0;34m\u001b[0m\u001b[0;34m\u001b[0m\u001b[0m\n\u001b[1;32m      8\u001b[0m     \u001b[0mhpd\u001b[0m \u001b[0;34m=\u001b[0m \u001b[0;34m\"\"\u001b[0m\u001b[0;34m\u001b[0m\u001b[0;34m\u001b[0m\u001b[0m\n\u001b[0;32m----> 9\u001b[0;31m     \u001b[0mpred_action\u001b[0m\u001b[0;34m=\u001b[0m\u001b[0mpd\u001b[0m\u001b[0;34m.\u001b[0m\u001b[0mDataFrame\u001b[0m\u001b[0;34m(\u001b[0m\u001b[0;34m)\u001b[0m\u001b[0;34m\u001b[0m\u001b[0;34m\u001b[0m\u001b[0m\n\u001b[0m\u001b[1;32m     10\u001b[0m     trade_record=pd.DataFrame(index=[],\n\u001b[1;32m     11\u001b[0m                               \u001b[0mcolumns\u001b[0m\u001b[0;34m=\u001b[0m\u001b[0;34m[\u001b[0m\u001b[0;34m\"Action\"\u001b[0m\u001b[0;34m,\u001b[0m\u001b[0;34m\"Price\"\u001b[0m\u001b[0;34m,\u001b[0m\u001b[0;34m\"Position\"\u001b[0m\u001b[0;34m,\u001b[0m\u001b[0;34m\"Cash\"\u001b[0m\u001b[0;34m,\u001b[0m\u001b[0;34m\"Pos_Bal\"\u001b[0m\u001b[0;34m,\u001b[0m\u001b[0;34m\"Cash_Bal\"\u001b[0m\u001b[0;34m,\u001b[0m\u001b[0;34m\"Cum_Profit\"\u001b[0m\u001b[0;34m]\u001b[0m\u001b[0;34m,\u001b[0m\u001b[0;34m\u001b[0m\u001b[0;34m\u001b[0m\u001b[0m\n",
            "\u001b[0;31mNameError\u001b[0m: name 'pd' is not defined"
          ]
        }
      ]
    },
    {
      "cell_type": "markdown",
      "source": [
        ""
      ],
      "metadata": {
        "id": "CogJkSYiVQ7E"
      }
    }
  ]
}